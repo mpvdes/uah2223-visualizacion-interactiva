{
 "cells": [
  {
   "cell_type": "markdown",
   "id": "b77f266f",
   "metadata": {},
   "source": [
    "https://nominatim.org/\n",
    "\n",
    "Open-source geocoding\n",
    "with OpenStreetMap data\n"
   ]
  },
  {
   "cell_type": "markdown",
   "id": "522af6f5",
   "metadata": {},
   "source": [
    "Find places by name or address (Geocoding)\n",
    "https://pypi.org/project/geopy/\n",
    "https://www.youtube.com/watch?v=Q4zgDWY8ng0\n"
   ]
  },
  {
   "cell_type": "code",
   "execution_count": 1,
   "id": "6c148522",
   "metadata": {},
   "outputs": [
    {
     "name": "stdout",
     "output_type": "stream",
     "text": [
      "Requirement already satisfied: geopy in /home/janebeta7/apps/IA/anaconda3/envs/uah/lib/python3.11/site-packages (2.3.0)\n",
      "Requirement already satisfied: geographiclib<3,>=1.52 in /home/janebeta7/apps/IA/anaconda3/envs/uah/lib/python3.11/site-packages (from geopy) (2.0)\n",
      "Note: you may need to restart the kernel to use updated packages.\n"
     ]
    }
   ],
   "source": [
    "pip install geopy"
   ]
  },
  {
   "cell_type": "code",
   "execution_count": 2,
   "id": "e2c699a9",
   "metadata": {},
   "outputs": [],
   "source": [
    " from geopy.geocoders import Nominatim"
   ]
  },
  {
   "cell_type": "code",
   "execution_count": 3,
   "id": "1f631c2d",
   "metadata": {},
   "outputs": [
    {
     "name": "stdout",
     "output_type": "stream",
     "text": [
      "{'place_id': 307945438, 'licence': 'Data © OpenStreetMap contributors, ODbL 1.0. https://osm.org/copyright', 'osm_type': 'relation', 'osm_id': 347950, 'boundingbox': ['41.3170353', '41.4679135', '2.0524977', '2.2283555'], 'lat': '41.3828939', 'lon': '2.1774322', 'display_name': 'Barcelona, Barcelonès, Barcelona, Catalunya, 08001, España', 'class': 'boundary', 'type': 'administrative', 'importance': 0.8535649969503182, 'icon': 'https://nominatim.openstreetmap.org/ui/mapicons/poi_boundary_administrative.p.20.png', 'address': {'city': 'Barcelona', 'county': 'Barcelonès', 'state_district': 'Barcelona', 'ISO3166-2-lvl6': 'ES-B', 'state': 'Catalunya', 'ISO3166-2-lvl4': 'ES-CT', 'postcode': '08001', 'country': 'España', 'country_code': 'es'}}\n"
     ]
    }
   ],
   "source": [
    "geolocator = Nominatim(user_agent=\"uah_app\")\n",
    "\n",
    "# address is a String e.g. 'Berlin, Germany'\n",
    "# addressdetails=True does the magic and gives you also the details\n",
    "location = geolocator.geocode('Barcelona, Spain', addressdetails=True)\n",
    "\n",
    "print(location.raw)"
   ]
  },
  {
   "cell_type": "code",
   "execution_count": null,
   "id": "c57e0ed5",
   "metadata": {},
   "outputs": [],
   "source": []
  },
  {
   "cell_type": "code",
   "execution_count": null,
   "id": "0508d859",
   "metadata": {},
   "outputs": [],
   "source": []
  }
 ],
 "metadata": {
  "kernelspec": {
   "display_name": "Python 3 (ipykernel)",
   "language": "python",
   "name": "python3"
  },
  "language_info": {
   "codemirror_mode": {
    "name": "ipython",
    "version": 3
   },
   "file_extension": ".py",
   "mimetype": "text/x-python",
   "name": "python",
   "nbconvert_exporter": "python",
   "pygments_lexer": "ipython3",
   "version": "3.11.3"
  }
 },
 "nbformat": 4,
 "nbformat_minor": 5
}
