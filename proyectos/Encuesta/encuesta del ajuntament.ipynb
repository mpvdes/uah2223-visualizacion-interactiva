{
 "cells": [
  {
   "cell_type": "code",
   "execution_count": 1,
   "id": "784a0ac5",
   "metadata": {},
   "outputs": [
    {
     "name": "stdout",
     "output_type": "stream",
     "text": [
      "Requirement already satisfied: pandas==1.2.4 in /home/janebeta7/apps/IA/anaconda3/envs/uah/lib/python3.11/site-packages (1.2.4)\r\n",
      "Requirement already satisfied: python-dateutil>=2.7.3 in /home/janebeta7/apps/IA/anaconda3/envs/uah/lib/python3.11/site-packages (from pandas==1.2.4) (2.8.2)\r\n",
      "Requirement already satisfied: pytz>=2017.3 in /home/janebeta7/apps/IA/anaconda3/envs/uah/lib/python3.11/site-packages (from pandas==1.2.4) (2022.7)\r\n",
      "Requirement already satisfied: numpy>=1.16.5 in /home/janebeta7/apps/IA/anaconda3/envs/uah/lib/python3.11/site-packages (from pandas==1.2.4) (1.24.3)\r\n",
      "Requirement already satisfied: six>=1.5 in /home/janebeta7/apps/IA/anaconda3/envs/uah/lib/python3.11/site-packages (from python-dateutil>=2.7.3->pandas==1.2.4) (1.16.0)\r\n"
     ]
    }
   ],
   "source": [
    "\n",
    "!pip install pandas==1.2.4"
   ]
  },
  {
   "cell_type": "code",
   "execution_count": 2,
   "id": "f672f8a5",
   "metadata": {},
   "outputs": [
    {
     "name": "stdout",
     "output_type": "stream",
     "text": [
      "Requirement already satisfied: seaborn in /home/janebeta7/apps/IA/anaconda3/envs/uah/lib/python3.11/site-packages (0.12.2)\n",
      "Requirement already satisfied: numpy!=1.24.0,>=1.17 in /home/janebeta7/apps/IA/anaconda3/envs/uah/lib/python3.11/site-packages (from seaborn) (1.24.3)\n",
      "Requirement already satisfied: pandas>=0.25 in /home/janebeta7/apps/IA/anaconda3/envs/uah/lib/python3.11/site-packages (from seaborn) (1.2.4)\n",
      "Requirement already satisfied: matplotlib!=3.6.1,>=3.1 in /home/janebeta7/apps/IA/anaconda3/envs/uah/lib/python3.11/site-packages (from seaborn) (3.7.1)\n",
      "Requirement already satisfied: contourpy>=1.0.1 in /home/janebeta7/apps/IA/anaconda3/envs/uah/lib/python3.11/site-packages (from matplotlib!=3.6.1,>=3.1->seaborn) (1.0.7)\n",
      "Requirement already satisfied: cycler>=0.10 in /home/janebeta7/apps/IA/anaconda3/envs/uah/lib/python3.11/site-packages (from matplotlib!=3.6.1,>=3.1->seaborn) (0.11.0)\n",
      "Requirement already satisfied: fonttools>=4.22.0 in /home/janebeta7/apps/IA/anaconda3/envs/uah/lib/python3.11/site-packages (from matplotlib!=3.6.1,>=3.1->seaborn) (4.39.4)\n",
      "Requirement already satisfied: kiwisolver>=1.0.1 in /home/janebeta7/apps/IA/anaconda3/envs/uah/lib/python3.11/site-packages (from matplotlib!=3.6.1,>=3.1->seaborn) (1.4.4)\n",
      "Requirement already satisfied: packaging>=20.0 in /home/janebeta7/apps/IA/anaconda3/envs/uah/lib/python3.11/site-packages (from matplotlib!=3.6.1,>=3.1->seaborn) (23.0)\n",
      "Requirement already satisfied: pillow>=6.2.0 in /home/janebeta7/apps/IA/anaconda3/envs/uah/lib/python3.11/site-packages (from matplotlib!=3.6.1,>=3.1->seaborn) (9.5.0)\n",
      "Requirement already satisfied: pyparsing>=2.3.1 in /home/janebeta7/apps/IA/anaconda3/envs/uah/lib/python3.11/site-packages (from matplotlib!=3.6.1,>=3.1->seaborn) (3.0.9)\n",
      "Requirement already satisfied: python-dateutil>=2.7 in /home/janebeta7/apps/IA/anaconda3/envs/uah/lib/python3.11/site-packages (from matplotlib!=3.6.1,>=3.1->seaborn) (2.8.2)\n",
      "Requirement already satisfied: pytz>=2017.3 in /home/janebeta7/apps/IA/anaconda3/envs/uah/lib/python3.11/site-packages (from pandas>=0.25->seaborn) (2022.7)\n",
      "Requirement already satisfied: six>=1.5 in /home/janebeta7/apps/IA/anaconda3/envs/uah/lib/python3.11/site-packages (from python-dateutil>=2.7->matplotlib!=3.6.1,>=3.1->seaborn) (1.16.0)\n"
     ]
    }
   ],
   "source": [
    "!pip install seaborn"
   ]
  },
  {
   "cell_type": "code",
   "execution_count": 3,
   "id": "da256156",
   "metadata": {},
   "outputs": [
    {
     "name": "stdout",
     "output_type": "stream",
     "text": [
      "Requirement already satisfied: folium in /home/janebeta7/apps/IA/anaconda3/envs/uah/lib/python3.11/site-packages (0.14.0)\n",
      "Requirement already satisfied: branca>=0.6.0 in /home/janebeta7/apps/IA/anaconda3/envs/uah/lib/python3.11/site-packages (from folium) (0.6.0)\n",
      "Requirement already satisfied: jinja2>=2.9 in /home/janebeta7/apps/IA/anaconda3/envs/uah/lib/python3.11/site-packages (from folium) (3.1.2)\n",
      "Requirement already satisfied: numpy in /home/janebeta7/apps/IA/anaconda3/envs/uah/lib/python3.11/site-packages (from folium) (1.24.3)\n",
      "Requirement already satisfied: requests in /home/janebeta7/apps/IA/anaconda3/envs/uah/lib/python3.11/site-packages (from folium) (2.29.0)\n",
      "Requirement already satisfied: MarkupSafe>=2.0 in /home/janebeta7/apps/IA/anaconda3/envs/uah/lib/python3.11/site-packages (from jinja2>=2.9->folium) (2.1.1)\n",
      "Requirement already satisfied: charset-normalizer<4,>=2 in /home/janebeta7/apps/IA/anaconda3/envs/uah/lib/python3.11/site-packages (from requests->folium) (2.0.4)\n",
      "Requirement already satisfied: idna<4,>=2.5 in /home/janebeta7/apps/IA/anaconda3/envs/uah/lib/python3.11/site-packages (from requests->folium) (3.4)\n",
      "Requirement already satisfied: urllib3<1.27,>=1.21.1 in /home/janebeta7/apps/IA/anaconda3/envs/uah/lib/python3.11/site-packages (from requests->folium) (1.26.15)\n",
      "Requirement already satisfied: certifi>=2017.4.17 in /home/janebeta7/apps/IA/anaconda3/envs/uah/lib/python3.11/site-packages (from requests->folium) (2023.5.7)\n",
      "Requirement already satisfied: geopandas in /home/janebeta7/apps/IA/anaconda3/envs/uah/lib/python3.11/site-packages (0.13.0)\n",
      "Requirement already satisfied: fiona>=1.8.19 in /home/janebeta7/apps/IA/anaconda3/envs/uah/lib/python3.11/site-packages (from geopandas) (1.9.4)\n",
      "Requirement already satisfied: packaging in /home/janebeta7/apps/IA/anaconda3/envs/uah/lib/python3.11/site-packages (from geopandas) (23.0)\n",
      "Requirement already satisfied: pandas>=1.1.0 in /home/janebeta7/apps/IA/anaconda3/envs/uah/lib/python3.11/site-packages (from geopandas) (1.2.4)\n",
      "Requirement already satisfied: pyproj>=3.0.1 in /home/janebeta7/apps/IA/anaconda3/envs/uah/lib/python3.11/site-packages (from geopandas) (3.5.0)\n",
      "Requirement already satisfied: shapely>=1.7.1 in /home/janebeta7/apps/IA/anaconda3/envs/uah/lib/python3.11/site-packages (from geopandas) (2.0.1)\n",
      "Requirement already satisfied: attrs>=19.2.0 in /home/janebeta7/apps/IA/anaconda3/envs/uah/lib/python3.11/site-packages (from fiona>=1.8.19->geopandas) (22.1.0)\n",
      "Requirement already satisfied: certifi in /home/janebeta7/apps/IA/anaconda3/envs/uah/lib/python3.11/site-packages (from fiona>=1.8.19->geopandas) (2023.5.7)\n",
      "Requirement already satisfied: click~=8.0 in /home/janebeta7/apps/IA/anaconda3/envs/uah/lib/python3.11/site-packages (from fiona>=1.8.19->geopandas) (8.1.3)\n",
      "Requirement already satisfied: click-plugins>=1.0 in /home/janebeta7/apps/IA/anaconda3/envs/uah/lib/python3.11/site-packages (from fiona>=1.8.19->geopandas) (1.1.1)\n",
      "Requirement already satisfied: cligj>=0.5 in /home/janebeta7/apps/IA/anaconda3/envs/uah/lib/python3.11/site-packages (from fiona>=1.8.19->geopandas) (0.7.2)\n",
      "Requirement already satisfied: six in /home/janebeta7/apps/IA/anaconda3/envs/uah/lib/python3.11/site-packages (from fiona>=1.8.19->geopandas) (1.16.0)\n",
      "Requirement already satisfied: python-dateutil>=2.7.3 in /home/janebeta7/apps/IA/anaconda3/envs/uah/lib/python3.11/site-packages (from pandas>=1.1.0->geopandas) (2.8.2)\n",
      "Requirement already satisfied: pytz>=2017.3 in /home/janebeta7/apps/IA/anaconda3/envs/uah/lib/python3.11/site-packages (from pandas>=1.1.0->geopandas) (2022.7)\n",
      "Requirement already satisfied: numpy>=1.16.5 in /home/janebeta7/apps/IA/anaconda3/envs/uah/lib/python3.11/site-packages (from pandas>=1.1.0->geopandas) (1.24.3)\n"
     ]
    }
   ],
   "source": [
    "!pip install folium \n",
    "!pip install geopandas \n"
   ]
  },
  {
   "cell_type": "code",
   "execution_count": 4,
   "id": "65b8e88e",
   "metadata": {},
   "outputs": [],
   "source": [
    "import numpy as np # linear algebra\n",
    "import pandas as pd # data processing, CSV file I/O (e.g. pd.read_csv)\n",
    "\n",
    "import seaborn as sns\n",
    "sns.set()\n",
    "import matplotlib.pyplot as plt\n",
    "import folium\n",
    "from folium.plugins import FastMarkerCluster\n",
    "import geopandas as gpd\n",
    "from branca.colormap import LinearColormap\n",
    "import os\n",
    "\n"
   ]
  },
  {
   "cell_type": "code",
   "execution_count": 10,
   "id": "afc67f55",
   "metadata": {},
   "outputs": [],
   "source": [
    "sat = pd.read_csv(\"datasets/en-general-creu-que-el-d.csv\")"
   ]
  },
  {
   "cell_type": "code",
   "execution_count": 12,
   "id": "4e8c1cff",
   "metadata": {},
   "outputs": [
    {
     "data": {
      "text/plain": [
       "31"
      ]
     },
     "execution_count": 12,
     "metadata": {},
     "output_type": "execute_result"
    }
   ],
   "source": [
    "len(sat)"
   ]
  },
  {
   "cell_type": "code",
   "execution_count": null,
   "id": "c22b3c5b",
   "metadata": {},
   "outputs": [],
   "source": []
  }
 ],
 "metadata": {
  "kernelspec": {
   "display_name": "Python 3 (ipykernel)",
   "language": "python",
   "name": "python3"
  },
  "language_info": {
   "codemirror_mode": {
    "name": "ipython",
    "version": 3
   },
   "file_extension": ".py",
   "mimetype": "text/x-python",
   "name": "python",
   "nbconvert_exporter": "python",
   "pygments_lexer": "ipython3",
   "version": "3.11.3"
  }
 },
 "nbformat": 4,
 "nbformat_minor": 5
}
