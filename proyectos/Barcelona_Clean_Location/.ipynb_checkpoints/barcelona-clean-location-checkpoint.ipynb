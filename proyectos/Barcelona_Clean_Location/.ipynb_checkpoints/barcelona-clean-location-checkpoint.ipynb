{
 "cells": [
  {
   "cell_type": "markdown",
   "id": "1344c09f",
   "metadata": {
    "_uuid": "60e8b22843e4bb0f035d951dfcfdc8d7bd07c955",
    "papermill": {
     "duration": 0.012376,
     "end_time": "2023-02-14T23:00:18.087064",
     "exception": false,
     "start_time": "2023-02-14T23:00:18.074688",
     "status": "completed"
    },
    "tags": []
   },
   "source": [
    "> # Barcelona, pisos turísticos.\n",
    "Queremos sacar los pisos turisticos que tienen licencia  y los que no , pero que están activos en Airbnb, ya que hay algunos pisos que salen en el dataSet pero que están inactivos y son antiguos\n",
    "Despues sacaremos los hosts que tienen mas de 5 pisos en la plataforma, y los compararemos con el listado oficial de pisos turisticos de Barcelona para identificarlos y ponerlos en la visualizacion de otro color\n",
    "\n"
   ]
  },
  {
   "cell_type": "code",
   "execution_count": 6,
   "id": "c29eeb58",
   "metadata": {},
   "outputs": [
    {
     "name": "stdout",
     "output_type": "stream",
     "text": [
      "Requirement already satisfied: pandas in /home/janebeta7/apps/IA/anaconda3/envs/uah/lib/python3.11/site-packages (2.0.1)\n",
      "Requirement already satisfied: python-dateutil>=2.8.2 in /home/janebeta7/apps/IA/anaconda3/envs/uah/lib/python3.11/site-packages (from pandas) (2.8.2)\n",
      "Requirement already satisfied: pytz>=2020.1 in /home/janebeta7/apps/IA/anaconda3/envs/uah/lib/python3.11/site-packages (from pandas) (2022.7)\n",
      "Requirement already satisfied: tzdata>=2022.1 in /home/janebeta7/apps/IA/anaconda3/envs/uah/lib/python3.11/site-packages (from pandas) (2023.3)\n",
      "Requirement already satisfied: numpy>=1.21.0 in /home/janebeta7/apps/IA/anaconda3/envs/uah/lib/python3.11/site-packages (from pandas) (1.24.3)\n",
      "Requirement already satisfied: six>=1.5 in /home/janebeta7/apps/IA/anaconda3/envs/uah/lib/python3.11/site-packages (from python-dateutil>=2.8.2->pandas) (1.16.0)\n",
      "Note: you may need to restart the kernel to use updated packages.\n"
     ]
    }
   ],
   "source": [
    "%pip install pandas\n"
   ]
  },
  {
   "cell_type": "code",
   "execution_count": 7,
   "id": "c45ace3b",
   "metadata": {},
   "outputs": [
    {
     "name": "stdout",
     "output_type": "stream",
     "text": [
      "Requirement already satisfied: seaborn in /home/janebeta7/apps/IA/anaconda3/envs/uah/lib/python3.11/site-packages (0.12.2)\n",
      "Requirement already satisfied: numpy!=1.24.0,>=1.17 in /home/janebeta7/apps/IA/anaconda3/envs/uah/lib/python3.11/site-packages (from seaborn) (1.24.3)\n",
      "Requirement already satisfied: pandas>=0.25 in /home/janebeta7/apps/IA/anaconda3/envs/uah/lib/python3.11/site-packages (from seaborn) (2.0.1)\n",
      "Requirement already satisfied: matplotlib!=3.6.1,>=3.1 in /home/janebeta7/apps/IA/anaconda3/envs/uah/lib/python3.11/site-packages (from seaborn) (3.7.1)\n",
      "Requirement already satisfied: contourpy>=1.0.1 in /home/janebeta7/apps/IA/anaconda3/envs/uah/lib/python3.11/site-packages (from matplotlib!=3.6.1,>=3.1->seaborn) (1.0.7)\n",
      "Requirement already satisfied: cycler>=0.10 in /home/janebeta7/apps/IA/anaconda3/envs/uah/lib/python3.11/site-packages (from matplotlib!=3.6.1,>=3.1->seaborn) (0.11.0)\n",
      "Requirement already satisfied: fonttools>=4.22.0 in /home/janebeta7/apps/IA/anaconda3/envs/uah/lib/python3.11/site-packages (from matplotlib!=3.6.1,>=3.1->seaborn) (4.39.4)\n",
      "Requirement already satisfied: kiwisolver>=1.0.1 in /home/janebeta7/apps/IA/anaconda3/envs/uah/lib/python3.11/site-packages (from matplotlib!=3.6.1,>=3.1->seaborn) (1.4.4)\n",
      "Requirement already satisfied: packaging>=20.0 in /home/janebeta7/apps/IA/anaconda3/envs/uah/lib/python3.11/site-packages (from matplotlib!=3.6.1,>=3.1->seaborn) (23.0)\n",
      "Requirement already satisfied: pillow>=6.2.0 in /home/janebeta7/apps/IA/anaconda3/envs/uah/lib/python3.11/site-packages (from matplotlib!=3.6.1,>=3.1->seaborn) (9.5.0)\n",
      "Requirement already satisfied: pyparsing>=2.3.1 in /home/janebeta7/apps/IA/anaconda3/envs/uah/lib/python3.11/site-packages (from matplotlib!=3.6.1,>=3.1->seaborn) (3.0.9)\n",
      "Requirement already satisfied: python-dateutil>=2.7 in /home/janebeta7/apps/IA/anaconda3/envs/uah/lib/python3.11/site-packages (from matplotlib!=3.6.1,>=3.1->seaborn) (2.8.2)\n",
      "Requirement already satisfied: pytz>=2020.1 in /home/janebeta7/apps/IA/anaconda3/envs/uah/lib/python3.11/site-packages (from pandas>=0.25->seaborn) (2022.7)\n",
      "Requirement already satisfied: tzdata>=2022.1 in /home/janebeta7/apps/IA/anaconda3/envs/uah/lib/python3.11/site-packages (from pandas>=0.25->seaborn) (2023.3)\n",
      "Requirement already satisfied: six>=1.5 in /home/janebeta7/apps/IA/anaconda3/envs/uah/lib/python3.11/site-packages (from python-dateutil>=2.7->matplotlib!=3.6.1,>=3.1->seaborn) (1.16.0)\n",
      "Note: you may need to restart the kernel to use updated packages.\n"
     ]
    }
   ],
   "source": [
    "%pip install seaborn"
   ]
  },
  {
   "cell_type": "code",
   "execution_count": 8,
   "id": "0af859eb",
   "metadata": {},
   "outputs": [
    {
     "name": "stdout",
     "output_type": "stream",
     "text": [
      "Requirement already satisfied: folium in /home/janebeta7/apps/IA/anaconda3/envs/uah/lib/python3.11/site-packages (0.14.0)\n",
      "Requirement already satisfied: branca>=0.6.0 in /home/janebeta7/apps/IA/anaconda3/envs/uah/lib/python3.11/site-packages (from folium) (0.6.0)\n",
      "Requirement already satisfied: jinja2>=2.9 in /home/janebeta7/apps/IA/anaconda3/envs/uah/lib/python3.11/site-packages (from folium) (3.1.2)\n",
      "Requirement already satisfied: numpy in /home/janebeta7/apps/IA/anaconda3/envs/uah/lib/python3.11/site-packages (from folium) (1.24.3)\n",
      "Requirement already satisfied: requests in /home/janebeta7/apps/IA/anaconda3/envs/uah/lib/python3.11/site-packages (from folium) (2.29.0)\n",
      "Requirement already satisfied: MarkupSafe>=2.0 in /home/janebeta7/apps/IA/anaconda3/envs/uah/lib/python3.11/site-packages (from jinja2>=2.9->folium) (2.1.1)\n",
      "Requirement already satisfied: charset-normalizer<4,>=2 in /home/janebeta7/apps/IA/anaconda3/envs/uah/lib/python3.11/site-packages (from requests->folium) (2.0.4)\n",
      "Requirement already satisfied: idna<4,>=2.5 in /home/janebeta7/apps/IA/anaconda3/envs/uah/lib/python3.11/site-packages (from requests->folium) (3.4)\n",
      "Requirement already satisfied: urllib3<1.27,>=1.21.1 in /home/janebeta7/apps/IA/anaconda3/envs/uah/lib/python3.11/site-packages (from requests->folium) (1.26.15)\n",
      "Requirement already satisfied: certifi>=2017.4.17 in /home/janebeta7/apps/IA/anaconda3/envs/uah/lib/python3.11/site-packages (from requests->folium) (2023.5.7)\n",
      "Note: you may need to restart the kernel to use updated packages.\n",
      "Requirement already satisfied: geopandas in /home/janebeta7/apps/IA/anaconda3/envs/uah/lib/python3.11/site-packages (0.13.0)\n",
      "Requirement already satisfied: fiona>=1.8.19 in /home/janebeta7/apps/IA/anaconda3/envs/uah/lib/python3.11/site-packages (from geopandas) (1.9.4)\n",
      "Requirement already satisfied: packaging in /home/janebeta7/apps/IA/anaconda3/envs/uah/lib/python3.11/site-packages (from geopandas) (23.0)\n",
      "Requirement already satisfied: pandas>=1.1.0 in /home/janebeta7/apps/IA/anaconda3/envs/uah/lib/python3.11/site-packages (from geopandas) (2.0.1)\n",
      "Requirement already satisfied: pyproj>=3.0.1 in /home/janebeta7/apps/IA/anaconda3/envs/uah/lib/python3.11/site-packages (from geopandas) (3.5.0)\n",
      "Requirement already satisfied: shapely>=1.7.1 in /home/janebeta7/apps/IA/anaconda3/envs/uah/lib/python3.11/site-packages (from geopandas) (2.0.1)\n",
      "Requirement already satisfied: attrs>=19.2.0 in /home/janebeta7/apps/IA/anaconda3/envs/uah/lib/python3.11/site-packages (from fiona>=1.8.19->geopandas) (22.1.0)\n",
      "Requirement already satisfied: certifi in /home/janebeta7/apps/IA/anaconda3/envs/uah/lib/python3.11/site-packages (from fiona>=1.8.19->geopandas) (2023.5.7)\n",
      "Requirement already satisfied: click~=8.0 in /home/janebeta7/apps/IA/anaconda3/envs/uah/lib/python3.11/site-packages (from fiona>=1.8.19->geopandas) (8.1.3)\n",
      "Requirement already satisfied: click-plugins>=1.0 in /home/janebeta7/apps/IA/anaconda3/envs/uah/lib/python3.11/site-packages (from fiona>=1.8.19->geopandas) (1.1.1)\n",
      "Requirement already satisfied: cligj>=0.5 in /home/janebeta7/apps/IA/anaconda3/envs/uah/lib/python3.11/site-packages (from fiona>=1.8.19->geopandas) (0.7.2)\n",
      "Requirement already satisfied: six in /home/janebeta7/apps/IA/anaconda3/envs/uah/lib/python3.11/site-packages (from fiona>=1.8.19->geopandas) (1.16.0)\n",
      "Requirement already satisfied: python-dateutil>=2.8.2 in /home/janebeta7/apps/IA/anaconda3/envs/uah/lib/python3.11/site-packages (from pandas>=1.1.0->geopandas) (2.8.2)\n",
      "Requirement already satisfied: pytz>=2020.1 in /home/janebeta7/apps/IA/anaconda3/envs/uah/lib/python3.11/site-packages (from pandas>=1.1.0->geopandas) (2022.7)\n",
      "Requirement already satisfied: tzdata>=2022.1 in /home/janebeta7/apps/IA/anaconda3/envs/uah/lib/python3.11/site-packages (from pandas>=1.1.0->geopandas) (2023.3)\n",
      "Requirement already satisfied: numpy>=1.21.0 in /home/janebeta7/apps/IA/anaconda3/envs/uah/lib/python3.11/site-packages (from pandas>=1.1.0->geopandas) (1.24.3)\n",
      "Note: you may need to restart the kernel to use updated packages.\n"
     ]
    }
   ],
   "source": [
    "%pip install folium \n",
    "%pip install geopandas \n"
   ]
  },
  {
   "cell_type": "code",
   "execution_count": 9,
   "id": "7e2e1616",
   "metadata": {
    "_cell_guid": "b1076dfc-b9ad-4769-8c92-a6c4dae69d19",
    "_kg_hide-input": true,
    "_uuid": "8f2839f25d086af736a60e9eeb907d3b93b6e0e5",
    "execution": {
     "iopub.execute_input": "2023-02-14T23:00:18.111725Z",
     "iopub.status.busy": "2023-02-14T23:00:18.111250Z",
     "iopub.status.idle": "2023-02-14T23:00:20.353160Z",
     "shell.execute_reply": "2023-02-14T23:00:20.351838Z"
    },
    "papermill": {
     "duration": 2.258212,
     "end_time": "2023-02-14T23:00:20.356705",
     "exception": false,
     "start_time": "2023-02-14T23:00:18.098493",
     "status": "completed"
    },
    "tags": []
   },
   "outputs": [],
   "source": [
    "import numpy as np # linear algebra\n",
    "import pandas as pd # data processing, CSV file I/O (e.g. pd.read_csv)\n",
    "import seaborn as sns\n",
    "sns.set()\n",
    "import matplotlib.pyplot as plt\n",
    "import folium\n",
    "from folium.plugins import FastMarkerCluster\n",
    "import geopandas as gpd\n",
    "from branca.colormap import LinearColormap\n",
    "import os\n",
    "\n"
   ]
  },
  {
   "cell_type": "markdown",
   "id": "516f7748",
   "metadata": {
    "papermill": {
     "duration": 0.010729,
     "end_time": "2023-02-14T23:00:20.378860",
     "exception": false,
     "start_time": "2023-02-14T23:00:20.368131",
     "status": "completed"
    },
    "tags": []
   },
   "source": [
    "- Usaremos el dataset del Ayuntamiento de Barcelona\n",
    "https://opendata-ajuntament.barcelona.cat/data/es/dataset/habitatges-us-turistic/resource/b32fa7f6-d464-403b-8a02-0292a64883bf\n",
    "\n",
    "> # Viviendas de uso turístico de la ciudad de Barcelona. 4 Trimestre año 2022\n",
    "\n",
    "https://opendata-ajuntament.barcelona.cat/data/dataset/c748799e-1079-44b1-9e60-88d936a3fe70/resource/b32fa7f6-d464-403b-8a02-0292a64883bf/download\n",
    "\n",
    "Los datos de Airbnb los sacaremos de \n",
    "http://insideairbnb.com/barcelona/\n",
    "11 December, 2022"
   ]
  },
  {
   "cell_type": "markdown",
   "id": "eb24e358",
   "metadata": {
    "papermill": {
     "duration": 0.010676,
     "end_time": "2023-02-14T23:00:20.402340",
     "exception": false,
     "start_time": "2023-02-14T23:00:20.391664",
     "status": "completed"
    },
    "tags": []
   },
   "source": [
    "Para que podamos trabajar con las tablas de Barcelona y Airbn tenemos que cambiar el nombre a alguna columna, como la de Districte, que en airbnb lo llama neighbourhood_group y neighbourhood\n",
    "asi que  la decision es cual de las dos tablas lo cambiamos,optaremos por cambiarlo en la de airbnb para que se entienda mas que es un distrito y no un barri y asi dejar la de open data barcelona intacta. Posteriormente juntaremos todos los DataSets, pero antes sacaremosl a info de airbnb como -pisos disponibles activos \n",
    "- Tipo de licencia y si es una licencia valida o no \n",
    "- NUmero de pisos que tiene cada hosts.\n",
    "\n",
    "para ello sacamos los pisos disponibles\n",
    "y añadiremos una nueva columna para saber si es legal o ilegal.\n",
    "Hay dos tipos de ilegalidades:\n",
    "-el piso que directamente no tiene licencia ni indica que está exento\n",
    "-el piso/habitacion que indica exento pero realmente no cumple la condidion por ley de que el alquiler sea mas de 30 dias\n",
    "esta tipologia la indicaremos en una columna nueva\n",
    "\n",
    "\n",
    "- Limpiaremos la tabla de OPenDataBarcelona quedandonos solo son los datos que vamos a utilizar en la visualizacion\n",
    "    - Latitud / Longitud \n",
    "    - Districte\n",
    " \n",
    " - La de Airbnb Tb la LImpiaremos\n",
    "     - neighbourhood\n",
    "     - host-id\n",
    "     - latitud - longitud ( nos interesa guardar los dos porque  no todos los pisos están en la base de datos del ayuntamiento y no todos los del ayuntamiento están en la base de datos de airbnb, luego al hacer merge ya veremos con que latitud y longitud nos quedamos.\n",
    "     \n",
    "     - minimo de noches \n",
    "     \n",
    "     -last review\n",
    "     - noches activas por año"
   ]
  },
  {
   "cell_type": "code",
   "execution_count": 11,
   "id": "b8e61bac",
   "metadata": {
    "execution": {
     "iopub.execute_input": "2023-02-14T23:00:20.427253Z",
     "iopub.status.busy": "2023-02-14T23:00:20.426460Z",
     "iopub.status.idle": "2023-02-14T23:00:22.042094Z",
     "shell.execute_reply": "2023-02-14T23:00:22.040642Z"
    },
    "papermill": {
     "duration": 1.632017,
     "end_time": "2023-02-14T23:00:22.045509",
     "exception": false,
     "start_time": "2023-02-14T23:00:20.413492",
     "status": "completed"
    },
    "tags": []
   },
   "outputs": [
    {
     "ename": "FileNotFoundError",
     "evalue": "[Errno 2] No such file or directory: 'DATASETS/listings.csv'",
     "output_type": "error",
     "traceback": [
      "\u001b[0;31m---------------------------------------------------------------------------\u001b[0m",
      "\u001b[0;31mFileNotFoundError\u001b[0m                         Traceback (most recent call last)",
      "Cell \u001b[0;32mIn[11], line 1\u001b[0m\n\u001b[0;32m----> 1\u001b[0m airbnb \u001b[38;5;241m=\u001b[39m pd\u001b[38;5;241m.\u001b[39mread_csv(\u001b[38;5;124m\"\u001b[39m\u001b[38;5;124mDATASETS/listings.csv\u001b[39m\u001b[38;5;124m\"\u001b[39m, index_col\u001b[38;5;241m=\u001b[39m \u001b[38;5;124m\"\u001b[39m\u001b[38;5;124mid\u001b[39m\u001b[38;5;124m\"\u001b[39m)\n\u001b[1;32m      2\u001b[0m airbnb_details \u001b[38;5;241m=\u001b[39m pd\u001b[38;5;241m.\u001b[39mread_csv(\u001b[38;5;124m\"\u001b[39m\u001b[38;5;124mDATASETS/listings_detailed.csv\u001b[39m\u001b[38;5;124m\"\u001b[39m, index_col\u001b[38;5;241m=\u001b[39m \u001b[38;5;124m\"\u001b[39m\u001b[38;5;124mid\u001b[39m\u001b[38;5;124m\"\u001b[39m, low_memory\u001b[38;5;241m=\u001b[39m\u001b[38;5;28;01mFalse\u001b[39;00m)\n\u001b[1;32m      3\u001b[0m opendata \u001b[38;5;241m=\u001b[39m  pd\u001b[38;5;241m.\u001b[39mread_csv(\u001b[38;5;124m\"\u001b[39m\u001b[38;5;124mDATASETS/2022_4T_hut_comunicacio.csv\u001b[39m\u001b[38;5;124m\"\u001b[39m, low_memory\u001b[38;5;241m=\u001b[39m\u001b[38;5;28;01mFalse\u001b[39;00m)\n",
      "File \u001b[0;32m~/apps/IA/anaconda3/envs/uah/lib/python3.11/site-packages/pandas/io/parsers/readers.py:912\u001b[0m, in \u001b[0;36mread_csv\u001b[0;34m(filepath_or_buffer, sep, delimiter, header, names, index_col, usecols, dtype, engine, converters, true_values, false_values, skipinitialspace, skiprows, skipfooter, nrows, na_values, keep_default_na, na_filter, verbose, skip_blank_lines, parse_dates, infer_datetime_format, keep_date_col, date_parser, date_format, dayfirst, cache_dates, iterator, chunksize, compression, thousands, decimal, lineterminator, quotechar, quoting, doublequote, escapechar, comment, encoding, encoding_errors, dialect, on_bad_lines, delim_whitespace, low_memory, memory_map, float_precision, storage_options, dtype_backend)\u001b[0m\n\u001b[1;32m    899\u001b[0m kwds_defaults \u001b[38;5;241m=\u001b[39m _refine_defaults_read(\n\u001b[1;32m    900\u001b[0m     dialect,\n\u001b[1;32m    901\u001b[0m     delimiter,\n\u001b[0;32m   (...)\u001b[0m\n\u001b[1;32m    908\u001b[0m     dtype_backend\u001b[38;5;241m=\u001b[39mdtype_backend,\n\u001b[1;32m    909\u001b[0m )\n\u001b[1;32m    910\u001b[0m kwds\u001b[38;5;241m.\u001b[39mupdate(kwds_defaults)\n\u001b[0;32m--> 912\u001b[0m \u001b[38;5;28;01mreturn\u001b[39;00m _read(filepath_or_buffer, kwds)\n",
      "File \u001b[0;32m~/apps/IA/anaconda3/envs/uah/lib/python3.11/site-packages/pandas/io/parsers/readers.py:577\u001b[0m, in \u001b[0;36m_read\u001b[0;34m(filepath_or_buffer, kwds)\u001b[0m\n\u001b[1;32m    574\u001b[0m _validate_names(kwds\u001b[38;5;241m.\u001b[39mget(\u001b[38;5;124m\"\u001b[39m\u001b[38;5;124mnames\u001b[39m\u001b[38;5;124m\"\u001b[39m, \u001b[38;5;28;01mNone\u001b[39;00m))\n\u001b[1;32m    576\u001b[0m \u001b[38;5;66;03m# Create the parser.\u001b[39;00m\n\u001b[0;32m--> 577\u001b[0m parser \u001b[38;5;241m=\u001b[39m TextFileReader(filepath_or_buffer, \u001b[38;5;241m*\u001b[39m\u001b[38;5;241m*\u001b[39mkwds)\n\u001b[1;32m    579\u001b[0m \u001b[38;5;28;01mif\u001b[39;00m chunksize \u001b[38;5;129;01mor\u001b[39;00m iterator:\n\u001b[1;32m    580\u001b[0m     \u001b[38;5;28;01mreturn\u001b[39;00m parser\n",
      "File \u001b[0;32m~/apps/IA/anaconda3/envs/uah/lib/python3.11/site-packages/pandas/io/parsers/readers.py:1407\u001b[0m, in \u001b[0;36mTextFileReader.__init__\u001b[0;34m(self, f, engine, **kwds)\u001b[0m\n\u001b[1;32m   1404\u001b[0m     \u001b[38;5;28mself\u001b[39m\u001b[38;5;241m.\u001b[39moptions[\u001b[38;5;124m\"\u001b[39m\u001b[38;5;124mhas_index_names\u001b[39m\u001b[38;5;124m\"\u001b[39m] \u001b[38;5;241m=\u001b[39m kwds[\u001b[38;5;124m\"\u001b[39m\u001b[38;5;124mhas_index_names\u001b[39m\u001b[38;5;124m\"\u001b[39m]\n\u001b[1;32m   1406\u001b[0m \u001b[38;5;28mself\u001b[39m\u001b[38;5;241m.\u001b[39mhandles: IOHandles \u001b[38;5;241m|\u001b[39m \u001b[38;5;28;01mNone\u001b[39;00m \u001b[38;5;241m=\u001b[39m \u001b[38;5;28;01mNone\u001b[39;00m\n\u001b[0;32m-> 1407\u001b[0m \u001b[38;5;28mself\u001b[39m\u001b[38;5;241m.\u001b[39m_engine \u001b[38;5;241m=\u001b[39m \u001b[38;5;28mself\u001b[39m\u001b[38;5;241m.\u001b[39m_make_engine(f, \u001b[38;5;28mself\u001b[39m\u001b[38;5;241m.\u001b[39mengine)\n",
      "File \u001b[0;32m~/apps/IA/anaconda3/envs/uah/lib/python3.11/site-packages/pandas/io/parsers/readers.py:1661\u001b[0m, in \u001b[0;36mTextFileReader._make_engine\u001b[0;34m(self, f, engine)\u001b[0m\n\u001b[1;32m   1659\u001b[0m     \u001b[38;5;28;01mif\u001b[39;00m \u001b[38;5;124m\"\u001b[39m\u001b[38;5;124mb\u001b[39m\u001b[38;5;124m\"\u001b[39m \u001b[38;5;129;01mnot\u001b[39;00m \u001b[38;5;129;01min\u001b[39;00m mode:\n\u001b[1;32m   1660\u001b[0m         mode \u001b[38;5;241m+\u001b[39m\u001b[38;5;241m=\u001b[39m \u001b[38;5;124m\"\u001b[39m\u001b[38;5;124mb\u001b[39m\u001b[38;5;124m\"\u001b[39m\n\u001b[0;32m-> 1661\u001b[0m \u001b[38;5;28mself\u001b[39m\u001b[38;5;241m.\u001b[39mhandles \u001b[38;5;241m=\u001b[39m get_handle(\n\u001b[1;32m   1662\u001b[0m     f,\n\u001b[1;32m   1663\u001b[0m     mode,\n\u001b[1;32m   1664\u001b[0m     encoding\u001b[38;5;241m=\u001b[39m\u001b[38;5;28mself\u001b[39m\u001b[38;5;241m.\u001b[39moptions\u001b[38;5;241m.\u001b[39mget(\u001b[38;5;124m\"\u001b[39m\u001b[38;5;124mencoding\u001b[39m\u001b[38;5;124m\"\u001b[39m, \u001b[38;5;28;01mNone\u001b[39;00m),\n\u001b[1;32m   1665\u001b[0m     compression\u001b[38;5;241m=\u001b[39m\u001b[38;5;28mself\u001b[39m\u001b[38;5;241m.\u001b[39moptions\u001b[38;5;241m.\u001b[39mget(\u001b[38;5;124m\"\u001b[39m\u001b[38;5;124mcompression\u001b[39m\u001b[38;5;124m\"\u001b[39m, \u001b[38;5;28;01mNone\u001b[39;00m),\n\u001b[1;32m   1666\u001b[0m     memory_map\u001b[38;5;241m=\u001b[39m\u001b[38;5;28mself\u001b[39m\u001b[38;5;241m.\u001b[39moptions\u001b[38;5;241m.\u001b[39mget(\u001b[38;5;124m\"\u001b[39m\u001b[38;5;124mmemory_map\u001b[39m\u001b[38;5;124m\"\u001b[39m, \u001b[38;5;28;01mFalse\u001b[39;00m),\n\u001b[1;32m   1667\u001b[0m     is_text\u001b[38;5;241m=\u001b[39mis_text,\n\u001b[1;32m   1668\u001b[0m     errors\u001b[38;5;241m=\u001b[39m\u001b[38;5;28mself\u001b[39m\u001b[38;5;241m.\u001b[39moptions\u001b[38;5;241m.\u001b[39mget(\u001b[38;5;124m\"\u001b[39m\u001b[38;5;124mencoding_errors\u001b[39m\u001b[38;5;124m\"\u001b[39m, \u001b[38;5;124m\"\u001b[39m\u001b[38;5;124mstrict\u001b[39m\u001b[38;5;124m\"\u001b[39m),\n\u001b[1;32m   1669\u001b[0m     storage_options\u001b[38;5;241m=\u001b[39m\u001b[38;5;28mself\u001b[39m\u001b[38;5;241m.\u001b[39moptions\u001b[38;5;241m.\u001b[39mget(\u001b[38;5;124m\"\u001b[39m\u001b[38;5;124mstorage_options\u001b[39m\u001b[38;5;124m\"\u001b[39m, \u001b[38;5;28;01mNone\u001b[39;00m),\n\u001b[1;32m   1670\u001b[0m )\n\u001b[1;32m   1671\u001b[0m \u001b[38;5;28;01massert\u001b[39;00m \u001b[38;5;28mself\u001b[39m\u001b[38;5;241m.\u001b[39mhandles \u001b[38;5;129;01mis\u001b[39;00m \u001b[38;5;129;01mnot\u001b[39;00m \u001b[38;5;28;01mNone\u001b[39;00m\n\u001b[1;32m   1672\u001b[0m f \u001b[38;5;241m=\u001b[39m \u001b[38;5;28mself\u001b[39m\u001b[38;5;241m.\u001b[39mhandles\u001b[38;5;241m.\u001b[39mhandle\n",
      "File \u001b[0;32m~/apps/IA/anaconda3/envs/uah/lib/python3.11/site-packages/pandas/io/common.py:859\u001b[0m, in \u001b[0;36mget_handle\u001b[0;34m(path_or_buf, mode, encoding, compression, memory_map, is_text, errors, storage_options)\u001b[0m\n\u001b[1;32m    854\u001b[0m \u001b[38;5;28;01melif\u001b[39;00m \u001b[38;5;28misinstance\u001b[39m(handle, \u001b[38;5;28mstr\u001b[39m):\n\u001b[1;32m    855\u001b[0m     \u001b[38;5;66;03m# Check whether the filename is to be opened in binary mode.\u001b[39;00m\n\u001b[1;32m    856\u001b[0m     \u001b[38;5;66;03m# Binary mode does not support 'encoding' and 'newline'.\u001b[39;00m\n\u001b[1;32m    857\u001b[0m     \u001b[38;5;28;01mif\u001b[39;00m ioargs\u001b[38;5;241m.\u001b[39mencoding \u001b[38;5;129;01mand\u001b[39;00m \u001b[38;5;124m\"\u001b[39m\u001b[38;5;124mb\u001b[39m\u001b[38;5;124m\"\u001b[39m \u001b[38;5;129;01mnot\u001b[39;00m \u001b[38;5;129;01min\u001b[39;00m ioargs\u001b[38;5;241m.\u001b[39mmode:\n\u001b[1;32m    858\u001b[0m         \u001b[38;5;66;03m# Encoding\u001b[39;00m\n\u001b[0;32m--> 859\u001b[0m         handle \u001b[38;5;241m=\u001b[39m \u001b[38;5;28mopen\u001b[39m(\n\u001b[1;32m    860\u001b[0m             handle,\n\u001b[1;32m    861\u001b[0m             ioargs\u001b[38;5;241m.\u001b[39mmode,\n\u001b[1;32m    862\u001b[0m             encoding\u001b[38;5;241m=\u001b[39mioargs\u001b[38;5;241m.\u001b[39mencoding,\n\u001b[1;32m    863\u001b[0m             errors\u001b[38;5;241m=\u001b[39merrors,\n\u001b[1;32m    864\u001b[0m             newline\u001b[38;5;241m=\u001b[39m\u001b[38;5;124m\"\u001b[39m\u001b[38;5;124m\"\u001b[39m,\n\u001b[1;32m    865\u001b[0m         )\n\u001b[1;32m    866\u001b[0m     \u001b[38;5;28;01melse\u001b[39;00m:\n\u001b[1;32m    867\u001b[0m         \u001b[38;5;66;03m# Binary mode\u001b[39;00m\n\u001b[1;32m    868\u001b[0m         handle \u001b[38;5;241m=\u001b[39m \u001b[38;5;28mopen\u001b[39m(handle, ioargs\u001b[38;5;241m.\u001b[39mmode)\n",
      "\u001b[0;31mFileNotFoundError\u001b[0m: [Errno 2] No such file or directory: 'DATASETS/listings.csv'"
     ]
    }
   ],
   "source": [
    "airbnb = pd.read_csv(\"datasets/listings.csv\", index_col= \"id\")\n",
    "airbnb_details = pd.read_csv(\"datasets/listings_detailed.csv\", index_col= \"id\", low_memory=False)\n",
    "opendata =  pd.read_csv(\"datasets/2022_4T_hut_comunicacio.csv\", low_memory=False)\n"
   ]
  },
  {
   "cell_type": "code",
   "execution_count": null,
   "id": "e16d2ff4",
   "metadata": {
    "execution": {
     "iopub.execute_input": "2023-02-14T23:00:22.070075Z",
     "iopub.status.busy": "2023-02-14T23:00:22.069621Z",
     "iopub.status.idle": "2023-02-14T23:00:22.143067Z",
     "shell.execute_reply": "2023-02-14T23:00:22.141242Z"
    },
    "papermill": {
     "duration": 0.090397,
     "end_time": "2023-02-14T23:00:22.147211",
     "exception": false,
     "start_time": "2023-02-14T23:00:22.056814",
     "status": "completed"
    },
    "tags": []
   },
   "outputs": [],
   "source": [
    "target_columns = [\"listing_url\", \"description\"]\n",
    "airbnb_merge = pd.merge(airbnb, airbnb_details[target_columns], on='id', how='left')\n",
    "airbnb_merge.info()"
   ]
  },
  {
   "cell_type": "code",
   "execution_count": null,
   "id": "abfba32d",
   "metadata": {
    "execution": {
     "iopub.execute_input": "2023-02-14T23:00:22.171962Z",
     "iopub.status.busy": "2023-02-14T23:00:22.171515Z",
     "iopub.status.idle": "2023-02-14T23:00:22.220053Z",
     "shell.execute_reply": "2023-02-14T23:00:22.218725Z"
    },
    "papermill": {
     "duration": 0.063902,
     "end_time": "2023-02-14T23:00:22.222753",
     "exception": false,
     "start_time": "2023-02-14T23:00:22.158851",
     "status": "completed"
    },
    "tags": []
   },
   "outputs": [],
   "source": [
    "airbnb_merge = airbnb_merge[['listing_url','host_id','description','host_name','neighbourhood_group','latitude','longitude','minimum_nights','last_review','calculated_host_listings_count','availability_365', 'license']]\n",
    "airbnb_merge.rename(columns = {'neighbourhood_group':'DISTRICTE'}, inplace = True)\n",
    "airbnb_merge.rename(columns = {'license':'NUMERO_REGISTRE_GENERALITAT'}, inplace = True)\n",
    "airbnb_merge['last_review'] = pd.to_datetime(airbnb_merge['last_review'], format='%')\n",
    "airbnb_merge['DISTRICTE'] = airbnb_merge['DISTRICTE'].str.upper()\n",
    "airbnb_merge.info()"
   ]
  },
  {
   "cell_type": "code",
   "execution_count": null,
   "id": "b94cc9e6",
   "metadata": {
    "execution": {
     "iopub.execute_input": "2023-02-14T23:00:22.248981Z",
     "iopub.status.busy": "2023-02-14T23:00:22.248569Z",
     "iopub.status.idle": "2023-02-14T23:00:22.258424Z",
     "shell.execute_reply": "2023-02-14T23:00:22.257452Z"
    },
    "papermill": {
     "duration": 0.025923,
     "end_time": "2023-02-14T23:00:22.260675",
     "exception": false,
     "start_time": "2023-02-14T23:00:22.234752",
     "status": "completed"
    },
    "tags": []
   },
   "outputs": [],
   "source": [
    "opendata.columns"
   ]
  },
  {
   "cell_type": "code",
   "execution_count": null,
   "id": "5b3c6983",
   "metadata": {
    "execution": {
     "iopub.execute_input": "2023-02-14T23:00:22.287580Z",
     "iopub.status.busy": "2023-02-14T23:00:22.286819Z",
     "iopub.status.idle": "2023-02-14T23:00:22.294607Z",
     "shell.execute_reply": "2023-02-14T23:00:22.293410Z"
    },
    "papermill": {
     "duration": 0.024401,
     "end_time": "2023-02-14T23:00:22.297237",
     "exception": false,
     "start_time": "2023-02-14T23:00:22.272836",
     "status": "completed"
    },
    "tags": []
   },
   "outputs": [],
   "source": [
    "len(opendata)"
   ]
  },
  {
   "cell_type": "code",
   "execution_count": null,
   "id": "abeeb012",
   "metadata": {
    "execution": {
     "iopub.execute_input": "2023-02-14T23:00:22.322810Z",
     "iopub.status.busy": "2023-02-14T23:00:22.322401Z",
     "iopub.status.idle": "2023-02-14T23:00:22.329687Z",
     "shell.execute_reply": "2023-02-14T23:00:22.328471Z"
    },
    "papermill": {
     "duration": 0.02321,
     "end_time": "2023-02-14T23:00:22.332264",
     "exception": false,
     "start_time": "2023-02-14T23:00:22.309054",
     "status": "completed"
    },
    "tags": []
   },
   "outputs": [],
   "source": [
    "len(airbnb)"
   ]
  },
  {
   "cell_type": "code",
   "execution_count": null,
   "id": "5a636cd7",
   "metadata": {
    "papermill": {
     "duration": 0.012766,
     "end_time": "2023-02-14T23:00:22.357383",
     "exception": false,
     "start_time": "2023-02-14T23:00:22.344617",
     "status": "completed"
    },
    "tags": []
   },
   "outputs": [],
   "source": []
  },
  {
   "cell_type": "code",
   "execution_count": 27,
   "id": "c3abc5a7",
   "metadata": {
    "execution": {
     "iopub.execute_input": "2023-02-14T23:00:22.382773Z",
     "iopub.status.busy": "2023-02-14T23:00:22.382339Z",
     "iopub.status.idle": "2023-02-14T23:00:22.407009Z",
     "shell.execute_reply": "2023-02-14T23:00:22.405808Z"
    },
    "papermill": {
     "duration": 0.040719,
     "end_time": "2023-02-14T23:00:22.409780",
     "exception": false,
     "start_time": "2023-02-14T23:00:22.369061",
     "status": "completed"
    },
    "tags": []
   },
   "outputs": [
    {
     "data": {
      "text/html": [
       "<div>\n",
       "<style scoped>\n",
       "    .dataframe tbody tr th:only-of-type {\n",
       "        vertical-align: middle;\n",
       "    }\n",
       "\n",
       "    .dataframe tbody tr th {\n",
       "        vertical-align: top;\n",
       "    }\n",
       "\n",
       "    .dataframe thead th {\n",
       "        text-align: right;\n",
       "    }\n",
       "</style>\n",
       "<table border=\"1\" class=\"dataframe\">\n",
       "  <thead>\n",
       "    <tr style=\"text-align: right;\">\n",
       "      <th></th>\n",
       "      <th>listing_url</th>\n",
       "      <th>host_id</th>\n",
       "      <th>description</th>\n",
       "      <th>host_name</th>\n",
       "      <th>DISTRICTE</th>\n",
       "      <th>latitude</th>\n",
       "      <th>longitude</th>\n",
       "      <th>minimum_nights</th>\n",
       "      <th>last_review</th>\n",
       "      <th>calculated_host_listings_count</th>\n",
       "      <th>availability_365</th>\n",
       "      <th>NUMERO_REGISTRE_GENERALITAT</th>\n",
       "    </tr>\n",
       "    <tr>\n",
       "      <th>id</th>\n",
       "      <th></th>\n",
       "      <th></th>\n",
       "      <th></th>\n",
       "      <th></th>\n",
       "      <th></th>\n",
       "      <th></th>\n",
       "      <th></th>\n",
       "      <th></th>\n",
       "      <th></th>\n",
       "      <th></th>\n",
       "      <th></th>\n",
       "      <th></th>\n",
       "    </tr>\n",
       "  </thead>\n",
       "  <tbody>\n",
       "    <tr>\n",
       "      <th>18674</th>\n",
       "      <td>https://www.airbnb.com/rooms/18674</td>\n",
       "      <td>71615</td>\n",
       "      <td>110m2 apartment to rent in Barcelona. Located ...</td>\n",
       "      <td>Mireia And Maria</td>\n",
       "      <td>Eixample</td>\n",
       "      <td>41.40556</td>\n",
       "      <td>2.17262</td>\n",
       "      <td>1</td>\n",
       "      <td>2022-10-07</td>\n",
       "      <td>20</td>\n",
       "      <td>264</td>\n",
       "      <td>HUTB-002062</td>\n",
       "    </tr>\n",
       "    <tr>\n",
       "      <th>23197</th>\n",
       "      <td>https://www.airbnb.com/rooms/23197</td>\n",
       "      <td>90417</td>\n",
       "      <td>Beautiful spacious apartment, large terrace, 5...</td>\n",
       "      <td>Etain (Marnie)</td>\n",
       "      <td>Sant Martí</td>\n",
       "      <td>41.41243</td>\n",
       "      <td>2.21975</td>\n",
       "      <td>4</td>\n",
       "      <td>2022-10-23</td>\n",
       "      <td>2</td>\n",
       "      <td>255</td>\n",
       "      <td>HUTB005057</td>\n",
       "    </tr>\n",
       "    <tr>\n",
       "      <th>32711</th>\n",
       "      <td>https://www.airbnb.com/rooms/32711</td>\n",
       "      <td>135703</td>\n",
       "      <td>A lovely two bedroom apartment only 250 m from...</td>\n",
       "      <td>Nick</td>\n",
       "      <td>Gràcia</td>\n",
       "      <td>41.40566</td>\n",
       "      <td>2.17015</td>\n",
       "      <td>2</td>\n",
       "      <td>2022-12-09</td>\n",
       "      <td>3</td>\n",
       "      <td>276</td>\n",
       "      <td>HUTB-001722</td>\n",
       "    </tr>\n",
       "    <tr>\n",
       "      <th>34981</th>\n",
       "      <td>https://www.airbnb.com/rooms/34981</td>\n",
       "      <td>73163</td>\n",
       "      <td>Spacious apartment for large families or group...</td>\n",
       "      <td>Andres</td>\n",
       "      <td>Ciutat Vella</td>\n",
       "      <td>41.37978</td>\n",
       "      <td>2.17623</td>\n",
       "      <td>5</td>\n",
       "      <td>2022-11-19</td>\n",
       "      <td>1</td>\n",
       "      <td>139</td>\n",
       "      <td>HUTB-001506</td>\n",
       "    </tr>\n",
       "    <tr>\n",
       "      <th>36763</th>\n",
       "      <td>https://www.airbnb.com/rooms/36763</td>\n",
       "      <td>158596</td>\n",
       "      <td>&lt;b&gt;The space&lt;/b&gt;&lt;br /&gt;Habitación con una cama ...</td>\n",
       "      <td>Ester</td>\n",
       "      <td>Ciutat Vella</td>\n",
       "      <td>41.38043</td>\n",
       "      <td>2.19094</td>\n",
       "      <td>31</td>\n",
       "      <td>2022-10-05</td>\n",
       "      <td>1</td>\n",
       "      <td>259</td>\n",
       "      <td>NaN</td>\n",
       "    </tr>\n",
       "  </tbody>\n",
       "</table>\n",
       "</div>"
      ],
      "text/plain": [
       "                              listing_url  host_id   \n",
       "id                                                   \n",
       "18674  https://www.airbnb.com/rooms/18674    71615  \\\n",
       "23197  https://www.airbnb.com/rooms/23197    90417   \n",
       "32711  https://www.airbnb.com/rooms/32711   135703   \n",
       "34981  https://www.airbnb.com/rooms/34981    73163   \n",
       "36763  https://www.airbnb.com/rooms/36763   158596   \n",
       "\n",
       "                                             description         host_name   \n",
       "id                                                                           \n",
       "18674  110m2 apartment to rent in Barcelona. Located ...  Mireia And Maria  \\\n",
       "23197  Beautiful spacious apartment, large terrace, 5...    Etain (Marnie)   \n",
       "32711  A lovely two bedroom apartment only 250 m from...              Nick   \n",
       "34981  Spacious apartment for large families or group...            Andres   \n",
       "36763  <b>The space</b><br />Habitación con una cama ...             Ester   \n",
       "\n",
       "          DISTRICTE  latitude  longitude  minimum_nights last_review   \n",
       "id                                                                     \n",
       "18674      Eixample  41.40556    2.17262               1  2022-10-07  \\\n",
       "23197    Sant Martí  41.41243    2.21975               4  2022-10-23   \n",
       "32711        Gràcia  41.40566    2.17015               2  2022-12-09   \n",
       "34981  Ciutat Vella  41.37978    2.17623               5  2022-11-19   \n",
       "36763  Ciutat Vella  41.38043    2.19094              31  2022-10-05   \n",
       "\n",
       "       calculated_host_listings_count  availability_365   \n",
       "id                                                        \n",
       "18674                              20               264  \\\n",
       "23197                               2               255   \n",
       "32711                               3               276   \n",
       "34981                               1               139   \n",
       "36763                               1               259   \n",
       "\n",
       "      NUMERO_REGISTRE_GENERALITAT  \n",
       "id                                 \n",
       "18674                 HUTB-002062  \n",
       "23197                  HUTB005057  \n",
       "32711                 HUTB-001722  \n",
       "34981                 HUTB-001506  \n",
       "36763                         NaN  "
      ]
     },
     "execution_count": 27,
     "metadata": {},
     "output_type": "execute_result"
    }
   ],
   "source": [
    "airbnb_merge.head()"
   ]
  },
  {
   "cell_type": "markdown",
   "id": "ab05d44f",
   "metadata": {
    "papermill": {
     "duration": 0.011669,
     "end_time": "2023-02-14T23:00:22.433728",
     "exception": false,
     "start_time": "2023-02-14T23:00:22.422059",
     "status": "completed"
    },
    "tags": []
   },
   "source": [
    "PREPARACIÓN DE TABLA AIRBNB\n",
    "- filtramos las columnas QUE  necesitaremos\n",
    "- cambiamos el nombre de neighbourhood a DISTRICTE\n",
    "- limpiamos los valores nulos renombrandolos a Nulos y cambiando el tipo de columna a string\n",
    "- cambiamos el tipo de columna last_review a date"
   ]
  },
  {
   "cell_type": "markdown",
   "id": "32f0db17",
   "metadata": {
    "papermill": {
     "duration": 0.01145,
     "end_time": "2023-02-14T23:00:22.458069",
     "exception": false,
     "start_time": "2023-02-14T23:00:22.446619",
     "status": "completed"
    },
    "tags": []
   },
   "source": [
    "Limpiamos los nulos"
   ]
  },
  {
   "cell_type": "code",
   "execution_count": 28,
   "id": "842449b7",
   "metadata": {
    "execution": {
     "iopub.execute_input": "2023-02-14T23:00:22.484422Z",
     "iopub.status.busy": "2023-02-14T23:00:22.483585Z",
     "iopub.status.idle": "2023-02-14T23:00:22.500631Z",
     "shell.execute_reply": "2023-02-14T23:00:22.499371Z"
    },
    "papermill": {
     "duration": 0.033415,
     "end_time": "2023-02-14T23:00:22.503355",
     "exception": false,
     "start_time": "2023-02-14T23:00:22.469940",
     "status": "completed"
    },
    "tags": []
   },
   "outputs": [
    {
     "data": {
      "text/plain": [
       "listing_url                          0\n",
       "host_id                              0\n",
       "description                         80\n",
       "host_name                            2\n",
       "DISTRICTE                            0\n",
       "latitude                             0\n",
       "longitude                            0\n",
       "minimum_nights                       0\n",
       "last_review                       3277\n",
       "calculated_host_listings_count       0\n",
       "availability_365                     0\n",
       "NUMERO_REGISTRE_GENERALITAT       4974\n",
       "dtype: int64"
      ]
     },
     "execution_count": 28,
     "metadata": {},
     "output_type": "execute_result"
    }
   ],
   "source": [
    "airbnb_merge.isnull().sum()"
   ]
  },
  {
   "cell_type": "code",
   "execution_count": 29,
   "id": "aab4c72b",
   "metadata": {
    "execution": {
     "iopub.execute_input": "2023-02-14T23:00:22.530404Z",
     "iopub.status.busy": "2023-02-14T23:00:22.529526Z",
     "iopub.status.idle": "2023-02-14T23:00:22.537918Z",
     "shell.execute_reply": "2023-02-14T23:00:22.536538Z"
    },
    "papermill": {
     "duration": 0.025247,
     "end_time": "2023-02-14T23:00:22.540894",
     "exception": false,
     "start_time": "2023-02-14T23:00:22.515647",
     "status": "completed"
    },
    "tags": []
   },
   "outputs": [],
   "source": [
    "airbnb_merge['NUMERO_REGISTRE_GENERALITAT'] = airbnb_merge['NUMERO_REGISTRE_GENERALITAT'].fillna('Nulo')\n"
   ]
  },
  {
   "cell_type": "markdown",
   "id": "e95d8571",
   "metadata": {
    "papermill": {
     "duration": 0.011873,
     "end_time": "2023-02-14T23:00:22.565566",
     "exception": false,
     "start_time": "2023-02-14T23:00:22.553693",
     "status": "completed"
    },
    "tags": []
   },
   "source": [
    "Los desactivados los borramos"
   ]
  },
  {
   "cell_type": "code",
   "execution_count": 30,
   "id": "bfcc1b91",
   "metadata": {
    "execution": {
     "iopub.execute_input": "2023-02-14T23:00:22.592232Z",
     "iopub.status.busy": "2023-02-14T23:00:22.591408Z",
     "iopub.status.idle": "2023-02-14T23:00:22.607996Z",
     "shell.execute_reply": "2023-02-14T23:00:22.607052Z"
    },
    "papermill": {
     "duration": 0.032984,
     "end_time": "2023-02-14T23:00:22.610818",
     "exception": false,
     "start_time": "2023-02-14T23:00:22.577834",
     "status": "completed"
    },
    "tags": []
   },
   "outputs": [
    {
     "data": {
      "text/plain": [
       "listing_url                          0\n",
       "host_id                              0\n",
       "description                         80\n",
       "host_name                            2\n",
       "DISTRICTE                            0\n",
       "latitude                             0\n",
       "longitude                            0\n",
       "minimum_nights                       0\n",
       "last_review                       3277\n",
       "calculated_host_listings_count       0\n",
       "availability_365                     0\n",
       "NUMERO_REGISTRE_GENERALITAT          0\n",
       "dtype: int64"
      ]
     },
     "execution_count": 30,
     "metadata": {},
     "output_type": "execute_result"
    }
   ],
   "source": [
    "airbnb_merge.isnull().sum()"
   ]
  },
  {
   "cell_type": "code",
   "execution_count": 31,
   "id": "51dc5bdd",
   "metadata": {
    "execution": {
     "iopub.execute_input": "2023-02-14T23:00:22.638129Z",
     "iopub.status.busy": "2023-02-14T23:00:22.637365Z",
     "iopub.status.idle": "2023-02-14T23:00:22.646986Z",
     "shell.execute_reply": "2023-02-14T23:00:22.645450Z"
    },
    "papermill": {
     "duration": 0.026669,
     "end_time": "2023-02-14T23:00:22.650032",
     "exception": false,
     "start_time": "2023-02-14T23:00:22.623363",
     "status": "completed"
    },
    "tags": []
   },
   "outputs": [],
   "source": [
    "#pisos activos , esto es super importante para descartar anuncios que no estan activos \n",
    "airbnb_merge_clean  =airbnb_merge.loc[  (airbnb_merge['last_review'].notnull()) &  (airbnb_merge['last_review'] > '2022-01-01')&  (airbnb_merge['availability_365'] > 20)]"
   ]
  },
  {
   "cell_type": "code",
   "execution_count": 32,
   "id": "9d934185",
   "metadata": {
    "execution": {
     "iopub.execute_input": "2023-02-14T23:00:22.676650Z",
     "iopub.status.busy": "2023-02-14T23:00:22.676187Z",
     "iopub.status.idle": "2023-02-14T23:00:22.694973Z",
     "shell.execute_reply": "2023-02-14T23:00:22.694151Z"
    },
    "papermill": {
     "duration": 0.036298,
     "end_time": "2023-02-14T23:00:22.698777",
     "exception": false,
     "start_time": "2023-02-14T23:00:22.662479",
     "status": "completed"
    },
    "tags": []
   },
   "outputs": [
    {
     "name": "stdout",
     "output_type": "stream",
     "text": [
      "<class 'pandas.core.frame.DataFrame'>\n",
      "Index: 9159 entries, 18674 to 767951192535886373\n",
      "Data columns (total 12 columns):\n",
      " #   Column                          Non-Null Count  Dtype  \n",
      "---  ------                          --------------  -----  \n",
      " 0   listing_url                     9159 non-null   object \n",
      " 1   host_id                         9159 non-null   int64  \n",
      " 2   description                     9133 non-null   object \n",
      " 3   host_name                       9159 non-null   object \n",
      " 4   DISTRICTE                       9159 non-null   object \n",
      " 5   latitude                        9159 non-null   float64\n",
      " 6   longitude                       9159 non-null   float64\n",
      " 7   minimum_nights                  9159 non-null   int64  \n",
      " 8   last_review                     9159 non-null   object \n",
      " 9   calculated_host_listings_count  9159 non-null   int64  \n",
      " 10  availability_365                9159 non-null   int64  \n",
      " 11  NUMERO_REGISTRE_GENERALITAT     9159 non-null   object \n",
      "dtypes: float64(2), int64(4), object(6)\n",
      "memory usage: 930.2+ KB\n"
     ]
    }
   ],
   "source": [
    "airbnb_merge_clean.info()"
   ]
  },
  {
   "cell_type": "code",
   "execution_count": 33,
   "id": "300f5f4d",
   "metadata": {
    "execution": {
     "iopub.execute_input": "2023-02-14T23:00:22.727072Z",
     "iopub.status.busy": "2023-02-14T23:00:22.725846Z",
     "iopub.status.idle": "2023-02-14T23:00:22.732263Z",
     "shell.execute_reply": "2023-02-14T23:00:22.731402Z"
    },
    "papermill": {
     "duration": 0.02252,
     "end_time": "2023-02-14T23:00:22.734510",
     "exception": false,
     "start_time": "2023-02-14T23:00:22.711990",
     "status": "completed"
    },
    "tags": []
   },
   "outputs": [
    {
     "data": {
      "text/plain": [
       "9159"
      ]
     },
     "execution_count": 33,
     "metadata": {},
     "output_type": "execute_result"
    }
   ],
   "source": [
    "len(airbnb_merge_clean)"
   ]
  },
  {
   "cell_type": "code",
   "execution_count": 34,
   "id": "3cd2e718",
   "metadata": {
    "execution": {
     "iopub.execute_input": "2023-02-14T23:00:22.762157Z",
     "iopub.status.busy": "2023-02-14T23:00:22.761457Z",
     "iopub.status.idle": "2023-02-14T23:00:23.083219Z",
     "shell.execute_reply": "2023-02-14T23:00:23.081938Z"
    },
    "papermill": {
     "duration": 0.338614,
     "end_time": "2023-02-14T23:00:23.085919",
     "exception": false,
     "start_time": "2023-02-14T23:00:22.747305",
     "status": "completed"
    },
    "tags": []
   },
   "outputs": [
    {
     "data": {
      "image/png": "[encoded data removed]",
      "text/plain": [
       "<Figure size 1000x800 with 1 Axes>"
      ]
     },
     "metadata": {},
     "output_type": "display_data"
    }
   ],
   "source": [
    "feq=airbnb_merge_clean['DISTRICTE'].value_counts().sort_values(ascending=True)\n",
    "feq.plot.barh(figsize=(10, 8), color='b', width=1)\n",
    "plt.title(\"Numero de pisos / habitaciones per Districte\", fontsize=20)\n",
    "plt.xlabel('Number of listings', fontsize=12)\n",
    "plt.show()"
   ]
  },
  {
   "cell_type": "code",
   "execution_count": 35,
   "id": "db827f25",
   "metadata": {
    "execution": {
     "iopub.execute_input": "2023-02-14T23:00:23.114513Z",
     "iopub.status.busy": "2023-02-14T23:00:23.114042Z",
     "iopub.status.idle": "2023-02-14T23:00:23.236756Z",
     "shell.execute_reply": "2023-02-14T23:00:23.235470Z"
    },
    "papermill": {
     "duration": 0.142687,
     "end_time": "2023-02-14T23:00:23.241817",
     "exception": false,
     "start_time": "2023-02-14T23:00:23.099130",
     "status": "completed"
    },
    "tags": []
   },
   "outputs": [
    {
     "data": {
      "text/html": [
       "<div style=\"width:100%;\"><div style=\"position:relative;width:100%;height:0;padding-bottom:60%;\"><span style=\"color:#565656\">Make this Notebook Trusted to load map: File -> Trust Notebook</span><iframe srcdoc=\"&lt;!DOCTYPE html&gt;\n",
       "&lt;html&gt;\n",
       "&lt;head&gt;\n",
       "    \n",
       "    &lt;meta http-equiv=&quot;content-type&quot; content=&quot;text/html; charset=UTF-8&quot; /&gt;\n",
       "    \n",
       "        &lt;script&gt;\n",
       "            L_NO_TOUCH = false;\n",
       "            L_DISABLE_3D = false;\n",
       "        &lt;/script&gt;\n",
       "    \n",
       "    &lt;style&gt;html, body {width: 100%;height: 100%;margin: 0;padding: 0;}&lt;/style&gt;\n",
       "    &lt;style&gt;#map {position:absolute;top:0;bottom:0;right:0;left:0;}&lt;/style&gt;\n",
       "    &lt;script src=&quot;https://cdn.jsdelivr.net/npm/leaflet@1.9.3/dist/leaflet.js&quot;&gt;&lt;/script&gt;\n",
       "    &lt;script src=&quot;https://code.jquery.com/jquery-1.12.4.min.js&quot;&gt;&lt;/script&gt;\n",
       "    &lt;script src=&quot;https://cdn.jsdelivr.net/npm/bootstrap@5.2.2/dist/js/bootstrap.bundle.min.js&quot;&gt;&lt;/script&gt;\n",
       "    &lt;script src=&quot;https://cdnjs.cloudflare.com/ajax/libs/Leaflet.awesome-markers/2.0.2/leaflet.awesome-markers.js&quot;&gt;&lt;/script&gt;\n",
       "    &lt;link rel=&quot;stylesheet&quot; href=&quot;https://cdn.jsdelivr.net/npm/leaflet@1.9.3/dist/leaflet.css&quot;/&gt;\n",
       "    &lt;link rel=&quot;stylesheet&quot; href=&quot;https://cdn.jsdelivr.net/npm/bootstrap@5.2.2/dist/css/bootstrap.min.css&quot;/&gt;\n",
       "    &lt;link rel=&quot;stylesheet&quot; href=&quot;https://netdna.bootstrapcdn.com/bootstrap/3.0.0/css/bootstrap.min.css&quot;/&gt;\n",
       "    &lt;link rel=&quot;stylesheet&quot; href=&quot;https://cdn.jsdelivr.net/npm/@fortawesome/fontawesome-free@6.2.0/css/all.min.css&quot;/&gt;\n",
       "    &lt;link rel=&quot;stylesheet&quot; href=&quot;https://cdnjs.cloudflare.com/ajax/libs/Leaflet.awesome-markers/2.0.2/leaflet.awesome-markers.css&quot;/&gt;\n",
       "    &lt;link rel=&quot;stylesheet&quot; href=&quot;https://cdn.jsdelivr.net/gh/python-visualization/folium/folium/templates/leaflet.awesome.rotate.min.css&quot;/&gt;\n",
       "    \n",
       "            &lt;meta name=&quot;viewport&quot; content=&quot;width=device-width,\n",
       "                initial-scale=1.0, maximum-scale=1.0, user-scalable=no&quot; /&gt;\n",
       "            &lt;style&gt;\n",
       "                #map_ef047b2e56011b91d19610b61b35cff3 {\n",
       "                    position: relative;\n",
       "                    width: 100.0%;\n",
       "                    height: 100.0%;\n",
       "                    left: 0.0%;\n",
       "                    top: 0.0%;\n",
       "                }\n",
       "                .leaflet-container { font-size: 1rem; }\n",
       "            &lt;/style&gt;\n",
       "        \n",
       "    &lt;script src=&quot;https://cdnjs.cloudflare.com/ajax/libs/leaflet.markercluster/1.1.0/leaflet.markercluster.js&quot;&gt;&lt;/script&gt;\n",
       "    &lt;link rel=&quot;stylesheet&quot; href=&quot;https://cdnjs.cloudflare.com/ajax/libs/leaflet.markercluster/1.1.0/MarkerCluster.css&quot;/&gt;\n",
       "    &lt;link rel=&quot;stylesheet&quot; href=&quot;https://cdnjs.cloudflare.com/ajax/libs/leaflet.markercluster/1.1.0/MarkerCluster.Default.css&quot;/&gt;\n",
       "&lt;/head&gt;\n",
       "&lt;body&gt;\n",
       "    \n",
       "    \n",
       "            &lt;div class=&quot;folium-map&quot; id=&quot;map_ef047b2e56011b91d19610b61b35cff3&quot; &gt;&lt;/div&gt;\n",
       "        \n",
       "&lt;/body&gt;\n",
       "&lt;script&gt;\n",
       "    \n",
       "    \n",
       "            var map_ef047b2e56011b91d19610b61b35cff3 = L.map(\n",
       "                &quot;map_ef047b2e56011b91d19610b61b35cff3&quot;,\n",
       "                {\n",
       "                    center: [41.38879, 2.15899],\n",
       "                    crs: L.CRS.EPSG3857,\n",
       "                    zoom: 11.5,\n",
       "                    zoomControl: true,\n",
       "                    preferCanvas: false,\n",
       "                }\n",
       "            );\n",
       "\n",
       "            \n",
       "\n",
       "        \n",
       "    \n",
       "            var tile_layer_a818bb5188d7ab163bbad8d186882d8a = L.tileLayer(\n",
       "                &quot;https://{s}.tile.openstreetmap.org/{z}/{x}/{y}.png&quot;,\n",
       "                {&quot;attribution&quot;: &quot;Data by \\u0026copy; \\u003ca target=\\&quot;_blank\\&quot; href=\\&quot;http://openstreetmap.org\\&quot;\\u003eOpenStreetMap\\u003c/a\\u003e, under \\u003ca target=\\&quot;_blank\\&quot; href=\\&quot;http://www.openstreetmap.org/copyright\\&quot;\\u003eODbL\\u003c/a\\u003e.&quot;, &quot;detectRetina&quot;: false, &quot;maxNativeZoom&quot;: 18, &quot;maxZoom&quot;: 18, &quot;minZoom&quot;: 0, &quot;noWrap&quot;: false, &quot;opacity&quot;: 1, &quot;subdomains&quot;: &quot;abc&quot;, &quot;tms&quot;: false}\n",
       "            ).addTo(map_ef047b2e56011b91d19610b61b35cff3);\n",
       "        \n",
       "    \n",
       "            var fast_marker_cluster_0bba96011758b6a776cb1df38bb4ba5c = (function(){\n",
       "                \n",
       "                var callback = function (row) {\n",
       "                    var icon = L.AwesomeMarkers.icon();\n",
       "                    var marker = L.marker(new L.LatLng(row[0], row[1]));\n",
       "                    marker.setIcon(icon);\n",
       "                    return marker;\n",
       "                };\n",
       "\n",
       "                var data = [[41.40556, 2.17262], [41.41243, 2.21975], [41.40566, 2.17015], [41.37978, 2.17623], [41.38043, 2.19094], [41.39631, 2.16832], [41.40568, 2.16943], [41.38956, 2.17759], [41.40502, 2.20802], [41.4057, 2.17016], [41.37555, 2.16254], [41.38248062133789, 2.181149959564209], [41.3897, 2.16396], [41.37155, 2.13664], [41.40779, 2.21146], [41.37911, 2.15356], [41.38545, 2.18117], [41.41892, 2.14871], [41.4055, 2.17124], [41.38416, 2.18257], [41.38832, 2.12201], [41.39705, 2.17469], [41.40653, 2.1746], [41.38992, 2.16974], [41.39909, 2.20733], [41.38189, 2.15857], [41.38203, 2.18362], [41.3795, 2.16568], [41.38268, 2.15044], [41.42337, 2.1749], [41.4064, 2.17449], [41.40554, 2.17017], [41.37315, 2.1665], [41.37374, 2.15852], [41.37325, 2.16049], [41.40671, 2.18592], [41.40399, 2.17802], [41.40653, 2.17455], [41.39196, 2.16856], [41.37279, 2.14834], [41.40413, 2.15692], [41.40682, 2.18649], [41.37973, 2.17458], [41.39258, 2.17692], [41.37371, 2.16706], [41.40864, 2.14557], [41.38237, 2.16146], [41.37861, 2.16737], [41.38842, 2.16108], [41.4066, 2.17459], [41.39144, 2.16128], [41.38496, 2.17982], [41.39202, 2.17246], [41.40661, 2.15115], [41.408790588378906, 2.1660659313201904], [41.40805, 2.21487], [41.38359, 2.15812], [41.40002, 2.1579], [41.42864, 2.09159], [41.40332, 2.17615], [41.40998, 2.17553], [41.39877, 2.15887], [41.3724, 2.1648], [41.40271, 2.16646], [41.40653, 2.1746], [41.40647, 2.17457], [41.398, 2.1553], [41.37042, 2.16411], [41.37733, 2.17651], [41.38734, 2.18018], [41.40653, 2.1746], [41.38075, 2.15804], [41.38139, 2.16692], [41.38324, 2.15969], [41.39970016479492, 2.1748878955841064], [41.39195, 2.1714], [41.38046, 2.17822], [41.40653, 2.1746], [41.37501, 2.16009], [41.396084, 2.168906], [41.39285, 2.15657], [41.39822, 2.16081], [41.39653, 2.1442], [41.38113, 2.18897], [41.39871, 2.15292], [41.39851, 2.15304], [41.37978, 2.12977], [41.38361, 2.18552], [41.40248, 2.19668], [41.39238, 2.16702], [41.39776, 2.16499], [41.41626, 2.20149], [41.3817, 2.17195], [41.37641, 2.15895], [41.40385, 2.1691], [41.41437, 2.13927], [41.38039, 2.17739], [41.38333, 2.18095], [41.40347, 2.17157], [41.4016, 2.19424], [41.41011, 2.16976], [41.3888, 2.15898], [41.3888, 2.15898], [41.36879, 2.13296], [41.38355, 2.17156], [41.37948, 2.17666], [41.41228, 2.17582], [41.37722, 2.18944], [41.38192, 2.15563], [41.39268, 2.17214], [41.39184, 2.17146], [41.39161, 2.15782], [41.3819, 2.15419], [41.42257, 2.18047], [41.37779, 2.16729], [41.38347, 2.15802], [41.39215, 2.15609], [41.3778, 2.1582], [41.3895, 2.15769], [41.37314, 2.16789], [41.37701, 2.16663], [41.40012, 2.1756], [41.37949, 2.16387], [41.4003, 2.17502], [41.37877, 2.19063], [41.39095, 2.1964], [41.39506, 2.17308], [41.3888, 2.15898], [41.38307, 2.15518], [41.39176, 2.12506], [41.38099, 2.17213], [41.40292, 2.16069], [41.42042, 2.148], [41.39086, 2.18803], [41.39646, 2.17132], [41.3969, 2.17842], [41.41042, 2.17595], [41.41015, 2.14451], [41.40697, 2.16106], [41.399, 2.2062], [41.37535, 2.16727], [41.37509, 2.16272], [41.39877, 2.17755], [41.375927, 2.166751], [41.39401, 2.17159], [41.40466, 2.17147], [41.37535, 2.16727], [41.40231, 2.20085], [41.40275, 2.17698], [41.38734, 2.16448], [41.37195, 2.16936], [41.37971, 2.1575], [41.38686, 2.16449], [41.39987, 2.17047], [41.41825, 2.20518], [41.39076, 2.17503], [41.39768, 2.17032], [41.37793, 2.15978], [41.40349, 2.20414], [41.40709, 2.15523], [41.37518, 2.18818], [41.37455, 2.16669], [41.39169, 2.1926], [41.42882, 2.10123], [41.40278, 2.17953], [41.377438, 2.188638], [41.39993, 2.16536], [41.40505, 2.17259], [41.40735, 2.15885], [41.40399, 2.15565], [41.39884, 2.17697], [41.39884, 2.17697], [41.39786, 2.17583], [41.39884, 2.17697], [41.3848, 2.16546], [41.39884, 2.17697], [41.39433, 2.14439], [41.39711, 2.16921], [41.39795, 2.1703], [41.39795, 2.1703], [41.39795, 2.1703], [41.39795, 2.1703], [41.39271, 2.17974], [41.40118, 2.17793], [41.38184, 2.15119], [41.39821, 2.15489], [41.37287, 2.14184], [41.37658, 2.16499], [41.38219, 2.18039], [41.37602, 2.1559], [41.40508, 2.15491], [41.37251, 2.16067], [41.4076, 2.15787], [41.37621, 2.16393], [41.37741, 2.17391], [41.40448, 2.17588], [41.40618, 2.20279], [41.39341, 2.16046], [41.41793, 2.19544], [41.41057, 2.17596], [41.40383, 2.17024], [41.40135, 2.17217], [41.38496, 2.14292], [41.40385, 2.19869], [41.40888, 2.14634], [41.41035, 2.14795], [41.37729, 2.1629], [41.39698, 2.19963], [41.37741, 2.11936], [41.39829, 2.17542], [41.40985, 2.14782], [41.41073, 2.14704], [41.37384, 2.1304], [41.38076, 2.16648], [41.40286, 2.19615], [41.40532, 2.16173], [41.38508, 2.15527], [41.38954, 2.17131], [41.37335, 2.15589], [41.39948, 2.15803], [41.38164, 2.16749], [41.39025, 2.16474], [41.38697, 2.17781], [41.37848, 2.15456], [41.38873, 2.15653], [41.40251, 2.17014], [41.3838, 2.15663], [41.40175, 2.19831], [41.45501, 2.18309], [41.38444, 2.17191], [41.39857, 2.19359], [41.4091, 2.16573], [41.38412, 2.17894], [41.40872, 2.1751], [41.38171, 2.18687], [41.3773, 2.16308], [41.399837, 2.175404], [41.37475, 2.1726], [41.40657, 2.16029], [41.38921, 2.19765], [41.37353, 2.16131], [41.39801, 2.17056], [41.39801, 2.17056], [41.38103, 2.15219], [41.40323, 2.16005], [41.3993, 2.17608], [41.38088, 2.13948], [41.39765, 2.16261], [41.39801, 2.17056], [41.38019, 2.17944], [41.38565, 2.16089], [41.3824, 2.12919], [41.40562, 2.16212], [41.37545, 2.15654], [41.39362, 2.16868], [41.38753, 2.14204], [41.38924, 2.20005], [41.39679, 2.14705], [41.401035, 2.162941], [41.38694, 2.14976], [41.40319, 2.15855], [41.39925, 2.15842], [41.38528, 2.147], [41.40065, 2.20407], [41.3989, 2.2058], [41.3999, 2.20653], [41.37597, 2.16613], [41.3898, 2.17366], [41.418831, 2.157363], [41.40924, 2.20118], [41.37842, 2.12354], [41.40828, 2.19255], [41.39798, 2.16628], [41.40737, 2.17398], [41.41013, 2.17583], [41.39529, 2.19387], [41.39451, 2.14578], [41.40237, 2.15865], [41.40009, 2.20063], [41.38777, 2.16055], [41.38984, 2.17077], [41.3779, 2.11991], [41.42353, 2.17773], [41.41087, 2.19021], [41.39409, 2.17159], [41.38887, 2.16899], [41.40717, 2.19556], [41.38617, 2.16704], [41.38621, 2.16692], [41.39199, 2.17862], [41.39872, 2.15848], [41.40917, 2.20251], [41.402599, 2.20701], [41.402599, 2.20701], [41.402599, 2.20701], [41.402599, 2.20701], [41.40463, 2.17154], [41.38985, 2.1447], [41.38771, 2.16493], [41.39418, 2.19319], [41.37731, 2.16288], [41.38882, 2.15557], [41.39892, 2.17683], [41.38127, 2.15475], [41.39264, 2.18946], [41.39095, 2.17448], [41.39764, 2.16064], [41.38019, 2.1797], [41.39976, 2.16719], [41.39008, 2.15922], [41.39014, 2.17178], [41.39288, 2.15321], [41.40096, 2.16799], [41.40867, 2.15379], [41.371922, 2.134926], [41.39084, 2.14219], [41.39116, 2.19251], [41.38044, 2.17302], [41.37525, 2.15091], [41.39233, 2.18002], [41.40856, 2.1593], [41.41472, 2.10531], [41.37329, 2.15881], [41.40048, 2.17349], [41.39259, 2.17468], [41.39089, 2.16565], [41.38989, 2.16195], [41.39125, 2.16391], [41.40747, 2.16409], [41.37366, 2.16613], [41.37905, 2.16101], [41.42196, 2.14802], [41.38929, 2.17052], [41.40543, 2.14891], [41.40246, 2.16584], [41.38438, 2.16047], [41.37923, 2.17451], [41.38474, 2.14805], [41.38023, 2.17564], [41.4042, 2.15281], [41.38513, 2.18017], [41.39782, 2.17366], [41.38085, 2.14868], [41.40467, 2.13722], [41.37939, 2.16057], [41.37913, 2.16131], [41.38532, 2.16172], [41.38412, 2.12645], [41.39578, 2.18131], [41.38531, 2.16175], [41.40065, 2.16246], [41.40074, 2.1752], [41.38334, 2.16029], [41.38447, 2.16068], [41.38642, 2.17565], [41.3736, 2.15746], [41.38427, 2.16275], [41.41036, 2.15513], [41.410198, 2.17479], [41.40716, 2.15698], [41.38131, 2.17612], [41.41012, 2.1759], [41.39459, 2.15549], [41.38668, 2.13099], [41.38991, 2.15957], [41.39176, 2.16271], [41.38441, 2.13102], [41.3904, 2.15258], [41.39945, 2.19996], [41.39267, 2.18945], [41.38314, 2.13606], [41.38387, 2.1717], [41.39997, 2.16552], [41.39498, 2.1704], [41.40425, 2.16417], [41.394997, 2.17648], [41.38055, 2.1484], [41.41591, 2.1618], [41.38549, 2.17273], [41.39223, 2.15559], [41.39835, 2.14644], [41.4045, 2.16631], [41.406055, 2.199163], [41.38974, 2.18011], [41.40045, 2.15465], [41.3857, 2.16252], [41.38233, 2.15827], [41.37268, 2.17236], [41.37952, 2.18011], [41.40927, 2.17599], [41.37583, 2.16629], [41.3976, 2.15599], [41.40581, 2.16644], [41.3941, 2.14707], [41.4047, 2.13909], [41.3941, 2.14707], [41.39203, 2.15134], [41.3941, 2.14707], [41.39652, 2.16969], [41.3940991, 2.1470664], [41.37762, 2.12321], [41.38078, 2.1458], [41.393921, 2.164423], [41.40298, 2.15096], [41.40457, 2.17215], [41.37998, 2.16062], [41.38946, 2.1764], [41.41851, 2.1737], [41.39104, 2.17628], [41.37209, 2.1706], [41.38954, 2.15831], [41.40907, 2.17311], [41.39152, 2.17506], [41.38527, 2.16086], [41.38178, 2.15083], [41.39732, 2.20693], [41.38559, 2.18567], [41.377499, 2.16181], [41.377499, 2.16181], [41.40965, 2.15093], [41.37746, 2.16181], [41.40472, 2.159], [41.39204, 2.16731], [41.38099, 2.17467], [41.372414, 2.166215], [41.40667, 2.16647], [41.38522, 2.17785], [41.37588, 2.12195], [41.38339, 2.15713], [41.40471, 2.16196], [41.395248, 2.171321], [41.41005, 2.13958], [41.37116, 2.13285], [41.41, 2.13921], [41.4121, 2.14045], [41.38475, 2.16058], [41.401634, 2.152177], [41.40153, 2.17785], [41.40735, 2.2047], [41.3793, 2.15551], [41.39267, 2.17536], [41.38074, 2.17742], [41.38019, 2.14944], [41.40306, 2.16368], [41.39481, 2.20087], [41.40186, 2.14937], [41.39797, 2.16273], [41.40047, 2.15994], [41.3822, 2.16865], [41.40547, 2.16146], [41.40504, 2.20344], [41.41225, 2.15578], [41.38934, 2.17492], [41.37564, 2.15454], [41.39864, 2.16183], [41.39523, 2.16921], [41.40028, 2.16253], [41.39128, 2.18493], [41.37565, 2.15801], [41.39621, 2.18165], [41.40111, 2.13598], [41.40379, 2.17305], [41.4024, 2.15673], [41.377499, 2.16181], [41.377499, 2.16181], [41.38642, 2.17565], [41.39599, 2.16941], [41.39704, 2.1805], [41.377499, 2.16181], [41.377499, 2.16181], [41.39673, 2.18323], [41.377499, 2.16181], [41.37427, 2.13015], [41.39582, 2.12866], [41.40521, 2.2082], [41.39211, 2.13012], [41.3974, 2.16964], [41.37767, 2.15306], [41.3963, 2.16855], [41.39779, 2.15904], [41.38695, 2.15949], [41.40527, 2.15837], [41.40348, 2.1777], [41.40631, 2.14085], [41.40214, 2.19807], [41.3854, 2.15591], [41.39196, 2.17377], [41.3963, 2.16855], [41.40605, 2.17743], [41.40739, 2.15211], [41.37983, 2.15282], [41.40971, 2.17392], [41.39669, 2.20285], [41.42007, 2.14931], [41.38496, 2.14292], [41.40574, 2.14734], [41.40562, 2.16212], [41.40521240234375, 2.1758370399475098], [41.38644, 2.152469], [41.3945701, 2.17242220000003], [41.39871, 2.20255], [41.39196, 2.17377], [41.4037, 2.17672], [41.40874, 2.18644], [41.38103, 2.15984], [41.40984, 2.1574], [41.39196, 2.17377], [41.41014, 2.17507], [41.39716, 2.16208], [41.40638, 2.15709], [41.42373, 2.20177], [41.40738, 2.15978], [41.40134, 2.16109], [41.39445, 2.17767], [41.39699, 2.16768], [41.39779, 2.15904], [41.39178, 2.15967], [41.40191, 2.14935], [41.37645, 2.18805], [41.3773, 2.16334], [41.409, 2.17913], [41.40272, 2.21174], [41.39544, 2.16139], [41.40624, 2.18133], [41.37245, 2.16696], [41.39779, 2.15904], [41.39779, 2.15904], [41.3664, 2.13508], [41.37711, 2.15812], [41.41006, 2.17691], [41.39264, 2.16305], [41.4089, 2.17505], [41.41111, 2.17684], [41.40907, 2.1769], [41.37411, 2.13081], [41.37249, 2.16603], [41.39779, 2.15904], [41.41118, 2.17694], [41.41035, 2.17858], [41.39264, 2.16305], [41.40903, 2.17657], [41.39779, 2.15904], [41.40061, 2.16032], [41.40562, 2.15926], [41.39017, 2.17577], [41.38484, 2.15776], [41.40767, 2.1699], [41.36507, 2.13674], [41.37336, 2.1647], [41.35301, 2.14827], [41.3704, 2.14168], [41.39159, 2.16587], [41.39815, 2.20009], [41.40491, 2.16576], [41.38963, 2.16778], [41.37639, 2.1659], [41.39153, 2.16138], [41.38458, 2.1741], [41.38103, 2.15657], [41.3831171870445, 2.162802054269801], [41.41436, 2.2176], [41.40628, 2.17446], [41.39086, 2.16288], [41.38079, 2.14995], [41.37726, 2.1392], [41.37909, 2.15582], [41.40015, 2.19997], [41.39263, 2.17173], [41.39001, 2.17592], [41.38945, 2.1763], [41.38995, 2.17772], [41.39164, 2.19187], [41.38817, 2.15868], [41.38854, 2.15979], [41.38891, 2.165], [41.38972, 2.17838], [41.38144, 2.1827], [41.38144, 2.1827], [41.40068, 2.12143], [41.39669, 2.16974], [41.37554, 2.13274], [41.38152, 2.18255], [41.403168, 2.18135], [41.3975, 2.16829], [41.41813, 2.14071], [41.37666, 2.13833], [41.38388, 2.16105], [41.39079, 2.16379], [41.35265, 2.14775], [41.39519, 2.16735], [41.37477, 2.13285], [41.4066, 2.17642], [41.38429, 2.13947], [41.38201, 2.13785], [41.3734, 2.14818], [41.39883, 2.20656], [41.40841, 2.15666], [41.39067820389317, 2.164259989386633], [41.40737, 2.16363], [41.3988, 2.16623], [41.39602, 2.17023], [41.40838, 2.1681], [41.37076, 2.13929], [41.37289, 2.14505], [41.38669, 2.1515], [41.39731, 2.16966], [41.37219, 2.13244], [41.39396, 2.14026], [41.39161, 2.19438], [41.3909, 2.16272], [41.37267, 2.13394], [41.36775, 2.13432], [41.40248, 2.20445], [41.41136, 2.17834], [41.40767, 2.17412], [41.39583, 2.15517], [41.37695, 2.13421], [41.38868, 2.17508], [41.39213, 2.17432], [41.38831, 2.17499], [41.40438, 2.17728], [41.41107, 2.20803], [41.39026, 2.15748], [41.40184, 2.15619], [41.39603, 2.14449], [41.40191, 2.14935], [41.40866, 2.16944], [41.40162, 2.16979], [41.41252, 2.18012], [41.38003, 2.15302], [41.4031, 2.16448], [41.38348, 2.13119], [41.40422, 2.17308], [41.38954162597656, 2.1767261028289795], [41.40287, 2.16817], [41.38668, 2.1618], [41.38381, 2.13226], [41.4082, 2.17461], [41.38163, 2.13679], [41.41069, 2.16243], [41.40327, 2.18065], [41.40442, 2.15311], [41.39264, 2.1588], [41.38317, 2.16047], [41.39426, 2.17114], [41.3769, 2.14758], [41.39068, 2.16504], [41.40976, 2.17487], [41.41271, 2.14943], [41.38843, 2.16954], [41.40569, 2.17209], [41.39562, 2.16348], [41.39823, 2.15961], [41.38421, 2.13856], [41.38249, 2.17553], [41.40249, 2.17402], [41.39479, 2.17462], [41.38384, 2.16383], [41.40001, 2.18416], [41.39093, 2.19931], [41.39162, 2.18062], [41.40944, 2.18267], [41.40213, 2.16996], [41.38352, 2.1589], [41.39968, 2.15637], [41.39644, 2.19862], [41.387375, 2.1627591], [41.39881, 2.15654], [41.39687, 2.15468], [41.39254, 2.16613], [41.39194, 2.19235], [41.41011, 2.1689], [41.40972, 2.15021], [41.40716, 2.17578], [41.40662, 2.20481], [41.39985, 2.15531], [41.40845, 2.20488], [41.40562, 2.15765], [41.43017, 2.18156], [41.39704, 2.16838], [41.41033, 2.15547], [41.38963, 2.16194], [41.39681, 2.16116], [41.40307, 2.15497], [41.37657, 2.16149], [41.39288, 2.1792], [41.38962, 2.15582], [41.38621, 2.13687], [41.39879, 2.15634], [41.37196, 2.16278], [41.3724, 2.16707], [41.37796, 2.19016], [41.37721, 2.16429], [41.37372, 2.14211], [41.37618, 2.16367], [41.39142, 2.17049], [41.37654, 2.16337], [41.40012, 2.20501], [41.393211, 2.153144], [41.38915, 2.15806], [41.40548, 2.1619], [41.38373, 2.18046], [41.37355, 2.16559], [41.39284, 2.16576], [41.39923, 2.20142], [41.40456, 2.17413], [41.41603, 2.17882], [41.37314, 2.16053], [41.40191, 2.13365], [41.38891, 2.16991], [41.39106, 2.16045], [41.37744, 2.15291], [41.39707, 2.20039], [41.39043, 2.17522], [41.37359, 2.15675], [41.38919, 2.16612], [41.40708, 2.17452], [41.39289, 2.18662], [41.37787, 2.1234], [41.39281, 2.16564], [41.39936, 2.17847], [41.37626, 2.13275], [41.39488, 2.16681], [41.39585, 2.16982], [41.39863, 2.16157], [41.40487, 2.15676], [41.39727, 2.17486], [41.41458, 2.18651], [41.40388, 2.20103], [41.39617, 2.15747], [41.39047, 2.16981], [41.37217, 2.16382], [41.37343, 2.17585], [41.37404, 2.1671], [41.40098, 2.154], [41.39346, 2.17117], [41.39017, 2.17343], [41.41215, 2.15342], [41.39728, 2.10783], [41.39347, 2.18836], [41.37106, 2.16746], [41.39721, 2.17491], [41.37418, 2.13818], [41.39927, 2.15991], [41.39465, 2.17373], [41.3876, 2.1589], [41.38788, 2.17064], [41.39381, 2.15783], [41.3726, 2.15429], [41.38593, 2.16712], [41.40229, 2.17189], [41.37242, 2.16339], [41.400589, 2.201649], [41.37116, 2.13925], [41.38898, 2.15727], [41.39206, 2.15639], [41.39351, 2.17831], [41.3923, 2.1702], [41.37185, 2.16524], [41.37592, 2.14618], [41.37923, 2.13884], [41.39377, 2.18068], [41.38488, 2.15479], [41.37968, 2.16844], [41.382889, 2.129418], [41.3809, 2.16267], [41.42391, 2.1915], [41.39287, 2.19411], [41.39122, 2.17387], [41.39545, 2.14369], [41.3815, 2.15905], [41.38076, 2.16171], [41.37281, 2.14737], [41.40062, 2.17294], [41.40177, 2.14544], [41.38551, 2.14805], [41.37315, 2.15664], [41.38843, 2.16954], [41.4081, 2.14303], [41.40391, 2.1747], [41.40855, 2.16888], [41.38723, 2.15631], [41.39298, 2.13129], [41.40764, 2.17033], [41.44111646457609, 2.188378286525397], [41.4055, 2.19796], [41.40113, 2.17355], [41.37252, 2.15553], [41.37391, 2.13032], [41.3894, 2.1717], [41.40586, 2.18135], [41.38047, 2.15914], [41.395, 2.14928], [41.41399, 2.16018], [41.40352, 2.21065], [41.3846, 2.17163], [41.38738, 2.16055], [41.37439, 2.16014], [41.40415, 2.17249], [41.40073, 2.13917], [41.38035, 2.17228], [41.39708, 2.17763], [41.38532, 2.16562], [41.37556, 2.16645], [41.37338, 2.16902], [41.37514, 2.13385], [41.38257, 2.1351], [41.37367, 2.1603], [41.41251, 2.1375], [41.38223, 2.18553], [41.37918, 2.19092], [41.40702, 2.17977], [41.39002, 2.17712], [41.39419, 2.16156], [41.38861, 2.17907], [41.39363, 2.13202], [41.39876733558888, 2.174713449870697], [41.37624, 2.16353], [41.43346, 2.20434], [41.40561, 2.14714], [41.3885, 2.15608], [41.389439, 2.174063], [41.3739, 2.17074], [41.39454, 2.14912], [41.40417, 2.1406], [41.39225, 2.162549], [41.37617, 2.13781], [41.37172, 2.14623], [41.37984, 2.16521], [41.40706, 2.15446], [41.39805, 2.16447], [41.38936, 2.15902], [41.37395, 2.16703], [41.39234, 2.16423], [41.39012, 2.17728], [41.39894, 2.172], [41.39704, 2.16257], [41.37954, 2.166], [41.40216, 2.16281], [41.39002, 2.17712], [41.40094, 2.20511], [41.39095, 2.16931], [41.39098, 2.17058], [41.39256, 2.16457], [41.39146, 2.15542], [41.42237, 2.16207], [41.39825, 2.17298], [41.40903, 2.1711], [41.37653, 2.16178], [41.37862, 2.16141], [41.38243, 2.18925], [41.39932, 2.19699], [41.39941, 2.19677], [41.43487, 2.17144], [41.4015, 2.17693], [41.39764, 2.20157], [41.40134, 2.17676], [41.40135, 2.17685], [41.40411, 2.16295], [41.39015, 2.17563], [41.37957, 2.1364], [41.40362, 2.13588], [41.38541, 2.16737], [41.40338, 2.13466], [41.40025, 2.16663], [41.40067, 2.16412], [41.3956, 2.18112], [41.37731, 2.16142], [41.40225, 2.17057], [41.39639, 2.16565], [41.37796, 2.16456], [41.37455, 2.16124], [41.38122, 2.16234], [41.411171, 2.176621], [41.39249, 2.17202], [41.38948, 2.1581], [41.40218, 2.20839], [41.40331, 2.17478], [41.38684, 2.1615], [41.3784, 2.13287], [41.39709, 2.16962], [41.39929, 2.1546], [41.37378, 2.13667], [41.39345, 2.1522], [41.38878, 2.16283], [41.4024, 2.17192], [41.40277, 2.13268], [41.37642, 2.19006], [41.39921, 2.16158], [41.37413, 2.15844], [41.39896, 2.17357], [41.37573, 2.1643], [41.38141, 2.19176], [41.39015, 2.17552], [41.4066, 2.17459], [41.40443, 2.2057], [41.41728, 2.19651], [41.39515, 2.18682], [41.37485, 2.16265], [41.3797, 2.16173], [41.40743, 2.17423], [41.4066, 2.17459], [41.39196, 2.17373], [41.39729, 2.1557], [41.38184, 2.16046], [41.37227, 2.14657], [41.39715, 2.14577], [41.4052, 2.16183], [41.38532, 2.16231], [41.37693, 2.11535], [41.40408, 2.19663], [41.37258, 2.16656], [41.41797, 2.16983], [41.39828, 2.15061], [41.39963, 2.17392], [41.3844, 2.18229], [41.41775, 2.20076], [41.40809, 2.18491], [41.37736, 2.14988], [41.37346, 2.16772], [41.37357, 2.16402], [41.40631, 2.15459], [41.39205, 2.15006], [41.39722, 2.1748], [41.39684, 2.17529], [41.40061, 2.20938], [41.39896, 2.20761], [41.37875, 2.12467], [41.3865, 2.17445], [41.41921, 2.17633], [41.3767, 2.15107], [41.382933, 2.175467], [41.38799, 2.1608], [41.38347, 2.16266], [41.40242, 2.17221], [41.381199, 2.16166], [41.37397, 2.16742], [41.37734, 2.16273], [41.37734, 2.16273], [41.37734, 2.16273], [41.39151, 2.19992], [41.40277, 2.15862], [41.39445, 2.15518], [41.39803, 2.14792], [41.42177, 2.20339], [41.38294, 2.18575], [41.41833, 2.19517], [41.40191, 2.14581], [41.40055, 2.16056], [41.37438, 2.16396], [41.39779, 2.17419], [41.37387, 2.16647], [41.39163, 2.15664], [41.42155, 2.20317], [41.37731, 2.15819], [41.40082, 2.15955], [41.39515, 2.16415], [41.37225, 2.14614], [41.37297, 2.16079], [41.39473, 2.16369], [41.38625, 2.16023], [41.385, 2.16059], [41.38824, 2.16378], [41.37239, 2.14876], [41.37015, 2.14715], [41.39207, 2.17156], [41.3786, 2.15], [41.39186, 2.1715], [41.39384, 2.17484], [41.383, 2.18375], [41.38611, 2.15982], [41.37898, 2.15552], [41.38274, 2.15829], [41.39264, 2.17332], [41.39874, 2.175], [41.40889, 2.15763], [41.40469, 2.162], [41.37231, 2.16638], [41.39068, 2.16571], [41.38891, 2.16086], [41.39442, 2.14575], [41.39496, 2.17163], [41.40105, 2.16008], [41.41232, 2.19899], [41.3742, 2.16904], [41.388157, 2.168319], [41.40163, 2.17048], [41.39264, 2.16305], [41.37927, 2.17696], [41.37954, 2.15089], [41.40394, 2.17105], [41.43776, 2.18669], [41.40444, 2.17247], [41.41136, 2.17618], [41.40893, 2.1727], [41.4023, 2.17181], [41.37658, 2.15578], [41.40251, 2.16859], [41.38107, 2.14188], [41.39617, 2.18315], [41.37456, 2.16687], [41.39485, 2.15324], [41.4132, 2.15627], [41.40599, 2.1605], [41.38715, 2.17021], [41.42693, 2.17847], [41.38062, 2.17898], [41.37338, 2.16462], [41.38636, 2.15513], [41.42662, 2.17842], [41.37428, 2.17014], [41.39181, 2.19253], [41.39203, 2.17], [41.41707, 2.15867], [41.39752, 2.17165], [41.3843, 2.16255], [41.37956, 2.17431], [41.41437, 2.14656], [41.38667, 2.16701], [41.38924, 2.16325], [41.41545, 2.145], [41.39838, 2.17143], [41.38833, 2.17489], [41.41132, 2.18168], [41.41746, 2.19394], [41.38227, 2.1617], [41.385, 2.15795], [41.38869, 2.17009], [41.37966, 2.15146], [41.38481, 2.18327], [41.39842, 2.1713], [41.40109, 2.16401], [41.403698, 2.178155], [41.403698, 2.178155], [41.37608, 2.15753], [41.40079, 2.18061], [41.40123, 2.16954], [41.38616, 2.16718], [41.40089, 2.20629], [41.39846, 2.17152], [41.39356, 2.17708], [41.40157, 2.18221], [41.40378, 2.14242], [41.38167, 2.16197], [41.37483, 2.17504], [41.40808, 2.17097], [41.43417, 2.16982], [41.37347, 2.15981], [41.39744, 2.16825], [41.4016, 2.18235], [41.38925, 2.19557], [41.38871, 2.17348], [41.39381, 2.12998], [41.39347, 2.16188], [41.3722, 2.16265], [41.39658, 2.19273], [41.4016, 2.18235], [41.4016, 2.18235], [41.39281, 2.17416], [41.39848, 2.17148], [41.37842, 2.15909], [41.41179, 2.17437], [41.40644, 2.17557], [41.3761, 2.16522], [41.39338, 2.1312], [41.39744, 2.15716], [41.39744, 2.15716], [41.37606, 2.12523], [41.40975, 2.17946], [41.39843, 2.1715], [41.40142, 2.17702], [41.39744, 2.15716], [41.39744, 2.15716], [41.39744, 2.15716], [41.38808, 2.1765], [41.39744, 2.15716], [41.3801, 2.16034], [41.39743, 2.16068], [41.37426, 2.16675], [41.38587, 2.16652], [41.3929, 2.18628], [41.3723, 2.16441], [41.39627, 2.16144], [41.38494, 2.16554], [41.39812, 2.17524], [41.39006, 2.17308], [41.39532, 2.16708], [41.39833, 2.17082], [41.39777, 2.20444], [41.38909, 2.17514], [41.39833, 2.17082], [41.38948, 2.15642], [41.3851, 2.12925], [41.40289, 2.17186], [41.40184, 2.15869], [41.41336, 2.20847], [41.37349, 2.13175], [41.38262, 2.14582], [41.38328, 2.16084], [41.38628, 2.1652], [41.37894, 2.13208], [41.3928, 2.15464], [41.38285, 2.16427], [41.41625, 2.16001], [41.39128, 2.17357], [41.38959, 2.1721], [41.38453, 2.1799], [41.39441, 2.18793], [41.38768, 2.17428], [41.41004, 2.17418], [41.3882, 2.16801], [41.41795, 2.21211], [41.37274, 2.16252], [41.35261, 2.14768], [41.381283, 2.174989], [41.39589, 2.16008], [41.39519, 2.17046], [41.38992, 2.19549], [41.37216, 2.16372], [41.41166, 2.12576], [41.39288, 2.18518], [41.39823, 2.15835], [41.38549, 2.16109], [41.39695, 2.17151], [41.37167, 2.1638], [41.39451, 2.16985], [41.42733, 2.16566], [41.41737, 2.21732], [41.37929, 2.17266], [41.37778, 2.17266], [41.40531, 2.14917], [41.40361, 2.21106], [41.40495, 2.17588], [41.40099, 2.16441], [41.39809, 2.19221], [41.39723, 2.15842], [41.37246, 2.16491], [41.37443, 2.15969], [41.40881, 2.17381], [41.39256, 2.16983], [41.38852, 2.15481], [41.38258, 2.16148], [41.37485, 2.16422], [41.39659, 2.19914], [41.41777, 2.14339], [41.39835, 2.15737], [41.37423, 2.1339], [41.38295, 2.18277], [41.41884, 2.18805], [41.39605, 2.17668], [41.39427, 2.145], [41.37303, 2.16195], [41.39035, 2.17606], [41.38008, 2.12339], [41.41068, 2.19729], [41.39838, 2.16067], [41.38722, 2.16693], [41.38461, 2.15645], [41.38762, 2.17215], [41.39004, 2.18409], [41.43035, 2.19421], [41.39922, 2.15824], [41.39726, 2.16935], [41.38676, 2.16414], [41.40137, 2.17856], [41.41598, 2.17682], [41.38202, 2.14717], [41.40803, 2.14794], [41.38554, 2.16438], [41.38625, 2.16516], [41.3873, 2.16419], [41.3851, 2.16436], [41.38588, 2.16642], [41.40048, 2.16885], [41.37998, 2.12565], [41.37985, 2.12535], [41.3888, 2.15898], [41.37998, 2.12565], [41.37998, 2.12565], [41.39151, 2.19992], [41.40399, 2.17802], [41.38545, 2.16698], [41.38745, 2.16471], [41.38703, 2.16449], [41.37288, 2.16814], [41.38385, 2.15711], [41.40399, 2.17802], [41.40399, 2.17802], [41.40399, 2.17802], [41.3724, 2.16707], [41.37463, 2.1592], [41.40399, 2.17802], [41.40292, 2.17324], [41.40876, 2.20379], [41.38848, 2.15607], [41.40399, 2.17802], [41.38432, 2.14665], [41.38268, 2.17305], [41.393337, 2.170438], [41.37965, 2.16902], [41.37515, 2.1673], [41.41184, 2.1993], [41.39225, 2.16607], [41.38961, 2.16166], [41.39441, 2.17422], [41.38404, 2.17839], [41.3904, 2.16605], [41.39829, 2.16392], [41.39145, 2.16565], [41.37392, 2.16261], [41.40914, 2.20444], [41.40214, 2.15805], [41.40264, 2.17367], [41.37784, 2.16806], [41.37459, 2.17031], [41.40031, 2.20712], [41.40153, 2.20567], [41.37583, 2.16191], [41.37925, 2.16912], [41.38216, 2.18426], [41.40805, 2.15657], [41.37544, 2.1426], [41.40859, 2.16525], [41.40334, 2.15336], [41.39035, 2.17606], [41.38369, 2.14071], [41.40026, 2.20409], [41.37853, 2.15137], [41.37227, 2.16432], [41.37366, 2.15811], [41.40063, 2.1634], [41.39508, 2.17116], [41.38297, 2.16843], [41.40261, 2.18226], [41.38667, 2.16174], [41.39996, 2.16339], [41.41072, 2.15958], [41.40291, 2.16048], [41.40315, 2.16222], [41.38485, 2.17038], [41.39102, 2.17544], [41.40113, 2.18442], [41.40122, 2.15618], [41.40305, 2.16062], [41.4029, 2.16197], [41.38078, 2.15848], [41.39144, 2.16319], [41.40362, 2.20021], [41.397133, 2.176212], [41.39137, 2.19999], [41.37354, 2.1625], [41.3999, 2.19667], [41.40686, 2.17605], [41.40255, 2.17716], [41.40394327506517, 2.1734717534194887], [41.3913, 2.17774], [41.40064, 2.18098], [41.40919, 2.17723], [41.40424933553857, 2.1738676062900195], [41.38511, 2.16763], [41.40012, 2.15987], [41.38151, 2.18696], [41.38714, 2.14986], [41.39033, 2.15476], [41.39133, 2.16603], [41.39111, 2.16517], [41.4012, 2.17531], [41.39132, 2.1634], [41.3898, 2.16318], [41.39824, 2.15938], [41.38663, 2.15991], [41.39265, 2.16694], [41.39733, 2.17842], [41.38419, 2.1843], [41.4066, 2.15674], [41.38834, 2.1707], [41.38446, 2.1409], [41.38834, 2.1707], [41.39964, 2.17307], [41.40958, 2.20927], [41.39196, 2.17377], [41.40904, 2.15063], [41.40577, 2.16316], [41.38645, 2.13127], [41.41553, 2.21131], [41.37845, 2.14257], [41.4014, 2.1846], [41.39569, 2.16735], [41.3957, 2.16814], [41.397133, 2.176212], [41.37287, 2.14658], [41.38629, 2.14531], [41.38331, 2.15553], [41.38505, 2.16185], [41.38702, 2.17567], [41.39525, 2.14101], [41.39196, 2.17377], [41.40823, 2.20331], [41.40437, 2.21144], [41.40823, 2.20331], [41.41181, 2.21601], [41.3745, 2.16338], [41.37478, 2.13175], [41.40887, 2.21061], [41.40083, 2.15206], [41.3949, 2.16455], [41.43014, 2.16534], [41.37799, 2.15467], [41.39964, 2.17307], [41.3803, 2.14283], [41.40418, 2.14199], [41.37382, 2.13713], [41.38536, 2.16543], [41.40561, 2.14013], [41.39199, 2.19289], [41.39224, 2.18705], [41.39909, 2.20733], [41.39909, 2.20733], [41.40426, 2.17364], [41.37592, 2.15416], [41.40172, 2.20281], [41.39105, 2.16149], [41.377159, 2.134228], [41.41108, 2.17422], [41.37226, 2.17235], [41.39349, 2.19327], [41.38992, 2.1648], [41.37358, 2.15635], [41.37219, 2.16702], [41.3722, 2.16698], [41.37219, 2.16702], [41.37247, 2.16679], [41.40324, 2.17268], [41.39152, 2.1924], [41.37549, 2.15916], [41.39196, 2.17377], [41.3941, 2.14707], [41.39368, 2.17471], [41.40079, 2.17407], [41.40844, 2.14804], [41.3941, 2.14707], [41.3769, 2.1273], [41.39372, 2.16703], [41.41299, 2.16901], [41.37259, 2.15729], [41.37259, 2.15729], [41.37334, 2.15782], [41.41004, 2.1739], [41.40096, 2.17286], [41.39518, 2.17417], [41.38963, 2.17641], [41.4011, 2.17557], [41.40519, 2.17399], [41.38484, 2.17338], [41.42289, 2.14378], [41.39996, 2.15917], [41.39073, 2.16421], [41.3799, 2.17394], [41.40895, 2.19048], [41.41397, 2.21767], [41.43715, 2.16801], [41.38947, 2.16895], [41.38447, 2.17302], [41.4016, 2.18235], [41.3793, 2.17643], [41.38576, 2.17003], [41.40406, 2.15648], [41.41752, 2.17448], [41.40959, 2.21425], [41.39102, 2.14559], [41.41453, 2.16326], [41.3924, 2.17194], [41.38918, 2.16005], [41.39115, 2.16474], [41.38707, 2.18117], [41.39137, 2.16203], [41.38376, 2.1747], [41.38583, 2.15931], [41.3792, 2.15328], [41.37423, 2.17427], [41.38356, 2.15528], [41.37902, 2.17691], [41.39173, 2.15544], [41.43424, 2.16149], [41.39661, 2.16833], [41.38375, 2.15881], [41.39268, 2.19922], [41.39658, 2.1611], [41.39405, 2.19171], [41.38222, 2.15735], [41.39355, 2.19117], [41.42252, 2.18435], [41.3819, 2.17782], [41.391, 2.16264], [41.37227, 2.16713], [41.40768, 2.16947], [41.39049, 2.17889], [41.382195, 2.132978], [41.38014, 2.14776], [41.38863, 2.19631], [41.40651, 2.15925], [41.39899, 2.15508], [41.37651, 2.16543], [41.40764, 2.15903], [41.4046, 2.15456], [41.39065, 2.19019], [41.3948, 2.14771], [41.40594, 2.17411], [41.378586, 2.16468], [41.38993, 2.17702], [41.38122, 2.15345], [41.40049, 2.15094], [41.39783, 2.15888], [41.38006, 2.16952], [41.38528, 2.15219], [41.40444, 2.16011], [41.40636, 2.16612], [41.42128, 2.1691], [41.37333, 2.15575], [41.39405, 2.20064], [41.37262, 2.17245], [41.39857, 2.20558], [41.39124, 2.16503], [41.37299, 2.1555], [41.38324, 2.17702], [41.40782, 2.16553], [41.39728, 2.14568], [41.38106, 2.16486], [41.41079, 2.10166], [41.39504, 2.15871], [41.3821, 2.16137], [41.42302, 2.20378], [41.38906478881836, 2.179637908935547], [41.374527, 2.174304], [41.4054, 2.2176], [41.37653, 2.15974], [41.37566, 2.16165], [41.39052, 2.17982], [41.39372, 2.19099], [41.39366, 2.19272], [41.4224, 2.18185], [41.39307, 2.19276], [41.37557, 2.13342], [41.37341, 2.16062], [41.41066, 2.16015], [41.38517, 2.16931], [41.39972, 2.15777], [41.40249, 2.17388], [41.38932, 2.18349], [41.38589, 2.17613], [41.37924, 2.16655], [41.389088, 2.174127], [41.40149, 2.19527], [41.39815, 2.14578], [41.37475, 2.12407], [41.38891, 2.18407], [41.39344, 2.15772], [41.38952, 2.16331], [41.38906478881836, 2.179637908935547], [41.40977, 2.15879], [41.37336, 2.14137], [41.40086, 2.1721], [41.39982, 2.20685], [41.40038, 2.20747], [41.37336, 2.14199], [41.40735, 2.17944], [41.40672, 2.1765], [41.39585, 2.18084], [41.39219, 2.15222], [41.40409, 2.17885], [41.38094, 2.169], [41.39219, 2.15222], [41.39955, 2.19484], [41.38765, 2.16738], [41.39696, 2.18615], [41.38948, 2.1581], [41.38108, 2.17572], [41.38851, 2.16333], [41.39587, 2.13336], [41.38319, 2.16281], [41.40491, 2.16969], [41.38126, 2.17007], [41.43322, 2.14904], [41.38329, 2.1614], [41.38837, 2.17689], [41.43117, 2.15673], [41.3839, 2.17832], [41.37731, 2.15386], [41.39376, 2.17883], [41.37833, 2.16674], [41.39043, 2.16653], [41.42569, 2.15808], [41.393, 2.16905], [41.40036, 2.15839], [41.38551, 2.17866], [41.40412, 2.16717], [41.40065, 2.16081], [41.40633, 2.14707], [41.38937, 2.19687], [41.3923, 2.14001], [41.43087, 2.16157], [41.38785, 2.16513], [41.38907, 2.16059], [41.37409, 2.16429], [41.37322, 2.16194], [41.39723, 2.1614], [41.37367, 2.1665], [41.37803, 2.16337], [41.40843, 2.15998], [41.38727, 2.15602], [41.43132, 2.17369], [41.41928, 2.17588], [41.37221, 2.14371], [41.37555, 2.16093], [41.38366, 2.18021], [41.38865, 2.17644], [41.38361, 2.18009], [41.43117, 2.1326], [41.38366, 2.18021], [41.40229, 2.16722], [41.40433, 2.17192], [41.385059, 2.146526], [41.40647, 2.18002], [41.37098, 2.16587], [41.37825, 2.15891], [41.41387, 2.18143], [41.40065, 2.16246], [41.40337, 2.17275], [41.38293, 2.16253], [41.3959, 2.17634], [41.38887, 2.17761], [41.39759, 2.14921], [41.38546, 2.16313], [41.37798, 2.16163], [41.3854, 2.16335], [41.37588, 2.15944], [41.38833, 2.142], [41.39027, 2.19535], [41.3972, 2.1733], [41.39909, 2.20733], [41.39725, 2.19791], [41.40339, 2.2055], [41.38492, 2.13079], [41.37964, 2.16196], [41.37331, 2.12687], [41.38831, 2.17478], [41.38289, 2.18105], [41.3852, 2.16367], [41.37954, 2.16855], [41.3928, 2.18075], [41.38253, 2.15799], [41.40353, 2.20933], [41.3842, 2.18111], [41.38015, 2.1696], [41.45503, 2.18316], [41.39888, 2.16226], [41.41528, 2.16105], [41.39831, 2.15746], [41.39866, 2.15843], [41.38458, 2.16374], [41.39886, 2.15655], [41.39786, 2.15647], [41.38299, 2.16208], [41.38434982299805, 2.1407370567321777], [41.38352, 2.16924], [41.38564, 2.1707], [41.37369, 2.16159], [41.38341, 2.17061], [41.38508, 2.17147], [41.38438, 2.17149], [41.37229, 2.14728], [41.38364, 2.16958], [41.39648, 2.19244], [41.39944, 2.15637], [41.39831, 2.1575], [41.37516, 2.15633], [41.40348, 2.15568], [41.4108, 2.17417], [41.3925, 2.13053], [41.38486, 2.17996], [41.3718, 2.16613], [41.40549, 2.18052], [41.37382, 2.13712], [41.39353, 2.17289], [41.37789, 2.16164], [41.37747, 2.17321], [41.39939, 2.19916], [41.39298, 2.19471], [41.41168, 2.17949], [41.41158, 2.17951], [41.42097, 2.18882], [41.38431, 2.17909], [41.38748, 2.16802], [41.39051, 2.1641], [41.39938, 2.15811], [41.39737, 2.15653], [41.38552, 2.18142], [41.384, 2.16176], [41.40597, 2.18094], [41.40469, 2.16081], [41.40142, 2.1755], [41.4044, 2.17445], [41.40566, 2.17947], [41.3724, 2.16219], [41.38148, 2.13617], [41.38143, 2.1804], [41.37412, 2.16374], [41.40567, 2.14229], [41.43466, 2.20719], [41.41302, 2.16315], [41.37399, 2.1648], [41.39897, 2.15688], [41.40895, 2.16026], [41.39133, 2.15565], [41.37333, 2.15451], [41.39998, 2.16165], [41.40146, 2.16221], [41.374, 2.17268], [41.38801, 2.13572], [41.37984, 2.13544], [41.37931, 2.13687], [41.37449, 2.16336], [41.4017, 2.17497], [41.41393, 2.14593], [41.41173, 2.17953], [41.39936, 2.15771], [41.37301, 2.15779], [41.38544, 2.17096], [41.37119, 2.14227], [41.40524, 2.19418], [41.38807, 2.16667], [41.37135, 2.13463], [41.391201, 2.18446], [41.39659, 2.16028], [41.39401, 2.17912], [41.386, 2.1664], [41.40644, 2.17025], [41.38408, 2.18334], [41.37796, 2.15007], [41.37807, 2.13786], [41.37448, 2.15932], [41.40345, 2.21314], [41.37331, 2.16382], [41.39207, 2.17858], [41.39158, 2.18976], [41.37754, 2.15976], [41.37478, 2.14588], [41.378599399484834, 2.1795118171811443], [41.40576, 2.21533], [41.39212, 2.19904], [41.38652, 2.17127], [41.38642, 2.1711], [41.39972, 2.17763], [41.40543, 2.18095], [41.37681, 2.11308], [41.39744, 2.15716], [41.447842, 2.177647], [41.39483, 2.17613], [41.39271, 2.18304], [41.40429, 2.14333], [41.37622, 2.15545], [41.38054, 2.15034], [41.37907, 2.15448], [41.37519, 2.14005], [41.38743, 2.16785], [41.39288, 2.15318], [41.37328, 2.1376], [41.38403, 2.16291], [41.3821, 2.16454], [41.40036, 2.15839], [41.40119, 2.15816], [41.381626, 2.153504], [41.40376, 2.2095], [41.38173, 2.16794], [41.40361, 2.21314], [41.39196, 2.1704], [41.38287, 2.16428], [41.39179, 2.17767], [41.3782, 2.16951], [41.40168, 2.164], [41.40697, 2.14924], [41.38843, 2.17059], [41.40473, 2.1662], [41.38041, 2.15501], [41.37471, 2.12853], [41.38335, 2.18259], [41.40734, 2.17989], [41.38691, 2.16872], [41.37391, 2.15885], [41.37378, 2.1572], [41.38161, 2.16567], [41.38102, 2.18947], [41.38876, 2.15966], [41.38186, 2.18776], [41.39428, 2.15432], [41.40141, 2.17551], [41.38695, 2.18417], [41.40071, 2.1746], [41.38192, 2.17981], [41.37796, 2.19016], [41.38577, 2.17221], [41.38117, 2.17442], [41.39682, 2.17861], [41.38613, 2.17164], [41.41068, 2.17659], [41.40007, 2.15904], [41.4151, 2.21966], [41.38504, 2.14706], [41.37881, 2.19041], [41.4004, 2.16425], [41.39888, 2.16226], [41.43951, 2.17662], [41.37626, 2.16933], [41.38594, 2.17832], [41.41895, 2.17366], [41.37467, 2.16819], [41.40704, 2.18098], [41.40449, 2.15774], [41.38282, 2.16615], [41.38460329999999, 2.1579653], [41.37431, 2.16577], [41.37725, 2.17288], [41.38842, 2.1775], [41.39722, 2.1838], [41.39858, 2.1847], [41.38407, 2.16961], [41.38217, 2.14971], [41.37429, 2.13242], [41.38047, 2.17528], [41.38223, 2.18798], [41.39888, 2.16226], [41.4055, 2.17727], [41.38982, 2.19841], [41.39825, 2.15973], [41.39216, 2.13984], [41.40177, 2.17835], [41.37422, 2.1685], [41.39765, 2.18127], [41.36068, 2.13893], [41.40612, 2.1716], [41.3861, 2.17916], [41.4053, 2.17145], [41.38838, 2.17895], [41.38601, 2.17834], [41.40254, 2.15004], [41.39445, 2.17767], [41.40629, 2.16126], [41.38954, 2.1685], [41.39422, 2.19225], [41.3884, 2.1705], [41.38708, 2.16585], [41.39726, 2.16959], [41.35919, 2.14077], [41.38078, 2.17559], [41.37227, 2.16713], [41.37227, 2.16713], [41.39853, 2.16469], [41.38027, 2.14167], [41.38137, 2.17606], [41.37259, 2.14336], [41.38812, 2.17613], [41.39094, 2.18169], [41.3852, 2.17209], [41.37307, 2.14202], [41.37492, 2.14858], [41.37782, 2.11587], [41.37466, 2.1753], [41.40092, 2.16375], [41.38258, 2.1615], [41.3905, 2.17474], [41.38534, 2.13846], [41.39264, 2.16305], [41.40971, 2.20555], [41.38378, 2.17956], [41.39136, 2.15944], [41.38419, 2.17817], [41.37329, 2.16294], [41.39888, 2.16226], [41.38829, 2.17045], [41.4053, 2.17145], [41.38967, 2.17921], [41.39156, 2.16455], [41.38443, 2.18305], [41.40076, 2.16144], [41.43374633789063, 2.177107095718384], [41.38137, 2.17418], [41.37288, 2.1669], [41.38167, 2.13785], [41.38775, 2.16499], [41.39037, 2.17367], [41.41419, 2.16457], [41.38856, 2.17057], [41.3966, 2.18488], [41.37967, 2.17811], [41.38688, 2.17508], [41.39052, 2.17601], [41.38167, 2.13785], [41.37586, 2.16506], [41.40142, 2.16076], [41.40155, 2.14642], [41.41509, 2.21329], [41.38077, 2.19014], [41.392338, 2.164229], [41.39858, 2.15823], [41.40614, 2.17187], [41.40589, 2.21523], [41.3554, 2.14342], [41.3996, 2.15899], [41.40652, 2.1705], [41.40655, 2.15153], [41.38066, 2.15987], [41.39507, 2.18039], [41.38032, 2.12499], [41.39929, 2.17254], [41.40774, 2.17563], [41.40574, 2.17515], [41.37781, 2.13372], [41.38731, 2.17331], [41.39092, 2.16504], [41.37588, 2.19141], [41.37342, 2.16441], [41.37641, 2.15932], [41.3994, 2.17288], [41.3981, 2.16783], [41.41844, 2.17062], [41.39578, 2.16975], [41.40809, 2.16625], [41.42959, 2.1767], [41.37554, 2.1649], [41.38039, 2.17708], [41.39529, 2.16173], [41.37417, 2.16341], [41.38358, 2.18016], [41.38072, 2.17809], [41.3987, 2.17943], [41.38536, 2.17804], [41.38296, 2.1789], [41.39732, 2.16995], [41.38256, 2.16347], [41.40456, 2.13981], [41.38884, 2.18063], [41.38388, 2.14284], [41.41629, 2.1712], [41.3985, 2.15579], [41.39705, 2.202], [41.38746, 2.17428], [41.39127, 2.17303], [41.40274, 2.17808], [41.39051, 2.16642], [41.40128, 2.20923], [41.39312, 2.15743], [41.3912, 2.14922], [41.41199, 2.14296], [41.35782, 2.137], [41.41195, 2.17915], [41.35862, 2.13642], [41.39354, 2.17791], [41.38144, 2.13809], [41.38162, 2.13756], [41.39542, 2.16766], [41.39034, 2.17514], [41.39643, 2.18237], [41.39312, 2.15974], [41.40377, 2.20705], [41.3925, 2.1494], [41.40053, 2.15967], [41.37932, 2.18798], [41.39127, 2.17303], [41.40133, 2.15799], [41.40473, 2.18128], [41.37673, 2.15781], [41.381458, 2.172388], [41.39316, 2.14819], [41.37938, 2.17539], [41.40598, 2.17603], [41.39196, 2.17377], [41.40129, 2.15969], [41.39899, 2.17616], [41.39897, 2.15622], [41.39799, 2.16974], [41.37293, 2.16486], [41.38599, 2.18182], [41.38268, 2.17096], [41.3761, 2.15879], [41.38744, 2.17125], [41.37585, 2.15741], [41.41092, 2.16015], [41.37278, 2.16445], [41.37736, 2.14988], [41.40161, 2.16935], [41.404, 2.21265], [41.37533, 2.15906], [41.37724, 2.16162], [41.39303, 2.1302], [41.39125, 2.16541], [41.37368, 2.14177], [41.378, 2.17568], [41.40737, 2.16626], [41.38841, 2.17274], [41.3837, 2.17125], [41.39178, 2.17118], [41.39607, 2.14162], [41.37223, 2.15958], [41.38209, 2.16137], [41.377, 2.14994], [41.38256, 2.1807], [41.38578, 2.1678], [41.37182, 2.16716], [41.40754, 2.16666], [41.39713, 2.13353], [41.37916, 2.18705], [41.38149, 2.18035], [41.40392, 2.21345], [41.38128, 2.1835], [41.394001, 2.16193], [41.3932, 2.1602], [41.3933, 2.16012], [41.41133, 2.17699], [41.39597886763888, 2.206394381917398], [41.3967, 2.17268], [41.37617, 2.16117], [41.37618, 2.16104], [41.3932, 2.1602], [41.3932, 2.1602], [41.3932, 2.1602], [41.38805, 2.17598], [41.37619, 2.16129], [41.40817, 2.17728], [41.4018, 2.17879], [41.38453, 2.17417], [41.3991, 2.16015], [41.40082, 2.14544], [41.40507, 2.17387], [41.37347, 2.16233], [41.38395, 2.14692], [41.39012, 2.16139], [41.40462, 2.16038], [41.40562, 2.17866], [41.39408, 2.19197], [41.41126, 2.1781], [41.40214, 2.14354], [41.39003, 2.16519], [41.38166, 2.18183], [41.39469, 2.16381], [41.39332, 2.16577], [41.39499, 2.16536], [41.3768, 2.12633], [41.39283, 2.15665], [41.37611, 2.17499], [41.38279, 2.16134], [41.3933, 2.16012], [41.37739, 2.11866], [41.37664, 2.14984], [41.37351, 2.15966], [41.38908, 2.1684], [41.38258, 2.15634], [41.39208, 2.17596], [41.38108, 2.14908], [41.38412, 2.17169], [41.37317, 2.15709], [41.38109, 2.17498], [41.3932, 2.1602], [41.38073, 2.14363], [41.40075, 2.16432], [41.3933, 2.16012], [41.39262, 2.17423], [41.37246, 2.16787], [41.3971, 2.18031], [41.40258, 2.18118], [41.3932, 2.1602], [41.3932, 2.1602], [41.38179, 2.18048], [41.3933, 2.16012], [41.37229, 2.16612], [41.3932, 2.1602], [41.3933, 2.16012], [41.3933, 2.16012], [41.39935, 2.18035], [41.37206, 2.16773], [41.38886, 2.18574], [41.388821, 2.179228], [41.40183, 2.18223], [41.3933, 2.16012], [41.3933, 2.16012], [41.41049, 2.18316], [41.38927, 2.17817], [41.38182, 2.18116], [41.37393, 2.1628], [41.3933, 2.16012], [41.3932, 2.1602], [41.38183, 2.16143], [41.38125, 2.17557], [41.39866, 2.159], [41.39395, 2.1581], [41.39009, 2.1647], [41.39266, 2.16538], [41.39101, 2.17841], [41.38867, 2.17981], [41.3913, 2.17829], [41.39254, 2.17948], [41.3795, 2.17897], [41.3779, 2.188], [41.37337, 2.15916], [41.41673, 2.13615], [41.39505, 2.17859], [41.38022, 2.15931], [41.39531, 2.17877], [41.39035, 2.17606], [41.38015, 2.18183], [41.393, 2.15896], [41.3821, 2.18206], [41.4015, 2.15789], [41.39964, 2.15349], [41.4041, 2.18165], [41.4243, 2.1726], [41.39527, 2.15611], [41.41131, 2.16708], [41.42393, 2.14947], [41.39127, 2.17569], [41.40969, 2.18779], [41.37647, 2.156], [41.38759, 2.16704], [41.38978, 2.16185], [41.37111, 2.13975], [41.39437, 2.18093], [41.37821, 2.1544], [41.40675, 2.15663], [41.37417, 2.16839], [41.40845, 2.15659], [41.3742, 2.13917], [41.40679, 2.15645], [41.38497, 2.16729], [41.40649, 2.15791], [41.42195, 2.15034], [41.38779, 2.1736], [41.39838, 2.15132], [41.37803, 2.15564], [41.38809, 2.1308], [41.39573, 2.16769], [41.39931, 2.19697], [41.38106, 2.19027], [41.42277, 2.18672], [41.38213, 2.16624], [41.381802, 2.1745], [41.37493, 2.16288], [41.38164, 2.13763], [41.37507, 2.16743], [41.3727, 2.15973], [41.40638, 2.20272], [41.40386, 2.20696], [41.39228, 2.15383], [41.38015, 2.1696], [41.40991, 2.18819], [41.37869, 2.12829], [41.41534, 2.1611], [41.382217, 2.162619], [41.38683, 2.18345], [41.37926, 2.17915], [41.42084, 2.18108], [41.40868, 2.13777], [41.37196, 2.16232], [41.37321, 2.16089], [41.38253, 2.15752], [41.38499, 2.16815], [41.39405, 2.14879], [41.40514, 2.20257], [41.38066, 2.17003], [41.38007, 2.18703], [41.37802, 2.16066], [41.40698, 2.18241], [41.4074, 2.17294], [41.40492, 2.20256], [41.38737, 2.17769], [41.37828, 2.18731], [41.38997, 2.17334], [41.37279, 2.17033], [41.40157, 2.18221], [41.40369, 2.20317], [41.37961, 2.19187], [41.37694, 2.16191], [41.37659, 2.19063], [41.37527, 2.12894], [41.3899, 2.17942], [41.39827, 2.20213], [41.38096, 2.1619], [41.37273, 2.15488], [41.40381, 2.1711], [41.38797, 2.1544], [41.38953, 2.15806], [41.4053, 2.17145], [41.40626, 2.17337], [41.40423, 2.17421], [41.39411, 2.14886], [41.37415, 2.16709], [41.37369, 2.16739], [41.39225, 2.15738], [41.37424, 2.15881], [41.37377, 2.16759], [41.38053, 2.1696], [41.37219, 2.14251], [41.37357, 2.16804], [41.39721, 2.14605], [41.37368, 2.16777], [41.4099, 2.17643], [41.39042, 2.16986], [41.38211, 2.17581], [41.38627, 2.11232], [41.38012, 2.18725], [41.4053, 2.17145], [41.38721, 2.17427], [41.37223, 2.13], [41.4053, 2.17145], [41.41083, 2.18878], [41.3753, 2.13715], [41.37742, 2.19083], [41.38133, 2.1895], [41.38947, 2.16895], [41.41879, 2.14688], [41.39145, 2.19426], [41.39241, 2.17623], [41.42215, 2.18989], [41.37207, 2.16308], [41.38529, 2.14645], [41.39767, 2.14952], [41.38024, 2.1514], [41.39863, 2.1728], [41.38083, 2.18091], [41.37413, 2.12859], [41.38387, 2.18262], [41.40341, 2.17489], [41.3854, 2.16507], [41.39759, 2.15418], [41.39715, 2.17717], [41.39997, 2.1615], [41.40654, 2.17167], [41.40453, 2.17947], [41.39374, 2.18044], [41.38521, 2.16299], [41.4149456187459, 2.213863201591906], [41.41713, 2.11897], [41.40654, 2.17111], [41.39523, 2.18504], [41.40279, 2.17226], [41.38125, 2.15828], [41.38505, 2.15919], [41.40325, 2.17972], [41.40474, 2.203], [41.3965, 2.16133], [41.3921, 2.1553], [41.39869, 2.14437], [41.37114, 2.14666], [41.39898, 2.16141], [41.39883, 2.15212], [41.39852, 2.15946], [41.37333, 2.16121], [41.38703, 2.1736], [41.37564, 2.16022], [41.39368, 2.19086], [41.38181, 2.18334], [41.38254, 2.15146], [41.40532, 2.19973], [41.40183, 2.18225], [41.41723, 2.14732], [41.40542, 2.16913], [41.396, 2.17621], [41.38656, 2.17942], [41.37985, 2.1801], [41.37415, 2.13735], [41.37708, 2.15162], [41.3715, 2.16612], [41.40676, 2.17547], [41.38011, 2.17845], [41.38632, 2.15769], [41.3738, 2.1653], [41.40318, 2.17186], [41.40349, 2.17512], [41.37492, 2.14268], [41.37458, 2.13442], [41.39773, 2.17024], [41.40331, 2.16193], [41.40232, 2.15068], [41.39619, 2.19073], [41.38837, 2.17057], [41.40023, 2.16413], [41.39145, 2.16546], [41.3761, 2.13472], [41.39695, 2.17041], [41.41261, 2.17872], [41.40193, 2.17189], [41.38926, 2.17708], [41.38802, 2.17583], [41.37328, 2.13182], [41.39136, 2.19325], [41.4041, 2.16734], [41.37566, 2.17084], [41.41806, 2.14159], [41.383, 2.16006], [41.38779, 2.17329], [41.40915, 2.18029], [41.37888, 2.16336], [41.40744, 2.18008], [41.37914, 2.15898], [41.42288, 2.19705], [41.37425, 2.14252], [41.40988, 2.21046], [41.3904, 2.1762], [41.3918, 2.17613], [41.39773, 2.17024], [41.38334, 2.17984], [41.38507, 2.17201], [41.37306, 2.15603], [41.38571, 2.18179], [41.37579, 2.1685], [41.37582, 2.17038], [41.37607, 2.16999], [41.37346, 2.16854], [41.374603, 2.169596], [41.37718, 2.17138], [41.4008, 2.17267], [41.38876, 2.16365], [41.37431, 2.16759], [41.39009, 2.16518], [41.39575, 2.17625], [41.39537, 2.14363], [41.38123, 2.18065], [41.40542, 2.17132], [41.4053, 2.17145], [41.37728, 2.12925], [41.37842, 2.16749], [41.37654, 2.16453], [41.39035, 2.17606], [41.42589, 2.19025], [41.37865, 2.15681], [41.39035, 2.17606], [41.386089, 2.158683], [41.39119, 2.15106], [41.39253, 2.15405], [41.37692, 2.16139], [41.37093, 2.16323], [41.37831, 2.1882], [41.40062, 2.15708], [41.39787, 2.17432], [41.37614, 2.15966], [41.40027, 2.15676], [41.38428, 2.17849], [41.38803, 2.18406], [41.39967, 2.15512], [41.38528, 2.16273], [41.38001, 2.14552], [41.38185, 2.14868], [41.38735, 2.15596], [41.39302, 2.19949], [41.37653, 2.15264], [41.38098, 2.15325], [41.40047, 2.16589], [41.40518, 2.17289], [41.38049, 2.17344], [41.39964, 2.15767], [41.39905, 2.15715], [41.39884, 2.15816], [41.38137, 2.15308], [41.39953, 2.15557], [41.40088, 2.15569], [41.37227, 2.16713], [41.3779, 2.18805], [41.40082, 2.15562], [41.40113, 2.15684], [41.4053, 2.17145], [41.3851, 2.17278], [41.38566, 2.16149], [41.38443, 2.15526], [41.38871, 2.15977], [41.37785, 2.15916], [41.38248, 2.17232], [41.41201, 2.17565], [41.40404, 2.17992], [41.37229, 2.16329], [41.38129, 2.17676], [41.39624, 2.17466], [41.40599, 2.16373], [41.40417, 2.15461], [41.37162, 2.16341], [41.38361, 2.18009], [41.3961, 2.14457], [41.3822, 2.16156], [41.37905, 2.1676], [41.40278, 2.1787], [41.40078, 2.18049], [41.40096, 2.17984], [41.40272, 2.17884], [41.40259, 2.17857], [41.40298, 2.17853], [41.40221, 2.18048], [41.40261, 2.18045], [41.40212, 2.17828], [41.40302, 2.16448], [41.40464, 2.17733], [41.37403, 2.15526], [41.37582, 2.1435], [41.40163, 2.18047], [41.40278, 2.17917], [41.37469, 2.13234], [41.38108, 2.17692], [41.43407, 2.16446], [41.37627, 2.17229], [41.38404, 2.16571], [41.39279, 2.14623], [41.38044, 2.17797], [41.40669, 2.17313], [41.39274, 2.18531], [41.39797, 2.1431], [41.40303, 2.17914], [41.37397, 2.155825], [41.38773, 2.19555], [41.40331, 2.21084], [41.40769, 2.17855], [41.39678, 2.17093], [41.37796, 2.19016], [41.39557, 2.16807], [41.3736, 2.16017], [41.3727, 2.16756], [41.38258, 2.1615], [41.37756, 2.14883], [41.372501, 2.1611], [41.39718, 2.16189], [41.37445, 2.16708], [41.37361, 2.1685], [41.39095, 2.17871], [41.38472, 2.18035], [41.3821, 2.1497], [41.41008, 2.17653], [41.38217, 2.17585], [41.38194, 2.16064], [41.38524, 2.15319], [41.37394, 2.16887], [41.38475, 2.17434], [41.39732, 2.16122], [41.4053, 2.17145], [41.37363, 2.16919], [41.38358, 2.18016], [41.37191, 2.12832], [41.37642, 2.1667], [41.37633, 2.16777], [41.43179, 2.17986], [41.40042, 2.15666], [41.38525, 2.18206], [41.39962, 2.15609], [41.3737, 2.16833], [41.41152, 2.17684], [41.39887, 2.15938], [41.3961, 2.14457], [41.4055, 2.18545], [41.40854, 2.20917], [41.38669, 2.17404], [41.3941, 2.14707], [41.37381, 2.16589], [41.38383, 2.18248], [41.37366, 2.16671], [41.40069, 2.20351], [41.416178, 2.159658], [41.37862, 2.1479], [41.3941, 2.14707], [41.37516, 2.1662], [41.3819, 2.16864], [41.42354, 2.1502], [41.38991, 2.18004], [41.40024, 2.17316], [41.37796, 2.19016], [41.3885, 2.19791], [41.3853, 2.17165], [41.38268, 2.182], [41.4369, 2.15756], [41.40494, 2.21545], [41.3735, 2.15934], [41.38373, 2.16635], [41.38602, 2.17806], [41.39564, 2.16266], [41.37945, 2.17235], [41.38094, 2.18922], [41.37995, 2.17357], [41.37978, 2.1675], [41.38781, 2.15467], [41.39216, 2.16729], [41.3817, 2.17417], [41.38479, 2.13271], [41.405, 2.15728], [41.3901, 2.1656], [41.40049, 2.15688], [41.40994, 2.18304], [41.38348, 2.13752], [41.38322, 2.13731], [41.39043, 2.16383], [41.40896, 2.16517], [41.40229, 2.11931], [41.3997, 2.17317], [41.37526, 2.14231], [41.40962, 2.18478], [41.40815, 2.18271], [41.38717, 2.16922], [41.39701, 2.18974], [41.38761, 2.16916], [41.37309, 2.14721], [41.39499, 2.20082], [41.39505, 2.17116], [41.39602, 2.17713], [41.41028, 2.15073], [41.41028, 2.15073], [41.4091, 2.15191], [41.41028, 2.15073], [41.39935, 2.15836], [41.39744, 2.15716], [41.4045, 2.18349], [41.37381, 2.13712], [41.39482, 2.18608], [41.38171, 2.16225], [41.41554, 2.16254], [41.38751, 2.17325], [41.38907, 2.17726], [41.40241, 2.17616], [41.4053, 2.17145], [41.39978, 2.18042], [41.3997, 2.18034], [41.39539, 2.17115], [41.37928, 2.17153], [41.39949, 2.1786], [41.39981, 2.17843], [41.38682, 2.15775], [41.38235, 2.17189], [41.39977, 2.15922], [41.40036, 2.17475], [41.39697, 2.16125], [41.39895, 2.18012], [41.37902, 2.19159], [41.38183, 2.15287], [41.40265, 2.16225], [41.38044, 2.16721], [41.39091, 2.1665], [41.39052, 2.16656], [41.39971, 2.1548], [41.40309, 2.1753], [41.39929, 2.18063], [41.38642, 2.18064], [41.37735, 2.17869], [41.41028, 2.15073], [41.40639, 2.1684], [41.40659, 2.1902], [41.3954, 2.19182], [41.40435, 2.17215], [41.40435, 2.17215], [41.39993, 2.15654], [41.39993, 2.15654], [41.39993, 2.15654], [41.39993, 2.15654], [41.39993, 2.15654], [41.39993, 2.15654], [41.40854, 2.1777], [41.40854, 2.1777], [41.40073, 2.18037], [41.38794, 2.17728], [41.38484, 2.16904], [41.40097, 2.18044], [41.3879, 2.17611], [41.3736, 2.15746], [41.41665, 2.19699], [41.39908, 2.17992], [41.3812, 2.17279], [41.38587, 2.17192], [41.3779, 2.13618], [41.38439, 2.15118], [41.41028, 2.15073], [41.40123, 2.18019], [41.39924, 2.17906], [41.4057, 2.21524], [41.39475, 2.175], [41.40123, 2.17833], [41.39639, 2.17622], [41.394, 2.14873], [41.39908, 2.17836], [41.38543, 2.14497], [41.37796, 2.19179], [41.40751, 2.17326], [41.37934, 2.17611], [41.40752, 2.17519], [41.38396, 2.16587], [41.40598, 2.17084], [41.41803, 2.17179], [41.37405, 2.17601], [41.41184, 2.18051], [41.37909, 2.15498], [41.4057, 2.21524], [41.40025, 2.16446], [41.38506, 2.13569], [41.4071, 2.21335], [41.4047, 2.21526], [41.38807, 2.16403], [41.40025, 2.16446], [41.3883, 2.17063], [41.4057, 2.21524], [41.3883, 2.17063], [41.4092, 2.21525], [41.3878, 2.16797], [41.37909, 2.15498], [41.4083, 2.21625], [41.3879, 2.16803], [41.41181, 2.17267], [41.3879, 2.16803], [41.4123, 2.22028], [41.3879, 2.16803], [41.39587, 2.15592], [41.38625, 2.17349], [41.3881, 2.16787], [41.3879, 2.16803], [41.3879, 2.16821], [41.388, 2.16792], [41.388, 2.168], [41.38947, 2.16895], [41.41173, 2.18087], [41.3879, 2.1678], [41.3879, 2.16819], [41.3879, 2.1678], [41.3879, 2.1678], [41.3879, 2.16803], [41.3879, 2.16815], [41.37227, 2.16713], [41.39512, 2.16929], [41.3879, 2.16819], [41.38396, 2.17084], [41.37357, 2.15984], [41.42645, 2.15825], [41.38095, 2.15909], [41.37985, 2.16677], [41.39114, 2.16906], [41.42304, 2.20335], [41.38316, 2.13879], [41.37592, 2.13179], [41.39924, 2.16113], [41.41363, 2.16747], [41.39918, 2.1611], [41.39755, 2.15956], [41.405, 2.14957], [41.40542, 2.14757], [41.40669, 2.14768], [41.40664, 2.14961], [41.40673, 2.14929], [41.40633, 2.14963], [41.41072, 2.16161], [41.41184, 2.18051], [41.40493, 2.14792], [41.40506, 2.14899], [41.40708, 2.14906], [41.40531, 2.14775], [41.40707, 2.14828], [41.39895, 2.14641], [41.38643, 2.18204], [41.39587, 2.15592], [41.40061, 2.17358], [41.3745, 2.16332], [41.41246, 2.15131], [41.39853, 2.1624], [41.40962, 2.18502], [41.39421, 2.17392], [41.41184, 2.18051], [41.40903, 2.1601], [41.37472, 2.13147], [41.38617, 2.18045], [41.39792, 2.15905], [41.42129, 2.18217], [41.40559, 2.17498], [41.39114, 2.16906], [41.3796, 2.13607], [41.39332, 2.15339], [41.3876, 2.15891], [41.38617, 2.17558], [41.37987, 2.16978], [41.40421, 2.15103], [41.39437, 2.15556], [41.39114, 2.16906], [41.39114, 2.16906], [41.40132, 2.15398], [41.37953, 2.18959], [41.38498, 2.14685], [41.42198, 2.15012], [41.38611, 2.17297], [41.39114, 2.16906], [41.39114, 2.16906], [41.37118, 2.16457], [41.37699, 2.16257], [41.40633, 2.16971], [41.384827, 2.183088], [41.384827, 2.183088], [41.395405, 2.153622], [41.395405, 2.153622], [41.395435, 2.153708], [41.39856, 2.14978], [41.38688, 2.1733], [41.40282, 2.17645], [41.39944, 2.19546], [41.41881, 2.18572], [41.3945, 2.17233], [41.3945, 2.17233], [41.39693, 2.15662], [41.41886, 2.15639], [41.41145, 2.2166], [41.42002, 2.15799], [41.39114, 2.16906], [41.40215, 2.18221], [41.41017, 2.17043], [41.39152, 2.14016], [41.38953, 2.15806], [41.42037, 2.15627], [41.37248, 2.16157], [41.38554, 2.16013], [41.37511, 2.16119], [41.3782, 2.15612], [41.37511, 2.1626], [41.38539, 2.15708], [41.42072, 2.15736], [41.42046, 2.156], [41.38854, 2.16063], [41.37842, 2.1583], [41.4007, 2.17834], [41.37657, 2.1628], [41.40111, 2.16559], [41.39859, 2.16138], [41.39861, 2.16136], [41.37284, 2.15517], [41.41873, 2.1559], [41.41878, 2.15745], [41.41861, 2.15655], [41.42076, 2.15592], [41.41899, 2.15808], [41.42036, 2.15644], [41.42081, 2.15818], [41.37387, 2.17228], [41.37465, 2.15166], [41.39728, 2.16139], [41.3985, 2.16154], [41.39699, 2.15986], [41.41874, 2.15617], [41.41123, 2.22403], [41.41352, 2.1846], [41.38227, 2.13057], [41.38004, 2.13584], [41.40291, 2.16048], [41.37305, 2.16809], [41.39039, 2.18405], [41.40061, 2.17358], [41.37951, 2.1899], [41.37464, 2.16629], [41.38339, 2.17185], [41.39987, 2.19519], [41.38626, 2.18014], [41.38232, 2.16013], [41.43764, 2.17261], [41.43673, 2.17541], [41.39969, 2.16908], [41.38079, 2.16945], [41.4053, 2.17145], [41.4202, 2.21343], [41.38327, 2.17053], [41.39114, 2.16906], [41.38632, 2.16693], [41.39883, 2.17133], [41.3992, 2.16947], [41.38195, 2.15816], [41.3945, 2.17233], [41.38274, 2.15997], [41.37948, 2.15473], [41.38034, 2.16505], [41.40305, 2.1879], [41.38582, 2.17101], [41.39976, 2.14732], [41.38641, 2.16824], [41.42292, 2.15036], [41.40470886230469, 2.1760311126708984], [41.37589, 2.16334], [41.393112, 2.152677], [41.38095, 2.18082], [41.37572, 2.18921], [41.39937, 2.1652], [41.3945, 2.17233], [41.40162, 2.19474], [41.39846, 2.15394], [41.39587, 2.15592], [41.42787, 2.16892], [41.40237, 2.18302], [41.392864, 2.15257], [41.393078, 2.152677], [41.374531, 2.143429], [41.374352, 2.143439], [41.42149, 2.19889], [41.38864, 2.15892], [41.390553, 2.155776], [41.39777, 2.15667], [41.40195, 2.17023], [41.37408, 2.15936], [41.4008, 2.20616], [41.41375, 2.21977], [41.40248, 2.20851], [41.39351, 2.1815], [41.383, 2.18058], [41.3785, 2.17745], [41.39415, 2.15212], [41.40342, 2.18891], [41.396, 2.16563], [41.39049, 2.15702], [41.39125, 2.16391], [41.4107, 2.13972], [41.37368, 2.14483], [41.3945, 2.17233], [41.4228, 2.17838], [41.38358, 2.18016], [41.37139, 2.14218], [41.37439, 2.16141], [41.39936, 2.17867], [41.39908, 2.1765], [41.40915, 2.17865], [41.39757, 2.17439], [41.392864, 2.15257], [41.392864, 2.15257], [41.392864, 2.15257], [41.393078, 2.152677], [41.393078, 2.152677], [41.393078, 2.152677], [41.393078, 2.152677], [41.38837, 2.17068], [41.374535, 2.143472], [41.374531, 2.143429], [41.374352, 2.143439], [41.374352, 2.143439], [41.39067, 2.15437], [41.38404, 2.18585], [41.38301, 2.18442], [41.37919, 2.17592], [41.38924, 2.16866], [41.39003, 2.17749], [41.38641, 2.16466], [41.384235, 2.183663], [41.38673, 2.17327], [41.41264, 2.16912], [41.39505, 2.17308], [41.388, 2.17939], [41.38546, 2.16593], [41.40207, 2.16917], [41.37999, 2.13545], [41.40349, 2.17427], [41.3857, 2.16801], [41.38556, 2.17329], [41.384235, 2.183663], [41.40192, 2.16149], [41.384235, 2.183663], [41.384235, 2.183663], [41.39751, 2.1434], [41.38187, 2.18814], [41.40358, 2.17531], [41.37449, 2.16336], [41.38328, 2.15755], [41.37391, 2.14678], [41.38112, 2.1532], [41.3847, 2.17272], [41.37983, 2.18097], [41.38603, 2.18324], [41.39331, 2.15509], [41.38053, 2.17576], [41.39344, 2.15425], [41.37828, 2.15732], [41.41241, 2.21719], [41.39039, 2.20085], [41.42374, 2.15171], [41.37283, 2.16776], [41.38454, 2.16073], [41.4243, 2.1968], [41.38677, 2.18197], [41.402798, 2.164461], [41.40405, 2.17092], [41.38377, 2.1322], [41.37128, 2.1705], [41.40759, 2.14961], [41.41099, 2.11524], [41.40496, 2.17168], [41.38226, 2.17219], [41.38434, 2.18363], [41.38434, 2.18365], [41.38099, 2.1354], [41.384235, 2.183663], [41.384235, 2.183663], [41.384235, 2.183663], [41.384235, 2.183663], [41.384235, 2.183663], [41.3899, 2.17757], [41.38432, 2.18363], [41.40044, 2.17135], [41.384235, 2.183663], [41.41009, 2.16369], [41.384235, 2.183663], [41.382465, 2.172445], [41.38269, 2.17208], [41.3889, 2.17792], [41.40992, 2.16156], [41.39022, 2.17756], [41.39825, 2.16225], [41.40863, 2.16687], [41.38672, 2.17619], [41.38631, 2.17228], [41.39413, 2.17713], [41.38409, 2.18153], [41.37236, 2.13656], [41.42114, 2.17521], [41.37981, 2.16748], [41.39209, 2.18059], [41.38916, 2.17584], [41.39347, 2.16014], [41.37228, 2.12883], [41.38792, 2.14415], [41.38459, 2.17967], [41.40588, 2.17087], [41.4069, 2.17508], [41.39926, 2.20387], [41.40471, 2.1769], [41.40565, 2.1751], [41.40347, 2.16953], [41.37612, 2.14484], [41.41291, 2.17835], [41.37419, 2.14599], [41.37853, 2.17534], [41.39519, 2.17599], [41.37632, 2.16404], [41.37519, 2.15468], [41.39168, 2.17797], [41.37794, 2.13658], [41.41097, 2.17811], [41.41104, 2.17811], [41.41209, 2.17581], [41.38604, 2.16743], [41.3878, 2.17951], [41.40454, 2.17795], [41.39049, 2.16635], [41.38312, 2.18906], [41.39464, 2.16862], [41.37637, 2.14617], [41.37593, 2.14592], [41.39161, 2.16476], [41.3718, 2.12747], [41.41073, 2.17629], [41.39408, 2.15622], [41.39458, 2.16109], [41.39224, 2.17217], [41.37296, 2.1288], [41.41539, 2.1638], [41.39256, 2.16068], [41.37923, 2.17538], [41.39338, 2.1593], [41.39205, 2.1547], [41.37598, 2.14514], [41.3813, 2.17498], [41.394, 2.15482], [41.37424, 2.14521], [41.41134, 2.17802], [41.38095, 2.17938], [41.37294, 2.12736], [41.39379, 2.15631], [41.4031, 2.16615], [41.39239, 2.15681], [41.40672, 2.19577], [41.39268, 2.16455], [41.38279, 2.17065], [41.38249, 2.17081], [41.41145, 2.17601], [41.39299, 2.1566], [41.38995, 2.15443], [41.40181, 2.1782], [41.38139, 2.13597], [41.38123, 2.1352], [41.392864, 2.15257], [41.41226, 2.17632], [41.41082, 2.17776], [41.39189, 2.17109], [41.37628, 2.14381], [41.41891, 2.1521], [41.39214, 2.15666], [41.41146, 2.17619], [41.39189, 2.1752], [41.38997, 2.16656], [41.39193, 2.15505], [41.38126, 2.17807], [41.37763, 2.19119], [41.40937, 2.14688], [41.41133, 2.17811], [41.4121, 2.17584], [41.41249, 2.17659], [41.39231, 2.17985], [41.37546, 2.14414], [41.38268, 2.182], [41.38268, 2.182], [41.41271, 2.1763], [41.4124, 2.1765], [41.38176, 2.16813], [41.41158, 2.17835], [41.4127, 2.17802], [41.41294, 2.17621], [41.38479, 2.1632], [41.38649, 2.16556], [41.38649, 2.16556], [41.40019, 2.16032], [41.40946, 2.15063], [41.38649, 2.16556], [41.38649, 2.16556], [41.38649, 2.16556], [41.38649, 2.16556], [41.41145, 2.2166], [41.38409, 2.16249], [41.37351, 2.14298], [41.40510940551758, 2.1757800579071045], [41.39604, 2.175], [41.39597, 2.17512], [41.39556, 2.17501], [41.38905, 2.17505], [41.37754, 2.12956], [41.39895, 2.17096], [41.37449, 2.16336], [41.38414, 2.18166], [41.3758, 2.17091], [41.373, 2.13433], [41.41673, 2.16054], [41.39187, 2.15296], [41.420837, 2.11723], [41.38408, 2.18172], [41.42692, 2.17392], [41.38421, 2.18168], [41.38096, 2.1698], [41.39981, 2.20697], [41.40686, 2.1781], [41.39964, 2.20598], [41.39843, 2.20872], [41.39965, 2.20685], [41.40024, 2.20668], [41.39924, 2.20644], [41.39948, 2.20843], [41.4039, 2.19991], [41.37481, 2.1392], [41.39133, 2.17117], [41.37235, 2.16806], [41.38268, 2.17096], [41.37423, 2.16829], [41.40765, 2.1785], [41.37688, 2.168], [41.40796, 2.18018], [41.40055, 2.17439], [41.37445, 2.15465], [41.40867, 2.1782], [41.37823, 2.1578], [41.40878, 2.17813], [41.40852, 2.17811], [41.37449, 2.16336], [41.39373, 2.17312], [41.38033, 2.18967], [41.40893, 2.18027], [41.38525, 2.16058], [41.40922, 2.16062], [41.39001, 2.16555], [41.37796, 2.19016], [41.38506, 2.16553], [41.38147, 2.16437], [41.37367, 2.16843], [41.40481, 2.15667], [41.40529, 2.16916], [41.37834, 2.17478], [41.40243, 2.17077], [41.40569, 2.17549], [41.39251, 2.16313], [41.39773, 2.18333], [41.40183, 2.17262], [41.4039, 2.17227], [41.40368, 2.17099], [41.40405, 2.17128], [41.39335, 2.17589], [41.37962, 2.15571], [41.40389, 2.17211], [41.40362, 2.17078], [41.40189, 2.172], [41.40716, 2.2003], [41.40403, 2.17283], [41.40324, 2.17272], [41.38603, 2.15934], [41.38609, 2.16053], [41.41955, 2.1511], [41.38232, 2.18173], [41.39044, 2.17448], [41.41495, 2.18132], [41.41213, 2.15671], [41.39091, 2.16296], [41.40874, 2.19275], [41.38889, 2.17397], [41.38225, 2.16823], [41.3985, 2.16177], [41.41777, 2.16902], [41.39216, 2.16729], [41.39814, 2.18078], [41.38863, 2.18389], [41.37491, 2.13081], [41.39888, 2.16226], [41.37726, 2.13722], [41.37583, 2.17195], [41.37157, 2.16573], [41.3989, 2.18615], [41.38649, 2.16556], [41.39523, 2.17636], [41.39283, 2.17633], [41.40006, 2.20718], [41.39256, 2.1772], [41.37222, 2.16037], [41.38352, 2.18154], [41.38477, 2.17975], [41.39647, 2.17171], [41.38268, 2.17096], [41.37379, 2.15967], [41.38489, 2.17112], [41.40938, 2.17609], [41.41014, 2.1575], [41.39262, 2.17657], [41.40055, 2.16345], [41.37201, 2.16341], [41.3784, 2.16193], [41.39382, 2.17688], [41.39752, 2.20393], [41.43807, 2.18802], [41.3778, 2.17517], [41.37851, 2.17896], [41.38911, 2.17597], [41.39578, 2.18232], [41.37443, 2.14082], [41.39429, 2.16725], [41.41087, 2.1779], [41.40833, 2.18281], [41.41085, 2.17594], [41.41049, 2.17729], [41.39046, 2.17549], [41.40516, 2.15709], [41.38685, 2.17326], [41.39188, 2.1776], [41.40631, 2.18435], [41.43879, 2.19064], [41.39968, 2.1637], [41.42439, 2.17366], [41.38021, 2.19032], [41.37772, 2.17647], [41.39628, 2.18155], [41.39694, 2.17934], [41.38336, 2.1586], [41.39243, 2.17119], [41.39396, 2.15322], [41.37334, 2.16297], [41.41937, 2.14993], [41.37256, 2.16699], [41.42024, 2.15717], [41.37653, 2.11429], [41.38706, 2.1767], [41.37504, 2.13366], [41.39746, 2.20389], [41.40453, 2.17387], [41.40575, 2.17537], [41.43796, 2.17453], [41.39781, 2.20457], [41.37309, 2.16376], [41.37313, 2.16854], [41.38232, 2.177], [41.38246, 2.17732], [41.38293, 2.17685], [41.3807, 2.165], [41.39979, 2.16024], [41.38358, 2.18016], [41.40793, 2.1549], [41.43425, 2.14252], [41.38317, 2.1494], [41.38903, 2.15706], [41.38199, 2.1623], [41.3814, 2.1613], [41.37436, 2.12715], [41.393299, 2.150564], [41.37331, 2.13208], [41.38648, 2.16843], [41.40161, 2.18237], [41.4001, 2.1747], [41.41066, 2.17011], [41.40636, 2.16584], [41.40301, 2.17893], [41.37556, 2.16158], [41.40542, 2.17132], [41.40542, 2.17132], [41.4053, 2.17145], [41.3997, 2.17535], [41.39073, 2.16395], [41.39367, 2.15474], [41.39968, 2.16547], [41.40311, 2.15424], [41.42013, 2.18004], [41.41299, 2.1492], [41.39715, 2.15522], [41.37837, 2.16286], [41.38473, 2.1797], [41.39817, 2.20595], [41.3757, 2.17105], [41.40169, 2.17543], [41.38227, 2.14308], [41.39141, 2.16405], [41.39055, 2.16846], [41.4077, 2.18282], [41.40542, 2.17132], [41.40542, 2.17132], [41.39111, 2.16157], [41.37369, 2.17401], [41.38833, 2.16804], [41.39548, 2.16513], [41.39484, 2.17668], [41.37433, 2.1612], [41.40598, 2.17341], [41.3885, 2.15687], [41.37781, 2.17261], [41.37909, 2.15498], [41.39924, 2.20437], [41.37764, 2.1597], [41.40542, 2.17132], [41.37436, 2.16677], [41.37612, 2.1545], [41.40096, 2.1586], [41.40542, 2.17132], [41.40542, 2.17132], [41.38115, 2.18924], [41.3846, 2.18625], [41.39165, 2.17745], [41.39758, 2.19478], [41.40628, 2.17851], [41.382599, 2.15593], [41.41534, 2.1611], [41.37808, 2.17885], [41.37051, 2.15888], [41.38008, 2.16211], [41.37425, 2.15965], [41.37908, 2.17509], [41.39569, 2.16921], [41.40125, 2.16528], [41.3736, 2.16373], [41.3796, 2.17328], [41.3796, 2.17328], [41.39727, 2.20401], [41.39689, 2.16226], [41.40542, 2.17132], [41.38026, 2.16325], [41.37796, 2.17619], [41.40470886230469, 2.176145076751709], [41.40745, 2.1725], [41.3966, 2.17373], [41.39532, 2.1626], [41.40798, 2.17283], [41.40746, 2.17182], [41.41024, 2.1599], [41.39004, 2.17461], [41.40542, 2.17132], [41.39691, 2.17537], [41.397, 2.1737], [41.39784, 2.17487], [41.40181, 2.20293], [41.39493, 2.14726], [41.39549, 2.19923], [41.39321, 2.14705], [41.40542, 2.17132], [41.38047, 2.18648], [41.3822, 2.18375], [41.3822, 2.18375], [41.37347, 2.15938], [41.37535, 2.14605], [41.39921, 2.15707], [41.38957, 2.15603], [41.37464, 2.16299], [41.40488, 2.15392], [41.39952, 2.15493], [41.40649, 2.17297], [41.416178, 2.159658], [41.39272, 2.18763], [41.37633, 2.16741], [41.38138, 2.17388], [41.38366, 2.16143], [41.38476, 2.17096], [41.384632, 2.177421], [41.37135, 2.16086], [41.38476, 2.17103], [41.3718, 2.16819], [41.39854, 2.15496], [41.37555, 2.17051], [41.37535, 2.17099], [41.37644, 2.15743], [41.39845, 2.17402], [41.37691, 2.15558], [41.38311, 2.17156], [41.41275, 2.17632], [41.37834, 2.1756], [41.39879, 2.17459], [41.3968, 2.17391], [41.38463, 2.14712], [41.37759, 2.1559], [41.39731, 2.20569], [41.40618, 2.1813], [41.40683, 2.17744], [41.38444, 2.18317], [41.40802, 2.18306], [41.39499, 2.16643], [41.39856, 2.18287], [41.39858, 2.16193], [41.39674, 2.18168], [41.37978, 2.15266], [41.38789, 2.16587], [41.39712, 2.176], [41.39884, 2.17543], [41.38161, 2.15082], [41.3967, 2.17579], [41.38402, 2.13221], [41.36643, 2.13474], [41.3822, 2.18375], [41.38099, 2.12637], [41.37385, 2.16218], [41.38807, 2.1696], [41.39098, 2.18993], [41.39417, 2.19469], [41.40514, 2.2159], [41.38709, 2.15569], [41.37706, 2.14313], [41.37838, 2.14281], [41.37662, 2.14141], [41.37812, 2.14346], [41.40384, 2.16721], [41.3872, 2.16766], [41.390083, 2.177133], [41.37952, 2.17331], [41.37952, 2.17331], [41.37952, 2.17331], [41.39008, 2.17713], [41.390083, 2.177133], [41.39267, 2.16972], [41.37761, 2.16139], [41.39879, 2.1754], [41.37952, 2.17331], [41.379772, 2.173636], [41.37952, 2.17331], [41.37959, 2.16836], [41.3997, 2.16517], [41.39834, 2.17575], [41.37976, 2.15586], [41.3839, 2.16954], [41.37386, 2.15648], [41.3724, 2.16985], [41.37466, 2.16918], [41.37863, 2.16101], [41.4022, 2.15462], [41.38615, 2.13712], [41.39743, 2.16387], [41.40533, 2.20034], [41.39327, 2.174], [41.37145, 2.14778], [41.409812927246094, 2.211103916168213], [41.40132, 2.20482], [41.41434, 2.14958], [41.396877, 2.146326], [41.41397, 2.14742], [41.40325, 2.14618], [41.37016, 2.13873], [41.39828, 2.1928], [41.40081, 2.16422], [41.37333, 2.17076], [41.37909, 2.15498], [41.38442, 2.17784], [41.40627, 2.1956], [41.38833, 2.16847], [41.39206, 2.17132], [41.38537, 2.14909], [41.40209, 2.15116], [41.39105, 2.17096], [41.39105, 2.17096], [41.39105, 2.17096], [41.39082, 2.16319], [41.39105, 2.17096], [41.38518, 2.18079], [41.39105, 2.17096], [41.379772, 2.173636], [41.38344, 2.15387], [41.4044, 2.14765], [41.3682, 2.1419], [41.39656, 2.19139], [41.39587, 2.19079], [41.39955, 2.20602], [41.38922, 2.12169], [41.38731, 2.17893], [41.37671, 2.13296], [41.38661, 2.17689], [41.41151, 2.17848], [41.38858, 2.16712], [41.41114, 2.14992], [41.39401, 2.16864], [41.40063, 2.17467], [41.39903, 2.17466], [41.38362, 2.17968], [41.40795, 2.2144], [41.39123, 2.1849], [41.385994, 2.135742], [41.40276, 2.15065], [41.3934, 2.14622], [41.399254, 2.208139], [41.37189, 2.13901], [41.38056, 2.18879], [41.41986, 2.13902], [41.4053, 2.17145], [41.3936, 2.17427], [41.40486, 2.17247], [41.41214, 2.17811], [41.3934, 2.14622], [41.37377, 2.16242], [41.38782, 2.17114], [41.3733, 2.16218], [41.37381, 2.16243], [41.37402, 2.16226], [41.38805, 2.17204], [41.37365, 2.16287], [41.41108, 2.16408], [41.37376, 2.16401], [41.37931, 2.19015], [41.40429, 2.15312], [41.38214, 2.18986], [41.38019, 2.1739], [41.40026, 2.14425], [41.39048, 2.15451], [41.37705, 2.17485], [41.37366, 2.16415], [41.39705, 2.17691], [41.40471, 2.17307], [41.40337, 2.17173], [41.38639, 2.13277], [41.37047, 2.14374], [41.38476, 2.17103], [41.38476, 2.17103], [41.37275, 2.16529], [41.38186, 2.16918], [41.38476, 2.17103], [41.39931, 2.16467], [41.3991, 2.16546], [41.39656, 2.14419], [41.40086, 2.16362], [41.40025, 2.16446], [41.3997, 2.16544], [41.38063, 2.18977], [41.38526, 2.17811], [41.39656, 2.19139], [41.38117, 2.19006], [41.38073, 2.18792], [41.3843, 2.1799], [41.42048, 2.21212], [41.38099, 2.1901], [41.38421, 2.17996], [41.38259, 2.18218], [41.3825, 2.18934], [41.38258, 2.16308], [41.39854, 2.20636], [41.37616, 2.15747], [41.41228, 2.18671], [41.41216, 2.1851], [41.41379, 2.18471], [41.37474, 2.14726], [41.40304, 2.17212], [41.37477, 2.14013], [41.40542, 2.17132], [41.40542, 2.17132], [41.40542, 2.17132], [41.41158, 2.19669], [41.37437, 2.1314], [41.37551, 2.14611], [41.37623, 2.14811], [41.44657, 2.17434], [41.41795, 2.20593], [41.407, 2.18544], [41.37605, 2.14943], [41.40209, 2.1818], [41.37449, 2.16336], [41.39919, 2.1788], [41.37456, 2.14523], [41.37644, 2.14537], [41.37661, 2.14427], [41.37328, 2.16647], [41.37216, 2.16629], [41.38886, 2.16671], [41.37051, 2.14547], [41.37938, 2.16023], [41.37654, 2.15531], [41.40212, 2.15949], [41.40539, 2.1776], [41.40771, 2.17483], [41.39506, 2.18017], [41.38893, 2.18126], [41.37123, 2.14356], [41.37731, 2.14486], [41.40741, 2.138541], [41.39066, 2.16468], [41.39992, 2.15967], [41.40648, 2.16869], [41.37718, 2.13707], [41.37309, 2.15884], [41.39611, 2.17278], [41.37129, 2.12978], [41.38038, 2.18031], [41.40336, 2.15423], [41.38728, 2.17082], [41.39834, 2.1751], [41.38636, 2.18177], [41.40334, 2.15635], [41.379, 2.19235], [41.37275, 2.17002], [41.38066, 2.19053], [41.38082, 2.19085], [41.40398, 2.16027], [41.40191, 2.17555], [41.39984, 2.17509], [41.40059, 2.17547], [41.38643, 2.15959], [41.38294, 2.16909], [41.38294, 2.16909], [41.38895618284191, 2.1305752661230417], [41.41082, 2.17384], [41.39524, 2.1937], [41.40747, 2.17271], [41.40914, 2.18225], [41.41229, 2.17756], [41.37616, 2.18872], [41.41185, 2.18457], [41.3766, 2.15981], [41.39994, 2.19712], [41.40043, 2.16803], [41.39245, 2.18043], [41.41029, 2.17255], [41.37535, 2.14605], [41.39977, 2.19485], [41.42149, 2.19831], [41.37902, 2.1369], [41.38495, 2.16266], [41.38495, 2.16266], [41.38481, 2.16295], [41.3941, 2.14707], [41.3941, 2.14707], [41.39591, 2.17702], [41.3941, 2.14707], [41.39582, 2.17507], [41.38667, 2.17342], [41.3941, 2.14707], [41.3941, 2.14707], [41.40917, 2.17267], [41.37401, 2.16868], [41.37986, 2.16694], [41.39511, 2.1667], [41.3973, 2.16983], [41.40175, 2.16316], [41.39886, 2.16258], [41.37535, 2.14605], [41.38483, 2.16049], [41.40884, 2.15183], [41.398, 2.20374], [41.40322, 2.17283], [41.37019, 2.15857], [41.38879, 2.16993], [41.39671, 2.16543], [41.37518, 2.13846], [41.3722, 2.13284], [41.40549, 2.15719], [41.39552, 2.16678], [41.37535, 2.14605], [41.39744, 2.16549], [41.41697, 2.1963], [41.39964, 2.17109], [41.37359, 2.16454], [41.39177, 2.16882], [41.40173, 2.17107], [41.394, 2.17027], [41.37351, 2.16384], [41.39357, 2.13839], [41.38913, 2.17753], [41.40351, 2.1514], [41.39239, 2.1535], [41.37338, 2.16431], [41.37394, 2.16225], [41.38335, 2.15806], [41.3816, 2.15879], [41.38109, 2.15839], [41.3745, 2.12992], [41.42255, 2.15063], [41.40611, 2.17424], [41.37121, 2.17061], [41.37826, 2.17033], [41.38207, 2.16184], [41.4023, 2.18328], [41.37535, 2.14605], [41.37535, 2.14605], [41.37561, 2.14319], [41.39858, 2.16457], [41.38108, 2.15744], [41.40266, 2.13724], [41.4112, 2.18118], [41.38454, 2.18575], [41.37538, 2.146], [41.40026, 2.17423], [41.3987, 2.17309], [41.40043, 2.17398], [41.40239, 2.17228], [41.37403, 2.16438], [41.39343, 2.1541], [41.39859, 2.20543], [41.38582, 2.15357], [41.39935, 2.16565], [41.37348, 2.16257], [41.37685, 2.12519], [41.40824, 2.15737], [41.39463, 2.16549], [41.39013, 2.15528], [41.38257386204901, 2.1517542377114296], [41.38961, 2.15379], [41.37804, 2.1566], [41.37457, 2.14544], [41.38825, 2.16115], [41.37586, 2.16802], [41.37855, 2.15512], [41.39285, 2.17085], [41.42232, 2.15081], [41.38016, 2.15684], [41.42489, 2.15347], [41.37649, 2.1598], [41.37803, 2.15722], [41.38666, 2.16657], [41.38582, 2.16688], [41.38967, 2.16747], [41.40453, 2.17233], [41.38826, 2.15941], [41.40453, 2.17128], [41.38236, 2.19022], [41.4041, 2.16953], [41.3943, 2.16764], [41.39502, 2.16966], [41.39156, 2.16836], [41.39193, 2.16794], [41.37768, 2.15469], [41.37892, 2.17072], [41.3912, 2.17104], [41.39058, 2.15666], [41.39503, 2.16967], [41.39529, 2.16787], [41.39425, 2.16764], [41.37972, 2.17479], [41.38008, 2.17488], [41.38019, 2.17327], [41.37825, 2.17473], [41.38012, 2.17353], [41.38356, 2.15609], [41.425678, 2.097075], [41.38012, 2.15649], [41.3734, 2.12574], [41.38008, 2.1565], [41.37763, 2.14555], [41.39891, 2.20587], [41.40205, 2.20511], [41.38582, 2.16688], [41.38076, 2.18862], [41.39641, 2.1763], [41.39803, 2.20644], [41.37793, 2.15697], [41.37917, 2.16734], [41.38681, 2.1616], [41.41186, 2.14796], [41.40638, 2.14799], [41.38634, 2.1613], [41.43047, 2.0936], [41.41245, 2.21834], [41.39303, 2.17458], [41.39309, 2.18655], [41.37298, 2.1663], [41.37987, 2.17307], [41.40775, 2.17833], [41.38493, 2.12475], [41.37205, 2.14688], [41.38256, 2.16483], [41.3996, 2.16712], [41.41219, 2.17767], [41.38368, 2.16419], [41.40652, 2.17229], [41.40086, 2.13675], [41.40254, 2.13891], [41.40002, 2.15619], [41.40702, 2.16142], [41.42832, 2.10474], [41.40115, 2.17652], [41.40178, 2.14818], [41.38197, 2.17366], [41.39667, 2.17575], [41.37129, 2.16461], [41.40622, 2.17128], [41.40631, 2.18148], [41.37942, 2.15332], [41.40897, 2.20719], [41.37766, 2.17012], [41.3855, 2.16717], [41.37438, 2.15778], [41.40546, 2.17566], [41.37396, 2.16362], [41.43577, 2.18928], [41.38488, 2.18173], [41.37601, 2.12876], [41.40597, 2.15951], [41.37476, 2.16473], [41.4116, 2.1727], [41.37217, 2.16249], [41.37245, 2.14512], [41.39785, 2.16422], [41.39567, 2.18836], [41.40573, 2.172], [41.37101, 2.1438], [41.37076, 2.14359], [41.39817, 2.20661], [41.37059, 2.1443], [41.38877, 2.17492], [41.404693603515625, 2.176093101501465], [41.40592, 2.15345], [41.39838, 2.20499], [41.367352, 2.18827], [41.38183, 2.14778], [41.38191, 2.1477], [41.38386, 2.1596], [41.39728, 2.20381], [41.38614, 2.13027], [41.38587, 2.12974], [41.3856, 2.12954], [41.38448, 2.13167], [41.3764, 2.16175], [41.3967, 2.17733], [41.38891, 2.17874], [41.37541, 2.17281], [41.39908, 2.17283], [41.39671, 2.1448], [41.39666, 2.14285], [41.38509, 2.20127], [41.39764, 2.16766], [41.38012, 2.17319], [41.41996, 2.11674], [41.38953, 2.17784], [41.40738, 2.17274], [41.37561, 2.16845], [41.40296, 2.15185], [41.39197, 2.15905], [41.39359, 2.1585], [41.39187, 2.15896], [41.39374, 2.15867], [41.38753, 2.17539], [41.39329, 2.15709], [41.39373, 2.15896], [41.39339, 2.15687], [41.39181, 2.15909], [41.39364, 2.15778], [41.39009, 2.16376], [41.38723, 2.16892], [41.38337, 2.15135], [41.36914, 2.13999], [41.41155, 2.17922], [41.39506, 2.1428], [41.39712, 2.17504], [41.39918, 2.20878], [41.39984, 2.20703], [41.39848, 2.20649], [41.39805, 2.20654], [41.38442, 2.16577], [41.38096, 2.19114], [41.37356, 2.16609], [41.38471, 2.18247], [41.41782, 2.21384], [41.37727, 2.13884], [41.40795, 2.1753], [41.37307, 2.13295], [41.38427, 2.17922], [41.38804, 2.17645], [41.39469, 2.19414], [41.38765, 2.1764], [41.37374, 2.16568], [41.38779, 2.1757], [41.40398, 2.17143], [41.39571, 2.19402], [41.4053, 2.17145], [41.40232, 2.16437], [41.42243, 2.2038], [41.39297, 2.19411], [41.40175, 2.16596], [41.39487, 2.19061], [41.39569, 2.19402], [41.37975, 2.17247], [41.39522, 2.19201], [41.39202, 2.17064], [41.37564, 2.15262], [41.38901, 2.17608], [41.38353, 2.18109], [41.37615, 2.15497], [41.38782, 2.16656], [41.39759, 2.15695], [41.41187, 2.17579], [41.39309, 2.15933], [41.39378, 2.15844], [41.39357, 2.15937], [41.38066, 2.17572], [41.37286, 2.15675], [41.38151, 2.17776], [41.39301, 2.16761], [41.3808, 2.15322], [41.38046, 2.15288], [41.41077, 2.17586], [41.39914, 2.16993], [41.39802, 2.17167], [41.3977, 2.17073], [41.39987, 2.17559], [41.40043, 2.1584], [41.37804, 2.14874], [41.37888, 2.17173], [41.40336, 2.17283], [41.39979, 2.16118], [41.39375, 2.17839], [41.38603, 2.15379], [41.3948, 2.18917], [41.38544, 2.17981], [41.38848, 2.15881], [41.3804, 2.16463], [41.41779, 2.18575], [41.39434, 2.15339], [41.3936, 2.17427], [41.3936, 2.17427], [41.37968, 2.1674], [41.40178, 2.17257], [41.39356, 2.15994], [41.39111, 2.17829], [41.39143, 2.1573], [41.41511, 2.18115], [41.40457, 2.13199], [41.3929, 2.1585], [41.39455, 2.16023], [41.38995, 2.16533], [41.43611, 2.18843], [41.40455, 2.17094], [41.39306, 2.19395], [41.40359, 2.16569], [41.37729, 2.1629], [41.39516, 2.19088], [41.38825, 2.15374], [41.39868, 2.16237], [41.37936, 2.15526], [41.37665, 2.15165], [41.44155, 2.17293], [41.3999, 2.20297], [41.37621, 2.15432], [41.38313, 2.17587], [41.37976, 2.18786], [41.41047, 2.15104], [41.40115, 2.18413], [41.39339, 2.19285], [41.428371, 2.184001], [41.39195, 2.17395], [41.41009, 2.14813], [41.38419, 2.15768], [41.40642, 2.1722], [41.41071, 2.13974], [41.4043, 2.15374], [41.37486, 2.1372], [41.37624, 2.13193], [41.38295, 2.1809], [41.38454, 2.18082], [41.39496, 2.17075], [41.37751, 2.13661], [41.40925, 2.22771], [41.383515, 2.1407396], [41.39183, 2.17757], [41.41847, 2.17924], [41.37896, 2.16433], [41.38838, 2.15044], [41.37997, 2.14561], [41.38546, 2.16736], [41.4037, 2.21186], [41.39222, 2.1762], [41.38729, 2.15373], [41.37202, 2.14067], [41.37933, 2.16911], [41.38911, 2.17716], [41.40739, 2.17264], [41.38651, 2.15969], [41.40527, 2.1772], [41.3836, 2.16583], [41.38512, 2.15216], [41.4101, 2.16049], [41.41669, 2.1781], [41.41031, 2.21023], [41.37253, 2.16737], [41.38198, 2.1685], [41.40222, 2.15126], [41.39116, 2.19178], [41.39296, 2.17423], [41.38171, 2.18226], [41.40949, 2.17596], [41.37251, 2.16601], [41.40927, 2.17528], [41.40908, 2.17446], [41.3964, 2.16371], [41.41732, 2.19592], [41.4032, 2.16975], [41.37459, 2.16339], [41.4158, 2.17729], [41.37663, 2.15936], [41.37552, 2.12617], [41.42613, 2.17355], [41.39548, 2.19436], [41.40308, 2.16796], [41.39248, 2.15842], [41.41827, 2.17739], [41.37948, 2.17609], [41.39167, 2.17634], [41.39955, 2.152], [41.40758, 2.18111], [41.38886, 2.17588], [41.3982, 2.1581], [41.39201, 2.16429], [41.3794, 2.18803], [41.415905, 2.178665], [41.37804, 2.18961], [41.38207, 2.18115], [41.39946, 2.2054], [41.36586, 2.13541], [41.38092, 2.17587], [41.38201, 2.18298], [41.39048, 2.17451], [41.38288, 2.18112], [41.38672, 2.18028], [41.412251, 2.150353], [41.37182, 2.15619], [41.37747, 2.1894], [41.38148, 2.14259], [41.38477, 2.18294], [41.38812, 2.17922], [41.4193, 2.17931], [41.39922, 2.15234], [41.38198, 2.18049], [41.37817, 2.1896], [41.37582, 2.18918], [41.40379, 2.17103], [41.37418, 2.13634], [41.38318, 2.15541], [41.40554, 2.16938], [41.39271, 2.16235], [41.422234, 2.18453], [41.42108, 2.1838], [41.41839, 2.17921], [41.37049, 2.14601], [41.37165, 2.14746], [41.36966, 2.13899], [41.37636, 2.17436], [41.37653, 2.15424], [41.38568, 2.1805], [41.39707, 2.17295], [41.38526, 2.15667], [41.40331, 2.16853], [41.39351, 2.15553], [41.37701, 2.17392], [41.37837, 2.1738], [41.37818, 2.17558], [41.40529, 2.20241], [41.3801, 2.17699], [41.39393, 2.16519], [41.4491, 2.17488], [41.44603, 2.17805], [41.38799, 2.17828], [41.38605, 2.1728], [41.37851, 2.16517], [41.40421, 2.21581], [41.40174, 2.16409], [41.38683, 2.17659], [41.38982, 2.16228], [41.39466, 2.18677], [41.37861, 2.1511], [41.378601, 2.1511], [41.39172, 2.17532], [41.37672, 2.15354], [41.39314, 2.1873], [41.38621, 2.16763], [41.38239, 2.18942], [41.38482, 2.1554], [41.38621, 2.16763], [41.37884, 2.17827], [41.38621, 2.16763], [41.37892, 2.17776], [41.40848, 2.18827], [41.38041, 2.17626], [41.37946, 2.17626], [41.38084, 2.17675], [41.38077, 2.17743], [41.37342, 2.16232], [41.37871, 2.17755], [41.39763, 2.16836], [41.37888, 2.17627], [41.3804, 2.17805], [41.39596, 2.18572], [41.40618, 2.18941], [41.409297943115234, 2.1738839149475098], [41.40332, 2.18047], [41.40543, 2.15106], [41.42508, 2.17423], [41.41, 2.17412], [41.3925, 2.16727], [41.40243, 2.20194], [41.38642, 2.15034], [41.37246, 2.14757], [41.412251, 2.150353], [41.38363, 2.1638], [41.40654, 2.1599], [41.3819, 2.15936], [41.40905, 2.19268], [41.40908, 2.21136], [41.3801, 2.17699], [41.38182, 2.15399], [41.37768, 2.15635], [41.40493, 2.17613], [41.407, 2.18082], [41.39862, 2.2044], [41.40851, 2.17295], [41.3714, 2.16443], [41.40382, 2.17201], [41.40158, 2.15702], [41.41313, 2.16525], [41.38024, 2.18982], [41.40333, 2.15791], [41.40038, 2.20348], [41.4031, 2.158], [41.40171, 2.16438], [41.37983, 2.16523], [41.42071, 2.15816], [41.37806, 2.18349], [41.3995, 2.15946], [41.39278, 2.15577], [41.40043, 2.17612], [41.38227, 2.16025], [41.44869, 2.18098], [41.40169, 2.20382], [41.3965, 2.19432], [41.4476, 2.18062], [41.38569, 2.16253], [41.4004, 2.20684], [41.37217, 2.1628], [41.38722, 2.16787], [41.37669, 2.1671], [41.39886, 2.20469], [41.38812, 2.14731], [41.39838, 2.17087], [41.37911, 2.18985], [41.37905, 2.18976], [41.38325, 2.18257], [41.38169, 2.18248], [41.38228, 2.18732], [41.39046, 2.20093], [41.38929, 2.17908], [41.38325, 2.18193], [41.38131, 2.16848], [41.3798, 2.18128], [41.37297, 2.16448], [41.37141, 2.16428], [41.40704, 2.15522], [41.4078, 2.16943], [41.38211, 2.18851], [41.37993, 2.17004], [41.39233, 2.1735], [41.39202, 2.17527], [41.39202, 2.17527], [41.39202, 2.17527], [41.39202, 2.17527], [41.40731, 2.20679], [41.37377, 2.15923], [41.38766, 2.16976], [41.38816, 2.11381], [41.38773, 2.17647], [41.40395, 2.15807], [41.40646, 2.172], [41.4013, 2.17842], [41.40032, 2.1743], [41.39461, 2.1539], [41.3723, 2.14553], [41.36835, 2.14334], [41.40918, 2.17794], [41.39169, 2.17742], [41.41262, 2.14433], [41.38709, 2.15437], [41.379997, 2.1781], [41.39295, 2.15226], [41.38555, 2.17847], [41.39102, 2.15237], [41.39081, 2.15327], [41.3926, 2.15377], [41.41244, 2.14583], [41.41062, 2.14636], [41.42624, 2.17724], [41.40794, 2.17518], [41.39022, 2.17785], [41.37984, 2.17846], [41.39988, 2.1586], [41.37387, 2.1625], [41.39956, 2.16408], [41.3984, 2.16456], [41.40625, 2.1696], [41.40031, 2.16585], [41.40548, 2.16838], [41.39968, 2.16347], [41.40357, 2.16753], [41.38826, 2.17215], [41.41709, 2.18851], [41.39924, 2.1654], [41.384827, 2.183088], [41.384827, 2.183088], [41.40407, 2.2016], [41.40373, 2.20151], [41.41002, 2.18813], [41.37658, 2.13838], [41.39645, 2.17391], [41.379, 2.16573], [41.39598, 2.19967], [41.38036, 2.15239], [41.37276, 2.16277], [41.40367, 2.21075], [41.42811803757941, 2.1701292091224103], [41.40357, 2.1632], [41.38592, 2.17425], [41.38785, 2.16515], [41.40625, 2.15761], [41.38037, 2.17349], [41.38256, 2.16441], [41.4103, 2.14098], [41.40046, 2.17727], [41.37652, 2.14278], [41.40645, 2.17818], [41.3824, 2.1653], [41.40625, 2.17953], [41.37952, 2.18845], [41.37545, 2.14507], [41.39207, 2.17046], [41.39207, 2.17046], [41.38036, 2.15239], [41.38674, 2.14996], [41.3996, 2.16479], [41.38751, 2.17738], [41.37908, 2.12618], [41.39207, 2.17046], [41.4045, 2.14008], [41.39202, 2.17527], [41.37779, 2.17418], [41.37295, 2.17381], [41.39975, 2.16482], [41.38504, 2.13751], [41.39767, 2.15994], [41.37458, 2.16769], [41.37878, 2.12354], [41.37647, 2.15166], [41.39954, 2.16146], [41.39744, 2.16167], [41.39812, 2.1595], [41.38111, 2.17309], [41.39947, 2.16137], [41.38479, 2.16582], [41.37234, 2.13129], [41.43039, 2.17318], [41.39739, 2.16076], [41.39885, 2.16145], [41.3992, 2.17145], [41.39478, 2.15511], [41.38885, 2.15438], [41.3917, 2.17371], [41.39182, 2.17033], [41.40114, 2.16343], [41.38026, 2.16374], [41.401, 2.15607], [41.38855, 2.19671], [41.3722, 2.16664], [41.37227, 2.16735], [41.39843, 2.16607], [41.38561, 2.16101], [41.39264, 2.17275], [41.37936, 2.15878], [41.38284, 2.18309], [41.39402, 2.1805], [41.41351, 2.22046], [41.36969, 2.14517], [41.38932, 2.15962], [41.40244, 2.18062], [41.37369, 2.16465], [41.37091, 2.14525], [41.39365, 2.16301], [41.38588, 2.14338], [41.37771, 2.15516], [41.37906, 2.17717], [41.39194, 2.1746], [41.38767, 2.16604], [41.40574, 2.17408], [41.38922, 2.1596], [41.38953, 2.15979], [41.39625, 2.16245], [41.38932, 2.15859], [41.38634, 2.17362], [41.38612, 2.16659], [41.39651, 2.17427], [41.38925, 2.15867], [41.37953, 2.17718], [41.39116, 2.15961], [41.39559, 2.17942], [41.39118, 2.15882], [41.40298, 2.14964], [41.3991, 2.16602], [41.38529, 2.16582], [41.38818, 2.15572], [41.42919, 2.17079], [41.38682, 2.15785], [41.3704, 2.14425], [41.388821, 2.180652], [41.38732, 2.17856], [41.37854, 2.18883], [41.41048, 2.15897], [41.3791, 2.17099], [41.40407, 2.14726], [41.36016, 2.13644], [41.40545, 2.13511], [41.37747, 2.12784], [41.37452, 2.14605], [41.39958, 2.20441], [41.40684, 2.15864], [41.41064, 2.17751], [41.41065, 2.17675], [41.41277, 2.17669], [41.4109, 2.17606], [41.3842, 2.18135], [41.38564, 2.18348], [41.38507, 2.18364], [41.38419, 2.161], [41.39763, 2.15934], [41.39781, 2.15719], [41.39769, 2.15723], [41.389347, 2.165674], [41.39204, 2.17413], [41.3918, 2.17333], [41.39343, 2.17232], [41.39209, 2.17219], [41.42488, 2.15025], [41.40623, 2.17299], [41.3886, 2.14448], [41.38866, 2.14445], [41.39679, 2.17314], [41.38883, 2.14257], [41.38871, 2.14449], [41.38123, 2.17948], [41.39941, 2.14793], [41.40213, 2.16117], [41.38386, 2.1796], [41.40538, 2.16925], [41.40627, 2.17351], [41.39906, 2.15328], [41.37335, 2.13754], [41.40541, 2.17468], [41.40644, 2.15336], [41.40658, 2.17158], [41.38017, 2.17704], [41.39888, 2.14793], [41.40072, 2.17132], [41.39822, 2.15441], [41.38767, 2.1669], [41.37729, 2.14191], [41.41849, 2.17918], [41.38767, 2.1669], [41.38767, 2.1669], [41.39942, 2.17379], [41.3861, 2.15725], [41.38753, 2.15786], [41.39822, 2.15441], [41.40541, 2.17468], [41.40315, 2.15671], [41.38386, 2.1796], [41.43026, 2.18408], [41.38386, 2.1796], [41.39919, 2.15227], [41.37775, 2.17867], [41.37775, 2.17867], [41.37775, 2.17867], [41.39605, 2.17665], [41.40521, 2.16446], [41.36756, 2.13967], [41.37585, 2.15412], [41.42408, 2.14813], [41.38212, 2.17535], [41.37482, 2.17528], [41.37713, 2.16896], [41.38985, 2.15834], [41.37452, 2.15981], [41.39729, 2.15642], [41.40083, 2.2047], [41.43294, 2.19331], [41.37621, 2.16332], [41.37607, 2.1626], [41.38446, 2.16231], [41.39005, 2.16509], [41.39286, 2.17687], [41.42195, 2.17628], [41.38093, 2.17761], [41.3881, 2.15821], [41.4109, 2.17856], [41.37636, 2.15265], [41.39946, 2.17304], [41.38389, 2.17268], [41.40234, 2.1565], [41.40683, 2.17255], [41.37773, 2.16381], [41.38729, 2.15795], [41.38963, 2.16194], [41.39116, 2.17127], [41.41899, 2.15809], [41.38272, 2.17912], [41.37378, 2.1683], [41.39942, 2.15651], [41.39747, 2.15443], [41.41447, 2.22003], [41.4126, 2.19566], [41.3794, 2.16536], [41.40451, 2.20629], [41.40418, 2.16265], [41.41472, 2.21992], [41.39762, 2.20316], [41.38264, 2.17454], [41.37569, 2.16738], [41.38949, 2.17206], [41.37725, 2.18965], [41.39314, 2.15995], [41.39756, 2.17093], [41.37129, 2.16338], [41.40334, 2.20612], [41.3739, 2.16864], [41.43855, 2.19], [41.39969, 2.18108], [41.39495, 2.1657], [41.37898, 2.16732], [41.37449, 2.1699], [41.39026, 2.15383], [41.41401, 2.18421], [41.38465, 2.17012], [41.39689, 2.17724], [41.39689, 2.17724], [41.39689, 2.17724], [41.38944, 2.16317], [41.3738, 2.16758], [41.42328, 2.15202], [41.37811, 2.1623], [41.37675, 2.12439], [41.37819, 2.16275], [41.38352, 2.1822], [41.3974, 2.17778], [41.39686, 2.17739], [41.38685, 2.1743], [41.37151, 2.16454], [41.38207, 2.16551], [41.40505, 2.21328], [41.38531, 2.17168], [41.4184, 2.17969], [41.37109, 2.16382], [41.39008, 2.19179], [41.40786, 2.18359], [41.41325, 2.16479], [41.39078, 2.16198], [41.39526, 2.17583], [41.37294, 2.17387], [41.37407, 2.17306], [41.37311, 2.16519], [41.40844, 2.17898], [41.38335, 2.144], [41.38517, 2.17984], [41.38363, 2.16754], [41.382217, 2.164027], [41.38181, 2.14377], [41.39821, 2.15433], [41.38915, 2.16865], [41.38, 2.16614], [41.39689, 2.17724], [41.37992, 2.17386], [41.39689, 2.17724], [41.38196, 2.15688], [41.37885, 2.16795], [41.40304, 2.16964], [41.39158, 2.16232], [41.41226, 2.19058], [41.38761, 2.13419], [41.39689, 2.17724], [41.38484, 2.18656], [41.39689, 2.17724], [41.39015, 2.17797], [41.40017, 2.20889], [41.40012, 2.20682], [41.39818, 2.20845], [41.41152, 2.17684], [41.3992, 2.20627], [41.37999, 2.17545], [41.39522, 2.1611], [41.38278, 2.16772], [41.38114, 2.17416], [41.3799, 2.17679], [41.38055, 2.16841], [41.38292, 2.16745], [41.3804, 2.16528], [41.38435, 2.18372], [41.39775, 2.20784], [41.39799, 2.20657], [41.39802, 2.20677], [41.3875, 2.18217], [41.40139, 2.2032], [41.3878, 2.14483], [41.40315, 2.16281], [41.38958, 2.14507], [41.38328, 2.16432], [41.38866, 2.14445], [41.39997, 2.18328], [41.38863, 2.14445], [41.39673, 2.17227], [41.38639, 2.18114], [41.37312, 2.16775], [41.39541, 2.16213], [41.43107, 2.16929], [41.40146, 2.15721], [41.38866, 2.14445], [41.40286, 2.18343], [41.40226, 2.16223], [41.38462, 2.16258], [41.39653, 2.1714], [41.39485, 2.17146], [41.3861, 2.18571], [41.3831, 2.16279], [41.38297, 2.16273], [41.38408, 2.16589], [41.39373, 2.17807], [41.37872, 2.16894], [41.40108, 2.17652], [41.380589, 2.175382], [41.3945, 2.18224], [41.38504, 2.16322], [41.39821, 2.15433], [41.39821, 2.15433], [41.38203, 2.15806], [41.37271, 2.15867], [41.39131, 2.16151], [41.4019, 2.2036], [41.40044, 2.16868], [41.39814, 2.15451], [41.39946, 2.15362], [41.40925, 2.17226], [41.38069, 2.16916], [41.38044, 2.16729], [41.41927, 2.19001], [41.3764, 2.16473], [41.4002, 2.1547], [41.39981, 2.1616], [41.39842, 2.16176], [41.39832, 2.16368], [41.39839, 2.1616], [41.38485, 2.16281], [41.40238, 2.15531], [41.38509, 2.176], [41.37636, 2.1896], [41.3999, 2.16169], [41.40026, 2.16182], [41.39985, 2.16327], [41.39162, 2.16233], [41.4103, 2.15713], [41.41623, 2.19523], [41.37915, 2.12847], [41.38476, 2.16992], [41.3814, 2.17364], [41.37276, 2.16408], [41.39066, 2.15441], [41.40031, 2.16339], [41.39869, 2.14395], [41.3983, 2.17338], [41.41806, 2.15124], [41.41085, 2.17861], [41.37416, 2.16449], [41.38696, 2.17633], [41.3819, 2.1735], [41.40399, 2.16377], [41.39583, 2.17971], [41.40384, 2.164], [41.37487, 2.12637], [41.41925, 2.14912], [41.38075, 2.17617], [41.38523, 2.17906], [41.39323, 2.15916], [41.37466, 2.16765], [41.41585, 2.1893], [41.38412, 2.16894], [41.38593, 2.16555], [41.37601, 2.17286], [41.38939, 2.16503], [41.44154, 2.17672], [41.38687, 2.16768], [41.41796, 2.19606], [41.39002, 2.18046], [41.38121, 2.1763], [41.37743, 2.15923], [41.4084, 2.18614], [41.37409, 2.13792], [41.38934, 2.13965], [41.38498, 2.16974], [41.40617, 2.15769], [41.39966, 2.16451], [41.40173, 2.13614], [41.3859, 2.16952], [41.38973, 2.15503], [41.37181, 2.16226], [41.40533, 2.16955], [41.37382, 2.17117], [41.37635, 2.17398], [41.38472, 2.16814], [41.38472, 2.16814], [41.38472, 2.16814], [41.42724, 2.17045], [41.4257647, 2.1724319], [41.38472, 2.16814], [41.38472, 2.16814], [41.40394973754883, 2.157886028289795], [41.38472, 2.16814], [41.37537, 2.1432], [41.40561, 2.1841], [41.38452, 2.12953], [41.37682, 2.17744], [41.38073, 2.16525], [41.39997, 2.16218], [41.37616, 2.15846], [41.37597, 2.15906], [41.37563, 2.15932], [41.41152, 2.17684], [41.387775, 2.18213], [41.37465, 2.13793], [41.38051, 2.17524], [41.38991, 2.16379], [41.39073, 2.16421], [41.40431, 2.17851], [41.39779, 2.19116], [41.39357, 2.17375], [41.38327, 2.16915], [41.37482, 2.15756], [41.40463, 2.15963], [41.40169, 2.15669], [41.39533, 2.17504], [41.38302, 2.18451], [41.38311, 2.15705], [41.40633, 2.1706], [41.38585, 2.16186], [41.40284, 2.17751], [41.38316, 2.17302], [41.38585, 2.15929], [41.39921, 2.16557], [41.38189, 2.18105], [41.37836, 2.1721], [41.38177, 2.1801], [41.38257, 2.17484], [41.38666, 2.17754], [41.40668, 2.1605], [41.37933, 2.19267], [41.38147, 2.1767], [41.38086, 2.17659], [41.38291, 2.17669], [41.38129, 2.17504], [41.39984, 2.16364], [41.38119, 2.1746], [41.38792, 2.1647], [41.37335, 2.16998], [41.38317, 2.15887], [41.40018, 2.16373], [41.40175, 2.16835], [41.38744, 2.1516], [41.38046, 2.17916], [41.40466, 2.16222], [41.44398, 2.17771], [41.381285, 2.1657696], [41.43128, 2.17784], [41.37446, 2.1632], [41.37446, 2.1632], [41.38613, 2.1564], [41.38113, 2.17685], [41.38112, 2.16942], [41.38289, 2.16906], [41.4315, 2.17889], [41.37446, 2.1632], [41.37446, 2.1632], [41.378345, 2.173662], [41.38511, 2.1845], [41.3757279, 2.1664954], [41.38185, 2.1798], [41.3736, 2.16827], [41.37934, 2.17401], [41.37509600261835, 2.166278399527073], [41.37395, 2.16221], [41.38081, 2.17508], [41.37841, 2.16889], [41.37941, 2.16505], [41.40066, 2.16547], [41.37891, 2.16679], [41.40358, 2.14869], [41.39957, 2.20413], [41.38396, 2.16049], [41.37336, 2.16249], [41.39129, 2.16934], [41.4014, 2.16528], [41.39734, 2.19173], [41.383353, 2.159188], [41.4012, 2.1753], [41.39888, 2.17524], [41.4028, 2.20211], [41.39266, 2.1582], [41.3927, 2.15764], [41.38042, 2.17439], [41.39931, 2.16348], [41.38042, 2.17439], [41.38042, 2.17439], [41.39917, 2.17499], [41.39894, 2.17548], [41.382572, 2.182241], [41.39998, 2.14871], [41.38268, 2.17931], [41.38042, 2.17439], [41.38042, 2.17439], [41.38042, 2.17439], [41.43172, 2.16792], [41.43252, 2.17356], [41.40376, 2.15442], [41.41341, 2.20883], [41.39641, 2.14658], [41.37861, 2.15329], [41.37932, 2.16714], [41.3977, 2.16554], [41.37815, 2.1886], [41.38161, 2.17484], [41.41582, 2.16454], [41.42974, 2.17961], [41.38528, 2.15881], [41.38336, 2.16071], [41.38426, 2.12991], [41.38429, 2.17832], [41.38318, 2.17738], [41.40011, 2.19637], [41.37749, 2.15358], [41.41583, 2.17752], [41.41563, 2.17855], [41.38666, 2.15935], [41.4008, 2.15515], [41.40303, 2.18203], [41.41016, 2.18188], [41.3948, 2.16828], [41.40458, 2.20309], [41.39594, 2.15923], [41.381725, 2.169354], [41.3959, 2.15896], [41.39729, 2.15728], [41.41036, 2.18108], [41.38285343003359, 2.158100112367112], [41.38079, 2.16825], [41.36973, 2.14594], [41.41032, 2.18041], [41.40438, 2.13695], [41.38178, 2.17597], [41.40408, 2.16465], [41.39813, 2.16096], [41.38437, 2.15409], [41.40798, 2.18101], [41.40845, 2.18241], [41.41038, 2.18061], [41.40806, 2.16372], [41.37198, 2.14436], [41.42359, 2.16016], [41.39805, 2.20766], [41.4062, 2.15453], [41.41579, 2.17846], [41.38217, 2.18975], [41.37478, 2.16691], [41.38901, 2.17288], [41.40134, 2.19502], [41.36351, 2.1381], [41.38036, 2.15239], [41.43291, 2.16076], [41.39345, 2.16104], [41.38617, 2.15634], [41.3843, 2.15614], [41.37609, 2.16795], [41.3851, 2.1847], [41.37883, 2.14769], [41.408794, 2.147937], [41.408794, 2.147937], [41.408794, 2.147937], [41.408794, 2.147937], [41.41722, 2.18653], [41.38293, 2.16969], [41.41231, 2.14898], [41.38277, 2.17192], [41.41624973230677, 2.213645890500084], [41.4242, 2.15349], [41.37364, 2.16676], [41.37864, 2.15751], [41.38536, 2.1811], [41.39397, 2.17113], [41.40145, 2.15103], [41.40597, 2.15587], [41.39717, 2.15823], [41.39105, 2.18049], [41.38169, 2.16694], [41.39519, 2.17241], [41.4221, 2.20242], [41.42129, 2.20302], [41.40029, 2.16428], [41.4522, 2.18851], [41.40695, 2.14496], [41.38183, 2.17991], [41.38166, 2.17988], [41.38459, 2.14165], [41.39356, 2.17614], [41.383, 2.16973], [41.43063, 2.16641], [41.41252, 2.17626], [41.37804, 2.17671], [41.40182, 2.20673], [41.40664, 2.15601], [41.37837, 2.15669], [41.38258, 2.14353], [41.40197, 2.17642], [41.39374, 2.16101], [41.37909, 2.15791], [41.3803, 2.1366], [41.37623, 2.14679], [41.39428, 2.1796], [41.40852, 2.18222], [41.40883, 2.18044], [41.40802, 2.1805], [41.3935, 2.19124], [41.39176, 2.19146], [41.3967532, 2.1770715], [41.39905, 2.15715], [41.40274, 2.15107], [41.3803, 2.1366], [41.44077, 2.16931], [41.38159, 2.16607], [41.3829, 2.16262], [41.37631, 2.17323], [41.38972, 2.15486], [41.3837, 2.13163], [41.43122, 2.17087], [41.37991, 2.18672], [41.39263, 2.19183], [41.3798, 2.18849], [41.40556, 2.20944], [41.3878, 2.15839], [41.39147, 2.19128], [41.38232, 2.18866], [41.38989, 2.16224], [41.37985, 2.1594], [41.3803, 2.1366], [41.3799, 2.16511], [41.38021, 2.17456], [41.39184, 2.15569], [41.39613, 2.20081], [41.38239, 2.13033], [41.37776, 2.1776], [41.37996, 2.18819], [41.41123, 2.18383], [41.37894, 2.17887], [41.38906097412109, 2.1406490802764893], [41.39145, 2.14926], [41.39067, 2.17163], [41.37463, 2.12395], [41.37963, 2.17762], [41.37963, 2.17881], [41.37972, 2.17813], [41.37845, 2.17676], [41.39617, 2.17652], [41.39581, 2.17561], [41.38906097412109, 2.1406490802764893], [41.39631, 2.17515], [41.37977, 2.16607], [41.39645, 2.17511], [41.38417, 2.1656], [41.39772, 2.17517], [41.398, 2.17519], [41.38947, 2.1588], [41.3718, 2.13667], [41.39577, 2.17641], [41.39666, 2.17704], [41.39614, 2.17554], [41.39632, 2.17528], [41.38314, 2.17161], [41.409453214306055, 2.182860824966516], [41.38482, 2.1678], [41.40266, 2.20701], [41.37606, 2.15839], [41.39148, 2.18884], [41.39204, 2.18645], [41.39171, 2.18523], [41.38343, 2.15881], [41.37562, 2.14776], [41.37379, 2.16959], [41.38107, 2.17521], [41.39875, 2.1649], [41.397133, 2.176212], [41.397133, 2.176212], [41.40683, 2.1596], [41.397133, 2.176212], [41.37983, 2.18982], [41.38713, 2.15562], [41.397133, 2.176212], [41.38474, 2.16972], [41.42508, 2.15477], [41.40511, 2.20914], [41.40583, 2.20994], [41.40373, 2.21045], [41.37779, 2.17414], [41.40498, 2.20935], [41.4011, 2.17128], [41.38811, 2.14769], [41.40133, 2.16748], [41.38321, 2.16275], [41.38358, 2.16246], [41.40497, 2.20935], [41.4042, 2.20932], [41.37964, 2.15017], [41.4024, 2.17656], [41.37484, 2.17132], [41.3825112, 2.1656693], [41.37841, 2.17588], [41.38505, 2.16575], [41.38869, 2.18182], [41.38361, 2.16379], [41.41641, 2.16115], [41.40551, 2.17796], [41.41888, 2.14845], [41.41032, 2.18476], [41.38461, 2.13164], [41.38119, 2.12981], [41.38474, 2.18222], [41.38639, 2.18275], [41.38514, 2.18529], [41.38672, 2.17743], [41.39842, 2.1755], [41.3816, 2.15479], [41.38338, 2.17031], [41.38134, 2.15096], [41.39682, 2.16596], [41.39682, 2.16596], [41.39682, 2.16596], [41.3863, 2.1764], [41.38253, 2.15418], [41.37892, 2.19116], [41.38184, 2.15654], [41.39539, 2.14194], [41.38225, 2.16991], [41.38301, 2.17215], [41.40279, 2.14503], [41.37357, 2.1381], [41.3897, 2.18511], [41.39039, 2.1846], [41.39175, 2.18502], [41.38138, 2.18886], [41.39014, 2.18625], [41.40394, 2.1766], [41.40202, 2.14984], [41.39175, 2.1863], [41.38976, 2.18475], [41.37897, 2.17067], [41.37566, 2.15203], [41.42782, 2.13251], [41.37309, 2.15943], [41.37965, 2.15833], [41.41677, 2.17207], [41.38052, 2.17815], [41.39641, 2.162], [41.37957, 2.1672], [41.40985, 2.16085], [41.41158, 2.1774], [41.37888, 2.15468], [41.37689, 2.18921], [41.37888, 2.15468], [41.37888, 2.15468], [41.406, 2.16934], [41.40803, 2.15116], [41.40901, 2.1533], [41.40767, 2.1511], [41.40681, 2.15243], [41.408398, 2.165248], [41.43569, 2.16995], [41.4087, 2.15259], [41.40864, 2.15116], [41.39879, 2.19582], [41.38888, 2.17161], [41.43855, 2.19], [41.38165, 2.16462], [41.43923, 2.19103], [41.39645, 2.17063], [41.39455, 2.17225], [41.40549, 2.17557], [41.4058, 2.17345], [41.405579, 2.147538], [41.39455, 2.17225], [41.3809, 2.17942], [41.39782, 2.17522], [41.38288, 2.1468], [41.40768, 2.158], [41.39375, 2.20269], [41.39652, 2.19997], [41.38948, 2.1611], [41.38913, 2.17995], [41.39455, 2.17225], [41.39455, 2.17225], [41.38916, 2.18176], [41.38936, 2.16322], [41.38854217529297, 2.1603260040283203], [41.375275, 2.146635], [41.38263, 2.13998], [41.38219, 2.17709], [41.40344, 2.18219], [41.40165, 2.17498], [41.37458, 2.16765], [41.37659, 2.17421], [41.40081, 2.18749], [41.37998, 2.14636], [41.41443, 2.16434], [41.43121, 2.16884], [41.38735, 2.17], [41.38492, 2.17807], [41.39998, 2.17606], [41.40687, 2.18633], [41.38214, 2.18205], [41.39593, 2.1756], [41.42982, 2.18338], [41.39776, 2.17654], [41.39646, 2.175], [41.37888, 2.15468], [41.37888, 2.15468], [41.3763, 2.12514], [41.39169, 2.17286], [41.3965, 2.17689], [41.38276, 2.17898], [41.38488, 2.14959], [41.38722, 2.16387], [41.42367, 2.15223], [41.38612834353583, 2.156332814283157], [41.37864, 2.1715], [41.383308, 2.181324], [41.4121, 2.14769], [41.41016, 2.14638], [41.39904, 2.16713], [41.39607, 2.17495], [41.39734, 2.177], [41.39258, 2.17137], [41.39368, 2.18004], [41.37373, 2.16965], [41.3954, 2.1495], [41.39274, 2.17643], [41.40821, 2.17376], [41.38225, 2.16205], [41.39629, 2.17529], [41.39821, 2.15433], [41.39821, 2.15433], [41.40441, 2.18017], [41.38373, 2.18424], [41.3751, 2.14816], [41.38172, 2.18571], [41.37855, 2.17082], [41.38355, 2.16365], [41.4032, 2.19717], [41.37923, 2.16745], [41.38304, 2.17892], [41.42847, 2.17758], [41.40238, 2.15842], [41.40423, 2.15832], [41.40403, 2.15772], [41.38017, 2.16644], [41.39339, 2.1745], [41.39437, 2.17025], [41.40798, 2.21533], [41.40612, 2.17074], [41.39989, 2.16219], [41.37251, 2.13898], [41.4005, 2.1894], [41.38155, 2.16453], [41.403267, 2.15832], [41.37898, 2.16141], [41.38769, 2.1604], [41.403267, 2.15832], [41.403267, 2.15832], [41.40812, 2.18596], [41.38196, 2.17459], [41.38308, 2.17522], [41.36725, 2.14374], [41.40432, 2.17259], [41.37197, 2.16349], [41.3984, 2.17746], [41.39509, 2.16487], [41.41108, 2.17815], [41.38559, 2.18404], [41.4104, 2.2173], [41.396282, 2.163992], [41.396282, 2.163992], [41.39656, 2.16304], [41.396282, 2.163992], [41.39532, 2.178], [41.40647, 2.18534], [41.38354, 2.18331], [41.37875, 2.19171], [41.3855, 2.13178], [41.39694, 2.17658], [41.37807, 2.15373], [41.37821, 2.15368], [41.39544, 2.16649], [41.38317, 2.17052], [41.39504, 2.16446], [41.38109, 2.1689], [41.39517, 2.16592], [41.39507, 2.1641], [41.38098, 2.16899], [41.38186, 2.16886], [41.39859, 2.19647], [41.38104, 2.18808], [41.37365, 2.16656], [41.41942, 2.17544], [41.40601, 2.15414], [41.40821, 2.15395], [41.40794, 2.15302], [41.4078, 2.15275], [41.40822, 2.15468], [41.40763, 2.15472], [41.40637, 2.15423], [41.39821, 2.17357], [41.37427, 2.16322], [41.3822, 2.18799], [41.38431, 2.18172], [41.37992, 2.17129], [41.38003, 2.1718], [41.38049, 2.19211], [41.37792, 2.17265], [41.40769, 2.17072], [41.38405, 2.16032], [41.38032, 2.17495], [41.38956, 2.16168], [41.3977, 2.20424], [41.37146, 2.13001], [41.3993, 2.20432], [41.39816, 2.20407], [41.3825, 2.18762], [41.39114, 2.17462], [41.40116, 2.2026], [41.38144, 2.17465], [41.3833, 2.1851], [41.41673, 2.19638], [41.40284, 2.20115], [41.40077, 2.20209], [41.40445, 2.14536], [41.38949, 2.16411], [41.40075, 2.17319], [41.38199, 2.15206], [41.3758, 2.12731], [41.37909, 2.19085], [41.41186, 2.16981], [41.37407, 2.14691], [41.37433, 2.14873], [41.37427, 2.14874], [41.37439, 2.14677], [41.37476, 2.14696], [41.40266, 2.20766], [41.37302, 2.16109], [41.3809, 2.19147], [41.39006, 2.16572], [41.38039, 2.17509], [41.38098, 2.17288], [41.37986, 2.17449], [41.38527, 2.16065], [41.38701, 2.16804], [41.40443, 2.14225], [41.37982, 2.15482], [41.40629093559239, 2.180911447046584], [41.38768, 2.16488], [41.37902, 2.1693], [41.38812, 2.16645], [41.39471, 2.1694], [41.37662, 2.16873], [41.39145, 2.18823], [41.40245, 2.16769], [41.43005, 2.17772], [41.39735, 2.15952], [41.38944, 2.19536], [41.38792, 2.17449], [41.38617, 2.17518], [41.386604, 2.159253], [41.37631, 2.15801], [41.39754, 2.174], [41.39201, 2.16399], [41.39602, 2.16731], [41.37442, 2.1657], [41.38157, 2.17915], [41.41472, 2.14618], [41.40098, 2.15801], [41.3861, 2.16768], [41.37929, 2.16432], [41.3861, 2.16768], [41.38105, 2.17585], [41.41904, 2.17126], [41.39898, 2.20261], [41.4001, 2.15498], [41.3861, 2.16768], [41.3861, 2.16768], [41.40712, 2.18691], [41.39739, 2.17482], [41.39736, 2.15995], [41.39768, 2.15929], [41.39794, 2.16138], [41.39783, 2.17644], [41.39713, 2.16122], [41.38829, 2.17006], [41.39406, 2.16504], [41.38916, 2.17668], [41.39794, 2.17545], [41.38189, 2.15413], [41.39592, 2.17676], [41.39735, 2.17716], [41.40305, 2.20151], [41.40634, 2.18036], [41.38108, 2.17895], [41.38401, 2.18124], [41.40464, 2.15163], [41.38212, 2.16027], [41.38222, 2.13216], [41.38011, 2.15905], [41.40726, 2.17364], [41.4034, 2.17585], [41.40281, 2.17745], [41.3984, 2.16693], [41.40285, 2.17734], [41.40366, 2.17561], [41.40547, 2.17569], [41.39288, 2.16125], [41.38967, 2.16747], [41.3929, 2.16896], [41.38404, 2.15669], [41.40171, 2.20132], [41.37753, 2.16668], [41.39007, 2.1656], [41.38146, 2.16655], [41.38344192504883, 2.16166090965271], [41.38434, 2.17921], [41.38106, 2.16985], [41.37924, 2.17117], [41.39851, 2.15928], [41.38399, 2.17955], [41.37985, 2.17179], [41.4329, 2.16996], [41.40504, 2.15576], [41.38176, 2.16931], [41.39724, 2.15943], [41.38103, 2.1592], [41.38229, 2.17844], [41.3940991, 2.1470664], [41.39547, 2.17979], [41.3851, 2.12547], [41.37797, 2.18988], [41.37649, 2.12968], [41.39453, 2.1766], [41.38143, 2.15892], [41.38366, 2.1725], [41.39781, 2.17689], [41.39612, 2.17577], [41.39599, 2.17527], [41.39498, 2.15838], [41.41295, 2.19026], [41.37819, 2.1686], [41.38545, 2.16967], [41.39637, 2.17709], [41.38489, 2.16006], [41.3792, 2.137], [41.3974, 2.17691], [41.39723, 2.17507], [41.42435, 2.15141], [41.39595, 2.17501], [41.39765, 2.17696], [41.44063, 2.18734], [41.39797, 2.1765], [41.39206, 2.1777], [41.39469, 2.17602], [41.39611, 2.17522], [41.38115, 2.12671], [41.40638, 2.17491], [41.37676, 2.17691], [41.38586, 2.14379], [41.42931, 2.17925], [41.39862, 2.17536], [41.37995, 2.17831], [41.40097, 2.1571], [41.37975, 2.17822], [41.401, 2.17536], [41.37908, 2.18091], [41.38139, 2.17634], [41.38098, 2.16869], [41.37675, 2.15634], [41.38105, 2.16675], [41.38695, 2.17568], [41.38689, 2.16926], [41.38518, 2.1672], [41.37366, 2.13949], [41.38051, 2.17521], [41.39715, 2.15138], [41.38121, 2.17884], [41.38242, 2.17463], [41.37884, 2.19103], [41.39064, 2.17324], [41.39554, 2.19975], [41.4067, 2.18721], [41.3841, 2.18095], [41.38377, 2.14252], [41.40833, 2.18769], [41.38281, 2.15969], [41.41176, 2.17892], [41.38437, 2.15391], [41.39702, 2.17986], [41.37942, 2.19297], [41.39164, 2.16504], [41.37889, 2.19231], [41.39211, 2.17055], [41.37955, 2.15645], [41.38103, 2.1592], [41.3757, 2.16679], [41.44612, 2.17574], [41.38137, 2.18706], [41.37964, 2.16805], [41.38921, 2.17764], [41.39147, 2.16554], [41.39866, 2.18758], [41.39706, 2.15753], [41.40246, 2.15146], [41.43149, 2.17921], [41.37861, 2.15329], [41.37802, 2.13477], [41.378601, 2.15329], [41.39502, 2.14539], [41.37861, 2.15329], [41.39244, 2.15716], [41.38103, 2.1592], [41.39459, 2.14452], [41.37861, 2.15329], [41.37859, 2.16931], [41.38514, 2.15774], [41.39214, 2.17423], [41.40771, 2.1084], [41.39118, 2.16468], [41.41378, 2.19856], [41.38103, 2.1592], [41.41832, 2.21347], [41.40241, 2.1506], [41.40603, 2.17047], [41.40504, 2.15576], [41.38103, 2.1592], [41.41245, 2.14507], [41.40749, 2.10624], [41.40439, 2.17628], [41.40123, 2.17658], [41.39742, 2.15602], [41.41363, 2.21944], [41.39537, 2.1695], [41.4186, 2.19892], [41.42163, 2.15729], [41.41852, 2.17068], [41.39615, 2.16789], [41.372669, 2.160769], [41.37672, 2.16632], [41.3808, 2.17776], [41.39568, 2.16975], [41.39745, 2.1693], [41.40026, 2.18254], [41.39987, 2.17832], [41.37829, 2.17321], [41.39783, 2.18827], [41.39161, 2.15712], [41.40539, 2.21515], [41.3861, 2.16768], [41.37961, 2.1891], [41.37434, 2.12382], [41.38462, 2.1567], [41.41048, 2.14637], [41.38528, 2.15659], [41.386, 2.15453], [41.38379, 2.15615], [41.38439, 2.15621], [41.38398, 2.15481], [41.38426, 2.15492], [41.38552, 2.15651], [41.3842, 2.15597], [41.38595, 2.15573], [41.40455, 2.21176], [41.38754, 2.17688], [41.37472, 2.17283], [41.39917, 2.17845], [41.37481, 2.17052], [41.37548, 2.17261], [41.39603, 2.13696], [41.38103, 2.1592], [41.39128, 2.16132], [41.38585, 2.18401], [41.39721, 2.16941], [41.37155, 2.15621], [41.38103, 2.1592], [41.37432, 2.13096], [41.37613, 2.12589], [41.38103, 2.1592], [41.39665, 2.16903], [41.38103, 2.1592], [41.38103, 2.1592], [41.38311, 2.13785], [41.38103, 2.1592], [41.39316, 2.16041], [41.40619, 2.17973], [41.39171, 2.192], [41.42321, 2.190571], [41.37314, 2.14192], [41.41849, 2.15994], [41.39727, 2.15966], [41.377201, 2.13159], [41.39922, 2.15948], [41.377201, 2.13159], [41.39371, 2.1513], [41.37937, 2.13927], [41.38592, 2.16655], [41.3727, 2.15453], [41.41053, 2.14625], [41.39086, 2.17487], [41.3727, 2.15453], [41.3785, 2.17559], [41.39081, 2.17642], [41.388, 2.16701], [41.40664, 2.20401], [41.4127, 2.18285], [41.39768, 2.16671], [41.412701, 2.18285], [41.38596, 2.16112], [41.38164, 2.14849], [41.412701, 2.18285], [41.41838, 2.21114], [41.38096, 2.17947], [41.3826, 2.17901], [41.38072, 2.17814], [41.396801, 2.16815], [41.382, 2.17751], [41.391201, 2.15213], [41.39886, 2.15961], [41.375301, 2.12339], [41.39837, 2.20811], [41.37536, 2.15512], [41.375301, 2.12339], [41.4226, 2.18443], [41.39895, 2.16113], [41.4226, 2.18443], [41.37347, 2.13549], [41.38709, 2.17908], [41.38308, 2.14668], [41.39618, 2.20101], [41.38409, 2.14999], [41.38775, 2.17782], [41.38045, 2.17189], [41.40599, 2.1735], [41.37213, 2.12703], [41.37652, 2.14278], [41.38297, 2.17306], [41.40378, 2.16882], [41.37336, 2.13652], [41.38826, 2.13396], [41.39354, 2.19086], [41.38176, 2.1779], [41.38173, 2.14886], [41.42923, 2.18153], [41.40038, 2.1519], [41.4087, 2.17149], [41.39748, 2.16969], [41.39868, 2.16824], [41.41021, 2.1465], [41.37947, 2.16996], [41.38569, 2.16766], [41.4107, 2.18304], [41.3825, 2.17586], [41.39658, 2.18165], [41.38415, 2.15516], [41.38726, 2.17446], [41.4484308, 2.1736178], [41.39211, 2.17432], [41.39627, 2.17932], [41.39266, 2.17615], [41.37712, 2.17271], [41.41315, 2.17818], [41.40345, 2.15532], [41.39188, 2.17801], [41.40568, 2.15474], [41.43034, 2.16597], [41.39048, 2.15664], [41.3806, 2.18047], [41.40737, 2.14703], [41.39847, 2.16154], [41.40503, 2.17913], [41.40497, 2.18113], [41.3844, 2.17818], [41.38107, 2.16915], [41.39707, 2.16104], [41.37852, 2.17956], [41.38205, 2.17117], [41.38052, 2.18041], [41.38541, 2.15845], [41.39757, 2.16494], [41.3975, 2.18388], [41.40546, 2.15125], [41.40606, 2.1765], [41.37158, 2.13153], [41.39675, 2.16861], [41.38792, 2.17758], [41.4084, 2.1772], [41.4068, 2.17507], [41.40625, 2.17552], [41.4077, 2.17721], [41.4065, 2.17532], [41.38467, 2.17726], [41.40686, 2.17515], [41.40637, 2.17676], [41.40666, 2.17528], [41.40841, 2.17513], [41.40821, 2.17538], [41.4085, 2.17686], [41.40737, 2.17954], [41.38718, 2.2022], [41.39033, 2.17253], [41.3923, 2.18875], [41.39968, 2.15136], [41.39986, 2.15004], [41.39046, 2.17054], [41.39074, 2.17244], [41.38922, 2.17066], [41.373013, 2.15771], [41.38915, 2.17231], [41.37405, 2.16364], [41.38912, 2.17047], [41.39069, 2.17123], [41.39001, 2.16429], [41.40267, 2.16341], [41.43613, 2.17381], [41.40393, 2.15051], [41.39501, 2.14365], [41.38319, 2.1456], [41.4031, 2.18412], [41.39199, 2.17636], [41.40165, 2.17387], [41.41027, 2.17144], [41.39537, 2.12326], [41.38646, 2.14965], [41.38337, 2.14406], [41.38059, 2.16164], [41.39006, 2.17085], [41.40219, 2.18508], [41.39401, 2.17711], [41.40052, 2.17618], [41.38066, 2.17072], [41.37583, 2.18939], [41.41186, 2.141], [41.4007, 2.17583], [41.40069, 2.17714], [41.3831, 2.18041], [41.40639, 2.17553], [41.39852, 2.17566], [41.38536, 2.17476], [41.37845, 2.17497], [41.39247, 2.18301], [41.393, 2.17411], [41.39281, 2.17431], [41.39599, 2.19906], [41.38172, 2.16136], [41.37904, 2.19074], [41.37809, 2.15859], [41.40734, 2.17474], [41.38622, 2.16726], [41.37711, 2.19012], [41.40331, 2.14216], [41.3822, 2.16613], [41.39374, 2.17557], [41.40609, 2.17848], [41.41849, 2.20837], [41.38098, 2.17745], [41.41013, 2.18542], [41.37851, 2.16521], [41.38108, 2.16444], [41.37375, 2.16652], [41.42205, 2.18017], [41.37274, 2.15736], [41.3807, 2.16658], [41.39253, 2.17329], [41.38347, 2.18006], [41.40158, 2.20742], [41.40521, 2.17894], [41.38905, 2.16117], [41.38886, 2.16276], [41.39083, 2.16135], [41.39218, 2.16646], [41.38487, 2.17163], [41.38668, 2.17224], [41.38533, 2.17078], [41.39618, 2.1722], [41.41117, 2.17475], [41.41153, 2.14637], [41.3803, 2.17514], [41.37593, 2.1422], [41.40313, 2.21392], [41.39794, 2.18048], [41.41216, 2.17327], [41.37613, 2.12554], [41.39305, 2.13192], [41.40069, 2.15439], [41.37937, 2.13297], [41.41486, 2.17845], [41.41133, 2.17902], [41.39827, 2.15722], [41.38479, 2.17555], [41.38012, 2.16871], [41.37938, 2.16418], [41.38051, 2.17885], [41.39024, 2.19228], [41.39142, 2.15091], [41.38882, 2.17503], [41.38898, 2.17685], [41.38682, 2.17497], [41.38391, 2.17943], [41.39548, 2.14719], [41.37882, 2.14417], [41.38338, 2.16186], [41.38188, 2.16301], [41.37258, 2.16647], [41.37326, 2.16652], [41.39665, 2.16978], [41.37127, 2.15743], [41.3724, 2.15927], [41.38071, 2.17484], [41.38213, 2.1753], [41.37296, 2.17197], [41.38434, 2.17381], [41.38979, 2.15827], [41.3956, 2.16713], [41.38768, 2.17624], [41.38233, 2.17801], [41.38370895385742, 2.181626081466675], [41.37804, 2.17972], [41.38279, 2.17452], [41.38724, 2.17506], [41.37606, 2.16637], [41.3882, 2.17468], [41.38874, 2.17691], [41.38541, 2.17189], [41.3954, 2.17499], [41.38619, 2.17627], [41.38819, 2.17163], [41.37891, 2.17434], [41.37637, 2.15463], [41.37397, 2.155825], [41.3895, 2.15969], [41.40431, 2.13626], [41.38279, 2.17247], [41.38952, 2.16452], [41.37364, 2.16549], [41.41228, 2.17614], [41.388332, 2.157821], [41.388332, 2.157821], [41.388332, 2.157821], [41.388332, 2.157821], [41.388332, 2.157821], [41.388332, 2.157821], [41.38748, 2.15898], [41.388332, 2.157821], [41.388332, 2.157821], [41.388332, 2.157821], [41.388332, 2.157821], [41.38621, 2.13618], [41.39662, 2.1749], [41.38135, 2.12999], [41.37767, 2.19018], [41.37755, 2.15486], [41.40403, 2.17483], [41.37619, 2.15392], [41.37949, 2.17628], [41.37747, 2.17435], [41.40996, 2.17901], [41.38331, 2.18286], [41.40057, 2.15514], [41.38351, 2.16012], [41.37598, 2.17433], [41.40109, 2.15663], [41.38525, 2.18278], [41.3954, 2.19799], [41.38417, 2.172], [41.38211, 2.17167], [41.38235, 2.17329], [41.411194, 2.186008], [41.40662, 2.15292], [41.39702, 2.15787], [41.38269, 2.17167], [41.38235, 2.17362], [41.39742, 2.19642], [41.37564, 2.12317], [41.38747, 2.16667], [41.38026, 2.19002], [41.37627, 2.15951], [41.39123, 2.15215], [41.37627, 2.15944], [41.37631, 2.16024], [41.37593, 2.16168], [41.40136, 2.16448], [41.411194, 2.186008], [41.38344, 2.16051], [41.39511, 2.14833], [41.3843, 2.17239], [41.40821, 2.17857], [41.38345, 2.16404], [41.378, 2.1873], [41.39771, 2.15656], [41.40256, 2.16495], [41.39954, 2.15792], [41.37804, 2.15352], [41.38068, 2.16079], [41.38381, 2.18567], [41.40462, 2.17515], [41.381778717041016, 2.1591529846191406], [41.41766, 2.16055], [41.38156, 2.17156], [41.39934, 2.15797], [41.41212, 2.17474], [41.39647, 2.15103], [41.39592, 2.14969], [41.39631, 2.15121], [41.37537, 2.13621], [41.39436, 2.14936], [41.3894, 2.17173], [41.39521, 2.15828], [41.38504, 2.18042], [41.39971, 2.15652], [41.38046, 2.16714], [41.4024, 2.1587], [41.40245, 2.15663], [41.39018, 2.17086], [41.40093, 2.15882], [41.40107, 2.15671], [41.40132, 2.15878], [41.39043, 2.17152], [41.38995, 2.17098], [41.38032, 2.15932], [41.39042, 2.17089], [41.40313, 2.15783], [41.40125, 2.15817], [41.40767, 2.15912], [41.38031, 2.15812], [41.38186, 2.16014], [41.38058, 2.1586], [41.38239, 2.16], [41.39399, 2.17781], [41.3889, 2.17272], [41.38203, 2.17214], [41.38087, 2.1583], [41.40619, 2.18039], [41.38383, 2.18437], [41.38586, 2.18396], [41.38583, 2.18549], [41.39967, 2.20514], [41.38254, 2.17747], [41.38404, 2.16285], [41.38737, 2.15847], [41.37792, 2.17332], [41.41884, 2.16061], [41.39894, 2.17115], [41.39011, 2.14878], [41.39668, 2.20221], [41.40573, 2.17364], [41.37951, 2.18115], [41.39388, 2.17328], [41.39661, 2.15818], [41.40604, 2.17369], [41.38422, 2.18409], [41.37444, 2.17472], [41.37433, 2.16007], [41.3815, 2.17019], [41.411194, 2.186008], [41.38258, 2.1822], [41.40563, 2.17351], [41.38755, 2.17997], [41.40548, 2.17318], [41.40769, 2.17469], [41.40455, 2.17571], [41.40416, 2.1752], [41.37354, 2.15959], [41.39503, 2.18837], [41.40608, 2.17528], [41.40694, 2.17525], [41.40416, 2.17337], [41.38259, 2.18103], [41.40409, 2.17527], [41.38152, 2.14739], [41.39686, 2.18143], [41.40456, 2.17531], [41.3845, 2.17875], [41.411194, 2.186008], [41.39278, 2.1618], [41.37716, 2.16902], [41.38371, 2.18294], [41.411194, 2.186008], [41.4045, 2.21711], [41.3787, 2.16568], [41.375347, 2.167266], [41.411194, 2.186008], [41.37846, 2.16419], [41.3798, 2.16961], [41.411194, 2.186008], [41.39577, 2.17776], [41.38512, 2.1735], [41.38874, 2.17322], [41.3883, 2.16074], [41.39726, 2.15962], [41.41334, 2.17782], [41.39091, 2.1677], [41.39862, 2.15753], [41.38473, 2.16369], [41.38473, 2.16369], [41.38473, 2.16369], [41.38473, 2.16369], [41.38473, 2.16369], [41.40559, 2.20267], [41.40475, 2.1761], [41.37551, 2.15507], [41.37663, 2.16261], [41.39897, 2.15933], [41.38144, 2.15935], [41.3761, 2.15293], [41.40815, 2.18611], [41.39365, 2.14576], [41.39899, 2.20433], [41.3845, 2.18015], [41.38146, 2.15965], [41.3731, 2.13751], [41.38874, 2.17613], [41.38879, 2.1759], [41.38568, 2.18531], [41.38565, 2.1854], [41.4113, 2.14481], [41.40855, 2.18572], [41.38525, 2.13767], [41.39039, 2.16089], [41.37614, 2.1256], [41.37974, 2.1765], [41.37746, 2.1599], [41.43916, 2.18949], [41.38034, 2.18663], [41.39039, 2.16089], [41.40683, 2.15432], [41.38422, 2.17693], [41.38592, 2.17848], [41.4135, 2.17035], [41.38222, 2.166], [41.3969, 2.17672], [41.37847, 2.16716], [41.40854, 2.18539], [41.37442, 2.14362], [41.38508, 2.15856], [41.39116, 2.17114], [41.38303, 2.17888], [41.381168, 2.175454], [41.38776, 2.1622], [41.38585, 2.17062], [41.39116, 2.17114], [41.39116, 2.17114], [41.39116, 2.17114], [41.38586, 2.1668], [41.38586, 2.1668], [41.38586, 2.1668], [41.38563, 2.16793], [41.38521, 2.14063], [41.38521, 2.14063], [41.38521, 2.14063], [41.36805, 2.14217], [41.38521, 2.14063], [41.38521, 2.14063], [41.38521, 2.14063], [41.38521, 2.14063], [41.38521, 2.14063], [41.37941, 2.18999], [41.40286, 2.20052], [41.38695, 2.18087], [41.43087, 2.18419], [41.37248, 2.144], [41.38788, 2.18475], [41.37248, 2.14385], [41.37037, 2.14324], [41.3768, 2.13887], [41.3802795452946, 2.18892671692578], [41.38521, 2.14063], [41.39775, 2.18024], [41.38256, 2.16477], [41.37551, 2.16028], [41.39817, 2.17186], [41.39348, 2.1911], [41.39155, 2.17623], [41.3801, 2.16973], [41.3922, 2.17331], [41.39983, 2.18018], [41.38126, 2.19038], [41.3813, 2.17949], [41.39237, 2.17358], [41.41459, 2.17994], [41.39061, 2.17216], [41.38458, 2.13986], [41.38536, 2.16602], [41.39118, 2.17124], [41.38537, 2.14054], [41.38643, 2.14168], [41.4005, 2.17764], [41.37382, 2.13679], [41.3795, 2.17567], [41.42272, 2.1814], [41.39039, 2.16089], [41.38066, 2.17438], [41.38224, 2.17379], [41.380322, 2.161544], [41.3793, 2.179], [41.39039, 2.16089], [41.39747, 2.15745], [41.38557, 2.16584], [41.39039, 2.16089], [41.39863, 2.15949], [41.39039, 2.16089], [41.39039, 2.16089], [41.39039, 2.16089], [41.40037, 2.17444], [41.38336, 2.18195], [41.37513, 2.1418], [41.39846, 2.15747], [41.37568, 2.16571], [41.37095, 2.15947], [41.40518, 2.17369], [41.37896, 2.18133], [41.39643, 2.18136], [41.40581, 2.17345], [41.40514, 2.17351], [41.40426, 2.17356], [41.40522, 2.17169], [41.403267, 2.15832], [41.37439, 2.1412], [41.38575, 2.18091], [41.37433, 2.16689], [41.38873, 2.16821], [41.39077, 2.16828], [41.39765, 2.15351], [41.39774, 2.17198], [41.37901, 2.17144], [41.37743, 2.17136], [41.41091, 2.18178], [41.37062, 2.14389], [41.37068, 2.14396], [41.37814, 2.17104], [41.3737, 2.13471], [41.402779172094256, 2.180047184228897], [41.40248, 2.16716], [41.3816, 2.1718], [41.37965, 2.17144], [41.38243, 2.14664], [41.380493, 2.17073], [41.37967, 2.16993], [41.3796, 2.17016], [41.37034, 2.14415], [41.39002, 2.1706], [41.38194, 2.17874], [41.37126, 2.14254], [41.39689, 2.17008], [41.39761, 2.17242], [41.37901, 2.17421], [41.37801, 2.13402], [41.37607, 2.13292], [41.37423, 2.15734], [41.37621, 2.16262], [41.37573, 2.13473], [41.38175, 2.1809], [41.37729, 2.13263], [41.3959, 2.17561], [41.39781, 2.14847], [41.39065, 2.15928], [41.37231, 2.12863], [41.39024, 2.15847], [41.39023, 2.1572], [41.41926, 2.17679], [41.38604, 2.18017], [41.39625, 2.14623], [41.38444, 2.16742], [41.426735, 2.174634], [41.39745, 2.14855], [41.38257, 2.18239], [41.38736, 2.15654], [41.39586, 2.14716], [41.38153, 2.12895], [41.40366, 2.18136], [41.40099, 2.17383], [41.40488, 2.17721], [41.39662, 2.18161], [41.39653, 2.19689], [41.39942, 2.14639], [41.38568, 2.18384], [41.39931, 2.14631], [41.38811, 2.17776], [41.37946, 2.15874], [41.38003, 2.16451], [41.3879, 2.20198], [41.37651, 2.16674], [41.40451, 2.17183], [41.40465, 2.1467], [41.39752, 2.17645], [41.42161, 2.14292], [41.40345, 2.18031], [41.38889, 2.17159], [41.40053, 2.15349], [41.38151, 2.15692], [41.39628, 2.16321], [41.38138, 2.16021], [41.39517, 2.17029], [41.38426, 2.17899], [41.37759, 2.16044], [41.37693, 2.1708], [41.38594, 2.15462], [41.40017, 2.17384], [41.40086, 2.15581], [41.39517, 2.17029], [41.38548, 2.172], [41.39517, 2.17029], [41.37754, 2.1749], [41.392105, 2.170545], [41.3982, 2.20805], [41.38125, 2.14835], [41.391476, 2.189556], [41.37682, 2.17314], [41.40349, 2.17287], [41.40573, 2.17311], [41.40535, 2.17362], [41.38614, 2.18053], [41.40799, 2.16849], [41.40739, 2.17129], [41.40632, 2.16679], [41.38574, 2.16771], [41.38443, 2.17911], [41.37904, 2.16277], [41.38736, 2.17582], [41.3727, 2.14988], [41.39084, 2.16479], [41.39894, 2.16594], [41.39905, 2.15891], [41.39895, 2.1575], [41.39716, 2.15917], [41.40371, 2.17359], [41.40591, 2.17862], [41.38243, 2.16748], [41.40851673805422, 2.174269767377003], [41.37344, 2.15822], [41.39063600144416, 2.180590827022887], [41.3805, 2.14887], [41.40904, 2.19914], [41.40127, 2.18227], [41.37891, 2.16723], [41.40361, 2.14585], [41.40599, 2.14643], [41.38064, 2.17539], [41.37737, 2.18991], [41.40433, 2.17895], [41.39145, 2.16005], [41.37039, 2.14346], [41.36966, 2.14541], [41.38985, 2.15801], [41.393951, 2.171178], [41.39181, 2.15914], [41.38368, 2.16132], [41.40186, 2.20287], [41.44049, 2.18731], [41.37889, 2.1557], [41.38243, 2.17973], [41.39868, 2.15576], [41.37823, 2.15922], [41.37956, 2.15772], [41.37463, 2.14574], [41.3915, 2.16367], [41.38156, 2.17912], [41.39589, 2.1897], [41.38723, 2.172753], [41.38161, 2.13949], [41.39248, 2.13193], [41.37344, 2.15537], [41.39652, 2.15095], [41.40798, 2.16075], [41.39243, 2.13132], [41.38894, 2.17615], [41.37346, 2.15823], [41.39605, 2.18953], [41.38932, 2.1693], [41.39872, 2.16374], [41.37926, 2.16871], [41.40871, 2.16037], [41.40676, 2.16053], [41.40947, 2.17575], [41.4009, 2.15672], [41.41286, 2.16907], [41.40863, 2.16002], [41.39893, 2.15737], [41.37960052490234, 2.173280000686645], [41.40059, 2.14918], [41.40357, 2.20811], [41.39746, 2.15606], [41.38425, 2.17138], [41.41079, 2.17856], [41.37782, 2.16185], [41.37971, 2.15914], [41.38172, 2.18134], [41.38379, 2.18172], [41.38169, 2.18084], [41.38669, 2.17561], [41.39992, 2.15922], [41.373, 2.13442], [41.38932, 2.12523], [41.37929, 2.17797], [41.38859, 2.15534], [41.37969, 2.16642], [41.40472, 2.21022], [41.37671, 2.13677], [41.39955, 2.15578], [41.39652, 2.15095], [41.37166, 2.16642], [41.37618, 2.16317], [41.38084, 2.12681], [41.38252, 2.17178], [41.4013, 2.15306], [41.38089, 2.14737], [41.40527, 2.16905], [41.39906, 2.17006], [41.38583, 2.16391], [41.39717, 2.17147], [41.39935, 2.17331], [41.39519, 2.1799], [41.40082, 2.15321], [41.40255, 2.17653], [41.38157, 2.17643], [41.38434, 2.17099], [41.38957, 2.1607], [41.41664, 2.17353], [41.4059, 2.16915], [41.38990783691406, 2.1832919120788574], [41.38146, 2.15943], [41.37959, 2.17783], [41.37243, 2.13026], [41.38954, 2.126], [41.39043, 2.17165], [41.38988, 2.17293], [41.38019, 2.17713], [41.3794, 2.17759], [41.39378, 2.16992], [41.39029, 2.17175], [41.38113, 2.19157], [41.38321, 2.16539], [41.37993, 2.17578], [41.40491, 2.16899], [41.39516, 2.1582], [41.40027, 2.15598], [41.38172, 2.17335], [41.40041, 2.15739], [41.40242, 2.1571], [41.40414, 2.14673], [41.40034, 2.15757], [41.40048, 2.15547], [41.37932, 2.1768], [41.37960052490234, 2.173280000686645], [41.39102, 2.164], [41.3987, 2.17412], [41.39377, 2.17947], [41.39521, 2.17647], [41.40881, 2.11213], [41.40682, 2.16798], [41.37204, 2.16884], [41.3892, 2.1522], [41.38301, 2.18515], [41.39646, 2.17666], [41.39606, 2.15766], [41.37653, 2.17755], [41.39118, 2.17168], [41.39599, 2.17516], [41.37422, 2.16801], [41.41274, 2.21747], [41.39847, 2.20315], [41.38011, 2.17691], [41.39276, 2.1741], [41.375244, 2.168731], [41.39001, 2.17456], [41.39902, 2.15536], [41.38048, 2.17966], [41.38059, 2.17931], [41.378967, 2.191798], [41.36901171239459, 2.1430606155267613], [41.38415, 2.1561], [41.39539, 2.12306], [41.38316, 2.17678], [41.39026, 2.17254], [41.40346, 2.17288], [41.39246, 2.15802], [41.3788, 2.15225], [41.37887, 2.17549], [41.37163, 2.14302], [41.38373, 2.1786], [41.39324, 2.17084], [41.37717, 2.16872], [41.395, 2.15915], [41.38997, 2.14109], [41.39412, 2.16649], [41.39318, 2.15958], [41.39257, 2.15436], [41.39941, 2.15861], [41.4001, 2.15528], [41.3853, 2.1834], [41.40472, 2.17376], [41.40837, 2.16804], [41.3774, 2.16578], [41.39297, 2.14787], [41.37945, 2.16593], [41.38041, 2.17913], [41.4067, 2.16831], [41.39723, 2.17381], [41.39746, 2.18561], [41.408, 2.16656], [41.380714, 2.174539], [41.40379, 2.15666], [41.380466, 2.174271], [41.38183, 2.16507], [41.380783, 2.163113], [41.39521, 2.158282], [41.38562, 2.16047], [41.40665, 2.17537], [41.40864, 2.16211], [41.38226, 2.15994], [41.38678, 2.19701], [41.3769, 2.18832], [41.39989, 2.20514], [41.3794, 2.17882], [41.40016, 2.15711], [41.40698, 2.15916], [41.39866, 2.15503], [41.37785, 2.17728], [41.40713, 2.15192], [41.39944, 2.15721], [41.38409, 2.1836], [41.4029804, 2.171799700000065], [41.39905, 2.15508], [41.40489, 2.1797], [41.384, 2.18515], [41.40623, 2.17669], [41.38418, 2.18513], [41.40823, 2.17422], [41.4029804, 2.171799700000065], [41.39973, 2.12028], [41.41514, 2.17639], [41.38639, 2.16071], [41.37601, 2.15162], [41.38865, 2.1629], [41.39419, 2.17789], [41.39245, 2.1731], [41.38933, 2.14375], [41.37827, 2.15083], [41.38961, 2.14285], [41.42265, 2.18161], [41.38125, 2.17538], [41.39424, 2.17499], [41.39204, 2.17338], [41.39399, 2.1754], [41.39408, 2.17263], [41.38109, 2.17453], [41.39227, 2.17473], [41.39209, 2.17491], [41.38522, 2.17433], [41.38115, 2.17511], [41.38135, 2.17643], [41.38372, 2.18341], [41.40398, 2.1738], [41.39354, 2.1749], [41.38554, 2.18514], [41.38119, 2.16301], [41.38127, 2.18952], [41.38448, 2.17951], [41.37894, 2.17994], [41.379791, 2.177206], [41.38081, 2.1931], [41.38811, 2.15504], [41.37885, 2.19164], [41.39088, 2.16311], [41.379791, 2.177206], [41.40416, 2.2041], [41.406498, 2.156939], [41.3964, 2.19305], [41.3926, 2.16488], [41.39651, 2.19998], [41.38141, 2.17574], [41.39695, 2.108244], [41.352608, 2.147684], [41.38072, 2.1648], [41.38559, 2.15609], [41.3796, 2.18953], [41.387711, 2.150281], [41.42509, 2.1568], [41.3807, 2.16155], [41.3914, 2.17184], [41.38641, 2.16525], [41.37841, 2.15593], [41.37852, 2.15592], [41.37904, 2.15805], [41.3806, 2.17716], [41.37871, 2.15778], [41.37891, 2.15599], [41.38074, 2.13507], [41.37784, 2.16666], [41.38613, 2.16127], [41.39337, 2.15691], [41.41627, 2.2119], [41.38764, 2.1787], [41.39282, 2.17813], [41.38973, 2.17075], [41.40727, 2.17354], [41.3793, 2.17468], [41.41037, 2.17761], [41.39916, 2.17372], [41.38584, 2.16011], [41.38364, 2.1609], [41.38189, 2.18834], [41.37377, 2.13464], [41.41224, 2.14062], [41.38982, 2.16549], [41.39547, 2.15983], [41.40294, 2.17762], [41.38102, 2.1478], [41.38326, 2.15558], [41.37659, 2.19124], [41.39702, 2.18307], [41.38363, 2.16177], [41.38358, 2.17833], [41.4029804, 2.171799700000065], [41.3937, 2.17316], [41.39034, 2.17232], [41.4029804, 2.171799700000065], [41.4029804, 2.171799700000065], [41.4029804, 2.171799700000065], [41.36986, 2.13318], [41.38056, 2.17656], [41.3919, 2.17441], [41.39181, 2.17306], [41.39164, 2.17454], [41.39046, 2.16391], [41.39196, 2.16552], [41.38202, 2.17757], [41.40626, 2.17355], [41.39042, 2.16389], [41.402538, 2.15247], [41.38397, 2.1811], [41.42272, 2.17416], [41.37378, 2.17528], [41.4041, 2.21542], [41.40988, 2.18107], [41.39441, 2.13274], [41.39261, 2.13241], [41.39608, 2.20012], [41.39416, 2.15392], [41.39452, 2.20129], [41.3961, 2.20072], [41.39453, 2.20163], [41.39037, 2.16851], [41.38639, 2.17857], [41.39625, 2.20167], [41.38076, 2.12726], [41.38284, 2.16525], [41.3902, 2.13899], [41.39027, 2.13977], [41.37652, 2.16188], [41.37451, 2.16297], [41.38884, 2.10966], [41.40117, 2.17639], [41.40148, 2.16327], [41.37702, 2.15343], [41.38715, 2.156], [41.37825, 2.15067], [41.43215, 2.18496], [41.382961, 2.172983], [41.39224, 2.15618], [41.41681, 2.16354], [41.39795, 2.17719], [41.38484, 2.15423], [41.4178, 2.19213], [41.37276, 2.1653], [41.41295, 2.18082], [41.37248, 2.16423], [41.39103, 2.16699], [41.38699, 2.16499], [41.38401, 2.17528], [41.3842, 2.17957], [41.39632, 2.17671], [41.378, 2.16739], [41.39102, 2.16584], [41.37944, 2.16837], [41.38623, 2.17525], [41.39373, 2.15961], [41.40245, 2.17471], [41.39023, 2.17939], [41.39168, 2.17258], [41.374, 2.13312], [41.39153, 2.17283], [41.36866, 2.14259], [41.36826, 2.14065], [41.40114, 2.15366], [41.36816, 2.14035], [41.3878, 2.15583], [41.40042, 2.20706], [41.38547, 2.16573], [41.38531, 2.16415], [41.38578, 2.16406], [41.38717, 2.16412], [41.39052, 2.17337], [41.39269, 2.13308], [41.38544, 2.16425], [41.38005, 2.18867], [41.38741, 2.16599], [41.38507, 2.1644], [41.39133, 2.15544], [41.405739, 2.175151], [41.40425, 2.13689], [41.37382, 2.15819], [41.37456, 2.17244], [41.37186, 2.16425], [41.39504, 2.17151], [41.38314, 2.12974], [41.37582, 2.15801], [41.41234, 2.22135], [41.40135, 2.15767], [41.39791, 2.17738], [41.37567, 2.14586], [41.39165, 2.15141], [41.37487, 2.12589], [41.40012, 2.15708], [41.41128, 2.18876], [41.39911, 2.17893], [41.40407, 2.15181], [41.3796, 2.17135], [41.404808, 2.210179], [41.38739, 2.17165], [41.40022, 2.15097], [41.39447, 2.14978], [41.39913, 2.17287], [41.37295, 2.12702], [41.4066, 2.16202], [41.4001, 2.15829], [41.382572, 2.182241], [41.38044, 2.18688], [41.38038, 2.17262], [41.39647, 2.1605], [41.39308, 2.17065], [41.40138, 2.16386], [41.37668, 2.1234], [41.38746, 2.15469], [41.41182, 2.17779], [41.39804, 2.20555], [41.37898, 2.16738], [41.40027, 2.20752], [41.38134, 2.15963], [41.38215, 2.18069], [41.38801, 2.17294], [41.38781, 2.16061], [41.39981, 2.16592], [41.39403, 2.16408], [41.39525, 2.16765], [41.40437, 2.17257], [41.37088, 2.12917], [41.40026, 2.17432], [41.4059, 2.17043], [41.40772, 2.16533], [41.40499, 2.17233], [41.40072, 2.17829], [41.40148, 2.15242], [41.40099, 2.17842], [41.38522, 2.18], [41.402, 2.1801], [41.40157, 2.18026], [41.40231, 2.17884], [41.40296, 2.15223], [41.40107, 2.20435], [41.38294, 2.15691], [41.38083, 2.17122], [41.38301, 2.17314], [41.39733, 2.16602], [41.40639, 2.17973], [41.38096, 2.17135], [41.41291, 2.21763], [41.3832, 2.13198], [41.39201, 2.17202], [41.411739349365234, 2.149282932281494], [41.39349, 2.17538], [41.38437, 2.16659], [41.39348, 2.17396], [41.42182, 2.1549], [41.41714, 2.18819], [41.4026, 2.15103], [41.37993, 2.17347], [41.39129, 2.18974], [41.408905, 2.170411], [41.412251, 2.150357], [41.3802, 2.17723], [41.37535095214844, 2.144617080688477], [41.37709, 2.15681], [41.41671, 2.16595], [41.40212, 2.16473], [41.40076, 2.17876], [41.40248, 2.16028], [41.38445, 2.16435], [41.3932, 2.16533], [41.39188, 2.17365], [41.3918, 2.17397], [41.38308, 2.15227], [41.40359, 2.16285], [41.39579, 2.19166], [41.38007, 2.17747], [41.41631, 2.16644], [41.40062, 2.17992], [41.40673, 2.18537], [41.37913, 2.15221], [41.3994, 2.15515], [41.39866, 2.15861], [41.41008, 2.09934], [41.40052, 2.15783], [41.37943, 2.15284], [41.39861, 2.15927], [41.38243, 2.16406], [41.39907, 2.1593], [41.376705, 2.130629], [41.37897, 2.1779], [41.38986, 2.19848], [41.40037, 2.15898], [41.39499, 2.17183], [41.39561, 2.17593], [41.37829, 2.1489], [41.40935, 2.16927], [41.38631, 2.18016], [41.40774, 2.16756], [41.37902, 2.17611], [41.39898, 2.15812], [41.38669, 2.16607], [41.40814, 2.18313], [41.40316, 2.15396], [41.38902, 2.17788], [41.37095, 2.13022], [41.41144, 2.18504], [41.4172, 2.18974], [41.37961, 2.15379], [41.40609, 2.16936], [41.38331, 2.17693], [41.3896, 2.16715], [41.39106, 2.16757], [41.377823, 2.17571], [41.37799, 2.15699], [41.377, 2.16705], [41.40612, 2.17014], [41.40094, 2.16], [41.38214, 2.18912], [41.39189, 2.16586], [41.37572, 2.19072], [41.40157, 2.15771], [41.42569, 2.17511], [41.38393, 2.16384], [41.39645, 2.1917], [41.381069, 2.136271], [41.37748, 2.16078], [41.38068, 2.15132], [41.3747, 2.12408], [41.38644, 2.17666], [41.38538, 2.17836], [41.397148, 2.157054], [41.39612, 2.15648], [41.37775, 2.16591], [41.381172, 2.175498], [41.3863, 2.13527], [41.37965, 2.15311], [41.37718, 2.17847], [41.41369, 2.14262], [41.40876, 2.16747], [41.38089, 2.17183], [41.3897, 2.17478], [41.37809, 2.17185], [41.3808, 2.17211], [41.385426, 2.166879], [41.38159, 2.18895], [41.38221, 2.17133], [41.39456, 2.16937], [41.385426, 2.166879], [41.38371, 2.17562], [41.38526, 2.17552], [41.38363, 2.17387], [41.38516, 2.17374], [41.40823, 2.176], [41.385426, 2.166879], [41.37927, 2.15361], [41.37867, 2.16641], [41.40998, 2.17746], [41.40852, 2.157778], [41.39029, 2.17927], [41.38141, 2.18897], [41.38117, 2.14851], [41.38237, 2.16003], [41.38946, 2.17144], [41.39055, 2.17951], [41.390141, 2.16967], [41.38742, 2.17109], [41.38104, 2.17392], [41.3819, 2.18925], [41.37944, 2.17619], [41.3911, 2.17705], [41.38304, 2.17032], [41.39118, 2.17712], [41.39006, 2.17894], [41.38758, 2.17813], [41.38979, 2.17734], [41.39049, 2.177], [41.3896, 2.15292], [41.37735, 2.15507], [41.38255, 2.17607], [41.38028, 2.17553], [41.38946, 2.16941], [41.375584, 2.148528], [41.38349, 2.13035], [41.37945, 2.12457], [41.40058, 2.20607], [41.37995, 2.17708], [41.37444, 2.14767], [41.39299, 2.16942], [41.39405, 2.16932], [41.40013, 2.17889], [41.40028, 2.17881], [41.40175, 2.17819], [41.40234, 2.17886], [41.40025, 2.17839], [41.407784, 2.185361], [41.38621, 2.17586], [41.40034, 2.16462], [41.40196, 2.18009], [41.40451, 2.20917], [41.42887, 2.17918], [41.37857, 2.16554], [41.39884, 2.16346], [41.39756, 2.16355], [41.38657, 2.168338], [41.39923, 2.16336], [41.40654, 2.17267], [41.41511, 2.16405], [41.38198, 2.16984], [41.38015, 2.14618], [41.38657, 2.168338], [41.38657, 2.168338], [41.40847, 2.18619], [41.37186, 2.15794], [41.37976, 2.17747], [41.37782, 2.17773], [41.40146, 2.18443], [41.38689, 2.18328], [41.38558, 2.17838], [41.38533, 2.15511], [41.3875, 2.14561], [41.386143, 2.174519], [41.38149, 2.15991], [41.40602, 2.16147], [41.38258, 2.18891], [41.41273, 2.17927], [41.408, 2.17325], [41.384769, 2.174595], [41.40793, 2.16048], [41.384769, 2.174595], [41.39147, 2.17702], [41.39461, 2.16954], [41.39761, 2.17917], [41.385487, 2.172849], [41.38389, 2.16684], [41.385487, 2.172849], [41.385487, 2.172849], [41.41808, 2.15009], [41.385487, 2.172849], [41.38576, 2.18103], [41.401649, 2.173636], [41.39193, 2.17416], [41.38636, 2.1622], [41.37767, 2.17812], [41.41349, 2.14425], [41.40329, 2.20625], [41.39511, 2.15811], [41.41319, 2.14517], [41.39509, 2.15777], [41.39294, 2.15636], [41.41182, 2.18723], [41.3846, 2.16049], [41.38423, 2.17142], [41.38436, 2.14368], [41.38883, 2.1581], [41.411007, 2.186601], [41.375584, 2.148528], [41.3763, 2.12228], [41.374779, 2.148056], [41.37818, 2.13323], [41.39404, 2.17187], [41.38427, 2.16316], [41.37361, 2.16726], [41.38031, 2.18729], [41.38875, 2.17746], [41.39057, 2.16377], [41.38129, 2.15208], [41.37433, 2.1582], [41.37453, 2.16571], [41.403416, 2.175561], [41.39973, 2.15494], [41.38044, 2.17792], [41.37524, 2.15171], [41.37357, 2.15486], [41.39321, 2.16753], [41.40236, 2.17867], [41.39424, 2.17336], [41.40368, 2.17096], [41.3912, 2.1678], [41.40241, 2.138], [41.41211, 2.17418], [41.38024, 2.16137], [41.39465, 2.16886], [41.39233, 2.17488], [41.371513, 2.16592], [41.37269, 2.13822], [41.41028, 2.20155], [41.37397, 2.13336], [41.38368, 2.17873], [41.393036, 2.170929], [41.40814, 2.1648], [41.38363, 2.17887], [41.3737, 2.12484], [41.37347, 2.12534], [41.38761, 2.17799], [41.38027, 2.16636], [41.377415, 2.167085], [41.38506, 2.18207], [41.37856, 2.1659], [41.403629, 2.174356], [41.37837, 2.16674], [41.37758255004883, 2.1702160835266118], [41.372967, 2.164125], [41.4001, 2.18036], [41.39116, 2.15679], [41.377949, 2.190297], [41.41231, 2.17429], [41.40021, 2.1549], [41.37088, 2.16304], [41.37997, 2.16957], [41.40159, 2.15632], [41.38927, 2.17153], [41.377969, 2.171623], [41.40161, 2.15679], [41.39926, 2.15645], [41.37946, 2.19099], [41.42471, 2.19174], [41.40612, 2.17264], [41.38382, 2.15595], [41.41142, 2.15492], [41.39996, 2.1572], [41.4012, 2.15509], [41.38187, 2.18068], [41.40094, 2.15506], [41.377121, 2.174033], [41.42462, 2.19024], [41.39463, 2.17043], [41.3714, 2.16674], [41.38588, 2.166], [41.38825, 2.17244], [41.38748, 2.17984], [41.3815, 2.17332], [41.3889, 2.17311], [41.38853, 2.17233], [41.38759, 2.18096], [41.39434, 2.16082], [41.38713, 2.16562], [41.38528, 2.15997], [41.38728, 2.18143], [41.39243, 2.16064], [41.41131, 2.17715], [41.38111, 2.18868], [41.39731, 2.16112], [41.39519, 2.14727], [41.39513, 2.14824], [41.39085, 2.17102], [41.40579, 2.1826], [41.39071, 2.18307], [41.40091, 2.15656], [41.40039, 2.18028], [41.40588, 2.19895], [41.388, 2.16044], [41.37825, 2.16244], [41.390308, 2.168063], [41.381886, 2.170774], [41.38189, 2.17077], [41.381886, 2.170774], [41.381886, 2.170774], [41.381886, 2.170774], [41.38233, 2.15927], [41.390308, 2.168063], [41.40623, 2.20064], [41.381886, 2.170774], [41.390308, 2.168063], [41.38111, 2.15918], [41.38103, 2.16682], [41.419937, 2.159816], [41.39032, 2.16339], [41.38338, 2.17932], [41.39603, 2.16975], [41.38741, 2.17788], [41.37429, 2.14731], [41.389256, 2.162351], [41.38537, 2.18025], [41.39629, 2.163156], [41.40953, 2.20352], [41.39629, 2.163156], [41.393951, 2.171178], [41.39379, 2.16217], [41.38318, 2.17747], [41.39178, 2.15166], [41.389004, 2.165805], [41.38728, 2.17982], [41.389004, 2.165805], [41.376602, 2.128875], [41.389004, 2.165805], [41.389004, 2.165805], [41.40293, 2.14888], [41.40969, 2.16373], [41.38979, 2.12056], [41.39005, 2.1201], [41.40839, 2.16381], [41.41006, 2.16356], [41.39181, 2.12003], [41.3913, 2.12202], [41.39753, 2.17707], [41.40946, 2.16365], [41.40811, 2.16568], [41.40467, 2.14233], [41.38094, 2.16689], [41.39464, 2.1459], [41.38604, 2.16185], [41.39892, 2.17173], [41.40093, 2.20197], [41.41263, 2.16962], [41.40122, 2.14309], [41.44489, 2.18784], [41.3785, 2.12349], [41.40198, 2.14471], [41.39231, 2.15326], [41.39277, 2.16092], [41.39084, 2.15273], [41.37478, 2.15904], [41.40869, 2.17176], [41.39074, 2.15288], [41.37495, 2.14605], [41.39093, 2.1512], [41.39076, 2.15335], [41.37838, 2.16899], [41.39687, 2.18108], [41.37384, 2.16825], [41.40261, 2.14685], [41.40421, 2.14642], [41.40237, 2.14687], [41.40688, 2.15369], [41.38979, 2.1378], [41.40306, 2.14504], [41.4044, 2.14675], [41.40358, 2.14496], [41.40444, 2.14517], [41.39445, 2.17077], [41.38191, 2.16068], [41.41336, 2.17818], [41.38194, 2.17741], [41.388649, 2.171236], [41.40263, 2.14684], [41.39403, 2.15945], [41.40148, 2.17833], [41.40004, 2.18002], [41.40283, 2.14695], [41.39238, 2.15961], [41.40421, 2.14515], [41.39227, 2.15965], [41.4045, 2.14534], [41.39337, 2.15911], [41.37509, 2.17184], [41.40244, 2.14506], [41.39256, 2.16084], [41.37939, 2.17114], [41.39553, 2.17557], [41.39414, 2.16105], [41.40809, 2.16072], [41.39214, 2.16126], [41.40039, 2.18026], [41.39024, 2.17885], [41.38964, 2.17837], [41.38222, 2.16775], [41.37734, 2.1652], [41.41503, 2.10566], [41.38044, 2.18759], [41.38257, 2.1882], [41.38238, 2.18716], [41.37886, 2.16197], [41.3711, 2.13211], [41.388, 2.15646], [41.37154, 2.17472], [41.38789, 2.15796], [41.40561, 2.13736], [41.37643, 2.11444], [41.382046, 2.176102], [41.37728, 2.18962], [41.38958, 2.17951], [41.38321, 2.18192], [41.37911, 2.17504], [41.39617, 2.15869], [41.3897, 2.15835], [41.381607, 2.159762], [41.39067, 2.17387], [41.38952, 2.17384], [41.39101, 2.1576], [41.40621, 2.17912], [41.38944, 2.14168], [41.41789, 2.18977], [41.3836, 2.18191], [41.45133, 2.18857], [41.37942, 2.17453], [41.378876, 2.1769476], [41.37306, 2.16354], [41.37769, 2.1731], [41.38333, 2.18387], [41.37505, 2.12646], [41.40384, 2.17032], [41.38398, 2.13785], [41.43072, 2.16457], [41.37285, 2.1684], [41.42423, 2.13655], [41.37417, 2.16302], [41.3891, 2.14528], [41.37976, 2.17755], [41.37876, 2.14211], [41.42585, 2.15768], [41.38673, 2.16013], [41.38698, 2.16103], [41.38936, 2.14354], [41.38454, 2.16717], [41.373219, 2.168928], [41.37445, 2.16722], [41.379512786865234, 2.173290014266968], [41.38173, 2.17459], [41.39072, 2.15824], [41.3893, 2.17742], [41.41093, 2.18792], [41.39068, 2.15833], [41.38864, 2.15752], [41.39064, 2.15764], [41.38868, 2.15783], [41.38481, 2.16567], [41.38867, 2.15962], [41.40058, 2.18715], [41.38657, 2.16876], [41.37372, 2.17545], [41.387234, 2.182656], [41.39041, 2.16405], [41.37825, 2.1748], [41.388062, 2.173044], [41.40382, 2.15014], [41.391068, 2.196364], [41.42366, 2.18345], [41.40898, 2.16164], [41.38454, 2.14642], [41.41272, 2.17802], [41.39908, 2.17745], [41.4106, 2.17922], [41.40868, 2.18055], [41.395981, 2.1847], [41.40488, 2.13927], [41.40963, 2.210338], [41.38013, 2.1905], [41.37926, 2.16884], [41.37089, 2.16744], [41.37629, 2.13716], [41.38171, 2.1875], [41.391068, 2.196364], [41.37525, 2.16733], [41.39759, 2.15892], [41.40411, 2.17676], [41.37854, 2.15474], [41.40509, 2.17209], [41.38217, 2.17739], [41.38627, 2.19832], [41.4076, 2.19433], [41.38552, 2.18524], [41.391068, 2.196364], [41.38724, 2.17423], [41.39098, 2.17241], [41.38067, 2.16736], [41.38514, 2.18104], [41.35982, 2.13374], [41.37879, 2.17341], [41.40073, 2.17715], [41.37865, 2.17477], [41.38058, 2.17537], [41.38038, 2.17347], [41.38017, 2.17534], [41.3858, 2.17746], [41.38045, 2.17524], [41.38386, 2.16568], [41.38501, 2.16772], [41.38398, 2.16776], [41.38551, 2.16736], [41.40052, 2.13108], [41.44344, 2.17974], [41.37336, 2.15956], [41.40108, 2.1304], [41.40081, 2.13127], [41.39522, 2.17663], [41.38748, 2.16518], [41.3877, 2.15806], [41.40622, 2.1923], [41.40091, 2.13097], [41.40808, 2.19361], [41.39275, 2.18447], [41.37409, 2.15731], [41.389191, 2.166342], [41.376865, 2.150132], [41.389191, 2.166342], [41.40525, 2.13917], [41.39891, 2.17322], [41.378071, 2.172983], [41.38602, 2.18131], [41.378071, 2.172983], [41.378071, 2.172983], [41.37328, 2.12611], [41.39132, 2.14745], [41.38674, 2.14399], [41.38611, 2.17037], [41.40232, 2.16569], [41.40235, 2.16465], [41.39839, 2.15496], [41.37727, 2.15982], [41.39357, 2.14767], [41.38442, 2.16901], [41.38429, 2.17102], [41.38609, 2.17106], [41.38145, 2.18124], [41.37975, 2.18137], [41.38861, 2.17463], [41.38473, 2.1691], [41.393951, 2.171178], [41.391068, 2.196364], [41.40097, 2.1654], [41.391068, 2.196364], [41.39782, 2.16682], [41.39955, 2.16367], [41.39877, 2.16542], [41.39938, 2.16387], [41.39287, 2.17008], [41.3813, 2.1498], [41.38943, 2.12724], [41.3902, 2.1253], [41.37552, 2.16043], [41.3889, 2.17356], [41.41185, 2.21894], [41.37372, 2.12982], [41.39552, 2.16601], [41.38058, 2.14992], [41.3806, 2.16187], [41.38081, 2.16298], [41.38504, 2.16595], [41.37918, 2.16193], [41.38889, 2.17399], [41.40992, 2.21931], [41.40873, 2.17233], [41.38449, 2.16606], [41.385647, 2.165129], [41.385326, 2.16566], [41.38919, 2.18163], [41.38063, 2.17087], [41.39238, 2.16632], [41.37841, 2.17315], [41.385326, 2.16566], [41.37738, 2.12819], [41.37991, 2.17304], [41.39478, 2.15497], [41.40804, 2.17282], [41.377022, 2.149829], [41.377022, 2.149829], [41.377022, 2.149829], [41.377022, 2.149829], [41.389191, 2.166342], [41.38056, 2.17139], [41.39119, 2.15332], [41.37909, 2.17094], [41.37869, 2.17266], [41.37899, 2.17164], [41.41705, 2.19034], [41.37463, 2.13959], [41.39076, 2.16428], [41.38634, 2.15801], [41.38668, 2.15782], [41.3878, 2.15787], [41.40736, 2.15524], [41.38031, 2.16626], [41.37489, 2.17285], [41.39074, 2.1998], [41.41456, 2.20368], [41.37836, 2.17301], [41.37866, 2.14934], [41.37701, 2.1716], [41.409908, 2.179143], [41.38035, 2.15134], [41.37981, 2.14951], [41.37823, 2.1492], [41.3802, 2.14957], [41.38139, 2.189], [41.39647, 2.17337], [41.37922, 2.17278], [41.37718, 2.17149], [41.38399, 2.17935], [41.37689, 2.17226], [41.40553, 2.17256], [41.38026, 2.15986], [41.37604, 2.12583], [41.39846, 2.15329], [41.37951, 2.15957], [41.416944616, 2.159688358], [41.40049, 2.15542], [41.38466, 2.15801], [41.41421, 2.1785], [41.38252, 2.16534], [41.39877, 2.15734], [41.39644, 2.17194], [41.38685, 2.17342], [41.407993, 2.166803], [41.38662, 2.13113], [41.407089, 2.165497], [41.38304, 2.14874], [41.40965, 2.17514], [41.409908, 2.179143], [41.38786, 2.15613], [41.38751, 2.15807], [41.409908, 2.179143], [41.38388, 2.14946], [41.409908, 2.179143], [41.409908, 2.179143], [41.38389, 2.1568], [41.38816, 2.15513], [41.409908, 2.179143], [41.409908, 2.179143], [41.409908, 2.179143], [41.37912, 2.17617], [41.38569, 2.17858], [41.38854, 2.15531], [41.38428, 2.14383], [41.40063, 2.15787], [41.409908, 2.179143], [41.391068, 2.196364], [41.390388, 2.160892], [41.39989, 2.15935], [41.40201, 2.18019], [41.40099, 2.18038], [41.40181, 2.18035], [41.40215, 2.18022], [41.40165, 2.17842], [41.40188, 2.18029], [41.37952, 2.15732], [41.40025, 2.17892], [41.403275, 2.158321], [41.39296, 2.17118], [41.38042, 2.12385], [41.3816, 2.17134], [41.41523, 2.18227], [41.3736, 2.15775], [41.37891, 2.13216], [41.38404, 2.12779], [41.39801, 2.16859], [41.39786, 2.16727], [41.38164, 2.17221], [41.37944, 2.17277], [41.38454, 2.1704], [41.38027, 2.17042], [41.39324, 2.17098], [41.39169, 2.17146], [41.38099, 2.18671], [41.39275, 2.16648], [41.37966, 2.17265], [41.39017, 2.14627], [41.38921, 2.18146], [41.37652, 2.16772], [41.42999, 2.18857], [41.38762, 2.17959], [41.39016, 2.14808], [41.39036, 2.14828], [41.38151, 2.1776], [41.38975, 2.14834], [41.38854, 2.14841], [41.4087, 2.18334], [41.38868, 2.18455], [41.38859, 2.14632], [41.38444, 2.16866], [41.39254, 2.16956], [41.38567, 2.17067], [41.38904, 2.14832], [41.3903, 2.14825], [41.38423, 2.16872], [41.39085, 2.14648], [41.40407, 2.20463], [41.384144, 2.16169], [41.384144, 2.16169], [41.39257, 2.17139], [41.37469, 2.12561], [41.384144, 2.16169], [41.384144, 2.16169], [41.40998, 2.16361], [41.37956, 2.15172], [41.38861, 2.18387], [41.4075, 2.14717], [41.401333, 2.13795], [41.40126, 2.13818], [41.40126, 2.13818], [41.41239, 2.17735], [41.391254, 2.162734], [41.42015, 2.17594], [41.37983, 2.1515], [41.3778, 2.17502], [41.37801, 2.17545], [41.404026, 2.160924], [41.404144, 2.161007], [41.40715, 2.146326], [41.41294, 2.17879], [41.38026, 2.17957], [41.40715, 2.146326], [41.37952, 2.17134], [41.40715, 2.146326], [41.3779, 2.17397], [41.37747, 2.17545], [41.40715, 2.14633], [41.40764, 2.14698], [41.407642, 2.146981], [41.40612, 2.1321], [41.39874, 2.1733], [41.403336, 2.135607], [41.401241, 2.137927], [41.40374, 2.18253], [41.401241, 2.137927], [41.39191, 2.17109], [41.401241, 2.137927], [41.401241, 2.137927], [41.40524, 2.18276], [41.41282, 2.17918], [41.37621, 2.12355], [41.401318, 2.138194], [41.37813, 2.14407], [41.37951, 2.15152], [41.41092, 2.17404], [41.39309, 2.14793], [41.37955, 2.14905], [41.3797, 2.14899], [41.37935, 2.15046], [41.37404, 2.13935], [41.37254, 2.1321], [41.37944, 2.15067], [41.3791, 2.14925], [41.39439, 2.1716], [41.38139, 2.14893], [41.38418, 2.17963], [41.38063, 2.15096], [41.37925, 2.14908], [41.3791, 2.1512], [41.38504, 2.17796], [41.38647, 2.17951], [41.3865, 2.17824], [41.38365, 2.13251], [41.39269, 2.16964], [41.37408, 2.16518], [41.3901, 2.14434], [41.40731, 2.16744], [41.37975, 2.11485], [41.38689, 2.1579], [41.405941, 2.172211], [41.37346, 2.15615], [41.4022, 2.17628], [41.40169, 2.16049], [41.40359, 2.15858], [41.39722, 2.16885], [41.39687, 2.17191], [41.40684, 2.16759], [41.38567, 2.16832], [41.39839, 2.16123], [41.39842, 2.17342], [41.401112, 2.16471], [41.404343, 2.173255], [41.404815673828125, 2.1761040687561035], [41.39826, 2.19079], [41.40124, 2.15185], [41.41385, 2.17771], [41.37944, 2.17748], [41.38441, 2.17674], [41.401257, 2.138177], [41.37777, 2.12206], [41.401257, 2.138177], [41.382465, 2.172445], [41.37462, 2.14346], [41.401257, 2.138177], [41.3816, 2.17427], [41.39299, 2.180623], [41.39936, 2.155], [41.39298, 2.17144], [41.41096, 2.17389], [41.37987, 2.19088], [41.39098, 2.14662], [41.39102, 2.1699], [41.38954, 2.14326], [41.37444, 2.17308], [41.39299, 2.180623], [41.41172, 2.19863], [41.39763, 2.15889], [41.37227, 2.14884], [41.393143, 2.180157], [41.39282, 2.16957], [41.395996, 2.136988], [41.39327, 2.17136], [41.38647, 2.17883], [41.393143, 2.180157], [41.393143, 2.180157], [41.395996, 2.136988], [41.395996, 2.136988], [41.395996, 2.136988], [41.404026, 2.160924], [41.404026, 2.160924], [41.404026, 2.160924], [41.38404, 2.15484], [41.37921, 2.15188], [41.37899, 2.16032], [41.37764, 2.16202], [41.40077, 2.13886], [41.408302, 2.187784], [41.38066, 2.17756], [41.39329, 2.18459], [41.39326, 2.17076], [41.40907, 2.18315], [41.393, 2.17132], [41.38208, 2.16635], [41.39143, 2.17113], [41.41102, 2.17781], [41.39659, 2.16961], [41.37402, 2.1618], [41.37960052490234, 2.173280000686645], [41.39738, 2.15342], [41.35952, 2.13861], [41.37938, 2.16952], [41.4272, 2.15541], [41.41551, 2.19185], [41.38224, 2.18961], [41.39694, 2.17801], [41.38297, 2.12628], [41.40715, 2.146326], [41.3808, 2.15318], [41.39034315781237, 2.181751035296889], [41.38863619415055, 2.181723972538073], [41.38910574257035, 2.18015818878624], [41.40524, 2.2125], [41.3890153596027, 2.180352823733325], [41.39169, 2.16955], [41.38113, 2.16664], [41.38431, 2.18324], [41.36022, 2.14025], [41.40749, 2.18059], [41.39531, 2.18633], [41.39554, 2.18584], [41.37758, 2.16927], [41.39795, 2.15883], [41.40834, 2.14677], [41.39253, 2.17153], [41.39719, 2.18585], [41.37372, 2.16601], [41.39256, 2.16926], [41.39122, 2.17102], [41.39321, 2.16996], [41.39455, 2.15894], [41.39673, 2.16067], [41.3967, 2.15927], [41.39627, 2.16062], [41.41077, 2.16445], [41.39357, 2.19648], [41.40646, 2.14888], [41.37331, 2.16477], [41.37988, 2.16782], [41.37879, 2.16598], [41.39303, 2.16986], [41.37317, 2.16479], [41.37524, 2.12315], [41.39158, 2.17127], [41.38755, 2.17573], [41.38223, 2.1839], [41.38147, 2.1789], [41.3933, 2.1647], [41.40106, 2.16532], [41.38183, 2.17972], [41.37688, 2.17287], [41.38865, 2.16955], [41.38482, 2.18087], [41.37418, 2.15445], [41.38766, 2.17011], [41.38226, 2.15398], [41.37327, 2.1647], [41.37376, 2.16686], [41.37311, 2.16968], [41.38426, 2.16941], [41.37608, 2.143979], [41.39065, 2.15821], [41.38337, 2.16551], [41.37608, 2.143979], [41.37689, 2.15496], [41.37608, 2.143979], [41.375198, 2.169211], [41.40035, 2.17616], [41.38252, 2.17201], [41.37414, 2.14276], [41.3846064, 2.1724631], [41.37886, 2.16539], [41.37899, 2.13105], [41.38067, 2.1669], [41.387932, 2.156806], [41.37684, 2.15893], [41.37706, 2.13041], [41.38821, 2.16394], [41.387932, 2.156806], [41.387932, 2.156806], [41.4223, 2.14821], [41.40434, 2.17497], [41.38507, 2.18285], [41.383717, 2.180135], [41.40018, 2.16276], [41.383717, 2.180135], [41.403336, 2.135607], [41.383717, 2.180135], [41.39237, 2.1876], [41.40015, 2.13904], [41.40057, 2.16079], [41.38193, 2.17463], [41.38004, 2.1772], [41.38161, 2.16529], [41.40234, 2.13826], [41.40165, 2.1389], [41.42191, 2.1423], [41.41741, 2.18516], [41.40468, 2.16793], [41.39163, 2.17484], [41.39188, 2.17634], [41.40209, 2.13828], [41.401241, 2.137927], [41.407269, 2.146335], [41.38977, 2.17599], [41.38128, 2.16737], [41.407269, 2.146335], [41.38309, 2.16585], [41.37582, 2.12225], [41.38318, 2.16555], [41.38255, 2.16746], [41.38124, 2.16565], [41.39174, 2.1578], [41.38213, 2.16491], [41.38327, 2.16662], [41.38152, 2.18261], [41.39744, 2.18584], [41.39558, 2.18463], [41.39564, 2.18405], [41.38739, 2.18222], [41.38203, 2.16575], [41.39551, 2.18407], [41.37424, 2.1635], [41.38395, 2.15408], [41.41757, 2.18644], [41.41409, 2.16117], [41.39057, 2.15532], [41.407269, 2.146335], [41.38411, 2.18161], [41.38223, 2.15209], [41.38443, 2.15324], [41.38787, 2.20216], [41.37865, 2.17816], [41.407722, 2.14686], [41.3791, 2.15656], [41.39921, 2.19739], [41.37716, 2.12282], [41.39729, 2.17614], [41.41949, 2.15864], [41.41961, 2.15874], [41.4193, 2.15677], [41.41786, 2.15885], [41.37415, 2.16999], [41.40684, 2.14796], [41.38259, 2.18832], [41.40216, 2.13911], [41.40025, 2.1392], [41.392338, 2.164229], [41.3796, 2.1752], [41.37278, 2.16432], [41.37501, 2.14599], [41.40612, 2.132097], [41.38723, 2.17979], [41.38709, 2.17712], [41.38062, 2.17455], [41.37717, 2.15225], [41.3806, 2.15328], [41.40375, 2.1759], [41.383682, 2.181582], [41.38357, 2.15485], [41.38022, 2.17613], [41.37787, 2.17652], [41.37615, 2.19034], [41.40563, 2.17263], [41.40648, 2.17066], [41.37987, 2.13249], [41.40028, 2.13928], [41.38531, 2.15814], [41.37408447265625, 2.168529987335205], [41.37398, 2.12563], [41.38053, 2.16778], [41.38064, 2.16805], [41.38117, 2.16669], [41.402596, 2.176367], [41.37436, 2.12409], [41.39151, 2.16391], [41.39042, 2.16375], [41.39231, 2.18102], [41.38121, 2.16746], [41.38636, 2.1683], [41.43043, 2.14282], [41.40054, 2.17463], [41.39865, 2.17323], [41.40056, 2.17527], [41.39813, 2.15608], [41.40592, 2.16696], [41.37922, 2.1704], [41.39246, 2.18122], [41.37465, 2.18867], [41.402557, 2.176258], [41.401241, 2.137927], [41.39732, 2.19418], [41.40366, 2.14502], [41.37441, 2.15566], [41.38113, 2.16044], [41.37752, 2.18945], [41.381897, 2.188899], [41.402557, 2.176258], [41.38024, 2.17458], [41.40296, 2.16175], [41.402557, 2.176258], [41.402557, 2.176258], [41.40315, 2.16078], [41.37684, 2.15454], [41.37915, 2.17309], [41.40935, 2.14761], [41.36949, 2.14442], [41.38198, 2.17199], [41.38118, 2.17212], [41.43337, 2.14475], [41.36928, 2.14606], [41.39142, 2.16598], [41.38333, 2.15892], [41.39357, 2.16147], [41.37651, 2.17347], [41.39236, 2.16357], [41.38188, 2.17203], [41.38182, 2.17205], [41.401272, 2.169838], [41.37999, 2.16862], [41.37584, 2.17566], [41.39885, 2.16441], [41.40519, 2.18016], [41.38145, 2.15745], [41.413158, 2.179234], [41.40901, 2.18027], [41.3776, 2.15627], [41.376793, 2.119304], [41.39037322998047, 2.1852059364318848], [41.41655, 2.19583], [41.38116, 2.18945], [41.38899, 2.15643], [41.38543, 2.16257], [41.38827, 2.15433], [41.38796, 2.15496], [41.3775, 2.16855], [41.38701, 2.17954], [41.37464, 2.16466], [41.41667, 2.14729], [41.379692, 2.176579], [41.38586, 2.15982], [41.37829, 2.17695], [41.38769, 2.14526], [41.38788, 2.18065], [41.37907, 2.17694], [41.37993, 2.17734], [41.37745, 2.1901], [41.37305, 2.16543], [41.42675, 2.16754], [41.37815, 2.1887], [41.37594, 2.18893], [41.38082, 2.1777], [41.39989, 2.18086], [41.40764, 2.17143], [41.37924, 2.17504], [41.37684, 2.16213], [41.43127, 2.17936], [41.37353, 2.16679], [41.40936, 2.206], [41.37341, 2.16525], [41.40086, 2.1788], [41.37226, 2.16857], [41.38193, 2.17653], [41.38339, 2.1751], [41.39896, 2.16904], [41.38367, 2.16347], [41.40639, 2.17463], [41.37357, 2.16369], [41.38542, 2.1638], [41.39004, 2.1596], [41.375851, 2.173257], [41.38211, 2.17558], [41.3852, 2.15282], [41.37355, 2.16415], [41.404815673828125, 2.1761040687561035], [41.40498, 2.17992], [41.393143, 2.180157], [41.38923, 2.15905], [41.39409, 2.17945], [41.38071, 2.17621], [41.37163, 2.16457], [41.38064, 2.17576], [41.37725, 2.12876], [41.42209, 2.15333], [41.3723030090332, 2.14700698852539], [41.41556, 2.18516], [41.38935, 2.1699], [41.38915, 2.17531], [41.38206, 2.17115], [41.39391, 2.18071], [41.39462, 2.16581], [41.38091, 2.16939], [41.39391, 2.18072], [41.3748, 2.1475], [41.39416, 2.17027], [41.39275, 2.17136], [41.40857, 2.13905], [41.37699, 2.19107], [41.404026, 2.160924], [41.404144, 2.161007], [41.39481, 2.17487], [41.39519, 2.1752], [41.39351, 2.1748], [41.39475, 2.17459], [41.39499, 2.17295], [41.38018, 2.1672], [41.37804, 2.19196], [41.3816, 2.18685], [41.38421, 2.13059], [41.403526, 2.175508], [41.39379640000001, 2.171025], [41.3918, 2.16755], [41.39657249237902, 2.144220442178778], [41.411888, 2.163471], [41.393795, 2.171025], [41.38669, 2.18209], [41.38565, 2.1797], [41.39686, 2.15559], [41.37673, 2.17552], [41.37153, 2.15789], [41.41196, 2.21722], [41.40451, 2.17484], [41.383175, 2.181868], [41.38104, 2.16829], [41.37922, 2.19053], [41.375488, 2.156268], [41.37917, 2.1682], [41.38103, 2.16882], [41.41228, 2.21349], [41.39834, 2.17069], [41.40949, 2.1823], [41.41248, 2.1735], [41.37622, 2.16981], [41.40305, 2.16299], [41.37718, 2.16521], [41.37748, 2.17433], [41.38159, 2.18762], [41.40117, 2.17707], [41.40306, 2.17635], [41.41001, 2.17997], [41.37984, 2.16596], [41.402557, 2.176258], [41.37707, 2.19087], [41.38286, 2.18078], [41.39404, 2.16539], [41.41427, 2.18514], [41.40498, 2.19406], [41.39363, 2.15161], [41.37307, 2.16373], [41.37927, 2.17412], [41.38891, 2.14651], [41.39455, 2.16558], [41.37302, 2.15478], [41.38997, 2.15963], [41.44461, 2.18021], [41.38649, 2.16412], [41.38766, 2.16492], [41.38799, 2.16883], [41.38827, 2.17507], [41.39253, 2.16573], [41.38937, 2.16952], [41.42498, 2.178396], [41.37283, 2.16611], [41.378582, 2.177905], [41.44463, 2.177807], [41.38887, 2.16978], [41.39708, 2.17938], [41.3879, 2.16965], [41.37483, 2.16216], [41.38504, 2.18163], [41.38439, 2.16001], [41.39508, 2.14479], [41.396523, 2.150951], [41.40176, 2.20911], [41.391651, 2.193947], [41.396523, 2.150951], [41.40357, 2.17822], [41.396523, 2.150951], [41.43573, 2.15538], [41.3741, 2.16608], [41.3792, 2.14587], [41.37952, 2.17554], [41.38642, 2.17345], [41.37563, 2.1629], [41.37388, 2.1266], [41.41188, 2.14231], [41.38137, 2.15808], [41.401604, 2.161904], [41.3901, 2.17988], [41.41643, 2.20409], [41.38087, 2.15821], [41.37753, 2.1597], [41.38424, 2.16679], [41.41376, 2.19598], [41.40171, 2.17812], [41.40129, 2.14276], [41.39764, 2.17725], [41.37809, 2.17563], [41.38096, 2.17622], [41.37843, 2.1786], [41.37865, 2.17778], [41.39837, 2.17356], [41.38346, 2.17819], [41.38144, 2.17882], [41.41191, 2.16921], [41.37661, 2.16747], [41.40857, 2.18038], [41.38002, 2.17039], [41.40237, 2.170603], [41.37875109259882, 2.1644770866393643], [41.40204, 2.20244], [41.3806, 2.17131], [41.38461, 2.17847], [41.41403, 2.16258], [41.38078, 2.18035], [41.40776, 2.17682], [41.39517, 2.16795], [41.40282, 2.18474], [41.41457, 2.16533], [41.44967, 2.18137], [41.383667, 2.180617], [41.39666, 2.17068], [41.37769, 2.16544], [41.37913, 2.16747], [41.40895, 2.16783], [41.37621, 2.11639], [41.38157, 2.19054], [41.4085, 2.16603], [41.39963, 2.14355], [41.40013, 2.1439], [41.3994, 2.1419], [41.40277, 2.20082], [41.41609, 2.16573], [41.41461, 2.18375], [41.3795, 2.1655], [41.374535, 2.127667], [41.39314, 2.17129], [41.40365, 2.17788], [41.38405, 2.12758], [41.39846, 2.17036], [41.37366, 2.16445], [41.37238, 2.16481], [41.39026, 2.16645], [41.38296, 2.18178], [41.38692, 2.1697], [41.38718, 2.16948], [41.38439, 2.18026], [41.38044, 2.17882], [41.38417, 2.17076], [41.39033, 2.16894], [41.37796, 2.18038], [41.38969, 2.17906], [41.404926, 2.180162], [41.38402, 2.16907], [41.39205, 2.16795], [41.38395, 2.16931], [41.38361, 2.18294], [41.42445, 2.2086], [41.38114, 2.14784], [41.38106, 2.1889], [41.41049, 2.179], [41.38368, 2.17066], [41.38258, 2.18253], [41.39566, 2.16426], [41.38525, 2.17061], [41.398, 2.17054], [41.37936, 2.19205], [41.37899, 2.16735], [41.38193323897246, 2.187372968887544], [41.38391, 2.16902], [41.40664, 2.16496], [41.38354, 2.17872], [41.38202, 2.17713], [41.38214, 2.17719], [41.44126, 2.17812], [41.38957, 2.17987], [41.41987, 2.17917], [41.39396, 2.12996], [41.38649, 2.18299], [41.42007, 2.18092], [41.38497, 2.18344], [41.412167, 2.169548], [41.410339, 2.188403], [41.417385, 2.206721], [41.39303, 2.15942], [41.3807, 2.17771], [41.38103, 2.18223], [41.37621, 2.17178], [41.38642717286717, 2.201057630163604], [41.38196, 2.1819], [41.37887, 2.15101], [41.38034, 2.1757], [41.39528, 2.20013], [41.43615, 2.17145], [41.41104, 2.22056], [41.3805, 2.17578], [41.41195, 2.14022], [41.38199, 2.16398], [41.40065, 2.15709], [41.4186, 2.17134], [41.42653, 2.17247], [41.383072, 2.179548], [41.39485, 2.15849], [41.38505, 2.15365], [41.3818, 2.18216], [41.38911, 2.16123], [41.38219, 2.18001], [41.41089, 2.17474], [41.39734, 2.18049], [41.40854, 2.18088], [41.39128, 2.17456], [41.39112, 2.17633], [41.40449, 2.20628], [41.38882, 2.15795], [41.41964, 2.1792], [41.38784, 2.17977], [41.38834, 2.13969], [41.37703, 2.14338], [41.38738, 2.17232], [41.37277, 2.16266], [41.37398, 2.12495], [41.38171, 2.17795], [41.392452, 2.156243], [41.3921, 2.161], [41.38064, 2.17682], [41.40544, 2.17517], [41.38100814819336, 2.154136896133423], [41.39931, 2.17257], [41.41373, 2.19682], [41.38872322385216, 2.163719497652611], [41.40692, 2.20366], [41.39653, 2.12943], [41.41578, 2.18496], [41.381184, 2.175347], [41.38562, 2.15744], [41.3751, 2.13186], [41.38103, 2.16823], [41.38909, 2.16712], [41.37715, 2.15739], [41.38454, 2.18401], [41.374447, 2.155952], [41.4068603515625, 2.1774630546569824], [41.438412, 2.190909], [41.38559, 2.16517], [41.38288, 2.18456], [41.40886, 2.16357], [41.42341, 2.1535], [41.3823, 2.178], [41.39539, 2.16765], [41.38123, 2.15437], [41.3935, 2.16732], [41.38975, 2.15527], [41.384041, 2.162408], [41.38459, 2.15594], [41.40132, 2.13497], [41.41606, 2.21361], [41.3934051, 2.1626955], [41.3832197, 2.1826108], [41.438694, 2.178065], [41.39136, 2.16707], [41.38974, 2.16503], [41.38518, 2.13726], [41.39136, 2.16688], [41.37318, 2.13736], [41.38435, 2.16215], [41.389565, 2.163969], [41.432941, 2.154836], [41.37754, 2.14555], [41.37174, 2.14864], [41.40288, 2.16026], [41.41122, 2.17644], [41.38206, 2.17691], [41.40238, 2.16029], [41.40335, 2.1761], [41.40152, 2.1775], [41.41392, 2.21264], [41.40172, 2.17612], [41.3835, 2.16209], [41.3819, 2.15704], [41.39123, 2.1857], [41.39818, 2.16687], [41.398, 2.1672], [41.40402, 2.17558], [41.39317, 2.17852], [41.3892, 2.16018], [41.39765, 2.16948], [41.40257, 2.16004], [41.40449, 2.15867], [41.40369, 2.15065], [41.39392, 2.16585], [41.41255, 2.17379], [41.39883870000001, 2.1607091], [41.37706, 2.16633], [41.39883870000001, 2.1607091], [41.36699, 2.13416], [41.3845, 2.17054], [41.36496, 2.13498], [41.37639, 2.17317], [41.37452, 2.16607], [41.39209, 2.1751], [41.37476, 2.1659], [41.41709, 2.16042], [41.4088923, 2.1806507], [41.38139, 2.16603], [41.37368, 2.16191], [41.40212, 2.20032], [41.37384, 2.12627], [41.38281, 2.16255], [41.41444, 2.17846], [41.37557, 2.1244], [41.3908, 2.17823], [41.3914, 2.18111], [41.41154, 2.17065], [41.37845, 2.1777], [41.37878, 2.167], [41.37884, 2.14802], [41.38294, 2.16506], [41.4092, 2.17884], [41.38427, 2.15363], [41.38199, 2.18063], [41.38694, 2.15946], [41.38343, 2.17472], [41.37773, 2.1894], [41.40844, 2.17802], [41.38117, 2.1879], [41.38532, 2.14976], [41.3736, 2.16716], [41.38083, 2.19025], [41.38494, 2.13439], [41.40083, 2.174], [41.40076, 2.17836], [41.38176, 2.18248], [41.37921, 2.17276], [41.37786, 2.17294], [41.40273, 2.17039], [41.41549, 2.16081], [41.38081, 2.16938], [41.3736, 2.15647], [41.3991, 2.16386], [41.39883870000001, 2.1607091], [41.38295, 2.13143], [41.41594, 2.18246], [41.39912, 2.16551], [41.39929, 2.16533], [41.4165, 2.18508], [41.404926, 2.180162], [41.3852, 2.14888], [41.38333, 2.1836], [41.39147, 2.18866], [41.40705132267178, 2.172988555876563], [41.38404303871836, 2.181463431707425], [41.37405, 2.15907], [41.38216, 2.17138], [41.39883870000001, 2.1607091], [41.37698, 2.17406], [41.41237, 2.19244], [41.39883870000001, 2.1607091], [41.37339, 2.1266], [41.40204, 2.15998], [41.375568, 2.133408], [41.40408, 2.17854], [41.4037, 2.17756], [41.378178, 2.190155], [41.38496, 2.16565], [41.39180219379122, 2.168467779791783], [41.38221, 2.16258], [41.3746263, 2.1678581], [41.39555, 2.19291], [41.4229, 2.17189], [41.37716, 2.18988], [41.37212, 2.16571], [41.38099, 2.16278], [41.38281, 2.16226], [41.392536, 2.191884], [41.37718, 2.17282], [41.38615, 2.17728], [41.38298, 2.16264], [41.38207, 2.16076], [41.38149, 2.16261], [41.38268, 2.16243], [41.39937, 2.18908], [41.42703, 2.15569], [41.397106, 2.167724], [41.40216, 2.17271], [41.41023, 2.14566], [41.37428, 2.12435], [41.36914, 2.13196], [41.37174, 2.16602], [41.37501, 2.14182], [41.41658782958984, 2.1109418869018555], [41.4036, 2.17602], [41.38699, 2.18045], [41.3717, 2.16844], [41.379837, 2.176643], [41.38766, 2.1776], [41.41611, 2.10994], [41.37919, 2.1667], [41.40427, 2.17761], [41.416412, 2.110835], [41.38296, 2.13623], [41.37992, 2.15436], [41.39344, 2.14518], [41.39119, 2.19402], [41.384621, 2.177447], [41.37991, 2.1546], [41.4065695, 2.1715543], [41.375851, 2.173257], [41.375851, 2.173257], [41.38942, 2.16142], [41.40441, 2.21335], [41.38933, 2.17317], [41.42037, 2.14143], [41.37848, 2.1898], [41.41728, 2.10984], [41.38303, 2.17348], [41.384842, 2.175508], [41.384586, 2.162561], [41.397324, 2.159261], [41.37489, 2.14664], [41.39883870000001, 2.1607091], [41.40082, 2.15607], [41.42689, 2.16924], [41.41277, 2.18454], [41.39656, 2.15848], [41.39822, 2.15862], [41.40503, 2.16988], [41.37781, 2.1547], [41.37507, 2.14643], [41.38477, 2.16871], [41.37431, 2.1672], [41.39215, 2.17158], [41.363979, 2.1399], [41.412743, 2.180511], [41.37277, 2.16149], [41.396996, 2.175593], [41.41648, 2.16375], [41.37802, 2.17557], [41.42479, 2.14443], [41.38125, 2.16882], [41.38556, 2.14985], [41.40312, 2.206], [41.39991, 2.15054], [41.38465, 2.14422], [41.38871, 2.19702], [41.40498, 2.213], [41.38301626315268, 2.183515765814572], [41.372562, 2.170526], [41.38245, 2.17766], [41.39142, 2.17428], [41.3985553, 2.1529057], [41.3823, 2.18265], [41.38061, 2.16272], [41.378178, 2.190155], [41.38115, 2.16068], [41.38284, 2.16087], [41.3746263, 2.1678581], [41.38165, 2.17494], [41.3746263, 2.1678581], [41.41561, 2.18704], [41.40478, 2.17771], [41.38104, 2.16255], [41.402126, 2.119392], [41.38102, 2.16082], [41.38269, 2.16238], [41.38939, 2.18209], [41.38143, 2.16063], [41.38296, 2.16055], [41.39004, 2.18223], [41.389, 2.18183], [41.38894, 2.18191], [41.39059, 2.18228], [41.38105, 2.16067], [41.37707, 2.14468], [41.3822, 2.1608], [41.4227, 2.17359], [41.41399, 2.15322], [41.38087, 2.17133], [41.39074, 2.17432], [41.37346, 2.12892], [41.403072, 2.157628], [41.3736, 2.16063], [41.3895663, 2.1639692], [41.38623, 2.1512], [41.4141121, 2.1897885], [41.38253, 2.17248], [41.40318, 2.1573], [41.3858, 2.15839], [41.393951, 2.18154], [41.37387, 2.14398], [41.39934, 2.14417], [41.40111, 2.14378], [41.40158, 2.14387], [41.37812, 2.16481], [41.37743392379913, 2.130705875862403], [41.382599, 2.170705], [41.43865, 2.19101], [41.37282, 2.14751], [41.37216, 2.16456], [41.37239, 2.14985], [41.38322, 2.17326], [41.38084, 2.15385], [41.38164, 2.15176], [41.38007, 2.18954], [41.38415, 2.16679], [41.38077, 2.1516], [41.37843, 2.15781], [41.40347329999999, 2.1271112], [41.42612, 2.19136], [41.38231, 2.15364], [41.4404708, 2.1816656], [41.38992, 2.17374], [41.376396, 2.189396], [41.386204, 2.175289], [41.3967, 2.17769], [41.39749, 2.172], [41.38082, 2.16949], [41.37733, 2.16235], [41.39608, 2.17928], [41.38559, 2.1587], [41.39883870000001, 2.1607091], [41.40397, 2.20289], [41.39773, 2.14497], [41.38217, 2.16572], [41.38212, 2.16358], [41.38354, 2.16367], [41.39844, 2.20134], [41.37521, 2.14681], [41.37834, 2.15997], [41.383575, 2.169703], [41.38571, 2.15839], [41.38732, 2.15676], [41.38738, 2.1587], [41.38549, 2.15684], [41.38507, 2.15795], [41.38723, 2.15794], [41.39975776291973, 2.208731063662843], [41.38564, 2.1586], [41.38598, 2.15858], [41.38725, 2.15856], [41.39005, 2.17968], [41.4034, 2.21043], [41.38321, 2.145], [41.40051, 2.17355], [41.39229, 2.16195], [41.39883870000001, 2.1607091], [41.37132, 2.17181], [41.40113, 2.17726], [41.4087, 2.17463], [41.40257, 2.17602], [41.4058, 2.19605], [41.3895, 2.17733], [41.38745, 2.15897], [41.4090736, 2.1463304], [41.371258, 2.158589], [41.38494, 2.15384], [41.371491, 2.1465209], [41.38887115957355, 2.1365126761963005], [41.391497, 2.126109], [41.399593, 2.178972], [41.38943, 2.17882], [41.41166, 2.17755], [41.37214, 2.15556], [41.40209, 2.14903], [41.38684, 2.18116], [41.402092, 2.160354], [41.39593, 2.16009], [41.39759, 2.16177], [41.39554, 2.16226], [41.39781, 2.16202], [41.39739, 2.1618], [41.37615, 2.16588], [41.39679, 2.12385], [41.39724, 2.17223], [41.389526, 2.158062], [41.37718, 2.16305], [41.37409, 2.13736], [41.39701, 2.15803], [41.44518, 2.17648], [41.39833, 2.1593], [41.39869, 2.15961], [41.38050147706345, 2.1892262929850124], [41.37264, 2.15755], [41.38023, 2.17848], [41.38412, 2.14199], [41.40099, 2.17367], [41.3728, 2.16948], [41.39671, 2.18236], [41.3723, 2.12695], [41.40458, 2.14512], [41.4039, 2.1779], [41.3905263, 2.1850748], [41.40801829999999, 2.1548305], [41.39782, 2.1622], [41.39567, 2.16206], [41.39554, 2.16208], [41.38154, 2.15666], [41.41758, 2.18896], [41.39819, 2.14363], [41.41746, 2.18674], [41.41593, 2.18746], [41.41596, 2.18699], [41.37888, 2.15513], [41.40801829999999, 2.1548305], [41.41248, 2.17211], [41.37287, 2.15621], [41.40018, 2.17394], [41.37629, 2.15472], [41.3826, 2.1546], [41.38251, 2.15396], [41.38428, 2.15416], [41.391609688625856, 2.175265961376942], [41.40326, 2.18291], [41.3847656, 2.1799558], [41.3941902, 2.1468278], [41.3803, 2.17702], [41.40852, 2.1771], [41.40859, 2.17557], [41.40688, 2.17545], [41.38232, 2.17608], [41.37261, 2.15982], [41.41548, 2.1821], [41.4033316, 2.1714857], [41.4180236, 2.1484724], [41.37889, 2.17035], [41.38632, 2.17593], [41.3996, 2.18109], [41.39695, 2.13312], [41.39162, 2.18452], [41.39122, 2.18406], [41.40669, 2.16102], [41.38943, 2.18458], [41.38978, 2.18454], [41.3763363, 2.1575733], [41.39423, 2.17948], [41.3921849, 2.1703916], [41.37338, 2.15905], [41.38543, 2.18032], [41.39233, 2.13193], [41.39032, 2.16719], [41.41948, 2.14829], [41.40254, 2.163371], [41.3997478, 2.1516045], [41.37053, 2.16561], [41.3962, 2.17028], [41.38071, 2.14811], [41.41362047912663, 2.179584503173828], [41.379274, 2.176689], [41.37981, 2.17867], [41.3985553, 2.1529057], [41.37616, 2.13861], [41.3880627, 2.1690864], [41.3974908, 2.1560361], [41.37768, 2.14168], [41.36685, 2.13329], [41.38263, 2.14527], [41.3997478, 2.1516045], [41.39941, 2.15362], [41.39927, 2.15423], [41.37657, 2.17461], [41.38288, 2.16241], [41.39073, 2.18268], [41.3812853224279, 2.180710683914011], [41.38781, 2.16028], [41.39222, 2.17018], [41.38756, 2.19892], [41.40693, 2.20395], [41.40404, 2.13618], [41.40614, 2.17896], [41.404816341, 2.17610394], [41.37355, 2.15788], [41.40547, 2.15666], [41.37868, 2.1438], [41.37383, 2.15736], [41.38107, 2.14901], [41.38140433434653, 2.172939386166713], [41.44029, 2.18735], [41.37373, 2.16379], [41.37665, 2.15721], [41.40296, 2.17159], [41.3738213, 2.1383285], [41.37741, 2.169], [41.38851, 2.15747], [41.39711, 2.17099], [41.4247, 2.15808], [41.38703, 2.15154], [41.37382, 2.12472], [41.4027792, 2.1800471], [41.410764544178775, 2.179303877055645], [41.4022, 2.15336], [41.3905263, 2.1850748], [41.38165, 2.16756], [41.3726, 2.14502], [41.40165150933766, 2.168540172278881], [41.37866, 2.1707], [41.37776, 2.17086], [41.37567, 2.13155], [41.40608, 2.1573], [41.401383162885686, 2.208162757616189], [41.39157995312659, 2.1906363556893997], [41.37888229647054, 2.1730108858288903], [41.38389, 2.18285], [41.43003706965322, 2.187918955271282], [41.37408, 2.159], [41.37938, 2.16684], [41.39904, 2.16923], [41.38944, 2.17294], [41.40271, 2.16467], [41.38366, 2.18431], [41.37564, 2.12573], [41.3997478, 2.1516045], [41.38408, 2.1668], [41.37616, 2.155], [41.37338, 2.15489], [41.3763363, 2.1575733], [41.41941, 2.17354], [41.36894, 2.14197], [41.38133, 2.15861], [41.37546, 2.15648], [41.40171, 2.17473], [41.37858, 2.16926], [41.37538, 2.16106], [41.40100820409447, 2.184068150818348], [41.38179, 2.17498], [41.38252, 2.16021], [41.39197, 2.18736], [41.38207, 2.1641], [41.38454, 2.15742], [41.3866, 2.16225], [41.40691, 2.17534], [41.39166, 2.16547], [41.40751, 2.20536], [41.41653, 2.16244], [41.38193, 2.16023], [41.38687, 2.17558], [41.3738213, 2.1383285], [41.40859, 2.18134], [41.38543, 2.14793], [41.394817, 2.1245992], [41.394817, 2.1245992], [41.394817, 2.1245992], [41.37402, 2.15759], [41.40989, 2.18219], [41.3859674264728, 2.19862930151946], [41.39965, 2.14812], [41.38006, 2.17785], [41.3811732, 2.175304680950929], [41.39478, 2.17672], [41.40713, 2.20366], [41.41284, 2.18877], [41.39138, 2.19506], [41.39601, 2.17583], [41.40299, 2.15234], [41.38337, 2.17728], [41.38326, 2.1769], [41.38345, 2.17769], [41.38131, 2.17592], [41.38742, 2.14726], [41.40475, 2.17453], [41.3926352, 2.1804244], [41.4058573, 2.1980794], [41.37338, 2.15932], [41.38553, 2.14787], [41.39361, 2.17936], [41.423608, 2.1743695], [41.39373, 2.18002], [41.38054, 2.18135], [41.3723, 2.13182], [41.4116968, 2.1423965], [41.37947, 2.16516], [41.37403, 2.15666], [41.37198099163109, 2.131583020091057], [41.38007, 2.15918], [41.39541, 2.14515], [41.38007, 2.17481], [41.39024, 2.15784], [41.3783, 2.16584], [41.3799, 2.16795], [41.37197, 2.1558], [41.37401, 2.15567], [41.38100230727228, 2.126306562546977], [41.3954047, 2.1451492], [41.3729356, 2.1309752], [41.4097, 2.17527], [41.3806, 2.18206], [41.3752147, 2.1671382], [41.40209350000001, 2.1490309], [41.3849955, 2.1843208], [41.38265, 2.19047], [41.37986800708756, 2.176428896295146], [41.41514, 2.20356], [41.37933, 2.16583], [41.41176, 2.15798], [41.38131, 2.14667], [41.378684, 2.172384], [41.40132, 2.16134], [41.41275, 2.14609], [41.37916, 2.16519], [41.38318, 2.16139], [41.39668, 2.18026], [41.37541, 2.15639], [41.377114897400055, 2.175194773016376], [41.37503, 2.12777], [41.3753, 2.14663], [41.4025177, 2.1752479], [41.40171, 2.17463], [41.40288, 2.20062], [41.3851383, 2.1549816], [41.40377, 2.16832], [41.38153, 2.1825], [41.37179, 2.15601], [41.44352, 2.17897], [41.37673, 2.15484], [41.3849955, 2.1843208], [41.38321, 2.18124], [41.35988, 2.13641], [41.3782, 2.17475], [41.37829, 2.17436], [41.37842, 2.17298], [41.4021, 2.15343], [41.37749, 2.17273], [41.37372, 2.15719], [41.38371, 2.17069], [41.40188111451164, 2.164457179605961], [41.37768, 2.15594], [41.39339, 2.17665], [41.37623, 2.15278], [41.402359, 2.1599800000000187], [41.38447, 2.18059], [41.37475, 2.15531], [41.37594, 2.15468], [41.38209, 2.17013], [41.37807, 2.15403], [41.40159, 2.16143], [41.4115445, 2.216685], [41.39693, 2.16971], [41.38786, 2.14953], [41.4385442, 2.1900099], [41.38476, 2.15358], [41.38403, 2.1571], [41.38357, 2.17282], [41.37682, 2.15874], [41.3763363, 2.1575733], [41.40271, 2.20188], [41.38638, 2.18162], [41.37054, 2.14378], [41.39021, 2.19008], [41.38461608042424, 2.1625341082477925], [41.3886, 2.18195], [41.38061, 2.1686], [41.3849955, 2.1843208], [41.38069, 2.19127], [41.38412, 2.17891], [41.4097, 2.1729], [41.37864, 2.17462], [41.3773, 2.15287], [41.387054, 2.1592414], [41.37781, 2.14718], [41.40122, 2.18084], [41.38696, 2.17962], [41.3741, 2.15959], [41.37616, 2.16981], [41.39015, 2.16167], [41.406279233322834, 2.181095592677593], [41.39598, 2.1847], [41.37366, 2.16326], [41.3954047, 2.1451492], [41.37604, 2.16918], [41.3954047, 2.1451492], [41.38099, 2.15926], [41.37394, 2.15572], [41.37703, 2.16136], [41.4058608, 2.169774], [41.40828, 2.18057], [41.39956, 2.19774], [41.4397542, 2.178653], [41.3911, 2.16694], [41.37794, 2.17305], [41.37621, 2.17487], [41.40331219999999, 2.1648497], [41.38107, 2.17733], [41.39225, 2.15803], [41.37098, 2.16199], [41.37807, 2.17852], [41.38971, 2.17889], [41.3825, 2.19111], [41.38244, 2.19067], [41.39409, 2.15682], [41.39367, 2.18823], [41.4061, 2.16736], [41.38693, 2.20313], [41.40849, 2.18215], [41.37511, 2.13754], [41.373331, 2.129163], [41.42663, 2.15721], [41.38082782017712, 2.1720278720224595], [41.3982659, 2.1725605], [41.39542, 2.19931], [41.3777, 2.18794], [41.37371, 2.15636], [41.38648, 2.17618], [41.37975, 2.18809], [41.37304, 2.16597], [41.3872157, 2.1754482], [41.38102, 2.18005], [41.40699, 2.17472], [41.4048687, 2.179164], [41.40177, 2.15384], [41.43018, 2.1735], [41.38634, 2.13077], [41.38251, 2.16316], [41.3935723, 2.1537536], [41.38912, 2.17291], [41.37413, 2.15576], [41.3902244568, 2.1504867077], [41.37755, 2.15407], [41.39095, 2.17747], [41.392561347394576, 2.178204171359539], [41.41311, 2.1671], [41.40246, 2.1554], [41.3888168, 2.1808267], [41.42768, 2.15915], [41.40158, 2.18261], [41.40935, 2.17713], [41.38016, 2.17278], [41.3874732, 2.178298], [41.38836, 2.17463], [41.373506182233626, 2.128173261880874], [41.39922, 2.19655], [41.38451, 2.14907], [41.39157, 2.12826], [41.37826, 2.17321], [41.42387, 2.20993], [41.38626, 2.15083], [41.38461, 2.14897], [41.38634, 2.15079], [41.37764, 2.16584], [41.38304, 2.15357], [41.38622, 2.16072], [41.3813941, 2.1737843], [41.3813941, 2.1737843], [41.3827915, 2.1644095], [41.3954047, 2.1451492], [41.37776, 2.15297], [41.37412, 2.16414], [41.38749, 2.17943], [41.40922156116556, 2.176064827230594], [41.41254, 2.17768], [41.37829, 2.15812], [41.40375, 2.15315], [41.38193, 2.151], [41.4102441, 2.176434], [41.38127, 2.16759], [41.38041336999729, 2.131216392329624], [41.38351, 2.18268], [41.38744, 2.17652], [41.37563, 2.12279], [41.38187, 2.17818], [41.3754, 2.17128], [41.382, 2.17556], [41.37831, 2.17077], [41.37637, 2.17126], [41.36463, 2.13408], [41.408232, 2.179164], [41.38511, 2.17702], [41.37205, 2.13631], [41.38048, 2.16827], [41.37421, 2.18843], [41.3758506775, 2.1732571125], [41.38425, 2.16839], [41.37945, 2.17298], [41.37007, 2.13299], [41.38883366779473, 2.1799663826823235], [41.37424, 2.1345], [41.373056, 2.1356228], [41.37191, 2.13466], [41.37417, 2.13631], [41.37386, 2.13447], [41.37269, 2.13463], [41.37328, 2.13474], [41.3737, 2.13651], [41.37403, 2.13598], [41.3742, 2.13494], [41.37284, 2.13456], [41.37963, 2.1714], [41.37405, 2.15776], [41.38369, 2.18343], [41.40557, 2.15647], [41.38491, 2.15692], [41.39879, 2.169], [41.37689, 2.17491], [41.38285, 2.15793], [41.38123, 2.16985], [41.38989, 2.15531], [41.4155777, 2.1628491], [41.38573, 2.18462], [41.38571, 2.18389], [41.3838, 2.18399], [41.37434, 2.15864], [41.39441, 2.17642], [41.3739, 2.15663], [41.40598, 2.17628], [41.3968818, 2.1748367], [41.37498, 2.1468], [41.37788, 2.1568], [41.4462, 2.17105], [41.3873, 2.17174], [41.39591, 2.18092], [41.415627, 2.1581284], [41.38455, 2.15673], [41.40454, 2.15397], [41.3794589, 2.1666223], [41.39155, 2.18533], [41.38387, 2.18491], [41.38126, 2.19082], [41.38556, 2.14593], [41.40575, 2.17276], [41.3793, 2.17785], [41.37964, 2.15175], [41.3754, 2.12276], [41.3965, 2.19931], [41.41209, 2.14627], [41.4059173, 2.1816214], [41.40174, 2.16416], [41.39759, 2.17426], [41.40139, 2.15803], [41.3958, 2.17651], [41.39688, 2.1706], [41.3766847, 2.1519902], [41.38042, 2.15381], [41.37526889999999, 2.1727871], [41.38138, 2.16759], [41.386, 2.15543], [41.39715, 2.171], [41.37887, 2.17263], [41.38431, 2.15791], [41.39515, 2.18104], [41.38201, 2.187], [41.38412, 2.15941], [41.37772, 2.16015], [41.37896, 2.17972], [41.38424, 2.15778], [41.38431, 2.15938], [41.39097, 2.18031], [41.37878, 2.16586], [41.39135, 2.18629], [41.37914, 2.18942], [41.37447, 2.16165], [41.37867, 2.17973], [41.38176, 2.17824], [41.4282745, 2.1800087], [41.40206, 2.16195], [41.38216, 2.18082], [41.38164, 2.18029], [41.40445, 2.18074], [41.3773, 2.15838], [41.37632, 2.15676], [41.3844, 2.16823], [41.38926, 2.18441], [41.40513, 2.19604], [41.4066, 2.21377], [41.39541, 2.14515], [41.40515, 2.19809], [41.38278, 2.16237], [41.3788, 2.15365], [41.38365, 2.17378], [41.38358, 2.17998], [41.38441, 2.17359], [41.38198, 2.17857], [41.37979, 2.16611], [41.4228, 2.20156], [41.38516, 2.17426], [41.40091, 2.16429], [41.38204301980221, 2.163945514656461], [41.38069, 2.16616], [41.37552, 2.1631], [41.37873, 2.1546], [41.39886, 2.16381], [41.40105, 2.16566], [41.38385, 2.17449], [41.38493, 2.17248], [41.37877, 2.17774], [41.39902, 2.16624], [41.38065, 2.17635], [41.43707, 2.18847], [41.39142, 2.16139], [41.37851, 2.17514], [41.39852, 2.16438], [41.43222667475508, 2.141509903565968], [41.39855, 2.164], [41.40347, 2.20354], [41.39884, 2.16464], [41.37904, 2.16646], [41.39887, 2.16522], [41.38999, 2.16339], [41.42435, 2.18946], [41.374120508393545, 2.125231221165628], [41.38235, 2.17479], [41.37894, 2.17037], [41.381694599198894, 2.147659892065428], [41.38216, 2.18054], [41.37995, 2.17483], [41.39635, 2.17694], [41.40279, 2.15832], [41.38709, 2.1722], [41.3982818, 2.1574746], [41.37916, 2.16259], [41.38243569999999, 2.1756403], [41.40164, 2.17642], [41.38037, 2.17756], [41.382395, 2.12919], [41.38058, 2.16508], [41.37891, 2.16235], [41.3883, 2.16195], [41.38046, 2.18724], [41.39048, 2.16505], [41.4074, 2.17402], [41.40261, 2.16465], [41.395, 2.17799], [41.44405, 2.1699], [41.40703, 2.15541], [41.39121, 2.15442], [41.37414, 2.14794], [41.38004, 2.19081], [41.37601, 2.14656], [41.40145, 2.17055], [41.38693, 2.1738], [41.37745, 2.16254], [41.37928, 2.16285], [41.3842, 2.17509], [41.380369491575465, 2.145748582164108], [41.38169, 2.18097], [41.42711, 2.17596], [41.38216552209897, 2.1745466406784764], [41.37771, 2.15643], [41.37842, 2.18752], [41.3882, 2.16073], [41.38614, 2.16196], [41.3775376, 2.1753738], [41.389684, 2.1641266], [41.3771417, 2.1749219], [41.3801458, 2.1593273], [41.39886, 2.20139], [41.389684, 2.1641266], [41.38678, 2.16217], [41.37975, 2.18044], [41.38603, 2.17335], [41.40647, 2.17519], [41.37708, 2.15368], [41.3982818, 2.1574746], [41.37956, 2.1622], [41.39688, 2.18176], [41.38279, 2.1607], [41.40068, 2.17732], [41.371488398376414, 2.1620516465576056], [41.38394, 2.16999], [41.3841, 2.17215], [41.38228, 2.18063], [41.38008, 2.16641], [41.3782311, 2.1903074], [41.3982659, 2.1725605], [41.3759, 2.14802], [41.3749836, 2.1468482], [41.40036, 2.17779], [41.38053, 2.17399], [41.38248, 2.1751], [41.41139, 2.1795], [41.38465, 2.18489], [41.38317, 2.17537], [41.40079, 2.17629], [41.38691, 2.18185], [41.37963, 2.18808], [41.37727, 2.15182], [41.38377, 2.17566], [41.37267, 2.15818], [41.40188, 2.17728], [41.38543, 2.17779], [41.3855, 2.17726], [41.37567, 2.13427], [41.38156, 2.17872], [41.37855, 2.15185], [41.41028, 2.1757], [41.38447, 2.17529], [41.37883, 2.15361], [41.38384, 2.17397], [41.38175, 2.17956], [41.38077, 2.17889], [41.38815109999999, 2.1721898], [41.37976, 2.16792], [41.40092586795417, 2.119991307409652], [41.3758506775, 2.1732571125], [41.38512, 2.17387], [41.38286, 2.17292], [41.38519, 2.16459], [41.37668, 2.17654], [41.42934, 2.16609], [41.37784, 2.17469], [41.38469, 2.18349], [41.38362, 2.17252], [41.37829, 2.18818], [41.38302, 2.17397], [41.3843, 2.1723], [41.38447, 2.18476], [41.38446, 2.1849], [41.38501, 2.18312], [41.40137, 2.17017], [41.38335, 2.17557], [41.39636, 2.17001], [41.39012, 2.14808], [41.39889, 2.17775], [41.4175257, 2.1402804], [41.38423, 2.15051], [41.37437, 2.12581], [41.37659, 2.12521], [41.38532, 2.15264], [41.37793564458809, 2.189861610335274], [41.3838351805, 2.1773619], [41.38198, 2.17883], [41.37678, 2.17344], [41.37791, 2.179], [41.38221, 2.18037], [41.38382, 2.15177], [41.3833642, 2.1773619], [41.383661602468806, 2.1557286009192467], [41.37618, 2.16517], [41.37244, 2.1656], [41.38542, 2.17164], [41.37548, 2.18199], [41.37869, 2.17027], [41.38417, 2.14557], [41.3807, 2.18089], [41.392, 2.14784], [41.3824487, 2.1856993], [41.3774, 2.15337], [41.39201, 2.14776], [41.37449, 2.15582], [41.37302, 2.15614], [41.37263, 2.15478], [41.39085, 2.1458], [41.38602, 2.17094], [41.38397, 2.17147], [41.38601, 2.17284], [41.38559, 2.17091], [41.38583, 2.17309], [41.38405, 2.17262], [41.38468, 2.17286], [41.37399, 2.14442], [41.37245, 2.14601], [41.41326, 2.16096], [41.3846064, 2.1724631], [41.38218, 2.18671], [41.39414, 2.14703], [41.37372, 2.15698], [41.3736, 2.15718], [41.37996, 2.17297], [41.3798514, 2.1766092], [41.41126, 2.18183], [41.38172, 2.1789], [41.38348, 2.1759], [41.38007, 2.17975], [41.38875, 2.17371], [41.38929, 2.17517], [41.38837, 2.17359], [41.37873, 2.14966], [41.3817031, 2.1553216], [41.39859, 2.17269], [41.37916, 2.14965], [41.38046, 2.14912], [41.38054, 2.15114], [41.38182, 2.16521], [41.42974, 2.16296], [41.41025, 2.16785], [41.39949, 2.20261], [41.39938, 2.18256], [41.37868, 2.17116], [41.38049, 2.17246], [41.37903, 2.17312], [41.44780654164026, 2.174969092011452], [41.3727673, 2.1707948], [41.406321, 2.151797], [41.40381, 2.16877], [41.37495, 2.14363], [41.40144, 2.18993], [41.37874619999999, 2.1793133], [41.38385, 2.15978], [41.389748736883774, 2.1691452361134766], [41.4037877, 2.1795073], [41.37336, 2.1621], [41.37807, 2.12951], [41.39121, 2.17471], [41.38721, 2.17325], [41.3874, 2.17595], [41.41506, 2.18452], [41.3907, 2.19731], [41.38713, 2.1778], [41.3794589, 2.1666223], [41.3804, 2.17791], [41.40162, 2.17415], [41.3853, 2.17135], [41.4109288, 2.1492654], [41.3856, 2.17362], [41.38562, 2.15632], [41.37994, 2.16908], [41.38163, 2.16712], [41.38427, 2.18265], [41.38493, 2.18418], [41.38328, 2.1828], [41.38903, 2.17997], [41.38556, 2.16541], [41.41399, 2.17864], [41.39729, 2.17122], [41.43660748659572, 2.158920429646969], [41.3886, 2.17717], [41.37133064648816, 2.163678976316051], [41.3819, 2.16623], [41.38868, 2.17756], [41.38859, 2.1791], [41.38393, 2.15761], [41.37728, 2.16372], [41.41208, 2.16106], [41.4013, 2.18245], [41.4019, 2.19021], [41.387704, 2.1742549], [41.38459, 2.1413], [41.40144, 2.16291], [41.38882, 2.17831], [41.37971, 2.18673], [41.39719917700796, 2.1636184250920394], [41.38388, 2.17268], [41.38761, 2.14941], [41.39798, 2.17137], [41.38569, 2.17286], [41.37422, 2.15968], [41.3920613801528, 2.1682530807617604], [41.37155452360335, 2.1440284699201584], [41.38942, 2.15324], [41.38309, 2.18094], [41.3817, 2.18024], [41.37937, 2.17925], [41.3761, 2.15979], [41.37466, 2.16595], [41.3868, 2.14849], [41.41309, 2.18603], [41.41331, 2.18586], [41.38519, 2.16623], [41.3837, 2.16667], [41.37574, 2.12729], [41.38434, 2.18103], [41.43759, 2.17919], [41.39541, 2.14515], [41.38266, 2.18143], [41.38275, 2.18125], [41.37401, 2.15622], [41.3954047, 2.1451492], [41.38977, 2.17466], [41.38046, 2.18854], [41.37158, 2.16699], [41.38074, 2.18717], [41.38001, 2.1667], [41.38403, 2.16687], [41.38322, 2.18039], [41.38054, 2.15803], [41.38715, 2.17833], [41.4024933, 2.1757297], [41.37907, 2.15611], [41.39482, 2.15525], [41.38397, 2.14924], [41.40139, 2.19857], [41.37759, 2.19156], [41.40798, 2.153], [41.39937, 2.18923], [41.38403, 2.16605], [41.37727, 2.1774], [41.3918113, 2.1736163], [41.3918113, 2.1736163], [41.3918113, 2.1736163], [41.39207, 2.17255], [41.38027, 2.16565], [41.38026, 2.16624], [41.37426, 2.16392], [41.37612, 2.13791], [41.40651, 2.17356], [41.37052, 2.13414], [41.3895, 2.16319], [41.41537, 2.18282], [41.37585, 2.14122], [41.37456, 2.14303], [41.4036, 2.16241], [41.40971, 2.18238], [41.38064, 2.16689], [41.38266, 2.17309], [41.37464, 2.12508], [41.38428, 2.16466], [41.3859026, 2.1540062], [41.37322, 2.16509], [41.38053, 2.16437], [41.38226, 2.16932], [41.3860732, 2.1583395], [41.3890362, 2.1788065], [41.38521, 2.1796], [41.37475, 2.1616], [41.41252243329922, 2.1409348770976067], [41.38259, 2.16212], [41.38295, 2.14496], [41.39187, 2.18828], [41.37429, 2.16548], [41.39026, 2.17097], [41.40112, 2.17516], [41.38512, 2.16641], [41.40162, 2.16374], [41.40389, 2.17375], [41.403351891756174, 2.1523702529968807], [41.3782, 2.1657], [41.42038, 2.19131], [41.40521, 2.17294], [41.38435, 2.16657], [41.38255, 2.15148], [41.38898, 2.1757], [41.37296, 2.16419], [41.38428, 2.16659], [41.42323, 2.2083], [41.38657, 2.15073], [41.380358, 2.152389], [41.40537, 2.17514], [41.40625, 2.14318], [41.37764, 2.16219], [41.38479, 2.14958], [41.37642, 2.16272], [41.37834, 2.16848], [41.38443, 2.12598], [41.39617, 2.12978], [41.40812283228503, 2.1856731792040662], [41.38871, 2.20064], [41.3894, 2.14961], [41.37932, 2.16829], [41.3812, 2.1682], [41.38134, 2.1701], [41.38114, 2.17022], [41.37755, 2.15563], [41.38448, 2.16674], [41.4155093, 2.1939943], [41.39849, 2.1834], [41.37993, 2.1673], [41.38186, 2.1674], [41.38131, 2.16885], [41.40179, 2.16458], [41.37998, 2.16836], [41.37268, 2.13886], [41.38042, 2.16712], [41.38037436109148, 2.165607438707601], [41.41619, 2.16156], [41.400588103296165, 2.1833200945758704], [41.39729, 2.18099], [41.40949699999999, 2.1871826], [41.38484, 2.16558], [41.38385, 2.16682], [41.37899, 2.19015], [41.38476, 2.18071], [41.37597, 2.17019], [41.38484, 2.18069], [41.3941, 2.15133], [41.4043, 2.14527], [41.39193, 2.18435], [41.40956, 2.18603], [41.39736, 2.1618], [41.37757, 2.15445], [41.43439, 2.20598], [41.38451, 2.13199], [41.38493, 2.14855], [41.41012, 2.15313], [41.39663, 2.1709], [41.3830532, 2.1702188], [41.38998, 2.17836], [41.38347, 2.15749], [41.41353, 2.18446], [41.38191, 2.17728], [41.37965522584697, 2.1297787337295397], [41.40132, 2.18025], [41.38074, 2.14994], [41.39724, 2.17275], [41.39923, 2.1783], [41.40492, 2.14833], [41.40212, 2.20275], [41.39415, 2.17103], [41.40669, 2.15262], [41.40804, 2.15387], [41.38757, 2.17335], [41.39232, 2.16107], [41.38091, 2.18011], [41.39511, 2.17853], [41.4045731, 2.1772061], [41.3615, 2.13671], [41.40531, 2.14772], [41.4009851, 2.1756318], [41.4083076, 2.1720423], [41.3834195, 2.1596017], [41.3807981, 2.1779909], [41.3871514, 2.1665722], [41.4074361, 2.175747], [41.4042179, 2.179452], [41.3807981, 2.1779909], [41.3953845, 2.1918082], [41.3717065, 2.1597403], [41.3906641, 2.1911851], [41.411475113, 2.152437964], [41.42419, 2.13997], [41.38028, 2.16598], [41.40356, 2.18301], [41.4009851, 2.1756318], [41.40845, 2.18515], [41.3790368, 2.1464633], [41.401688539, 2.168432505], [41.3999286, 2.1584642], [41.40733, 2.18702], [41.39121, 2.14888], [41.411475113, 2.152437964], [41.41148, 2.15244], [41.40843, 2.14368], [41.40606, 2.14343], [41.39609, 2.16728], [41.40745, 2.14517], [41.3843, 2.17035], [41.38343, 2.18125], [41.378648877060336, 2.1739397943019867], [41.4035, 2.15763], [41.39539, 2.16954], [41.41034, 2.17258], [41.37909, 2.15579], [41.3794589, 2.1666223], [41.3802471, 2.1696948], [41.41242, 2.17409], [41.40079, 2.18001], [41.3873497, 2.1726757], [41.40068, 2.16268], [41.4055415, 2.180815], [41.3802471, 2.1696948], [41.3865, 2.16219], [41.37634, 2.15764], [41.40136, 2.15599], [41.41704, 2.18834], [41.41777, 2.21239], [41.37827, 2.16563], [41.40825, 2.18142], [41.38178, 2.13643], [41.38249, 2.16991], [41.38715, 2.17902], [41.40867, 2.20117], [41.3847814, 2.1832643], [41.4002898, 2.1624783], [41.40224, 2.14633], [41.38373, 2.14605], [41.3835, 2.17973], [41.3829, 2.131], [41.4432423, 2.178089], [41.410345, 2.162947], [41.38581, 2.16697], [41.37808045993776, 2.166889545334492], [41.37835, 2.17309], [41.3795, 2.17301], [41.39262, 2.16628], [41.38721, 2.17906], [41.3723956, 2.164487100000001], [41.4157955, 2.2113085], [41.37305, 2.16793], [41.40947, 2.18264], [41.38738, 2.1767], [41.41412, 2.18456], [41.38001, 2.17634], [41.40305, 2.15803], [41.37604, 2.15454], [41.3747779, 2.1622789], [41.38574, 2.17499], [41.39001, 2.16928], [41.37544, 2.16238], [41.37532, 2.16431], [41.40887, 2.1853], [41.40085, 2.15234], [41.3721, 2.13517], [41.38504, 2.15844], [41.39796, 2.17163], [41.3826, 2.14688], [41.38169, 2.16446], [41.38325, 2.1349], [41.40473, 2.17161], [41.39024, 2.18121], [41.4429807, 2.1868985], [41.3756402, 2.1623021], [41.3738643, 2.1678005], [41.4074597, 2.174247], [41.406009962, 2.176854642], [41.43206, 2.16856], [41.40241978130211, 2.161775796041878], [41.37744, 2.12395], [41.37903, 2.16915], [41.39007, 2.17975], [41.38706, 2.17672], [41.37801, 2.13094], [41.37629, 2.13098], [41.39632, 2.14253], [41.38135, 2.17575], [41.38314, 2.18175], [41.40398, 2.16648], [41.3794589, 2.1666223], [41.37991, 2.16704], [41.38193, 2.16615], [41.3809183, 2.1664161], [41.3794589, 2.1666223], [41.35623, 2.13636], [41.4036148, 2.1448327], [41.35863, 2.1377], [41.38155, 2.17709], [41.3992406, 2.1581284], [41.3910525, 2.1754782], [41.38389, 2.16459], [41.40601, 2.15642], [41.38090190498918, 2.1761062862311547], [41.4064018, 2.1824914], [41.37539, 2.14361], [41.39544, 2.16191], [41.38279, 2.16061], [41.40282, 2.1488], [41.37443, 2.1593], [41.39338, 2.17395], [41.39660990431339, 2.1718533494922445], [41.38806, 2.15495], [41.37157, 2.1661], [41.38206, 2.17786], [41.37417, 2.14292], [41.37381, 2.14352], [41.37794184421358, 2.180094266466821], [41.37791928518639, 2.1790621238309997], [41.37796868225404, 2.180129524726928], [41.37183, 2.14347], [41.37957, 2.15318], [41.3997027, 2.1543292], [41.3949, 2.17588], [41.41092, 2.17701], [41.4087085, 2.1746336], [41.4036, 2.16986], [41.389970565827824, 2.154087587333001], [41.3871, 2.14473], [41.38691, 2.17772], [41.37367438311465, 2.1627997246502884], [41.412973555785, 2.171017615341445], [41.38103, 2.17738], [41.37972, 2.17065], [41.40695531765613, 2.18852638630489], [41.39328, 2.17597], [41.39467, 2.17585], [41.3756, 2.16439], [41.38201799370909, 2.172180949268574], [41.3734, 2.16036], [41.38066, 2.14871], [41.37424, 2.15837], [41.3768011, 2.1605811], [41.3856, 2.16039], [41.38232, 2.16072], [41.38063, 2.15131], [41.38148, 2.1527], [41.37326843006824, 2.169075272977352], [41.38657, 2.17315], [41.3732546, 2.1320358], [41.3944348, 2.1699246], [41.4198587, 2.1572103], [41.37234, 2.15404], [41.41834, 2.17287], [41.4032947, 2.1590087], [41.38191, 2.14872], [41.38864, 2.1779], [41.38036, 2.14838], [41.38018, 2.14697], [41.41156, 2.18221], [41.38413091145338, 2.1729160073227294], [41.38008398881126, 2.164154425703793], [41.37861365140647, 2.166029634547635], [41.38419055912277, 2.173694274441041], [41.39218, 2.16093], [41.402027124417984, 2.1731508834120508], [41.38775, 2.16782], [41.3917124406346, 2.159323249437024], [41.3733342, 2.1692475], [41.38362, 2.15847], [41.38732254415173, 2.166333300828], [41.39247108997416, 2.188569930232353], [41.38432792218983, 2.1765546614830176], [41.38715, 2.15849], [41.38753, 2.15763], [41.38532659486969, 2.1581396910937665], [41.38496423908229, 2.1588093360960707], [41.4020305, 2.1834453], [41.3888285165667, 2.157129948621592], [41.38615, 2.16604], [41.38627197983841, 2.165835554226068], [41.38561, 2.16778], [41.38623419831697, 2.1679181991477403], [41.38087764517197, 2.167408740773624], [41.377940177983504, 2.1526339428470087], [41.43967, 2.18123], [41.39095, 2.15666]];\n",
       "                var cluster = L.markerClusterGroup({});\n",
       "\n",
       "                for (var i = 0; i &lt; data.length; i++) {\n",
       "                    var row = data[i];\n",
       "                    var marker = callback(row);\n",
       "                    marker.addTo(cluster);\n",
       "                }\n",
       "\n",
       "                cluster.addTo(map_ef047b2e56011b91d19610b61b35cff3);\n",
       "                return cluster;\n",
       "            })();\n",
       "        \n",
       "&lt;/script&gt;\n",
       "&lt;/html&gt;\" style=\"position:absolute;width:100%;height:100%;left:0;top:0;border:none !important;\" allowfullscreen webkitallowfullscreen mozallowfullscreen></iframe></div></div>"
      ],
      "text/plain": [
       "<folium.folium.Map at 0x7f23609a1350>"
      ]
     },
     "execution_count": 35,
     "metadata": {},
     "output_type": "execute_result"
    }
   ],
   "source": [
    "lats2018 = airbnb_merge_clean['latitude'].tolist()\n",
    "lons2018 = airbnb_merge_clean['longitude'].tolist()\n",
    "lons_url = airbnb_merge_clean['listing_url'].tolist()\n",
    "locations = list(zip(lats2018, lons2018))\n",
    "\n",
    "map1 = folium.Map(location=[41.38879, 2.15899], zoom_start=11.5)\n",
    "FastMarkerCluster(data=locations).add_to(map1)\n",
    "\n",
    "\n",
    "m = folium.Map(location=[45.372, -121.6972], zoom_start=12, tiles=\"Stamen Terrain\")\n",
    "tooltip = \"Click me!\"\n",
    "folium.Marker(\n",
    "    [45.3288, -121.6625], popup=\"<i>Mt. Hood Meadows</i>\", tooltip=tooltip\n",
    ").add_to(m)\n",
    "folium.Marker(\n",
    "    [45.3311, -121.7113], popup=\"<b>Timberline Lodge</b>\", tooltip=tooltip\n",
    ").add_to(m)\n",
    "\n",
    "m\n",
    "\n",
    "\n",
    "\n",
    "map1"
   ]
  },
  {
   "cell_type": "markdown",
   "id": "2aa04926",
   "metadata": {
    "_uuid": "0e39a14909de77f2205c2abdd93d265fc8ecb1bc",
    "papermill": {
     "duration": 0.015494,
     "end_time": "2023-02-14T23:00:23.273189",
     "exception": false,
     "start_time": "2023-02-14T23:00:23.257695",
     "status": "completed"
    },
    "tags": []
   },
   "source": [
    "We see that neighbourhood_group is useless in Amsterdam, as it contains zero non-null objects. Below, I getting rid of this variable, and am showing the head of the dataframe that I am going to work with."
   ]
  },
  {
   "cell_type": "markdown",
   "id": "13ff65c4",
   "metadata": {
    "_uuid": "6fb9465d2a65556bb40aeb5ffe2b456e131e94b1",
    "papermill": {
     "duration": 0.015451,
     "end_time": "2023-02-14T23:00:23.304692",
     "exception": false,
     "start_time": "2023-02-14T23:00:23.289241",
     "status": "completed"
    },
    "tags": []
   },
   "source": [
    "# 2. Exploración de datos\n",
    "Tenemos una cantidad de pisos en Airbnb que están activos, son los que tienen mas de 20 dias de disponibilidad al año y que sus ultimos reviews son del año 2022\n",
    "\n",
    "\n"
   ]
  },
  {
   "cell_type": "markdown",
   "id": "d9d5f520",
   "metadata": {
    "execution": {
     "iopub.execute_input": "2023-02-08T12:26:45.607910Z",
     "iopub.status.busy": "2023-02-08T12:26:45.607588Z",
     "iopub.status.idle": "2023-02-08T12:26:45.693306Z",
     "shell.execute_reply": "2023-02-08T12:26:45.691631Z",
     "shell.execute_reply.started": "2023-02-08T12:26:45.607847Z"
    },
    "papermill": {
     "duration": 0.015048,
     "end_time": "2023-02-14T23:00:23.335256",
     "exception": false,
     "start_time": "2023-02-14T23:00:23.320208",
     "status": "completed"
    },
    "tags": []
   },
   "source": []
  },
  {
   "cell_type": "code",
   "execution_count": 36,
   "id": "744c398e",
   "metadata": {
    "execution": {
     "iopub.execute_input": "2023-02-14T23:00:23.368971Z",
     "iopub.status.busy": "2023-02-14T23:00:23.367694Z",
     "iopub.status.idle": "2023-02-14T23:00:23.393214Z",
     "shell.execute_reply": "2023-02-14T23:00:23.391994Z"
    },
    "papermill": {
     "duration": 0.04497,
     "end_time": "2023-02-14T23:00:23.395672",
     "exception": false,
     "start_time": "2023-02-14T23:00:23.350702",
     "status": "completed"
    },
    "tags": []
   },
   "outputs": [
    {
     "data": {
      "text/html": [
       "<div>\n",
       "<style scoped>\n",
       "    .dataframe tbody tr th:only-of-type {\n",
       "        vertical-align: middle;\n",
       "    }\n",
       "\n",
       "    .dataframe tbody tr th {\n",
       "        vertical-align: top;\n",
       "    }\n",
       "\n",
       "    .dataframe thead th {\n",
       "        text-align: right;\n",
       "    }\n",
       "</style>\n",
       "<table border=\"1\" class=\"dataframe\">\n",
       "  <thead>\n",
       "    <tr style=\"text-align: right;\">\n",
       "      <th>calculated_host_listings_count</th>\n",
       "      <th>1</th>\n",
       "      <th>2</th>\n",
       "      <th>3</th>\n",
       "      <th>4</th>\n",
       "      <th>5</th>\n",
       "      <th>6</th>\n",
       "      <th>7</th>\n",
       "      <th>8</th>\n",
       "      <th>9</th>\n",
       "      <th>10</th>\n",
       "      <th>...</th>\n",
       "      <th>37</th>\n",
       "      <th>40</th>\n",
       "      <th>42</th>\n",
       "      <th>46</th>\n",
       "      <th>57</th>\n",
       "      <th>71</th>\n",
       "      <th>94</th>\n",
       "      <th>106</th>\n",
       "      <th>119</th>\n",
       "      <th>171</th>\n",
       "    </tr>\n",
       "  </thead>\n",
       "  <tbody>\n",
       "    <tr>\n",
       "      <th>count</th>\n",
       "      <td>2108</td>\n",
       "      <td>512</td>\n",
       "      <td>226</td>\n",
       "      <td>123</td>\n",
       "      <td>83</td>\n",
       "      <td>64</td>\n",
       "      <td>36</td>\n",
       "      <td>30</td>\n",
       "      <td>18</td>\n",
       "      <td>12</td>\n",
       "      <td>...</td>\n",
       "      <td>1</td>\n",
       "      <td>1</td>\n",
       "      <td>1</td>\n",
       "      <td>1</td>\n",
       "      <td>1</td>\n",
       "      <td>1</td>\n",
       "      <td>1</td>\n",
       "      <td>1</td>\n",
       "      <td>2</td>\n",
       "      <td>1</td>\n",
       "    </tr>\n",
       "  </tbody>\n",
       "</table>\n",
       "<p>1 rows × 44 columns</p>\n",
       "</div>"
      ],
      "text/plain": [
       "calculated_host_listings_count   1    2    3    4    5    6    7    8    9     \n",
       "count                           2108  512  226  123   83   64   36   30   18  \\\n",
       "\n",
       "calculated_host_listings_count  10   ...  37   40   42   46   57   71   94    \n",
       "count                            12  ...    1    1    1    1    1    1    1  \\\n",
       "\n",
       "calculated_host_listings_count  106  119  171  \n",
       "count                             1    2    1  \n",
       "\n",
       "[1 rows x 44 columns]"
      ]
     },
     "execution_count": 36,
     "metadata": {},
     "output_type": "execute_result"
    }
   ],
   "source": [
    "freq = airbnb_merge_clean.groupby(['host_id']).size().reset_index(name='calculated_host_listings_count')\n",
    "host_prop = freq.groupby(['calculated_host_listings_count']).size().reset_index(name='count').transpose()\n",
    "host_prop.columns = host_prop.iloc[0]\n",
    "host_prop = host_prop.drop(host_prop.index[0])\n",
    "host_prop"
   ]
  },
  {
   "cell_type": "raw",
   "id": "7234c969",
   "metadata": {
    "_uuid": "6543cbc03fa3ffe54dd106bd9f13d046cb9b0a15",
    "papermill": {
     "duration": 0.015385,
     "end_time": "2023-02-14T23:00:23.426788",
     "exception": false,
     "start_time": "2023-02-14T23:00:23.411403",
     "status": "completed"
    },
    "tags": []
   },
   "source": [
    "### 2.2.2 Tipologia de licencia \n",
    "Licencia - Ok (numero de registro de la generalitat y exenta correcta y nulos con mas de 30 dias)\n",
    "Licencia - Fail  - 0  \n",
    "Crearemos una nueva columna con esta informacion que luego nos dará el dato relevante de color, por ahora solo pondremos dos tipologias, en un futuro se puede cambiar, y para que la comparacion sea mas facil usaremos un indicador numerico int, no Boolean por si queremos aumentar en un futturo las tipologias "
   ]
  },
  {
   "cell_type": "markdown",
   "id": "a164c2bc",
   "metadata": {
    "papermill": {
     "duration": 0.015615,
     "end_time": "2023-02-14T23:00:23.458235",
     "exception": false,
     "start_time": "2023-02-14T23:00:23.442620",
     "status": "completed"
    },
    "tags": []
   },
   "source": [
    "vamos a mezclar los datasets que tengan licencia turistica\n",
    "dataframe avail con bcna .\n",
    "para eso primero vamos a reemplazar los valores Nan por 0 de la licencia\n"
   ]
  },
  {
   "cell_type": "code",
   "execution_count": 37,
   "id": "ab4fbfaa",
   "metadata": {
    "execution": {
     "iopub.execute_input": "2023-02-14T23:00:23.492443Z",
     "iopub.status.busy": "2023-02-14T23:00:23.491187Z",
     "iopub.status.idle": "2023-02-14T23:00:23.497763Z",
     "shell.execute_reply": "2023-02-14T23:00:23.496906Z"
    },
    "papermill": {
     "duration": 0.025995,
     "end_time": "2023-02-14T23:00:23.500025",
     "exception": false,
     "start_time": "2023-02-14T23:00:23.474030",
     "status": "completed"
    },
    "tags": []
   },
   "outputs": [],
   "source": [
    "bcna = airbnb_merge_clean.copy()"
   ]
  },
  {
   "cell_type": "markdown",
   "id": "0dbf29ec",
   "metadata": {
    "papermill": {
     "duration": 0.015713,
     "end_time": "2023-02-14T23:00:23.531646",
     "exception": false,
     "start_time": "2023-02-14T23:00:23.515933",
     "status": "completed"
    },
    "tags": []
   },
   "source": [
    "Tipo 0 - o indican la licencia y no entran dentro de alquiler por mas de 30 dias > posibles irregularidades en la licencia\n",
    "Tipo 1 - Con licencia de piso/habitacion turistica"
   ]
  },
  {
   "cell_type": "code",
   "execution_count": 38,
   "id": "e94d84a3",
   "metadata": {
    "execution": {
     "iopub.execute_input": "2023-02-14T23:00:23.566083Z",
     "iopub.status.busy": "2023-02-14T23:00:23.565353Z",
     "iopub.status.idle": "2023-02-14T23:00:24.439829Z",
     "shell.execute_reply": "2023-02-14T23:00:24.438859Z"
    },
    "papermill": {
     "duration": 0.894989,
     "end_time": "2023-02-14T23:00:24.442655",
     "exception": false,
     "start_time": "2023-02-14T23:00:23.547666",
     "status": "completed"
    },
    "tags": []
   },
   "outputs": [],
   "source": [
    "bcna[\"Tipo\"] = bcna[[\"minimum_nights\", \"NUMERO_REGISTRE_GENERALITAT\"]].apply(\n",
    "    lambda x: \"0\" if (x.minimum_nights < 30  and x.NUMERO_REGISTRE_GENERALITAT == 'Nulo')\n",
    "    else \"1\"\n",
    "    if (x.minimum_nights < 30  and x.NUMERO_REGISTRE_GENERALITAT == 'Exempt')\n",
    "    else \"2\"\n",
    "    if (x.NUMERO_REGISTRE_GENERALITAT != \"Nulo\") & (x.NUMERO_REGISTRE_GENERALITAT != \"Exempt\")\n",
    "    else \"3\", #los que están exentos, o nulos pero se alquilan en condiciones legales\n",
    "    axis=1\n",
    ")\n",
    "\n",
    "bcna[\"TipoDescripcion\"] = bcna[[\"minimum_nights\", \"NUMERO_REGISTRE_GENERALITAT\"]].apply(\n",
    "    lambda x: \"Nulos-Ilegales\" if (x.minimum_nights < 30  and x.NUMERO_REGISTRE_GENERALITAT == 'Nulo')\n",
    "    else \"Exentos ilegales\"\n",
    "    if (x.minimum_nights < 30  and x.NUMERO_REGISTRE_GENERALITAT == 'Exempt')\n",
    "    else \"Con Licenia\"\n",
    "    if (x.NUMERO_REGISTRE_GENERALITAT != \"Nulo\") & (x.NUMERO_REGISTRE_GENERALITAT != \"Exempt\")\n",
    "    else \"Exentos\", #los que están exentos, o nulos pero se alquilan en condiciones legales\n",
    "    axis=1\n",
    ")"
   ]
  },
  {
   "cell_type": "code",
   "execution_count": 39,
   "id": "ab056754",
   "metadata": {
    "execution": {
     "iopub.execute_input": "2023-02-14T23:00:24.477894Z",
     "iopub.status.busy": "2023-02-14T23:00:24.476844Z",
     "iopub.status.idle": "2023-02-14T23:00:24.501957Z",
     "shell.execute_reply": "2023-02-14T23:00:24.500747Z"
    },
    "papermill": {
     "duration": 0.045237,
     "end_time": "2023-02-14T23:00:24.504592",
     "exception": false,
     "start_time": "2023-02-14T23:00:24.459355",
     "status": "completed"
    },
    "tags": []
   },
   "outputs": [
    {
     "data": {
      "text/html": [
       "<div>\n",
       "<style scoped>\n",
       "    .dataframe tbody tr th:only-of-type {\n",
       "        vertical-align: middle;\n",
       "    }\n",
       "\n",
       "    .dataframe tbody tr th {\n",
       "        vertical-align: top;\n",
       "    }\n",
       "\n",
       "    .dataframe thead th {\n",
       "        text-align: right;\n",
       "    }\n",
       "</style>\n",
       "<table border=\"1\" class=\"dataframe\">\n",
       "  <thead>\n",
       "    <tr style=\"text-align: right;\">\n",
       "      <th>num_host_listings</th>\n",
       "      <th>1</th>\n",
       "      <th>2</th>\n",
       "      <th>3</th>\n",
       "      <th>4</th>\n",
       "      <th>5</th>\n",
       "      <th>6</th>\n",
       "      <th>7</th>\n",
       "      <th>8</th>\n",
       "      <th>9</th>\n",
       "      <th>10</th>\n",
       "      <th>...</th>\n",
       "      <th>37</th>\n",
       "      <th>40</th>\n",
       "      <th>42</th>\n",
       "      <th>46</th>\n",
       "      <th>57</th>\n",
       "      <th>71</th>\n",
       "      <th>94</th>\n",
       "      <th>106</th>\n",
       "      <th>119</th>\n",
       "      <th>171</th>\n",
       "    </tr>\n",
       "  </thead>\n",
       "  <tbody>\n",
       "    <tr>\n",
       "      <th>count</th>\n",
       "      <td>2108</td>\n",
       "      <td>512</td>\n",
       "      <td>226</td>\n",
       "      <td>123</td>\n",
       "      <td>83</td>\n",
       "      <td>64</td>\n",
       "      <td>36</td>\n",
       "      <td>30</td>\n",
       "      <td>18</td>\n",
       "      <td>12</td>\n",
       "      <td>...</td>\n",
       "      <td>1</td>\n",
       "      <td>1</td>\n",
       "      <td>1</td>\n",
       "      <td>1</td>\n",
       "      <td>1</td>\n",
       "      <td>1</td>\n",
       "      <td>1</td>\n",
       "      <td>1</td>\n",
       "      <td>2</td>\n",
       "      <td>1</td>\n",
       "    </tr>\n",
       "  </tbody>\n",
       "</table>\n",
       "<p>1 rows × 44 columns</p>\n",
       "</div>"
      ],
      "text/plain": [
       "num_host_listings   1    2    3    4    5    6    7    8    9    10   ...   \n",
       "count              2108  512  226  123   83   64   36   30   18   12  ...  \\\n",
       "\n",
       "num_host_listings  37   40   42   46   57   71   94   106  119  171  \n",
       "count                1    1    1    1    1    1    1    1    2    1  \n",
       "\n",
       "[1 rows x 44 columns]"
      ]
     },
     "execution_count": 39,
     "metadata": {},
     "output_type": "execute_result"
    }
   ],
   "source": [
    "freq = bcna.groupby(['host_id']).size().reset_index(name='num_host_listings')\n",
    "host_prop = freq.groupby(['num_host_listings']).size().reset_index(name='count').transpose()\n",
    "host_prop.columns = host_prop.iloc[0]\n",
    "host_prop = host_prop.drop(host_prop.index[0])\n",
    "host_prop"
   ]
  },
  {
   "cell_type": "code",
   "execution_count": 40,
   "id": "93eb3589",
   "metadata": {
    "execution": {
     "iopub.execute_input": "2023-02-14T23:00:24.538591Z",
     "iopub.status.busy": "2023-02-14T23:00:24.538170Z",
     "iopub.status.idle": "2023-02-14T23:00:24.721986Z",
     "shell.execute_reply": "2023-02-14T23:00:24.720787Z"
    },
    "papermill": {
     "duration": 0.204603,
     "end_time": "2023-02-14T23:00:24.725475",
     "exception": false,
     "start_time": "2023-02-14T23:00:24.520872",
     "status": "completed"
    },
    "tags": []
   },
   "outputs": [
    {
     "data": {
      "image/png": "[encoded data removed]",
      "text/plain": [
       "<Figure size 640x480 with 1 Axes>"
      ]
     },
     "metadata": {},
     "output_type": "display_data"
    }
   ],
   "source": [
    "feq=bcna['TipoDescripcion'].value_counts().sort_values(ascending=True)\n",
    "ax = feq.plot(x='Pillar', y='%', kind='bar', legend=False, rot=0)\n",
    "ax.bar_label(ax.containers[0], label_type='edge')\n",
    "plt.tight_layout()"
   ]
  },
  {
   "cell_type": "markdown",
   "id": "c071ffb5",
   "metadata": {
    "papermill": {
     "duration": 0.017085,
     "end_time": "2023-02-14T23:00:24.760301",
     "exception": false,
     "start_time": "2023-02-14T23:00:24.743216",
     "status": "completed"
    },
    "tags": []
   },
   "source": []
  },
  {
   "cell_type": "code",
   "execution_count": 41,
   "id": "1d372c1c",
   "metadata": {
    "execution": {
     "iopub.execute_input": "2023-02-14T23:00:24.796715Z",
     "iopub.status.busy": "2023-02-14T23:00:24.795828Z",
     "iopub.status.idle": "2023-02-14T23:00:24.827919Z",
     "shell.execute_reply": "2023-02-14T23:00:24.826756Z"
    },
    "papermill": {
     "duration": 0.053206,
     "end_time": "2023-02-14T23:00:24.830519",
     "exception": false,
     "start_time": "2023-02-14T23:00:24.777313",
     "status": "completed"
    },
    "tags": []
   },
   "outputs": [
    {
     "data": {
      "text/html": [
       "<div>\n",
       "<style scoped>\n",
       "    .dataframe tbody tr th:only-of-type {\n",
       "        vertical-align: middle;\n",
       "    }\n",
       "\n",
       "    .dataframe tbody tr th {\n",
       "        vertical-align: top;\n",
       "    }\n",
       "\n",
       "    .dataframe thead th {\n",
       "        text-align: right;\n",
       "    }\n",
       "</style>\n",
       "<table border=\"1\" class=\"dataframe\">\n",
       "  <thead>\n",
       "    <tr style=\"text-align: right;\">\n",
       "      <th></th>\n",
       "      <th>listing_url</th>\n",
       "      <th>host_id</th>\n",
       "      <th>description</th>\n",
       "      <th>host_name</th>\n",
       "      <th>DISTRICTE</th>\n",
       "      <th>latitude</th>\n",
       "      <th>longitude</th>\n",
       "      <th>minimum_nights</th>\n",
       "      <th>last_review</th>\n",
       "      <th>calculated_host_listings_count</th>\n",
       "      <th>availability_365</th>\n",
       "      <th>NUMERO_REGISTRE_GENERALITAT</th>\n",
       "      <th>Tipo</th>\n",
       "      <th>TipoDescripcion</th>\n",
       "    </tr>\n",
       "    <tr>\n",
       "      <th>id</th>\n",
       "      <th></th>\n",
       "      <th></th>\n",
       "      <th></th>\n",
       "      <th></th>\n",
       "      <th></th>\n",
       "      <th></th>\n",
       "      <th></th>\n",
       "      <th></th>\n",
       "      <th></th>\n",
       "      <th></th>\n",
       "      <th></th>\n",
       "      <th></th>\n",
       "      <th></th>\n",
       "      <th></th>\n",
       "    </tr>\n",
       "  </thead>\n",
       "  <tbody>\n",
       "    <tr>\n",
       "      <th>379868</th>\n",
       "      <td>https://www.airbnb.com/rooms/379868</td>\n",
       "      <td>1906952</td>\n",
       "      <td>Ubicación excepcional! ¡Magnífica vista del ic...</td>\n",
       "      <td>Khris</td>\n",
       "      <td>Eixample</td>\n",
       "      <td>41.405500</td>\n",
       "      <td>2.171240</td>\n",
       "      <td>3</td>\n",
       "      <td>2022-10-30</td>\n",
       "      <td>2</td>\n",
       "      <td>31</td>\n",
       "      <td>Exempt</td>\n",
       "      <td>1</td>\n",
       "      <td>Exentos ilegales</td>\n",
       "    </tr>\n",
       "    <tr>\n",
       "      <th>568129</th>\n",
       "      <td>https://www.airbnb.com/rooms/568129</td>\n",
       "      <td>2795488</td>\n",
       "      <td>Rent for 31 days  room with private bathroom. ...</td>\n",
       "      <td>Zulma</td>\n",
       "      <td>Eixample</td>\n",
       "      <td>41.381920</td>\n",
       "      <td>2.155630</td>\n",
       "      <td>5</td>\n",
       "      <td>2022-12-04</td>\n",
       "      <td>2</td>\n",
       "      <td>339</td>\n",
       "      <td>Exempt</td>\n",
       "      <td>1</td>\n",
       "      <td>Exentos ilegales</td>\n",
       "    </tr>\n",
       "    <tr>\n",
       "      <th>568185</th>\n",
       "      <td>https://www.airbnb.com/rooms/568185</td>\n",
       "      <td>2795488</td>\n",
       "      <td>Rent for 31 days  room with private bathroom. ...</td>\n",
       "      <td>Zulma</td>\n",
       "      <td>Eixample</td>\n",
       "      <td>41.381900</td>\n",
       "      <td>2.154190</td>\n",
       "      <td>5</td>\n",
       "      <td>2022-11-14</td>\n",
       "      <td>2</td>\n",
       "      <td>357</td>\n",
       "      <td>Exempt</td>\n",
       "      <td>1</td>\n",
       "      <td>Exentos ilegales</td>\n",
       "    </tr>\n",
       "    <tr>\n",
       "      <th>600590</th>\n",
       "      <td>https://www.airbnb.com/rooms/600590</td>\n",
       "      <td>1906952</td>\n",
       "      <td>Ubicación excepcional! Frente al ícono artísti...</td>\n",
       "      <td>Khris</td>\n",
       "      <td>Eixample</td>\n",
       "      <td>41.405050</td>\n",
       "      <td>2.172590</td>\n",
       "      <td>3</td>\n",
       "      <td>2022-11-22</td>\n",
       "      <td>2</td>\n",
       "      <td>58</td>\n",
       "      <td>Exempt</td>\n",
       "      <td>1</td>\n",
       "      <td>Exentos ilegales</td>\n",
       "    </tr>\n",
       "    <tr>\n",
       "      <th>621656</th>\n",
       "      <td>https://www.airbnb.com/rooms/621656</td>\n",
       "      <td>3081150</td>\n",
       "      <td>If you are looking for a BIG, QUIET, COMFORTAB...</td>\n",
       "      <td>Andrea</td>\n",
       "      <td>Sants-Montjuïc</td>\n",
       "      <td>41.372870</td>\n",
       "      <td>2.141840</td>\n",
       "      <td>2</td>\n",
       "      <td>2022-12-01</td>\n",
       "      <td>1</td>\n",
       "      <td>232</td>\n",
       "      <td>Exempt</td>\n",
       "      <td>1</td>\n",
       "      <td>Exentos ilegales</td>\n",
       "    </tr>\n",
       "    <tr>\n",
       "      <th>...</th>\n",
       "      <td>...</td>\n",
       "      <td>...</td>\n",
       "      <td>...</td>\n",
       "      <td>...</td>\n",
       "      <td>...</td>\n",
       "      <td>...</td>\n",
       "      <td>...</td>\n",
       "      <td>...</td>\n",
       "      <td>...</td>\n",
       "      <td>...</td>\n",
       "      <td>...</td>\n",
       "      <td>...</td>\n",
       "      <td>...</td>\n",
       "      <td>...</td>\n",
       "    </tr>\n",
       "    <tr>\n",
       "      <th>759655833006510622</th>\n",
       "      <td>https://www.airbnb.com/rooms/759655833006510622</td>\n",
       "      <td>394998732</td>\n",
       "      <td>Este alojamiento tiene una ubicación estratégi...</td>\n",
       "      <td>Antonio</td>\n",
       "      <td>Eixample</td>\n",
       "      <td>41.386272</td>\n",
       "      <td>2.165836</td>\n",
       "      <td>5</td>\n",
       "      <td>2022-11-21</td>\n",
       "      <td>12</td>\n",
       "      <td>341</td>\n",
       "      <td>Exempt</td>\n",
       "      <td>1</td>\n",
       "      <td>Exentos ilegales</td>\n",
       "    </tr>\n",
       "    <tr>\n",
       "      <th>759872752998250582</th>\n",
       "      <td>https://www.airbnb.com/rooms/759872752998250582</td>\n",
       "      <td>13530812</td>\n",
       "      <td>Este alojamiento tiene una ubicación estratégi...</td>\n",
       "      <td>Lili</td>\n",
       "      <td>Ciutat Vella</td>\n",
       "      <td>41.385610</td>\n",
       "      <td>2.167780</td>\n",
       "      <td>4</td>\n",
       "      <td>2022-11-29</td>\n",
       "      <td>18</td>\n",
       "      <td>351</td>\n",
       "      <td>Exempt</td>\n",
       "      <td>1</td>\n",
       "      <td>Exentos ilegales</td>\n",
       "    </tr>\n",
       "    <tr>\n",
       "      <th>765310137838070185</th>\n",
       "      <td>https://www.airbnb.com/rooms/765310137838070185</td>\n",
       "      <td>13530812</td>\n",
       "      <td>Enjoy barcelona living in the center !&lt;br /&gt;&lt;b...</td>\n",
       "      <td>Lili</td>\n",
       "      <td>Eixample</td>\n",
       "      <td>41.386234</td>\n",
       "      <td>2.167918</td>\n",
       "      <td>5</td>\n",
       "      <td>2022-11-29</td>\n",
       "      <td>18</td>\n",
       "      <td>343</td>\n",
       "      <td>Exempt</td>\n",
       "      <td>1</td>\n",
       "      <td>Exentos ilegales</td>\n",
       "    </tr>\n",
       "    <tr>\n",
       "      <th>772234032646459010</th>\n",
       "      <td>https://www.airbnb.com/rooms/772234032646459010</td>\n",
       "      <td>373473142</td>\n",
       "      <td>- Habitación privada&lt;br /&gt;- Situado en la mejo...</td>\n",
       "      <td>Julia</td>\n",
       "      <td>Eixample</td>\n",
       "      <td>41.377940</td>\n",
       "      <td>2.152634</td>\n",
       "      <td>1</td>\n",
       "      <td>2022-12-05</td>\n",
       "      <td>34</td>\n",
       "      <td>340</td>\n",
       "      <td>Exempt</td>\n",
       "      <td>1</td>\n",
       "      <td>Exentos ilegales</td>\n",
       "    </tr>\n",
       "    <tr>\n",
       "      <th>766190697847530714</th>\n",
       "      <td>https://www.airbnb.com/rooms/766190697847530714</td>\n",
       "      <td>458791647</td>\n",
       "      <td>Piso muy tranquilo, espacioso y luminoso, la h...</td>\n",
       "      <td>Anais</td>\n",
       "      <td>Nou Barris</td>\n",
       "      <td>41.439670</td>\n",
       "      <td>2.181230</td>\n",
       "      <td>1</td>\n",
       "      <td>2022-11-28</td>\n",
       "      <td>1</td>\n",
       "      <td>57</td>\n",
       "      <td>Exempt</td>\n",
       "      <td>1</td>\n",
       "      <td>Exentos ilegales</td>\n",
       "    </tr>\n",
       "  </tbody>\n",
       "</table>\n",
       "<p>1044 rows × 14 columns</p>\n",
       "</div>"
      ],
      "text/plain": [
       "                                                        listing_url   \n",
       "id                                                                    \n",
       "379868                          https://www.airbnb.com/rooms/379868  \\\n",
       "568129                          https://www.airbnb.com/rooms/568129   \n",
       "568185                          https://www.airbnb.com/rooms/568185   \n",
       "600590                          https://www.airbnb.com/rooms/600590   \n",
       "621656                          https://www.airbnb.com/rooms/621656   \n",
       "...                                                             ...   \n",
       "759655833006510622  https://www.airbnb.com/rooms/759655833006510622   \n",
       "759872752998250582  https://www.airbnb.com/rooms/759872752998250582   \n",
       "765310137838070185  https://www.airbnb.com/rooms/765310137838070185   \n",
       "772234032646459010  https://www.airbnb.com/rooms/772234032646459010   \n",
       "766190697847530714  https://www.airbnb.com/rooms/766190697847530714   \n",
       "\n",
       "                      host_id   \n",
       "id                              \n",
       "379868                1906952  \\\n",
       "568129                2795488   \n",
       "568185                2795488   \n",
       "600590                1906952   \n",
       "621656                3081150   \n",
       "...                       ...   \n",
       "759655833006510622  394998732   \n",
       "759872752998250582   13530812   \n",
       "765310137838070185   13530812   \n",
       "772234032646459010  373473142   \n",
       "766190697847530714  458791647   \n",
       "\n",
       "                                                          description   \n",
       "id                                                                      \n",
       "379868              Ubicación excepcional! ¡Magnífica vista del ic...  \\\n",
       "568129              Rent for 31 days  room with private bathroom. ...   \n",
       "568185              Rent for 31 days  room with private bathroom. ...   \n",
       "600590              Ubicación excepcional! Frente al ícono artísti...   \n",
       "621656              If you are looking for a BIG, QUIET, COMFORTAB...   \n",
       "...                                                               ...   \n",
       "759655833006510622  Este alojamiento tiene una ubicación estratégi...   \n",
       "759872752998250582  Este alojamiento tiene una ubicación estratégi...   \n",
       "765310137838070185  Enjoy barcelona living in the center !<br /><b...   \n",
       "772234032646459010  - Habitación privada<br />- Situado en la mejo...   \n",
       "766190697847530714  Piso muy tranquilo, espacioso y luminoso, la h...   \n",
       "\n",
       "                   host_name       DISTRICTE   latitude  longitude   \n",
       "id                                                                   \n",
       "379868                 Khris        Eixample  41.405500   2.171240  \\\n",
       "568129                 Zulma        Eixample  41.381920   2.155630   \n",
       "568185                 Zulma        Eixample  41.381900   2.154190   \n",
       "600590                 Khris        Eixample  41.405050   2.172590   \n",
       "621656                Andrea  Sants-Montjuïc  41.372870   2.141840   \n",
       "...                      ...             ...        ...        ...   \n",
       "759655833006510622   Antonio        Eixample  41.386272   2.165836   \n",
       "759872752998250582      Lili    Ciutat Vella  41.385610   2.167780   \n",
       "765310137838070185      Lili        Eixample  41.386234   2.167918   \n",
       "772234032646459010     Julia        Eixample  41.377940   2.152634   \n",
       "766190697847530714     Anais      Nou Barris  41.439670   2.181230   \n",
       "\n",
       "                    minimum_nights last_review   \n",
       "id                                               \n",
       "379868                           3  2022-10-30  \\\n",
       "568129                           5  2022-12-04   \n",
       "568185                           5  2022-11-14   \n",
       "600590                           3  2022-11-22   \n",
       "621656                           2  2022-12-01   \n",
       "...                            ...         ...   \n",
       "759655833006510622               5  2022-11-21   \n",
       "759872752998250582               4  2022-11-29   \n",
       "765310137838070185               5  2022-11-29   \n",
       "772234032646459010               1  2022-12-05   \n",
       "766190697847530714               1  2022-11-28   \n",
       "\n",
       "                    calculated_host_listings_count  availability_365   \n",
       "id                                                                     \n",
       "379868                                           2                31  \\\n",
       "568129                                           2               339   \n",
       "568185                                           2               357   \n",
       "600590                                           2                58   \n",
       "621656                                           1               232   \n",
       "...                                            ...               ...   \n",
       "759655833006510622                              12               341   \n",
       "759872752998250582                              18               351   \n",
       "765310137838070185                              18               343   \n",
       "772234032646459010                              34               340   \n",
       "766190697847530714                               1                57   \n",
       "\n",
       "                   NUMERO_REGISTRE_GENERALITAT Tipo   TipoDescripcion  \n",
       "id                                                                     \n",
       "379868                                  Exempt    1  Exentos ilegales  \n",
       "568129                                  Exempt    1  Exentos ilegales  \n",
       "568185                                  Exempt    1  Exentos ilegales  \n",
       "600590                                  Exempt    1  Exentos ilegales  \n",
       "621656                                  Exempt    1  Exentos ilegales  \n",
       "...                                        ...  ...               ...  \n",
       "759655833006510622                      Exempt    1  Exentos ilegales  \n",
       "759872752998250582                      Exempt    1  Exentos ilegales  \n",
       "765310137838070185                      Exempt    1  Exentos ilegales  \n",
       "772234032646459010                      Exempt    1  Exentos ilegales  \n",
       "766190697847530714                      Exempt    1  Exentos ilegales  \n",
       "\n",
       "[1044 rows x 14 columns]"
      ]
     },
     "execution_count": 41,
     "metadata": {},
     "output_type": "execute_result"
    }
   ],
   "source": [
    "bcna.loc[(bcna[\"Tipo\"] == \"1\")]\n"
   ]
  },
  {
   "cell_type": "code",
   "execution_count": 44,
   "id": "7c6563ee",
   "metadata": {
    "execution": {
     "iopub.execute_input": "2023-02-14T23:00:24.867157Z",
     "iopub.status.busy": "2023-02-14T23:00:24.866691Z",
     "iopub.status.idle": "2023-02-14T23:00:24.883863Z",
     "shell.execute_reply": "2023-02-14T23:00:24.882602Z"
    },
    "papermill": {
     "duration": 0.039015,
     "end_time": "2023-02-14T23:00:24.886940",
     "exception": false,
     "start_time": "2023-02-14T23:00:24.847925",
     "status": "completed"
    },
    "tags": []
   },
   "outputs": [
    {
     "ename": "TypeError",
     "evalue": "Could not convert el Ravalel Barri Gòticla BarcelonetaSant Pere, Santa Caterina i la Ribera to numeric",
     "output_type": "error",
     "traceback": [
      "\u001b[0;31m---------------------------------------------------------------------------\u001b[0m",
      "\u001b[0;31mNotImplementedError\u001b[0m                       Traceback (most recent call last)",
      "File \u001b[0;32m~/apps/IA/anaconda3/envs/uah/lib/python3.11/site-packages/pandas/core/groupby/groupby.py:1490\u001b[0m, in \u001b[0;36mGroupBy._cython_agg_general.<locals>.array_func\u001b[0;34m(values)\u001b[0m\n\u001b[1;32m   1489\u001b[0m \u001b[38;5;28;01mtry\u001b[39;00m:\n\u001b[0;32m-> 1490\u001b[0m     result \u001b[38;5;241m=\u001b[39m \u001b[38;5;28mself\u001b[39m\u001b[38;5;241m.\u001b[39mgrouper\u001b[38;5;241m.\u001b[39m_cython_operation(\n\u001b[1;32m   1491\u001b[0m         \u001b[38;5;124m\"\u001b[39m\u001b[38;5;124maggregate\u001b[39m\u001b[38;5;124m\"\u001b[39m,\n\u001b[1;32m   1492\u001b[0m         values,\n\u001b[1;32m   1493\u001b[0m         how,\n\u001b[1;32m   1494\u001b[0m         axis\u001b[38;5;241m=\u001b[39mdata\u001b[38;5;241m.\u001b[39mndim \u001b[38;5;241m-\u001b[39m \u001b[38;5;241m1\u001b[39m,\n\u001b[1;32m   1495\u001b[0m         min_count\u001b[38;5;241m=\u001b[39mmin_count,\n\u001b[1;32m   1496\u001b[0m         \u001b[38;5;241m*\u001b[39m\u001b[38;5;241m*\u001b[39mkwargs,\n\u001b[1;32m   1497\u001b[0m     )\n\u001b[1;32m   1498\u001b[0m \u001b[38;5;28;01mexcept\u001b[39;00m \u001b[38;5;167;01mNotImplementedError\u001b[39;00m:\n\u001b[1;32m   1499\u001b[0m     \u001b[38;5;66;03m# generally if we have numeric_only=False\u001b[39;00m\n\u001b[1;32m   1500\u001b[0m     \u001b[38;5;66;03m# and non-applicable functions\u001b[39;00m\n\u001b[1;32m   1501\u001b[0m     \u001b[38;5;66;03m# try to python agg\u001b[39;00m\n\u001b[1;32m   1502\u001b[0m     \u001b[38;5;66;03m# TODO: shouldn't min_count matter?\u001b[39;00m\n",
      "File \u001b[0;32m~/apps/IA/anaconda3/envs/uah/lib/python3.11/site-packages/pandas/core/groupby/ops.py:959\u001b[0m, in \u001b[0;36mBaseGrouper._cython_operation\u001b[0;34m(self, kind, values, how, axis, min_count, **kwargs)\u001b[0m\n\u001b[1;32m    958\u001b[0m ngroups \u001b[38;5;241m=\u001b[39m \u001b[38;5;28mself\u001b[39m\u001b[38;5;241m.\u001b[39mngroups\n\u001b[0;32m--> 959\u001b[0m \u001b[38;5;28;01mreturn\u001b[39;00m cy_op\u001b[38;5;241m.\u001b[39mcython_operation(\n\u001b[1;32m    960\u001b[0m     values\u001b[38;5;241m=\u001b[39mvalues,\n\u001b[1;32m    961\u001b[0m     axis\u001b[38;5;241m=\u001b[39maxis,\n\u001b[1;32m    962\u001b[0m     min_count\u001b[38;5;241m=\u001b[39mmin_count,\n\u001b[1;32m    963\u001b[0m     comp_ids\u001b[38;5;241m=\u001b[39mids,\n\u001b[1;32m    964\u001b[0m     ngroups\u001b[38;5;241m=\u001b[39mngroups,\n\u001b[1;32m    965\u001b[0m     \u001b[38;5;241m*\u001b[39m\u001b[38;5;241m*\u001b[39mkwargs,\n\u001b[1;32m    966\u001b[0m )\n",
      "File \u001b[0;32m~/apps/IA/anaconda3/envs/uah/lib/python3.11/site-packages/pandas/core/groupby/ops.py:657\u001b[0m, in \u001b[0;36mWrappedCythonOp.cython_operation\u001b[0;34m(self, values, axis, min_count, comp_ids, ngroups, **kwargs)\u001b[0m\n\u001b[1;32m    649\u001b[0m     \u001b[38;5;28;01mreturn\u001b[39;00m \u001b[38;5;28mself\u001b[39m\u001b[38;5;241m.\u001b[39m_ea_wrap_cython_operation(\n\u001b[1;32m    650\u001b[0m         values,\n\u001b[1;32m    651\u001b[0m         min_count\u001b[38;5;241m=\u001b[39mmin_count,\n\u001b[0;32m   (...)\u001b[0m\n\u001b[1;32m    654\u001b[0m         \u001b[38;5;241m*\u001b[39m\u001b[38;5;241m*\u001b[39mkwargs,\n\u001b[1;32m    655\u001b[0m     )\n\u001b[0;32m--> 657\u001b[0m \u001b[38;5;28;01mreturn\u001b[39;00m \u001b[38;5;28mself\u001b[39m\u001b[38;5;241m.\u001b[39m_cython_op_ndim_compat(\n\u001b[1;32m    658\u001b[0m     values,\n\u001b[1;32m    659\u001b[0m     min_count\u001b[38;5;241m=\u001b[39mmin_count,\n\u001b[1;32m    660\u001b[0m     ngroups\u001b[38;5;241m=\u001b[39mngroups,\n\u001b[1;32m    661\u001b[0m     comp_ids\u001b[38;5;241m=\u001b[39mcomp_ids,\n\u001b[1;32m    662\u001b[0m     mask\u001b[38;5;241m=\u001b[39m\u001b[38;5;28;01mNone\u001b[39;00m,\n\u001b[1;32m    663\u001b[0m     \u001b[38;5;241m*\u001b[39m\u001b[38;5;241m*\u001b[39mkwargs,\n\u001b[1;32m    664\u001b[0m )\n",
      "File \u001b[0;32m~/apps/IA/anaconda3/envs/uah/lib/python3.11/site-packages/pandas/core/groupby/ops.py:497\u001b[0m, in \u001b[0;36mWrappedCythonOp._cython_op_ndim_compat\u001b[0;34m(self, values, min_count, ngroups, comp_ids, mask, result_mask, **kwargs)\u001b[0m\n\u001b[1;32m    495\u001b[0m     \u001b[38;5;28;01mreturn\u001b[39;00m res\u001b[38;5;241m.\u001b[39mT\n\u001b[0;32m--> 497\u001b[0m \u001b[38;5;28;01mreturn\u001b[39;00m \u001b[38;5;28mself\u001b[39m\u001b[38;5;241m.\u001b[39m_call_cython_op(\n\u001b[1;32m    498\u001b[0m     values,\n\u001b[1;32m    499\u001b[0m     min_count\u001b[38;5;241m=\u001b[39mmin_count,\n\u001b[1;32m    500\u001b[0m     ngroups\u001b[38;5;241m=\u001b[39mngroups,\n\u001b[1;32m    501\u001b[0m     comp_ids\u001b[38;5;241m=\u001b[39mcomp_ids,\n\u001b[1;32m    502\u001b[0m     mask\u001b[38;5;241m=\u001b[39mmask,\n\u001b[1;32m    503\u001b[0m     result_mask\u001b[38;5;241m=\u001b[39mresult_mask,\n\u001b[1;32m    504\u001b[0m     \u001b[38;5;241m*\u001b[39m\u001b[38;5;241m*\u001b[39mkwargs,\n\u001b[1;32m    505\u001b[0m )\n",
      "File \u001b[0;32m~/apps/IA/anaconda3/envs/uah/lib/python3.11/site-packages/pandas/core/groupby/ops.py:541\u001b[0m, in \u001b[0;36mWrappedCythonOp._call_cython_op\u001b[0;34m(self, values, min_count, ngroups, comp_ids, mask, result_mask, **kwargs)\u001b[0m\n\u001b[1;32m    540\u001b[0m out_shape \u001b[38;5;241m=\u001b[39m \u001b[38;5;28mself\u001b[39m\u001b[38;5;241m.\u001b[39m_get_output_shape(ngroups, values)\n\u001b[0;32m--> 541\u001b[0m func \u001b[38;5;241m=\u001b[39m \u001b[38;5;28mself\u001b[39m\u001b[38;5;241m.\u001b[39m_get_cython_function(\u001b[38;5;28mself\u001b[39m\u001b[38;5;241m.\u001b[39mkind, \u001b[38;5;28mself\u001b[39m\u001b[38;5;241m.\u001b[39mhow, values\u001b[38;5;241m.\u001b[39mdtype, is_numeric)\n\u001b[1;32m    542\u001b[0m values \u001b[38;5;241m=\u001b[39m \u001b[38;5;28mself\u001b[39m\u001b[38;5;241m.\u001b[39m_get_cython_vals(values)\n",
      "File \u001b[0;32m~/apps/IA/anaconda3/envs/uah/lib/python3.11/site-packages/pandas/core/groupby/ops.py:173\u001b[0m, in \u001b[0;36mWrappedCythonOp._get_cython_function\u001b[0;34m(cls, kind, how, dtype, is_numeric)\u001b[0m\n\u001b[1;32m    171\u001b[0m \u001b[38;5;28;01mif\u001b[39;00m \u001b[38;5;124m\"\u001b[39m\u001b[38;5;124mobject\u001b[39m\u001b[38;5;124m\"\u001b[39m \u001b[38;5;129;01mnot\u001b[39;00m \u001b[38;5;129;01min\u001b[39;00m f\u001b[38;5;241m.\u001b[39m__signatures__:\n\u001b[1;32m    172\u001b[0m     \u001b[38;5;66;03m# raise NotImplementedError here rather than TypeError later\u001b[39;00m\n\u001b[0;32m--> 173\u001b[0m     \u001b[38;5;28;01mraise\u001b[39;00m \u001b[38;5;167;01mNotImplementedError\u001b[39;00m(\n\u001b[1;32m    174\u001b[0m         \u001b[38;5;124mf\u001b[39m\u001b[38;5;124m\"\u001b[39m\u001b[38;5;124mfunction is not implemented for this dtype: \u001b[39m\u001b[38;5;124m\"\u001b[39m\n\u001b[1;32m    175\u001b[0m         \u001b[38;5;124mf\u001b[39m\u001b[38;5;124m\"\u001b[39m\u001b[38;5;124m[how->\u001b[39m\u001b[38;5;132;01m{\u001b[39;00mhow\u001b[38;5;132;01m}\u001b[39;00m\u001b[38;5;124m,dtype->\u001b[39m\u001b[38;5;132;01m{\u001b[39;00mdtype_str\u001b[38;5;132;01m}\u001b[39;00m\u001b[38;5;124m]\u001b[39m\u001b[38;5;124m\"\u001b[39m\n\u001b[1;32m    176\u001b[0m     )\n\u001b[1;32m    177\u001b[0m \u001b[38;5;28;01mreturn\u001b[39;00m f\n",
      "\u001b[0;31mNotImplementedError\u001b[0m: function is not implemented for this dtype: [how->mean,dtype->object]",
      "\nDuring handling of the above exception, another exception occurred:\n",
      "\u001b[0;31mValueError\u001b[0m                                Traceback (most recent call last)",
      "File \u001b[0;32m~/apps/IA/anaconda3/envs/uah/lib/python3.11/site-packages/pandas/core/nanops.py:1692\u001b[0m, in \u001b[0;36m_ensure_numeric\u001b[0;34m(x)\u001b[0m\n\u001b[1;32m   1691\u001b[0m \u001b[38;5;28;01mtry\u001b[39;00m:\n\u001b[0;32m-> 1692\u001b[0m     x \u001b[38;5;241m=\u001b[39m \u001b[38;5;28mfloat\u001b[39m(x)\n\u001b[1;32m   1693\u001b[0m \u001b[38;5;28;01mexcept\u001b[39;00m (\u001b[38;5;167;01mTypeError\u001b[39;00m, \u001b[38;5;167;01mValueError\u001b[39;00m):\n\u001b[1;32m   1694\u001b[0m     \u001b[38;5;66;03m# e.g. \"1+1j\" or \"foo\"\u001b[39;00m\n",
      "\u001b[0;31mValueError\u001b[0m: could not convert string to float: 'el Ravalel Barri Gòticla BarcelonetaSant Pere, Santa Caterina i la Ribera'",
      "\nDuring handling of the above exception, another exception occurred:\n",
      "\u001b[0;31mValueError\u001b[0m                                Traceback (most recent call last)",
      "File \u001b[0;32m~/apps/IA/anaconda3/envs/uah/lib/python3.11/site-packages/pandas/core/nanops.py:1696\u001b[0m, in \u001b[0;36m_ensure_numeric\u001b[0;34m(x)\u001b[0m\n\u001b[1;32m   1695\u001b[0m \u001b[38;5;28;01mtry\u001b[39;00m:\n\u001b[0;32m-> 1696\u001b[0m     x \u001b[38;5;241m=\u001b[39m \u001b[38;5;28mcomplex\u001b[39m(x)\n\u001b[1;32m   1697\u001b[0m \u001b[38;5;28;01mexcept\u001b[39;00m \u001b[38;5;167;01mValueError\u001b[39;00m \u001b[38;5;28;01mas\u001b[39;00m err:\n\u001b[1;32m   1698\u001b[0m     \u001b[38;5;66;03m# e.g. \"foo\"\u001b[39;00m\n",
      "\u001b[0;31mValueError\u001b[0m: complex() arg is a malformed string",
      "\nThe above exception was the direct cause of the following exception:\n",
      "\u001b[0;31mTypeError\u001b[0m                                 Traceback (most recent call last)",
      "Cell \u001b[0;32mIn[44], line 5\u001b[0m\n\u001b[1;32m      2\u001b[0m districtes_barris[\u001b[38;5;124m'\u001b[39m\u001b[38;5;124mNOM_DISTRICTE\u001b[39m\u001b[38;5;124m'\u001b[39m] \u001b[38;5;241m=\u001b[39m districtes_barris[\u001b[38;5;124m'\u001b[39m\u001b[38;5;124mNOM_DISTRICTE\u001b[39m\u001b[38;5;124m'\u001b[39m]\u001b[38;5;241m.\u001b[39mstr\u001b[38;5;241m.\u001b[39mupper()\n\u001b[1;32m      4\u001b[0m \u001b[38;5;66;03m#districtes = districtes_barris.groupby(['NOM_DISTRICTE'])\u001b[39;00m\n\u001b[0;32m----> 5\u001b[0m districtes \u001b[38;5;241m=\u001b[39m districtes_barris\u001b[38;5;241m.\u001b[39mgroupby([\u001b[38;5;124m'\u001b[39m\u001b[38;5;124mNOM_DISTRICTE\u001b[39m\u001b[38;5;124m'\u001b[39m])\u001b[38;5;241m.\u001b[39mmean()\n\u001b[1;32m      6\u001b[0m districtes \u001b[38;5;241m=\u001b[39m districtes\u001b[38;5;241m.\u001b[39mreset_index(level\u001b[38;5;241m=\u001b[39m\u001b[38;5;241m0\u001b[39m)\n",
      "File \u001b[0;32m~/apps/IA/anaconda3/envs/uah/lib/python3.11/site-packages/pandas/core/groupby/groupby.py:1855\u001b[0m, in \u001b[0;36mGroupBy.mean\u001b[0;34m(self, numeric_only, engine, engine_kwargs)\u001b[0m\n\u001b[1;32m   1853\u001b[0m     \u001b[38;5;28;01mreturn\u001b[39;00m \u001b[38;5;28mself\u001b[39m\u001b[38;5;241m.\u001b[39m_numba_agg_general(sliding_mean, engine_kwargs)\n\u001b[1;32m   1854\u001b[0m \u001b[38;5;28;01melse\u001b[39;00m:\n\u001b[0;32m-> 1855\u001b[0m     result \u001b[38;5;241m=\u001b[39m \u001b[38;5;28mself\u001b[39m\u001b[38;5;241m.\u001b[39m_cython_agg_general(\n\u001b[1;32m   1856\u001b[0m         \u001b[38;5;124m\"\u001b[39m\u001b[38;5;124mmean\u001b[39m\u001b[38;5;124m\"\u001b[39m,\n\u001b[1;32m   1857\u001b[0m         alt\u001b[38;5;241m=\u001b[39m\u001b[38;5;28;01mlambda\u001b[39;00m x: Series(x)\u001b[38;5;241m.\u001b[39mmean(numeric_only\u001b[38;5;241m=\u001b[39mnumeric_only),\n\u001b[1;32m   1858\u001b[0m         numeric_only\u001b[38;5;241m=\u001b[39mnumeric_only,\n\u001b[1;32m   1859\u001b[0m     )\n\u001b[1;32m   1860\u001b[0m     \u001b[38;5;28;01mreturn\u001b[39;00m result\u001b[38;5;241m.\u001b[39m__finalize__(\u001b[38;5;28mself\u001b[39m\u001b[38;5;241m.\u001b[39mobj, method\u001b[38;5;241m=\u001b[39m\u001b[38;5;124m\"\u001b[39m\u001b[38;5;124mgroupby\u001b[39m\u001b[38;5;124m\"\u001b[39m)\n",
      "File \u001b[0;32m~/apps/IA/anaconda3/envs/uah/lib/python3.11/site-packages/pandas/core/groupby/groupby.py:1507\u001b[0m, in \u001b[0;36mGroupBy._cython_agg_general\u001b[0;34m(self, how, alt, numeric_only, min_count, **kwargs)\u001b[0m\n\u001b[1;32m   1503\u001b[0m         result \u001b[38;5;241m=\u001b[39m \u001b[38;5;28mself\u001b[39m\u001b[38;5;241m.\u001b[39m_agg_py_fallback(values, ndim\u001b[38;5;241m=\u001b[39mdata\u001b[38;5;241m.\u001b[39mndim, alt\u001b[38;5;241m=\u001b[39malt)\n\u001b[1;32m   1505\u001b[0m     \u001b[38;5;28;01mreturn\u001b[39;00m result\n\u001b[0;32m-> 1507\u001b[0m new_mgr \u001b[38;5;241m=\u001b[39m data\u001b[38;5;241m.\u001b[39mgrouped_reduce(array_func)\n\u001b[1;32m   1508\u001b[0m res \u001b[38;5;241m=\u001b[39m \u001b[38;5;28mself\u001b[39m\u001b[38;5;241m.\u001b[39m_wrap_agged_manager(new_mgr)\n\u001b[1;32m   1509\u001b[0m out \u001b[38;5;241m=\u001b[39m \u001b[38;5;28mself\u001b[39m\u001b[38;5;241m.\u001b[39m_wrap_aggregated_output(res)\n",
      "File \u001b[0;32m~/apps/IA/anaconda3/envs/uah/lib/python3.11/site-packages/pandas/core/internals/managers.py:1503\u001b[0m, in \u001b[0;36mBlockManager.grouped_reduce\u001b[0;34m(self, func)\u001b[0m\n\u001b[1;32m   1499\u001b[0m \u001b[38;5;28;01mif\u001b[39;00m blk\u001b[38;5;241m.\u001b[39mis_object:\n\u001b[1;32m   1500\u001b[0m     \u001b[38;5;66;03m# split on object-dtype blocks bc some columns may raise\u001b[39;00m\n\u001b[1;32m   1501\u001b[0m     \u001b[38;5;66;03m#  while others do not.\u001b[39;00m\n\u001b[1;32m   1502\u001b[0m     \u001b[38;5;28;01mfor\u001b[39;00m sb \u001b[38;5;129;01min\u001b[39;00m blk\u001b[38;5;241m.\u001b[39m_split():\n\u001b[0;32m-> 1503\u001b[0m         applied \u001b[38;5;241m=\u001b[39m sb\u001b[38;5;241m.\u001b[39mapply(func)\n\u001b[1;32m   1504\u001b[0m         result_blocks \u001b[38;5;241m=\u001b[39m extend_blocks(applied, result_blocks)\n\u001b[1;32m   1505\u001b[0m \u001b[38;5;28;01melse\u001b[39;00m:\n",
      "File \u001b[0;32m~/apps/IA/anaconda3/envs/uah/lib/python3.11/site-packages/pandas/core/internals/blocks.py:329\u001b[0m, in \u001b[0;36mBlock.apply\u001b[0;34m(self, func, **kwargs)\u001b[0m\n\u001b[1;32m    323\u001b[0m \u001b[38;5;129m@final\u001b[39m\n\u001b[1;32m    324\u001b[0m \u001b[38;5;28;01mdef\u001b[39;00m \u001b[38;5;21mapply\u001b[39m(\u001b[38;5;28mself\u001b[39m, func, \u001b[38;5;241m*\u001b[39m\u001b[38;5;241m*\u001b[39mkwargs) \u001b[38;5;241m-\u001b[39m\u001b[38;5;241m>\u001b[39m \u001b[38;5;28mlist\u001b[39m[Block]:\n\u001b[1;32m    325\u001b[0m \u001b[38;5;250m    \u001b[39m\u001b[38;5;124;03m\"\"\"\u001b[39;00m\n\u001b[1;32m    326\u001b[0m \u001b[38;5;124;03m    apply the function to my values; return a block if we are not\u001b[39;00m\n\u001b[1;32m    327\u001b[0m \u001b[38;5;124;03m    one\u001b[39;00m\n\u001b[1;32m    328\u001b[0m \u001b[38;5;124;03m    \"\"\"\u001b[39;00m\n\u001b[0;32m--> 329\u001b[0m     result \u001b[38;5;241m=\u001b[39m func(\u001b[38;5;28mself\u001b[39m\u001b[38;5;241m.\u001b[39mvalues, \u001b[38;5;241m*\u001b[39m\u001b[38;5;241m*\u001b[39mkwargs)\n\u001b[1;32m    331\u001b[0m     \u001b[38;5;28;01mreturn\u001b[39;00m \u001b[38;5;28mself\u001b[39m\u001b[38;5;241m.\u001b[39m_split_op_result(result)\n",
      "File \u001b[0;32m~/apps/IA/anaconda3/envs/uah/lib/python3.11/site-packages/pandas/core/groupby/groupby.py:1503\u001b[0m, in \u001b[0;36mGroupBy._cython_agg_general.<locals>.array_func\u001b[0;34m(values)\u001b[0m\n\u001b[1;32m   1490\u001b[0m     result \u001b[38;5;241m=\u001b[39m \u001b[38;5;28mself\u001b[39m\u001b[38;5;241m.\u001b[39mgrouper\u001b[38;5;241m.\u001b[39m_cython_operation(\n\u001b[1;32m   1491\u001b[0m         \u001b[38;5;124m\"\u001b[39m\u001b[38;5;124maggregate\u001b[39m\u001b[38;5;124m\"\u001b[39m,\n\u001b[1;32m   1492\u001b[0m         values,\n\u001b[0;32m   (...)\u001b[0m\n\u001b[1;32m   1496\u001b[0m         \u001b[38;5;241m*\u001b[39m\u001b[38;5;241m*\u001b[39mkwargs,\n\u001b[1;32m   1497\u001b[0m     )\n\u001b[1;32m   1498\u001b[0m \u001b[38;5;28;01mexcept\u001b[39;00m \u001b[38;5;167;01mNotImplementedError\u001b[39;00m:\n\u001b[1;32m   1499\u001b[0m     \u001b[38;5;66;03m# generally if we have numeric_only=False\u001b[39;00m\n\u001b[1;32m   1500\u001b[0m     \u001b[38;5;66;03m# and non-applicable functions\u001b[39;00m\n\u001b[1;32m   1501\u001b[0m     \u001b[38;5;66;03m# try to python agg\u001b[39;00m\n\u001b[1;32m   1502\u001b[0m     \u001b[38;5;66;03m# TODO: shouldn't min_count matter?\u001b[39;00m\n\u001b[0;32m-> 1503\u001b[0m     result \u001b[38;5;241m=\u001b[39m \u001b[38;5;28mself\u001b[39m\u001b[38;5;241m.\u001b[39m_agg_py_fallback(values, ndim\u001b[38;5;241m=\u001b[39mdata\u001b[38;5;241m.\u001b[39mndim, alt\u001b[38;5;241m=\u001b[39malt)\n\u001b[1;32m   1505\u001b[0m \u001b[38;5;28;01mreturn\u001b[39;00m result\n",
      "File \u001b[0;32m~/apps/IA/anaconda3/envs/uah/lib/python3.11/site-packages/pandas/core/groupby/groupby.py:1457\u001b[0m, in \u001b[0;36mGroupBy._agg_py_fallback\u001b[0;34m(self, values, ndim, alt)\u001b[0m\n\u001b[1;32m   1452\u001b[0m     ser \u001b[38;5;241m=\u001b[39m df\u001b[38;5;241m.\u001b[39miloc[:, \u001b[38;5;241m0\u001b[39m]\n\u001b[1;32m   1454\u001b[0m \u001b[38;5;66;03m# We do not get here with UDFs, so we know that our dtype\u001b[39;00m\n\u001b[1;32m   1455\u001b[0m \u001b[38;5;66;03m#  should always be preserved by the implemented aggregations\u001b[39;00m\n\u001b[1;32m   1456\u001b[0m \u001b[38;5;66;03m# TODO: Is this exactly right; see WrappedCythonOp get_result_dtype?\u001b[39;00m\n\u001b[0;32m-> 1457\u001b[0m res_values \u001b[38;5;241m=\u001b[39m \u001b[38;5;28mself\u001b[39m\u001b[38;5;241m.\u001b[39mgrouper\u001b[38;5;241m.\u001b[39magg_series(ser, alt, preserve_dtype\u001b[38;5;241m=\u001b[39m\u001b[38;5;28;01mTrue\u001b[39;00m)\n\u001b[1;32m   1459\u001b[0m \u001b[38;5;28;01mif\u001b[39;00m \u001b[38;5;28misinstance\u001b[39m(values, Categorical):\n\u001b[1;32m   1460\u001b[0m     \u001b[38;5;66;03m# Because we only get here with known dtype-preserving\u001b[39;00m\n\u001b[1;32m   1461\u001b[0m     \u001b[38;5;66;03m#  reductions, we cast back to Categorical.\u001b[39;00m\n\u001b[1;32m   1462\u001b[0m     \u001b[38;5;66;03m# TODO: if we ever get \"rank\" working, exclude it here.\u001b[39;00m\n\u001b[1;32m   1463\u001b[0m     res_values \u001b[38;5;241m=\u001b[39m \u001b[38;5;28mtype\u001b[39m(values)\u001b[38;5;241m.\u001b[39m_from_sequence(res_values, dtype\u001b[38;5;241m=\u001b[39mvalues\u001b[38;5;241m.\u001b[39mdtype)\n",
      "File \u001b[0;32m~/apps/IA/anaconda3/envs/uah/lib/python3.11/site-packages/pandas/core/groupby/ops.py:994\u001b[0m, in \u001b[0;36mBaseGrouper.agg_series\u001b[0;34m(self, obj, func, preserve_dtype)\u001b[0m\n\u001b[1;32m    987\u001b[0m \u001b[38;5;28;01mif\u001b[39;00m \u001b[38;5;28mlen\u001b[39m(obj) \u001b[38;5;241m>\u001b[39m \u001b[38;5;241m0\u001b[39m \u001b[38;5;129;01mand\u001b[39;00m \u001b[38;5;129;01mnot\u001b[39;00m \u001b[38;5;28misinstance\u001b[39m(obj\u001b[38;5;241m.\u001b[39m_values, np\u001b[38;5;241m.\u001b[39mndarray):\n\u001b[1;32m    988\u001b[0m     \u001b[38;5;66;03m# we can preserve a little bit more aggressively with EA dtype\u001b[39;00m\n\u001b[1;32m    989\u001b[0m     \u001b[38;5;66;03m#  because maybe_cast_pointwise_result will do a try/except\u001b[39;00m\n\u001b[1;32m    990\u001b[0m     \u001b[38;5;66;03m#  with _from_sequence.  NB we are assuming here that _from_sequence\u001b[39;00m\n\u001b[1;32m    991\u001b[0m     \u001b[38;5;66;03m#  is sufficiently strict that it casts appropriately.\u001b[39;00m\n\u001b[1;32m    992\u001b[0m     preserve_dtype \u001b[38;5;241m=\u001b[39m \u001b[38;5;28;01mTrue\u001b[39;00m\n\u001b[0;32m--> 994\u001b[0m result \u001b[38;5;241m=\u001b[39m \u001b[38;5;28mself\u001b[39m\u001b[38;5;241m.\u001b[39m_aggregate_series_pure_python(obj, func)\n\u001b[1;32m    996\u001b[0m npvalues \u001b[38;5;241m=\u001b[39m lib\u001b[38;5;241m.\u001b[39mmaybe_convert_objects(result, try_float\u001b[38;5;241m=\u001b[39m\u001b[38;5;28;01mFalse\u001b[39;00m)\n\u001b[1;32m    997\u001b[0m \u001b[38;5;28;01mif\u001b[39;00m preserve_dtype:\n",
      "File \u001b[0;32m~/apps/IA/anaconda3/envs/uah/lib/python3.11/site-packages/pandas/core/groupby/ops.py:1015\u001b[0m, in \u001b[0;36mBaseGrouper._aggregate_series_pure_python\u001b[0;34m(self, obj, func)\u001b[0m\n\u001b[1;32m   1012\u001b[0m splitter \u001b[38;5;241m=\u001b[39m \u001b[38;5;28mself\u001b[39m\u001b[38;5;241m.\u001b[39m_get_splitter(obj, axis\u001b[38;5;241m=\u001b[39m\u001b[38;5;241m0\u001b[39m)\n\u001b[1;32m   1014\u001b[0m \u001b[38;5;28;01mfor\u001b[39;00m i, group \u001b[38;5;129;01min\u001b[39;00m \u001b[38;5;28menumerate\u001b[39m(splitter):\n\u001b[0;32m-> 1015\u001b[0m     res \u001b[38;5;241m=\u001b[39m func(group)\n\u001b[1;32m   1016\u001b[0m     res \u001b[38;5;241m=\u001b[39m libreduction\u001b[38;5;241m.\u001b[39mextract_result(res)\n\u001b[1;32m   1018\u001b[0m     \u001b[38;5;28;01mif\u001b[39;00m \u001b[38;5;129;01mnot\u001b[39;00m initialized:\n\u001b[1;32m   1019\u001b[0m         \u001b[38;5;66;03m# We only do this validation on the first iteration\u001b[39;00m\n",
      "File \u001b[0;32m~/apps/IA/anaconda3/envs/uah/lib/python3.11/site-packages/pandas/core/groupby/groupby.py:1857\u001b[0m, in \u001b[0;36mGroupBy.mean.<locals>.<lambda>\u001b[0;34m(x)\u001b[0m\n\u001b[1;32m   1853\u001b[0m     \u001b[38;5;28;01mreturn\u001b[39;00m \u001b[38;5;28mself\u001b[39m\u001b[38;5;241m.\u001b[39m_numba_agg_general(sliding_mean, engine_kwargs)\n\u001b[1;32m   1854\u001b[0m \u001b[38;5;28;01melse\u001b[39;00m:\n\u001b[1;32m   1855\u001b[0m     result \u001b[38;5;241m=\u001b[39m \u001b[38;5;28mself\u001b[39m\u001b[38;5;241m.\u001b[39m_cython_agg_general(\n\u001b[1;32m   1856\u001b[0m         \u001b[38;5;124m\"\u001b[39m\u001b[38;5;124mmean\u001b[39m\u001b[38;5;124m\"\u001b[39m,\n\u001b[0;32m-> 1857\u001b[0m         alt\u001b[38;5;241m=\u001b[39m\u001b[38;5;28;01mlambda\u001b[39;00m x: Series(x)\u001b[38;5;241m.\u001b[39mmean(numeric_only\u001b[38;5;241m=\u001b[39mnumeric_only),\n\u001b[1;32m   1858\u001b[0m         numeric_only\u001b[38;5;241m=\u001b[39mnumeric_only,\n\u001b[1;32m   1859\u001b[0m     )\n\u001b[1;32m   1860\u001b[0m     \u001b[38;5;28;01mreturn\u001b[39;00m result\u001b[38;5;241m.\u001b[39m__finalize__(\u001b[38;5;28mself\u001b[39m\u001b[38;5;241m.\u001b[39mobj, method\u001b[38;5;241m=\u001b[39m\u001b[38;5;124m\"\u001b[39m\u001b[38;5;124mgroupby\u001b[39m\u001b[38;5;124m\"\u001b[39m)\n",
      "File \u001b[0;32m~/apps/IA/anaconda3/envs/uah/lib/python3.11/site-packages/pandas/core/generic.py:11556\u001b[0m, in \u001b[0;36mNDFrame._add_numeric_operations.<locals>.mean\u001b[0;34m(self, axis, skipna, numeric_only, **kwargs)\u001b[0m\n\u001b[1;32m  11539\u001b[0m \u001b[38;5;129m@doc\u001b[39m(\n\u001b[1;32m  11540\u001b[0m     _num_doc,\n\u001b[1;32m  11541\u001b[0m     desc\u001b[38;5;241m=\u001b[39m\u001b[38;5;124m\"\u001b[39m\u001b[38;5;124mReturn the mean of the values over the requested axis.\u001b[39m\u001b[38;5;124m\"\u001b[39m,\n\u001b[0;32m   (...)\u001b[0m\n\u001b[1;32m  11554\u001b[0m     \u001b[38;5;241m*\u001b[39m\u001b[38;5;241m*\u001b[39mkwargs,\n\u001b[1;32m  11555\u001b[0m ):\n\u001b[0;32m> 11556\u001b[0m     \u001b[38;5;28;01mreturn\u001b[39;00m NDFrame\u001b[38;5;241m.\u001b[39mmean(\u001b[38;5;28mself\u001b[39m, axis, skipna, numeric_only, \u001b[38;5;241m*\u001b[39m\u001b[38;5;241m*\u001b[39mkwargs)\n",
      "File \u001b[0;32m~/apps/IA/anaconda3/envs/uah/lib/python3.11/site-packages/pandas/core/generic.py:11201\u001b[0m, in \u001b[0;36mNDFrame.mean\u001b[0;34m(self, axis, skipna, numeric_only, **kwargs)\u001b[0m\n\u001b[1;32m  11194\u001b[0m \u001b[38;5;28;01mdef\u001b[39;00m \u001b[38;5;21mmean\u001b[39m(\n\u001b[1;32m  11195\u001b[0m     \u001b[38;5;28mself\u001b[39m,\n\u001b[1;32m  11196\u001b[0m     axis: Axis \u001b[38;5;241m|\u001b[39m \u001b[38;5;28;01mNone\u001b[39;00m \u001b[38;5;241m=\u001b[39m \u001b[38;5;241m0\u001b[39m,\n\u001b[0;32m   (...)\u001b[0m\n\u001b[1;32m  11199\u001b[0m     \u001b[38;5;241m*\u001b[39m\u001b[38;5;241m*\u001b[39mkwargs,\n\u001b[1;32m  11200\u001b[0m ) \u001b[38;5;241m-\u001b[39m\u001b[38;5;241m>\u001b[39m Series \u001b[38;5;241m|\u001b[39m \u001b[38;5;28mfloat\u001b[39m:\n\u001b[0;32m> 11201\u001b[0m     \u001b[38;5;28;01mreturn\u001b[39;00m \u001b[38;5;28mself\u001b[39m\u001b[38;5;241m.\u001b[39m_stat_function(\n\u001b[1;32m  11202\u001b[0m         \u001b[38;5;124m\"\u001b[39m\u001b[38;5;124mmean\u001b[39m\u001b[38;5;124m\"\u001b[39m, nanops\u001b[38;5;241m.\u001b[39mnanmean, axis, skipna, numeric_only, \u001b[38;5;241m*\u001b[39m\u001b[38;5;241m*\u001b[39mkwargs\n\u001b[1;32m  11203\u001b[0m     )\n",
      "File \u001b[0;32m~/apps/IA/anaconda3/envs/uah/lib/python3.11/site-packages/pandas/core/generic.py:11158\u001b[0m, in \u001b[0;36mNDFrame._stat_function\u001b[0;34m(self, name, func, axis, skipna, numeric_only, **kwargs)\u001b[0m\n\u001b[1;32m  11154\u001b[0m     nv\u001b[38;5;241m.\u001b[39mvalidate_stat_func((), kwargs, fname\u001b[38;5;241m=\u001b[39mname)\n\u001b[1;32m  11156\u001b[0m validate_bool_kwarg(skipna, \u001b[38;5;124m\"\u001b[39m\u001b[38;5;124mskipna\u001b[39m\u001b[38;5;124m\"\u001b[39m, none_allowed\u001b[38;5;241m=\u001b[39m\u001b[38;5;28;01mFalse\u001b[39;00m)\n\u001b[0;32m> 11158\u001b[0m \u001b[38;5;28;01mreturn\u001b[39;00m \u001b[38;5;28mself\u001b[39m\u001b[38;5;241m.\u001b[39m_reduce(\n\u001b[1;32m  11159\u001b[0m     func, name\u001b[38;5;241m=\u001b[39mname, axis\u001b[38;5;241m=\u001b[39maxis, skipna\u001b[38;5;241m=\u001b[39mskipna, numeric_only\u001b[38;5;241m=\u001b[39mnumeric_only\n\u001b[1;32m  11160\u001b[0m )\n",
      "File \u001b[0;32m~/apps/IA/anaconda3/envs/uah/lib/python3.11/site-packages/pandas/core/series.py:4666\u001b[0m, in \u001b[0;36mSeries._reduce\u001b[0;34m(self, op, name, axis, skipna, numeric_only, filter_type, **kwds)\u001b[0m\n\u001b[1;32m   4661\u001b[0m     \u001b[38;5;28;01mraise\u001b[39;00m \u001b[38;5;167;01mTypeError\u001b[39;00m(\n\u001b[1;32m   4662\u001b[0m         \u001b[38;5;124mf\u001b[39m\u001b[38;5;124m\"\u001b[39m\u001b[38;5;124mSeries.\u001b[39m\u001b[38;5;132;01m{\u001b[39;00mname\u001b[38;5;132;01m}\u001b[39;00m\u001b[38;5;124m does not allow \u001b[39m\u001b[38;5;132;01m{\u001b[39;00mkwd_name\u001b[38;5;132;01m}\u001b[39;00m\u001b[38;5;124m=\u001b[39m\u001b[38;5;132;01m{\u001b[39;00mnumeric_only\u001b[38;5;132;01m}\u001b[39;00m\u001b[38;5;124m \u001b[39m\u001b[38;5;124m\"\u001b[39m\n\u001b[1;32m   4663\u001b[0m         \u001b[38;5;124m\"\u001b[39m\u001b[38;5;124mwith non-numeric dtypes.\u001b[39m\u001b[38;5;124m\"\u001b[39m\n\u001b[1;32m   4664\u001b[0m     )\n\u001b[1;32m   4665\u001b[0m \u001b[38;5;28;01mwith\u001b[39;00m np\u001b[38;5;241m.\u001b[39merrstate(\u001b[38;5;28mall\u001b[39m\u001b[38;5;241m=\u001b[39m\u001b[38;5;124m\"\u001b[39m\u001b[38;5;124mignore\u001b[39m\u001b[38;5;124m\"\u001b[39m):\n\u001b[0;32m-> 4666\u001b[0m     \u001b[38;5;28;01mreturn\u001b[39;00m op(delegate, skipna\u001b[38;5;241m=\u001b[39mskipna, \u001b[38;5;241m*\u001b[39m\u001b[38;5;241m*\u001b[39mkwds)\n",
      "File \u001b[0;32m~/apps/IA/anaconda3/envs/uah/lib/python3.11/site-packages/pandas/core/nanops.py:96\u001b[0m, in \u001b[0;36mdisallow.__call__.<locals>._f\u001b[0;34m(*args, **kwargs)\u001b[0m\n\u001b[1;32m     94\u001b[0m \u001b[38;5;28;01mtry\u001b[39;00m:\n\u001b[1;32m     95\u001b[0m     \u001b[38;5;28;01mwith\u001b[39;00m np\u001b[38;5;241m.\u001b[39merrstate(invalid\u001b[38;5;241m=\u001b[39m\u001b[38;5;124m\"\u001b[39m\u001b[38;5;124mignore\u001b[39m\u001b[38;5;124m\"\u001b[39m):\n\u001b[0;32m---> 96\u001b[0m         \u001b[38;5;28;01mreturn\u001b[39;00m f(\u001b[38;5;241m*\u001b[39margs, \u001b[38;5;241m*\u001b[39m\u001b[38;5;241m*\u001b[39mkwargs)\n\u001b[1;32m     97\u001b[0m \u001b[38;5;28;01mexcept\u001b[39;00m \u001b[38;5;167;01mValueError\u001b[39;00m \u001b[38;5;28;01mas\u001b[39;00m e:\n\u001b[1;32m     98\u001b[0m     \u001b[38;5;66;03m# we want to transform an object array\u001b[39;00m\n\u001b[1;32m     99\u001b[0m     \u001b[38;5;66;03m# ValueError message to the more typical TypeError\u001b[39;00m\n\u001b[1;32m    100\u001b[0m     \u001b[38;5;66;03m# e.g. this is normally a disallowed function on\u001b[39;00m\n\u001b[1;32m    101\u001b[0m     \u001b[38;5;66;03m# object arrays that contain strings\u001b[39;00m\n\u001b[1;32m    102\u001b[0m     \u001b[38;5;28;01mif\u001b[39;00m is_object_dtype(args[\u001b[38;5;241m0\u001b[39m]):\n",
      "File \u001b[0;32m~/apps/IA/anaconda3/envs/uah/lib/python3.11/site-packages/pandas/core/nanops.py:158\u001b[0m, in \u001b[0;36mbottleneck_switch.__call__.<locals>.f\u001b[0;34m(values, axis, skipna, **kwds)\u001b[0m\n\u001b[1;32m    156\u001b[0m         result \u001b[38;5;241m=\u001b[39m alt(values, axis\u001b[38;5;241m=\u001b[39maxis, skipna\u001b[38;5;241m=\u001b[39mskipna, \u001b[38;5;241m*\u001b[39m\u001b[38;5;241m*\u001b[39mkwds)\n\u001b[1;32m    157\u001b[0m \u001b[38;5;28;01melse\u001b[39;00m:\n\u001b[0;32m--> 158\u001b[0m     result \u001b[38;5;241m=\u001b[39m alt(values, axis\u001b[38;5;241m=\u001b[39maxis, skipna\u001b[38;5;241m=\u001b[39mskipna, \u001b[38;5;241m*\u001b[39m\u001b[38;5;241m*\u001b[39mkwds)\n\u001b[1;32m    160\u001b[0m \u001b[38;5;28;01mreturn\u001b[39;00m result\n",
      "File \u001b[0;32m~/apps/IA/anaconda3/envs/uah/lib/python3.11/site-packages/pandas/core/nanops.py:421\u001b[0m, in \u001b[0;36m_datetimelike_compat.<locals>.new_func\u001b[0;34m(values, axis, skipna, mask, **kwargs)\u001b[0m\n\u001b[1;32m    418\u001b[0m \u001b[38;5;28;01mif\u001b[39;00m datetimelike \u001b[38;5;129;01mand\u001b[39;00m mask \u001b[38;5;129;01mis\u001b[39;00m \u001b[38;5;28;01mNone\u001b[39;00m:\n\u001b[1;32m    419\u001b[0m     mask \u001b[38;5;241m=\u001b[39m isna(values)\n\u001b[0;32m--> 421\u001b[0m result \u001b[38;5;241m=\u001b[39m func(values, axis\u001b[38;5;241m=\u001b[39maxis, skipna\u001b[38;5;241m=\u001b[39mskipna, mask\u001b[38;5;241m=\u001b[39mmask, \u001b[38;5;241m*\u001b[39m\u001b[38;5;241m*\u001b[39mkwargs)\n\u001b[1;32m    423\u001b[0m \u001b[38;5;28;01mif\u001b[39;00m datetimelike:\n\u001b[1;32m    424\u001b[0m     result \u001b[38;5;241m=\u001b[39m _wrap_results(result, orig_values\u001b[38;5;241m.\u001b[39mdtype, fill_value\u001b[38;5;241m=\u001b[39miNaT)\n",
      "File \u001b[0;32m~/apps/IA/anaconda3/envs/uah/lib/python3.11/site-packages/pandas/core/nanops.py:727\u001b[0m, in \u001b[0;36mnanmean\u001b[0;34m(values, axis, skipna, mask)\u001b[0m\n\u001b[1;32m    724\u001b[0m     dtype_count \u001b[38;5;241m=\u001b[39m dtype\n\u001b[1;32m    726\u001b[0m count \u001b[38;5;241m=\u001b[39m _get_counts(values\u001b[38;5;241m.\u001b[39mshape, mask, axis, dtype\u001b[38;5;241m=\u001b[39mdtype_count)\n\u001b[0;32m--> 727\u001b[0m the_sum \u001b[38;5;241m=\u001b[39m _ensure_numeric(values\u001b[38;5;241m.\u001b[39msum(axis, dtype\u001b[38;5;241m=\u001b[39mdtype_sum))\n\u001b[1;32m    729\u001b[0m \u001b[38;5;28;01mif\u001b[39;00m axis \u001b[38;5;129;01mis\u001b[39;00m \u001b[38;5;129;01mnot\u001b[39;00m \u001b[38;5;28;01mNone\u001b[39;00m \u001b[38;5;129;01mand\u001b[39;00m \u001b[38;5;28mgetattr\u001b[39m(the_sum, \u001b[38;5;124m\"\u001b[39m\u001b[38;5;124mndim\u001b[39m\u001b[38;5;124m\"\u001b[39m, \u001b[38;5;28;01mFalse\u001b[39;00m):\n\u001b[1;32m    730\u001b[0m     count \u001b[38;5;241m=\u001b[39m cast(np\u001b[38;5;241m.\u001b[39mndarray, count)\n",
      "File \u001b[0;32m~/apps/IA/anaconda3/envs/uah/lib/python3.11/site-packages/pandas/core/nanops.py:1699\u001b[0m, in \u001b[0;36m_ensure_numeric\u001b[0;34m(x)\u001b[0m\n\u001b[1;32m   1696\u001b[0m             x \u001b[38;5;241m=\u001b[39m \u001b[38;5;28mcomplex\u001b[39m(x)\n\u001b[1;32m   1697\u001b[0m         \u001b[38;5;28;01mexcept\u001b[39;00m \u001b[38;5;167;01mValueError\u001b[39;00m \u001b[38;5;28;01mas\u001b[39;00m err:\n\u001b[1;32m   1698\u001b[0m             \u001b[38;5;66;03m# e.g. \"foo\"\u001b[39;00m\n\u001b[0;32m-> 1699\u001b[0m             \u001b[38;5;28;01mraise\u001b[39;00m \u001b[38;5;167;01mTypeError\u001b[39;00m(\u001b[38;5;124mf\u001b[39m\u001b[38;5;124m\"\u001b[39m\u001b[38;5;124mCould not convert \u001b[39m\u001b[38;5;132;01m{\u001b[39;00mx\u001b[38;5;132;01m}\u001b[39;00m\u001b[38;5;124m to numeric\u001b[39m\u001b[38;5;124m\"\u001b[39m) \u001b[38;5;28;01mfrom\u001b[39;00m \u001b[38;5;21;01merr\u001b[39;00m\n\u001b[1;32m   1700\u001b[0m \u001b[38;5;28;01mreturn\u001b[39;00m x\n",
      "\u001b[0;31mTypeError\u001b[0m: Could not convert el Ravalel Barri Gòticla BarcelonetaSant Pere, Santa Caterina i la Ribera to numeric"
     ]
    }
   ],
   "source": [
    "\n",
    "districtes_barris =  pd.read_csv(\"DATASETS/districtes_i_barris_170705.csv\")\n",
    "districtes_barris['NOM_DISTRICTE'] = districtes_barris['NOM_DISTRICTE'].str.upper()\n",
    "\n",
    "#districtes = districtes_barris.groupby(['NOM_DISTRICTE'])\n",
    "districtes = districtes_barris.groupby(['NOM_DISTRICTE']).mean()\n",
    "districtes = districtes.reset_index(level=0)"
   ]
  },
  {
   "cell_type": "code",
   "execution_count": 45,
   "id": "8fc8dd81",
   "metadata": {
    "execution": {
     "iopub.execute_input": "2023-02-14T23:00:24.923067Z",
     "iopub.status.busy": "2023-02-14T23:00:24.921964Z",
     "iopub.status.idle": "2023-02-14T23:00:24.928866Z",
     "shell.execute_reply": "2023-02-14T23:00:24.927749Z"
    },
    "papermill": {
     "duration": 0.027743,
     "end_time": "2023-02-14T23:00:24.931360",
     "exception": false,
     "start_time": "2023-02-14T23:00:24.903617",
     "status": "completed"
    },
    "tags": []
   },
   "outputs": [
    {
     "ename": "NameError",
     "evalue": "name 'districtes' is not defined",
     "output_type": "error",
     "traceback": [
      "\u001b[0;31m---------------------------------------------------------------------------\u001b[0m",
      "\u001b[0;31mNameError\u001b[0m                                 Traceback (most recent call last)",
      "Cell \u001b[0;32mIn[45], line 1\u001b[0m\n\u001b[0;32m----> 1\u001b[0m districtes \u001b[38;5;241m=\u001b[39m districtes\u001b[38;5;241m.\u001b[39mdrop(\u001b[38;5;124m'\u001b[39m\u001b[38;5;124mCODI_BARRI\u001b[39m\u001b[38;5;124m'\u001b[39m, axis\u001b[38;5;241m=\u001b[39m\u001b[38;5;241m1\u001b[39m)\n",
      "\u001b[0;31mNameError\u001b[0m: name 'districtes' is not defined"
     ]
    }
   ],
   "source": [
    "districtes = districtes.drop('CODI_BARRI', axis=1)\n"
   ]
  },
  {
   "cell_type": "code",
   "execution_count": null,
   "id": "3b5e1472",
   "metadata": {
    "papermill": {
     "duration": 0.016687,
     "end_time": "2023-02-14T23:00:24.964883",
     "exception": false,
     "start_time": "2023-02-14T23:00:24.948196",
     "status": "completed"
    },
    "tags": []
   },
   "outputs": [],
   "source": []
  },
  {
   "cell_type": "code",
   "execution_count": 25,
   "id": "86614a5f",
   "metadata": {
    "execution": {
     "iopub.execute_input": "2023-02-14T23:00:25.000307Z",
     "iopub.status.busy": "2023-02-14T23:00:24.999852Z",
     "iopub.status.idle": "2023-02-14T23:00:25.014306Z",
     "shell.execute_reply": "2023-02-14T23:00:25.013048Z"
    },
    "papermill": {
     "duration": 0.035081,
     "end_time": "2023-02-14T23:00:25.016797",
     "exception": false,
     "start_time": "2023-02-14T23:00:24.981716",
     "status": "completed"
    },
    "tags": []
   },
   "outputs": [
    {
     "data": {
      "text/html": [
       "<div>\n",
       "<style scoped>\n",
       "    .dataframe tbody tr th:only-of-type {\n",
       "        vertical-align: middle;\n",
       "    }\n",
       "\n",
       "    .dataframe tbody tr th {\n",
       "        vertical-align: top;\n",
       "    }\n",
       "\n",
       "    .dataframe thead th {\n",
       "        text-align: right;\n",
       "    }\n",
       "</style>\n",
       "<table border=\"1\" class=\"dataframe\">\n",
       "  <thead>\n",
       "    <tr style=\"text-align: right;\">\n",
       "      <th></th>\n",
       "      <th>NOM_DISTRICTE</th>\n",
       "      <th>CODI_DISTRICTE</th>\n",
       "    </tr>\n",
       "  </thead>\n",
       "  <tbody>\n",
       "    <tr>\n",
       "      <th>0</th>\n",
       "      <td>CIUTAT VELLA</td>\n",
       "      <td>1</td>\n",
       "    </tr>\n",
       "    <tr>\n",
       "      <th>1</th>\n",
       "      <td>EIXAMPLE</td>\n",
       "      <td>2</td>\n",
       "    </tr>\n",
       "    <tr>\n",
       "      <th>8</th>\n",
       "      <td>SANTS-MONTJUÏC</td>\n",
       "      <td>3</td>\n",
       "    </tr>\n",
       "    <tr>\n",
       "      <th>4</th>\n",
       "      <td>LES CORTS</td>\n",
       "      <td>4</td>\n",
       "    </tr>\n",
       "    <tr>\n",
       "      <th>9</th>\n",
       "      <td>SARRIÀ-SANT GERVASI</td>\n",
       "      <td>5</td>\n",
       "    </tr>\n",
       "    <tr>\n",
       "      <th>2</th>\n",
       "      <td>GRÀCIA</td>\n",
       "      <td>6</td>\n",
       "    </tr>\n",
       "    <tr>\n",
       "      <th>3</th>\n",
       "      <td>HORTA-GUINARDÓ</td>\n",
       "      <td>7</td>\n",
       "    </tr>\n",
       "    <tr>\n",
       "      <th>5</th>\n",
       "      <td>NOU BARRIS</td>\n",
       "      <td>8</td>\n",
       "    </tr>\n",
       "    <tr>\n",
       "      <th>6</th>\n",
       "      <td>SANT ANDREU</td>\n",
       "      <td>9</td>\n",
       "    </tr>\n",
       "    <tr>\n",
       "      <th>7</th>\n",
       "      <td>SANT MARTÍ</td>\n",
       "      <td>10</td>\n",
       "    </tr>\n",
       "  </tbody>\n",
       "</table>\n",
       "</div>"
      ],
      "text/plain": [
       "         NOM_DISTRICTE  CODI_DISTRICTE\n",
       "0         CIUTAT VELLA               1\n",
       "1             EIXAMPLE               2\n",
       "8       SANTS-MONTJUÏC               3\n",
       "4            LES CORTS               4\n",
       "9  SARRIÀ-SANT GERVASI               5\n",
       "2               GRÀCIA               6\n",
       "3       HORTA-GUINARDÓ               7\n",
       "5           NOU BARRIS               8\n",
       "6          SANT ANDREU               9\n",
       "7           SANT MARTÍ              10"
      ]
     },
     "execution_count": 25,
     "metadata": {},
     "output_type": "execute_result"
    }
   ],
   "source": [
    "districtes['CODI_DISTRICTE'] = districtes['CODI_DISTRICTE'].astype(int)\n",
    "# Sorting by column 'Country'\n",
    "districtes.sort_values(by=['CODI_DISTRICTE'])\n"
   ]
  },
  {
   "cell_type": "code",
   "execution_count": 26,
   "id": "c197a032",
   "metadata": {
    "execution": {
     "iopub.execute_input": "2023-02-14T23:00:25.058209Z",
     "iopub.status.busy": "2023-02-14T23:00:25.056537Z",
     "iopub.status.idle": "2023-02-14T23:00:25.073449Z",
     "shell.execute_reply": "2023-02-14T23:00:25.072157Z"
    },
    "papermill": {
     "duration": 0.041076,
     "end_time": "2023-02-14T23:00:25.076158",
     "exception": false,
     "start_time": "2023-02-14T23:00:25.035082",
     "status": "completed"
    },
    "tags": []
   },
   "outputs": [
    {
     "data": {
      "text/html": [
       "<div>\n",
       "<style scoped>\n",
       "    .dataframe tbody tr th:only-of-type {\n",
       "        vertical-align: middle;\n",
       "    }\n",
       "\n",
       "    .dataframe tbody tr th {\n",
       "        vertical-align: top;\n",
       "    }\n",
       "\n",
       "    .dataframe thead th {\n",
       "        text-align: right;\n",
       "    }\n",
       "</style>\n",
       "<table border=\"1\" class=\"dataframe\">\n",
       "  <thead>\n",
       "    <tr style=\"text-align: right;\">\n",
       "      <th></th>\n",
       "      <th>DISTRICTE</th>\n",
       "      <th>CODI_DISTRICTE</th>\n",
       "    </tr>\n",
       "  </thead>\n",
       "  <tbody>\n",
       "    <tr>\n",
       "      <th>0</th>\n",
       "      <td>CIUTAT VELLA</td>\n",
       "      <td>1</td>\n",
       "    </tr>\n",
       "    <tr>\n",
       "      <th>1</th>\n",
       "      <td>EIXAMPLE</td>\n",
       "      <td>2</td>\n",
       "    </tr>\n",
       "    <tr>\n",
       "      <th>2</th>\n",
       "      <td>GRÀCIA</td>\n",
       "      <td>6</td>\n",
       "    </tr>\n",
       "    <tr>\n",
       "      <th>3</th>\n",
       "      <td>HORTA-GUINARDÓ</td>\n",
       "      <td>7</td>\n",
       "    </tr>\n",
       "    <tr>\n",
       "      <th>4</th>\n",
       "      <td>LES CORTS</td>\n",
       "      <td>4</td>\n",
       "    </tr>\n",
       "  </tbody>\n",
       "</table>\n",
       "</div>"
      ],
      "text/plain": [
       "        DISTRICTE  CODI_DISTRICTE\n",
       "0    CIUTAT VELLA               1\n",
       "1        EIXAMPLE               2\n",
       "2          GRÀCIA               6\n",
       "3  HORTA-GUINARDÓ               7\n",
       "4       LES CORTS               4"
      ]
     },
     "execution_count": 26,
     "metadata": {},
     "output_type": "execute_result"
    }
   ],
   "source": [
    "districtes.rename(columns={\"NOM_DISTRICTE\": \"DISTRICTE\"}, inplace=True)\n",
    "districtes.head()"
   ]
  },
  {
   "cell_type": "code",
   "execution_count": 27,
   "id": "a9d22ec0",
   "metadata": {
    "execution": {
     "iopub.execute_input": "2023-02-14T23:00:25.115865Z",
     "iopub.status.busy": "2023-02-14T23:00:25.114771Z",
     "iopub.status.idle": "2023-02-14T23:00:25.127521Z",
     "shell.execute_reply": "2023-02-14T23:00:25.126159Z"
    },
    "papermill": {
     "duration": 0.034313,
     "end_time": "2023-02-14T23:00:25.130123",
     "exception": false,
     "start_time": "2023-02-14T23:00:25.095810",
     "status": "completed"
    },
    "tags": []
   },
   "outputs": [
    {
     "data": {
      "text/html": [
       "<div>\n",
       "<style scoped>\n",
       "    .dataframe tbody tr th:only-of-type {\n",
       "        vertical-align: middle;\n",
       "    }\n",
       "\n",
       "    .dataframe tbody tr th {\n",
       "        vertical-align: top;\n",
       "    }\n",
       "\n",
       "    .dataframe thead th {\n",
       "        text-align: right;\n",
       "    }\n",
       "</style>\n",
       "<table border=\"1\" class=\"dataframe\">\n",
       "  <thead>\n",
       "    <tr style=\"text-align: right;\">\n",
       "      <th></th>\n",
       "      <th>DISTRICTE</th>\n",
       "      <th>CODI_DISTRICTE</th>\n",
       "    </tr>\n",
       "  </thead>\n",
       "  <tbody>\n",
       "    <tr>\n",
       "      <th>0</th>\n",
       "      <td>CIUTAT VELLA</td>\n",
       "      <td>1</td>\n",
       "    </tr>\n",
       "    <tr>\n",
       "      <th>1</th>\n",
       "      <td>EIXAMPLE</td>\n",
       "      <td>2</td>\n",
       "    </tr>\n",
       "    <tr>\n",
       "      <th>2</th>\n",
       "      <td>GRÀCIA</td>\n",
       "      <td>6</td>\n",
       "    </tr>\n",
       "    <tr>\n",
       "      <th>3</th>\n",
       "      <td>HORTA-GUINARDÓ</td>\n",
       "      <td>7</td>\n",
       "    </tr>\n",
       "    <tr>\n",
       "      <th>4</th>\n",
       "      <td>LES CORTS</td>\n",
       "      <td>4</td>\n",
       "    </tr>\n",
       "    <tr>\n",
       "      <th>5</th>\n",
       "      <td>NOU BARRIS</td>\n",
       "      <td>8</td>\n",
       "    </tr>\n",
       "    <tr>\n",
       "      <th>6</th>\n",
       "      <td>SANT ANDREU</td>\n",
       "      <td>9</td>\n",
       "    </tr>\n",
       "    <tr>\n",
       "      <th>7</th>\n",
       "      <td>SANT MARTÍ</td>\n",
       "      <td>10</td>\n",
       "    </tr>\n",
       "    <tr>\n",
       "      <th>8</th>\n",
       "      <td>SANTS-MONTJUÏC</td>\n",
       "      <td>3</td>\n",
       "    </tr>\n",
       "    <tr>\n",
       "      <th>9</th>\n",
       "      <td>SARRIÀ-SANT GERVASI</td>\n",
       "      <td>5</td>\n",
       "    </tr>\n",
       "  </tbody>\n",
       "</table>\n",
       "</div>"
      ],
      "text/plain": [
       "             DISTRICTE  CODI_DISTRICTE\n",
       "0         CIUTAT VELLA               1\n",
       "1             EIXAMPLE               2\n",
       "2               GRÀCIA               6\n",
       "3       HORTA-GUINARDÓ               7\n",
       "4            LES CORTS               4\n",
       "5           NOU BARRIS               8\n",
       "6          SANT ANDREU               9\n",
       "7           SANT MARTÍ              10\n",
       "8       SANTS-MONTJUÏC               3\n",
       "9  SARRIÀ-SANT GERVASI               5"
      ]
     },
     "execution_count": 27,
     "metadata": {},
     "output_type": "execute_result"
    }
   ],
   "source": [
    "districtes"
   ]
  },
  {
   "cell_type": "code",
   "execution_count": 28,
   "id": "e6442f90",
   "metadata": {
    "execution": {
     "iopub.execute_input": "2023-02-14T23:00:25.168405Z",
     "iopub.status.busy": "2023-02-14T23:00:25.167768Z",
     "iopub.status.idle": "2023-02-14T23:00:25.186651Z",
     "shell.execute_reply": "2023-02-14T23:00:25.185416Z"
    },
    "papermill": {
     "duration": 0.041976,
     "end_time": "2023-02-14T23:00:25.189594",
     "exception": false,
     "start_time": "2023-02-14T23:00:25.147618",
     "status": "completed"
    },
    "tags": []
   },
   "outputs": [],
   "source": [
    "bcna_clean_location = pd.merge(bcna, districtes, on='DISTRICTE', how='left')"
   ]
  },
  {
   "cell_type": "code",
   "execution_count": 29,
   "id": "1f8edd63",
   "metadata": {
    "execution": {
     "iopub.execute_input": "2023-02-14T23:00:25.227943Z",
     "iopub.status.busy": "2023-02-14T23:00:25.227129Z",
     "iopub.status.idle": "2023-02-14T23:00:25.248386Z",
     "shell.execute_reply": "2023-02-14T23:00:25.247200Z"
    },
    "papermill": {
     "duration": 0.043146,
     "end_time": "2023-02-14T23:00:25.250934",
     "exception": false,
     "start_time": "2023-02-14T23:00:25.207788",
     "status": "completed"
    },
    "tags": []
   },
   "outputs": [
    {
     "data": {
      "text/html": [
       "<div>\n",
       "<style scoped>\n",
       "    .dataframe tbody tr th:only-of-type {\n",
       "        vertical-align: middle;\n",
       "    }\n",
       "\n",
       "    .dataframe tbody tr th {\n",
       "        vertical-align: top;\n",
       "    }\n",
       "\n",
       "    .dataframe thead th {\n",
       "        text-align: right;\n",
       "    }\n",
       "</style>\n",
       "<table border=\"1\" class=\"dataframe\">\n",
       "  <thead>\n",
       "    <tr style=\"text-align: right;\">\n",
       "      <th></th>\n",
       "      <th>listing_url</th>\n",
       "      <th>host_id</th>\n",
       "      <th>description</th>\n",
       "      <th>host_name</th>\n",
       "      <th>DISTRICTE</th>\n",
       "      <th>latitude</th>\n",
       "      <th>longitude</th>\n",
       "      <th>minimum_nights</th>\n",
       "      <th>last_review</th>\n",
       "      <th>calculated_host_listings_count</th>\n",
       "      <th>availability_365</th>\n",
       "      <th>NUMERO_REGISTRE_GENERALITAT</th>\n",
       "      <th>Tipo</th>\n",
       "      <th>TipoDescripcion</th>\n",
       "      <th>CODI_DISTRICTE</th>\n",
       "    </tr>\n",
       "  </thead>\n",
       "  <tbody>\n",
       "    <tr>\n",
       "      <th>0</th>\n",
       "      <td>https://www.airbnb.com/rooms/18674</td>\n",
       "      <td>71615</td>\n",
       "      <td>110m2 apartment to rent in Barcelona. Located ...</td>\n",
       "      <td>Mireia And Maria</td>\n",
       "      <td>EIXAMPLE</td>\n",
       "      <td>41.40556</td>\n",
       "      <td>2.17262</td>\n",
       "      <td>1</td>\n",
       "      <td>2022-10-07</td>\n",
       "      <td>20</td>\n",
       "      <td>264</td>\n",
       "      <td>HUTB-002062</td>\n",
       "      <td>2</td>\n",
       "      <td>Con Licenia</td>\n",
       "      <td>2</td>\n",
       "    </tr>\n",
       "    <tr>\n",
       "      <th>1</th>\n",
       "      <td>https://www.airbnb.com/rooms/23197</td>\n",
       "      <td>90417</td>\n",
       "      <td>Beautiful spacious apartment, large terrace, 5...</td>\n",
       "      <td>Etain (Marnie)</td>\n",
       "      <td>SANT MARTÍ</td>\n",
       "      <td>41.41243</td>\n",
       "      <td>2.21975</td>\n",
       "      <td>4</td>\n",
       "      <td>2022-10-23</td>\n",
       "      <td>2</td>\n",
       "      <td>255</td>\n",
       "      <td>HUTB005057</td>\n",
       "      <td>2</td>\n",
       "      <td>Con Licenia</td>\n",
       "      <td>10</td>\n",
       "    </tr>\n",
       "    <tr>\n",
       "      <th>2</th>\n",
       "      <td>https://www.airbnb.com/rooms/32711</td>\n",
       "      <td>135703</td>\n",
       "      <td>A lovely two bedroom apartment only 250 m from...</td>\n",
       "      <td>Nick</td>\n",
       "      <td>GRÀCIA</td>\n",
       "      <td>41.40566</td>\n",
       "      <td>2.17015</td>\n",
       "      <td>2</td>\n",
       "      <td>2022-12-09</td>\n",
       "      <td>3</td>\n",
       "      <td>276</td>\n",
       "      <td>HUTB-001722</td>\n",
       "      <td>2</td>\n",
       "      <td>Con Licenia</td>\n",
       "      <td>6</td>\n",
       "    </tr>\n",
       "    <tr>\n",
       "      <th>3</th>\n",
       "      <td>https://www.airbnb.com/rooms/34981</td>\n",
       "      <td>73163</td>\n",
       "      <td>Spacious apartment for large families or group...</td>\n",
       "      <td>Andres</td>\n",
       "      <td>CIUTAT VELLA</td>\n",
       "      <td>41.37978</td>\n",
       "      <td>2.17623</td>\n",
       "      <td>5</td>\n",
       "      <td>2022-11-19</td>\n",
       "      <td>1</td>\n",
       "      <td>139</td>\n",
       "      <td>HUTB-001506</td>\n",
       "      <td>2</td>\n",
       "      <td>Con Licenia</td>\n",
       "      <td>1</td>\n",
       "    </tr>\n",
       "    <tr>\n",
       "      <th>4</th>\n",
       "      <td>https://www.airbnb.com/rooms/36763</td>\n",
       "      <td>158596</td>\n",
       "      <td>&lt;b&gt;The space&lt;/b&gt;&lt;br /&gt;Habitación con una cama ...</td>\n",
       "      <td>Ester</td>\n",
       "      <td>CIUTAT VELLA</td>\n",
       "      <td>41.38043</td>\n",
       "      <td>2.19094</td>\n",
       "      <td>31</td>\n",
       "      <td>2022-10-05</td>\n",
       "      <td>1</td>\n",
       "      <td>259</td>\n",
       "      <td>Nulo</td>\n",
       "      <td>3</td>\n",
       "      <td>Exentos</td>\n",
       "      <td>1</td>\n",
       "    </tr>\n",
       "  </tbody>\n",
       "</table>\n",
       "</div>"
      ],
      "text/plain": [
       "                          listing_url  host_id  \\\n",
       "0  https://www.airbnb.com/rooms/18674    71615   \n",
       "1  https://www.airbnb.com/rooms/23197    90417   \n",
       "2  https://www.airbnb.com/rooms/32711   135703   \n",
       "3  https://www.airbnb.com/rooms/34981    73163   \n",
       "4  https://www.airbnb.com/rooms/36763   158596   \n",
       "\n",
       "                                         description         host_name  \\\n",
       "0  110m2 apartment to rent in Barcelona. Located ...  Mireia And Maria   \n",
       "1  Beautiful spacious apartment, large terrace, 5...    Etain (Marnie)   \n",
       "2  A lovely two bedroom apartment only 250 m from...              Nick   \n",
       "3  Spacious apartment for large families or group...            Andres   \n",
       "4  <b>The space</b><br />Habitación con una cama ...             Ester   \n",
       "\n",
       "      DISTRICTE  latitude  longitude  minimum_nights last_review  \\\n",
       "0      EIXAMPLE  41.40556    2.17262               1  2022-10-07   \n",
       "1    SANT MARTÍ  41.41243    2.21975               4  2022-10-23   \n",
       "2        GRÀCIA  41.40566    2.17015               2  2022-12-09   \n",
       "3  CIUTAT VELLA  41.37978    2.17623               5  2022-11-19   \n",
       "4  CIUTAT VELLA  41.38043    2.19094              31  2022-10-05   \n",
       "\n",
       "   calculated_host_listings_count  availability_365  \\\n",
       "0                              20               264   \n",
       "1                               2               255   \n",
       "2                               3               276   \n",
       "3                               1               139   \n",
       "4                               1               259   \n",
       "\n",
       "  NUMERO_REGISTRE_GENERALITAT Tipo TipoDescripcion  CODI_DISTRICTE  \n",
       "0                 HUTB-002062    2     Con Licenia               2  \n",
       "1                  HUTB005057    2     Con Licenia              10  \n",
       "2                 HUTB-001722    2     Con Licenia               6  \n",
       "3                 HUTB-001506    2     Con Licenia               1  \n",
       "4                        Nulo    3         Exentos               1  "
      ]
     },
     "execution_count": 29,
     "metadata": {},
     "output_type": "execute_result"
    }
   ],
   "source": [
    "bcna_clean_location.head()"
   ]
  },
  {
   "cell_type": "code",
   "execution_count": 30,
   "id": "ffa6178c",
   "metadata": {
    "execution": {
     "iopub.execute_input": "2023-02-14T23:00:25.288904Z",
     "iopub.status.busy": "2023-02-14T23:00:25.288097Z",
     "iopub.status.idle": "2023-02-14T23:00:25.579757Z",
     "shell.execute_reply": "2023-02-14T23:00:25.578590Z"
    },
    "papermill": {
     "duration": 0.314213,
     "end_time": "2023-02-14T23:00:25.582923",
     "exception": false,
     "start_time": "2023-02-14T23:00:25.268710",
     "status": "completed"
    },
    "tags": []
   },
   "outputs": [],
   "source": [
    "filepath2 = ('/kaggle/working/bcna_clean_location.csv')\n",
    "districtes_file =  ('/kaggle/working/districtes.csv')\n",
    "bcna_clean_location.to_csv(filepath2) \n",
    "districtes.to_csv(districtes_file) "
   ]
  },
  {
   "cell_type": "code",
   "execution_count": 31,
   "id": "312ad658",
   "metadata": {
    "execution": {
     "iopub.execute_input": "2023-02-14T23:00:25.620045Z",
     "iopub.status.busy": "2023-02-14T23:00:25.619612Z",
     "iopub.status.idle": "2023-02-14T23:00:25.631219Z",
     "shell.execute_reply": "2023-02-14T23:00:25.630033Z"
    },
    "papermill": {
     "duration": 0.033273,
     "end_time": "2023-02-14T23:00:25.633942",
     "exception": false,
     "start_time": "2023-02-14T23:00:25.600669",
     "status": "completed"
    },
    "tags": []
   },
   "outputs": [],
   "source": [
    "exentos =bcna_clean_location.loc[(bcna_clean_location[\"Tipo\"] == \"1\")]"
   ]
  },
  {
   "cell_type": "code",
   "execution_count": 32,
   "id": "a2ac5492",
   "metadata": {
    "execution": {
     "iopub.execute_input": "2023-02-14T23:00:25.671168Z",
     "iopub.status.busy": "2023-02-14T23:00:25.670730Z",
     "iopub.status.idle": "2023-02-14T23:00:25.679771Z",
     "shell.execute_reply": "2023-02-14T23:00:25.678660Z"
    },
    "papermill": {
     "duration": 0.03065,
     "end_time": "2023-02-14T23:00:25.682335",
     "exception": false,
     "start_time": "2023-02-14T23:00:25.651685",
     "status": "completed"
    },
    "tags": []
   },
   "outputs": [
    {
     "data": {
      "text/plain": [
       "310"
      ]
     },
     "execution_count": 32,
     "metadata": {},
     "output_type": "execute_result"
    }
   ],
   "source": [
    "example = exentos.loc[(exentos[\"DISTRICTE\"] == \"EIXAMPLE\")]\n",
    "len(example)"
   ]
  },
  {
   "cell_type": "code",
   "execution_count": 33,
   "id": "32489ec8",
   "metadata": {
    "execution": {
     "iopub.execute_input": "2023-02-14T23:00:25.719319Z",
     "iopub.status.busy": "2023-02-14T23:00:25.718875Z",
     "iopub.status.idle": "2023-02-14T23:00:25.739228Z",
     "shell.execute_reply": "2023-02-14T23:00:25.737803Z"
    },
    "papermill": {
     "duration": 0.04224,
     "end_time": "2023-02-14T23:00:25.742222",
     "exception": false,
     "start_time": "2023-02-14T23:00:25.699982",
     "status": "completed"
    },
    "tags": []
   },
   "outputs": [
    {
     "name": "stdout",
     "output_type": "stream",
     "text": [
      "<class 'pandas.core.frame.DataFrame'>\n",
      "Int64Index: 9159 entries, 0 to 9158\n",
      "Data columns (total 15 columns):\n",
      " #   Column                          Non-Null Count  Dtype         \n",
      "---  ------                          --------------  -----         \n",
      " 0   listing_url                     9159 non-null   object        \n",
      " 1   host_id                         9159 non-null   int64         \n",
      " 2   description                     9133 non-null   object        \n",
      " 3   host_name                       9159 non-null   object        \n",
      " 4   DISTRICTE                       9159 non-null   object        \n",
      " 5   latitude                        9159 non-null   float64       \n",
      " 6   longitude                       9159 non-null   float64       \n",
      " 7   minimum_nights                  9159 non-null   int64         \n",
      " 8   last_review                     9159 non-null   datetime64[ns]\n",
      " 9   calculated_host_listings_count  9159 non-null   int64         \n",
      " 10  availability_365                9159 non-null   int64         \n",
      " 11  NUMERO_REGISTRE_GENERALITAT     9159 non-null   object        \n",
      " 12  Tipo                            9159 non-null   object        \n",
      " 13  TipoDescripcion                 9159 non-null   object        \n",
      " 14  CODI_DISTRICTE                  9159 non-null   int64         \n",
      "dtypes: datetime64[ns](1), float64(2), int64(5), object(7)\n",
      "memory usage: 1.1+ MB\n"
     ]
    }
   ],
   "source": [
    "bcna_clean_location.info()"
   ]
  },
  {
   "cell_type": "code",
   "execution_count": 34,
   "id": "385c6fd9",
   "metadata": {
    "execution": {
     "iopub.execute_input": "2023-02-14T23:00:25.780949Z",
     "iopub.status.busy": "2023-02-14T23:00:25.780491Z",
     "iopub.status.idle": "2023-02-14T23:00:25.792299Z",
     "shell.execute_reply": "2023-02-14T23:00:25.791077Z"
    },
    "papermill": {
     "duration": 0.033362,
     "end_time": "2023-02-14T23:00:25.794633",
     "exception": false,
     "start_time": "2023-02-14T23:00:25.761271",
     "status": "completed"
    },
    "tags": []
   },
   "outputs": [
    {
     "data": {
      "text/plain": [
       "5585"
      ]
     },
     "execution_count": 34,
     "metadata": {},
     "output_type": "execute_result"
    }
   ],
   "source": [
    "exentos_legales =bcna_clean_location.loc[(bcna_clean_location[\"Tipo\"] == \"2\") ]\n",
    "exentos_legales.head()\n",
    "len(exentos_legales)"
   ]
  },
  {
   "cell_type": "code",
   "execution_count": 35,
   "id": "c80d73eb",
   "metadata": {
    "execution": {
     "iopub.execute_input": "2023-02-14T23:00:25.833059Z",
     "iopub.status.busy": "2023-02-14T23:00:25.831896Z",
     "iopub.status.idle": "2023-02-14T23:00:25.840257Z",
     "shell.execute_reply": "2023-02-14T23:00:25.839080Z"
    },
    "papermill": {
     "duration": 0.030391,
     "end_time": "2023-02-14T23:00:25.842865",
     "exception": false,
     "start_time": "2023-02-14T23:00:25.812474",
     "status": "completed"
    },
    "tags": []
   },
   "outputs": [
    {
     "data": {
      "text/plain": [
       "5585"
      ]
     },
     "execution_count": 35,
     "metadata": {},
     "output_type": "execute_result"
    }
   ],
   "source": [
    "len(exentos_legales)"
   ]
  },
  {
   "cell_type": "code",
   "execution_count": 36,
   "id": "97150257",
   "metadata": {
    "execution": {
     "iopub.execute_input": "2023-02-14T23:00:25.883337Z",
     "iopub.status.busy": "2023-02-14T23:00:25.882026Z",
     "iopub.status.idle": "2023-02-14T23:00:26.199300Z",
     "shell.execute_reply": "2023-02-14T23:00:26.197946Z"
    },
    "papermill": {
     "duration": 0.340813,
     "end_time": "2023-02-14T23:00:26.202218",
     "exception": false,
     "start_time": "2023-02-14T23:00:25.861405",
     "status": "completed"
    },
    "tags": []
   },
   "outputs": [
    {
     "data": {
      "image/png": "[encoded data removed]",
      "text/plain": [
       "<Figure size 1440x504 with 1 Axes>"
      ]
     },
     "metadata": {},
     "output_type": "display_data"
    }
   ],
   "source": [
    "por_districtes_exentos=exentos_legales['DISTRICTE'].value_counts().sort_values(ascending=True)\n",
    "ax = por_districtes_exentos.plot(x='Pillar', y='%', kind='bar', legend=False, rot=0, figsize=(20,7), fontsize=13)\n",
    "ax.bar_label(ax.containers[0], label_type='edge')\n",
    "plt.tight_layout()"
   ]
  }
 ],
 "metadata": {
  "kernelspec": {
   "display_name": "Python 3 (ipykernel)",
   "language": "python",
   "name": "python3"
  },
  "language_info": {
   "codemirror_mode": {
    "name": "ipython",
    "version": 3
   },
   "file_extension": ".py",
   "mimetype": "text/x-python",
   "name": "python",
   "nbconvert_exporter": "python",
   "pygments_lexer": "ipython3",
   "version": "3.11.3"
  },
  "papermill": {
   "default_parameters": {},
   "duration": 19.476525,
   "end_time": "2023-02-14T23:00:27.146215",
   "environment_variables": {},
   "exception": null,
   "input_path": "__notebook__.ipynb",
   "output_path": "__notebook__.ipynb",
   "parameters": {},
   "start_time": "2023-02-14T23:00:07.669690",
   "version": "2.3.4"
  }
 },
 "nbformat": 4,
 "nbformat_minor": 5
}
